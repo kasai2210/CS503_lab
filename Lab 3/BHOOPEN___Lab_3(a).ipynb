{
  "nbformat": 4,
  "nbformat_minor": 0,
  "metadata": {
    "accelerator": "GPU",
    "colab": {
      "name": "BHOOPEN___Lab_3(a).ipynb",
      "provenance": []
    },
    "kernelspec": {
      "display_name": "Python 3",
      "language": "python",
      "name": "python3"
    },
    "language_info": {
      "codemirror_mode": {
        "name": "ipython",
        "version": 3
      },
      "file_extension": ".py",
      "mimetype": "text/x-python",
      "name": "python",
      "nbconvert_exporter": "python",
      "pygments_lexer": "ipython3",
      "version": "3.8.5"
    }
  },
  "cells": [
    {
      "cell_type": "markdown",
      "metadata": {
        "id": "gudqadwxPQn5"
      },
      "source": [
        "# **Lab 3(a)**\n",
        "# Neural Networks\n",
        "\n",
        "\n",
        "---\n",
        "\n",
        "\n",
        "Total Points: **85**\n",
        "\n",
        "Tentative Weightage : **2%**\n",
        "\n",
        "Submission Deadline :  **25th March 2021, 23:59 hours**\n",
        "\n",
        "Link to the dataset: https://drive.google.com/file/d/1G12DoncT43hYmA72ZyY2xhyukrhnDTBn/view?usp=sharing\n",
        "\n",
        "---\n",
        "\n",
        "\n",
        "\n",
        "General Instructions:\n",
        "\n",
        "---\n",
        "\n",
        "\n",
        "\n",
        "1. You have to do this lab individually\n",
        "2. You may use **sklearn, seaborn, matplotlib, pandas, Tensorflow 2.x**\n",
        "3. All the code should be submitted in the form of a single Jupyter notebook itself.\n",
        "4. Points for each sub-section are mentioned in the appropriate question.\n",
        "5. Make sure to begin early as a few experiments may consume more time to run.\n",
        "6. You can use Google colab to run a jupyter notebook (https://colab.research.google.com/) How to load data in Google Colab ?(https://towardsdatascience.com/3-ways-to-load-csv-files-into-colab-7c14fcbdcb92) (https://www.marktechpost.com/2019/06/07/how-to-connect-google-colab-with-google-drive/)\n",
        "7. The lab must be submitted on Google classroom. The code as well as the accompanying observations should be made part of the python notebook.\n",
        "8. **Code Readability** is very important. Modularize your code by making use of classes, functions that can be flexibly reused wherever necessary. Also use self explanatory variable names and add comments to describe your approach wherever necessary. You may add additional code or text blocks as necessary.\n",
        "9. You are expected to submit your **inferences** (preferably in a text block) and not just an error free code.\n",
        "10. Students are expected to follow the **honor code** of the class.\n",
        "11. In case of any queries regarding Lab 3, please mail 2019aim1003@iitrpr.ac.in\n"
      ]
    },
    {
      "cell_type": "code",
      "metadata": {
        "id": "z_r7FrlMPQoB"
      },
      "source": [
        "# Import the necessary libraries\n",
        "\n",
        "import tensorflow as tf\n",
        "import numpy as np\n",
        "import cv2\n",
        "import matplotlib.pyplot as plt\n",
        "import os\n",
        "\n",
        "import shutil\n",
        "import random\n",
        "\n",
        "# If using Google Colab, use the following package to display the image\n",
        "# If running on your local system, cv2.imshow shall work fine\n",
        "# If running on your local system please comment the line below\n",
        "#from google.colab.patches import cv2_imshow"
      ],
      "execution_count": null,
      "outputs": []
    },
    {
      "cell_type": "code",
      "metadata": {
        "id": "PlSoLBtSQGom"
      },
      "source": [
        "#from google.colab import drive\n",
        "#drive.mount('/content/drive')\n",
        "# path to the dataset in my drive /content/drive/MyDrive/CS503_Lab3a/CR-Dataset"
      ],
      "execution_count": null,
      "outputs": []
    },
    {
      "cell_type": "code",
      "metadata": {
        "id": "p1UUBQO9PQoC"
      },
      "source": [
        "IMG_HEIGHT = 40\n",
        "IMG_WIDTH = 40"
      ],
      "execution_count": null,
      "outputs": []
    },
    {
      "cell_type": "markdown",
      "metadata": {
        "id": "DY0zer9SPQoD"
      },
      "source": [
        "# Dataset\n",
        "\n",
        "The dataset used here is a synthetic alphabet recognition dataset. It consists of images of lowercase English alphabets, generated with handwritten-fonts. All images are single channel (grayscale) and have size 40 * 40. <br>\n",
        "\n",
        "The dataset has the following directory structure:\n",
        "\n",
        "<pre>\n",
        "<b>CR-Dataset</b>\n",
        "|__ <b>train</b>\n",
        "    |______ <b>a</b>: [a_1.png, a_2.png, a_3.png ....]\n",
        "    |______ <b>b</b>: [b_1.png, b_2.png, b_3.png ....]\n",
        "        .\n",
        "        .\n",
        "        .\n",
        "    |______ <b>y</b>: [y_1.png, y_2.png, y_3.png ....]    \n",
        "    |______ <b>z</b>: [z_1.png, z_2.png, z_3.png ....]   \n",
        "    \n",
        "|__ <b>validation</b>\n",
        "    |______ <b>a</b>: [a_221.png, a_322.png, a_353.png ....]\n",
        "    |______ <b>b</b>: [b_241.png, b_352.png, b_363.png ....]\n",
        "        .\n",
        "        .\n",
        "        .\n",
        "    |______ <b>y</b>: [y_221.png, y_322.png, y_353.png ....]\n",
        "    |______ <b>z</b>: [z_241.png, z_352.png, z_363.png ....]\n",
        "    \n",
        "|__ <b>test</b>: [a_521.png, b_272.png, g_433.png ....]\n",
        "</pre>\n",
        "*Note:* The file names are for representation only, they may differ in the original dataset.<br>\n",
        "\n",
        "\n",
        "Extract the paths of these directories onto different variables to facilitate accessing the dataset and thereby training the model."
      ]
    },
    {
      "cell_type": "code",
      "metadata": {
        "id": "t98w3OA6PQoE"
      },
      "source": [
        "#Add the paths for train, validation and test directories\n",
        "train_dir_path=\"/home/bhoopen/Desktop/lab_3a/CR-Dataset/Train\"\n",
        "validation_dir_path=\"/home/bhoopen/Desktop/lab_3a/CR-Dataset/Validation\"\n",
        "test_dir_path=\"/home/bhoopen/Desktop/lab_3a/CR-Dataset/Test\"\n",
        "#train_dir_path=\"/content/drive/MyDrive/CS503_Lab3a/CR-Dataset/Train/\"\n",
        "#validation_dir_path=\"/content/drive/MyDrive/CS503_Lab3a/CR-Dataset/Validation/\"\n",
        "#test_dir_path=\"/content/drive/MyDrive/CS503_Lab3a/CR-Dataset/Test/\""
      ],
      "execution_count": null,
      "outputs": []
    },
    {
      "cell_type": "markdown",
      "metadata": {
        "id": "1L9ilOtqPQoF"
      },
      "source": [
        "# Generate Image Batches\n",
        "\n",
        "\n",
        "---\n",
        "\n",
        "\n",
        "Fitting the model on entire training set may be memory and computation inefficient. Hence we generate batches of images to be processed by the model. `ImageDataGenerator` class in tensorflow facilitates this. \n",
        "\n",
        "Describe the various arguments in the instantiation of `tensorflow.keras.preprocessing.image.ImageDataGenerator` object.\n",
        "\n",
        "\n",
        "---\n",
        "\n",
        "**3 Points**\n",
        "\n",
        "---\n",
        "\n",
        "\n"
      ]
    },
    {
      "cell_type": "markdown",
      "metadata": {
        "id": "ZgrLNAuQZ4iK"
      },
      "source": [
        "`tensorflow.keras.preprocessing.image.ImageDataGenerator` object helps us use all the functionalities of the ImageDataGenerator class and the important arguments which can be given during the instantiation of this object are -\n",
        "\n",
        "1) **rotation_range** - Degree between (0,360) with which to randomly rotate the image so as to train the model  \n",
        "\n",
        "2) **width_shift and height_shift** are ranges within which to randomly translate pictures vertically or horizontally.\n",
        "\n",
        "3) **rescale** is to rescale the coloured data which may have values between (0, 255) to between (0, 1) so that the computation can be easy and cheap, so for this we just divide every pixel by 255.\n",
        "\n",
        "4) **shear_range** is for randomly applying shearing transformations.\n",
        "\n",
        "5) **zoom_range** randomly zooms inside pictures.\n",
        "\n",
        "6) **horizontal_flip** is for randomly flipping half of the images horizontally so as to introduce some amount of orginality in the data as real data is not always horizontally symmetrical.\n",
        "\n",
        "7) **zca_whitening**\tBoolean value. Apply ZCA whitening.\n",
        "\n",
        "8) **zca_epsilon**\tEpsilon for ZCA whitening. Default value is 1e-6.\n",
        "\n",
        "9) **samplewise_std_normalization**\tBoolean value. Divide each input by its std.\n",
        "\n",
        "10) **featurewise_std_normalization**\tBoolean value. Divide inputs by std of the dataset, feature-wise.\n",
        "\n",
        "11) **featurewise_center**\tBoolean value. Set input mean to 0 over the dataset, feature-wise.\n",
        "\n",
        "12) **samplewise_center**\tBoolean value. Set each sample mean to 0.\n",
        "\n",
        "13) **preprocessing_function**\tThis function is applied to each input.\n",
        "\n",
        "14) **validation_split**\tFloating point number. Fraction of images reserved for validation (strictly between 0 and 1).\n",
        "\n",
        "15) **dtype**\tDatatype used for generating arrays.\n",
        "\n",
        "16) **vertical_flip** is for randomly flipping half of the images vertically."
      ]
    },
    {
      "cell_type": "markdown",
      "metadata": {
        "id": "v_MC71qwPQoG"
      },
      "source": [
        "Describe the arguments of `flow_from_directory()` method of the `tensorflow.keras.preprocessing.image.ImageDataGenerator` object. \n",
        "\n",
        "---\n",
        "\n",
        "**3 Points**\n",
        "\n",
        "---"
      ]
    },
    {
      "cell_type": "markdown",
      "metadata": {
        "id": "c2AmpTTZdCHq"
      },
      "source": [
        "`tensorflow.keras.preprocessing.image.ImageDataGenerator.flow_from_directory()` function has the following important arguments - \n",
        "\n",
        "1) **directory** - This is set to the path where the classes of folders are present.\n",
        "\n",
        "2) **target_size** is the size of your input images, every image will be resized to this size.\n",
        "\n",
        "3) **color_mode** if the image is either black and white or grayscale set “grayscale” or if the image has three color channels, set “rgb”.\n",
        "\n",
        "4) **batch_size** - No. of images to be yielded from the generator per batch.\n",
        "\n",
        "5) **class_mode** - Type of classification task you are doing, if classifying between 2 classes then type \"binary\" and if the classification task consists of more than 2 classes, then use \"categorical\" as the input to this argument. \n",
        "\n",
        "6) **shuffle** - Shuffles the order of the images generated.\n",
        "\n",
        "7) **seed** - Seed is applied so that everytime we use the random seed we get the same output of the random function no matter how many times we execute the code."
      ]
    },
    {
      "cell_type": "markdown",
      "metadata": {
        "id": "4HRhkgwPPQoG"
      },
      "source": [
        "Create a function that returns a generator object which shall fetch batches of images from the specified directory. This function shall be reused for fetching images from train and validation directories.\n",
        "\n",
        "\n",
        "\n",
        "---\n",
        "\n",
        "**3 Points**\n",
        "\n",
        "\n",
        "---\n",
        "\n",
        "\n"
      ]
    },
    {
      "cell_type": "code",
      "metadata": {
        "id": "2IGm53n-PQoH"
      },
      "source": [
        "def get_generator_from_dir(directory_path, batch_size):\n",
        "    # Insert your code here\n",
        "    datagen=tf.keras.preprocessing.image.ImageDataGenerator(rescale=1./255, fill_mode='nearest')\n",
        "    data_batch_generator=datagen.flow_from_directory(directory=directory_path, target_size=(40, 40), \n",
        "                                                     batch_size=batch_size,\n",
        "                                                     color_mode=\"grayscale\",\n",
        "                                                     class_mode=\"categorical\")\n",
        "    \n",
        "    return data_batch_generator"
      ],
      "execution_count": null,
      "outputs": []
    },
    {
      "cell_type": "markdown",
      "metadata": {
        "id": "UXzCQCMOPQoI"
      },
      "source": [
        "Describe the arguments of `flow_from_dataframe()` method of the `tensorflow.keras.preprocessing.image.ImageDataGenerator` object. \n",
        "\n",
        "---\n",
        "\n",
        "**3 Points**\n",
        "\n",
        "---"
      ]
    },
    {
      "cell_type": "markdown",
      "metadata": {
        "id": "WuV-Ro06nfA1"
      },
      "source": [
        "`flow_from_dataframe()` method accepts all the arguments that `flow_from_directory()` method allows, plus some additional arguments which are listed below - \n",
        "\n",
        "1) **dataframe** - Pandas DataFrame which contains the filenames and classes or numeric data to be treated as target values.\n",
        "\n",
        "2) **directory** - Path to the folder which contains all the images,None if x_col contains absolute paths pointing to each image instead of just filenames.\n",
        "\n",
        "3) **x_col** - The column in the dataframe that has the filenames of the images\n",
        "\n",
        "4) **y_col** - The column/columns in the dataframe in the filename that will be treated as raw target values if class_mode=”raw” (useful for regression tasks) or they will be treated as name of the classes if class_mode is “binary”/”categorical” or they will be ignored if class_mode is “input”/None.\n",
        "\n",
        "5) **class_mode** - In addition to all the class_modes previously available in flow_from_directory, there is “raw”.\n",
        "\n",
        "6) **drop_duplicates** - Boolean, whether to drop duplicate rows based on filename,True by default.\n",
        "\n",
        "\n"
      ]
    },
    {
      "cell_type": "markdown",
      "metadata": {
        "id": "0eINXEwAPQoI"
      },
      "source": [
        "Create a function that returns a generator object which shall fetch batches of images from the specified directory using a dataframe that has information about images and their labels. This function shall be reused for fetching images from test directory.\n",
        "\n",
        "\n",
        "\n",
        "---\n",
        "\n",
        "**3 Points**\n",
        "\n",
        "\n",
        "---\n",
        "\n",
        "\n"
      ]
    },
    {
      "cell_type": "code",
      "metadata": {
        "id": "ET-7FA2ZPQoJ"
      },
      "source": [
        "def get_generator_from_dataframe(directory_path, dataframe, batch_size):\n",
        "    # Insert your code here\n",
        "    datagen=tf.keras.preprocessing.image.ImageDataGenerator(rescale=1./255, fill_mode='nearest')\n",
        "    data_batch_generator=datagen.flow_from_dataframe(directory=directory_path, dataframe=dataframe, x_col='Image', y_col='Label', target_size=(40, 40), \n",
        "                                                     batch_size=batch_size,\n",
        "                                                     color_mode=\"grayscale\",\n",
        "                                                     class_mode=\"categorical\")\n",
        "\n",
        "    return data_batch_generator"
      ],
      "execution_count": null,
      "outputs": []
    },
    {
      "cell_type": "markdown",
      "metadata": {
        "id": "CIjC302qPQoJ"
      },
      "source": [
        "Create a function that returns a dataframe having image file names and their corresponding class labels for a folder. This will help in creating generator from a dataframe.\n",
        "\n",
        "\n",
        "\n",
        "---\n",
        "\n",
        "**2 Points**\n",
        "\n",
        "\n",
        "---\n",
        "\n",
        "\n"
      ]
    },
    {
      "cell_type": "code",
      "metadata": {
        "id": "t42I_NoAPQoK"
      },
      "source": [
        "import pandas as pd\n",
        "\n",
        "def get_dataframe(folder_name):\n",
        "    \n",
        "    # Insert code to give you list of all the image files in folder\n",
        "    file_names=[]\n",
        "    for root, dirs, files in os.walk(folder_name):\n",
        "        for name in files:\n",
        "            file_names.append(name)\n",
        "    # Insert code to get list of labels from list of images \n",
        "    # (Hint: every image file name has its label name as prefix)\n",
        "    label_names = []\n",
        "    for name in file_names:\n",
        "        label_names.append(name[0])\n",
        "    # Make a dataframe with two columns - Image(file name) and Label (class label)\n",
        "    df = pd.DataFrame(list(zip(file_names, label_names)), columns=['Image', 'Label'])\n",
        "    # display and return the dataframe\n",
        "    print(df)\n",
        "    return df\n",
        "    "
      ],
      "execution_count": null,
      "outputs": []
    },
    {
      "cell_type": "markdown",
      "metadata": {
        "id": "85OUIuQwPQoK"
      },
      "source": [
        "Describe the arguments for the following functions callable on a `tensorflow.keras.Sequential` model object :\n",
        "\n",
        "1. add() **[3 Points]**\n",
        "\n",
        "> add() function takes only one argument and that is the layer which we want to input into the model, for example `keras.Sequential.add(tf.keras.layers.Dense(8))` will add a dense layer with 8 neurons to the overall model and in the layers are added in the same sequence as we use the function add().\n",
        "\n",
        "2. compile() **[3 Points]**\n",
        "\n",
        "> compile() function is used to compile the overall model developed and in this we mention all the other details of the model, like which optimizer, loss function, metrics, etc. we will be using.\n",
        "\n",
        "> Its arguments are - 1) **optimizer** - specify the kind of optimizer we want to use, ex-adam, rmsprop.\n",
        "  2)  **loss** - specify the kind of loss function we use to find the loss, like squared_loss or absolute_loss.\n",
        "  3) **metrics** - used to specify the kinds of metrics we use to evaluate the model, like ['accuracy'] so that if the value of the metric is higher, we consider it to be better performing.\n",
        "  4) **weighted_matrices** - list of metrics to be evaluated and weighted by sample_weight or class_weight during training and testing.\n",
        "  \n",
        "\n",
        "3. fit() **[3 Points]**\n",
        "\n",
        "> This function is used to train the dataset using the the given model for the specified number of epochs.\n",
        "\n",
        "> Its important arguments are -   1) **x** - the input data on which to train the model.\n",
        "  2) **y** - the true labels of the data, so that our model learnt outputs very close to this.\n",
        "  3) **batch_size** - the size of the batch of datapoints used for one gradient update.\n",
        "    4) **epochs** - number of epochs for which we have to train the model.\n",
        "    5) **validation_split** - this is the fraction of the training data to be used as validation data, in case there is no seperate validation data available.\n",
        "    6) **validation_data** - data on which the validation is to be performed based on the metrics defined at the end of each epoch. \n",
        "\n",
        "\n",
        "4. predict()  **[3 Points]**\n",
        "\n",
        "> This function is used to predict the output of the model on the data provide by its x argument.\n",
        "\n",
        "> Important arguments of this function are -1) **x** - the input data on which we have to predict the output.\n",
        "2) **batch_size** - the number of samples datapoints to be processed at a time.\n",
        "3) **steps** - total number of steps to do/ total number of batches to test on before giving the final prediction.\n",
        "4) **use_multiprocessing** - boolean value which tells whether to use multhreading to perform the evaluation/prediction task faster. \n",
        "\n"
      ]
    },
    {
      "cell_type": "markdown",
      "metadata": {
        "id": "lhmmfN1lPQoL"
      },
      "source": [
        "Describe the arguments used when instantiating the following `tensorflow.keras.layers` :\n",
        "1. Conv2D() **[3 Points]**\n",
        "\n",
        "> Conv2D() adds a convolutional layer of custom size and apply a custom sized kernel to it. Important arguments are - 1) **filters** -  the dimensions of the output 4D tensor.\n",
        "2) **kernel_size** - The tuple consisting of the height and width of the kernel applied to the input layer.\n",
        "3) **padding** - The type of padding to be applied to the input layer. can be *same* or *valid*.\n",
        "4) **stride** - A list of 2 integers, specifying the strides of the convolution along the height and width.\n",
        "5) **activation** - the kind of activation function to be used.\n",
        "6) **use_bias** - boolean value to indicate whether or not to apply bias to the model.\n",
        "\n",
        "\n",
        "2. MaxPooling2D() **[3 Points]**\n",
        "\n",
        "> `MaxPooling2D()` is used to apply max pooling layer to the input tensor.\n",
        "Its important arguments are - \n",
        "1)**pool_size** - A tuple which tells us the window size over which we have to take the maximum value.\n",
        "2)**strides** - The value of the stride to take, i.e. the number of cells to move ahead at a time while doing the maxpool.\n",
        "3)**padding** - the type of padding to be applied to the input layer. \n",
        "4)**data_format** - if it is set to **channels_first**, then the input 4d tensor will have the shape **(batch_size, channels, rows, cols)**, else if it is **channels_last** then the input shape is **(batch_size, rows, cols, channels)**. The ouput will also have the same shape as the input.\n",
        "\n",
        "3. Flatten()  **[3 Points]**\n",
        "\n",
        "> This layer just converts the 4D input tensor to a flat layer of only one dimension, or we can say it converts the 4D tensor to a vector. As the input tensor can have different data_format values we provide it to the Flatten() layer using the **data_format** argument. Its functioning is mentioned above. \n",
        "\n",
        "4. Dense()  **[3 Points]**\n",
        "\n",
        "> It is just adds a densely connected nueral network layer. Important arguments are - \n",
        "1)**units** - the dimensions of the output vector.\n",
        "2)**activation** - the activation function to apply during forming the layer.\n",
        "3)**use_bias** - boolean value which tells whether or not to use a bias vector in the layer.\n",
        "4)**kernel_initializer** - Initializer for the kernel weights matrix.\n",
        "5)**bias_initializer** -\n",
        "Initializer for the bias vector.\n",
        "6)**kernel_regularizer** -\n",
        "Regularizer function applied to the kernel weights matrix.\n",
        "7)**bias_regularizer** -\n",
        "Regularizer function applied to the bias vector.\n",
        "\n",
        "5. Dropout() **[3 Points]**\n",
        "\n",
        "> This function applies dropout mechanism to the nuerons in the feed-forward pass. Its main arguments are - \n",
        "1)**rate** - the fractional value between 0 and 1 which tells us the fraction of input units to drop during the training process.\n",
        "2)**seed** - the integer value of the random seed.\n",
        "3)**noise_shape** - the 1D tensor representing the shape of the binary dropout mask that will be multiplied with the input.\n",
        " \n"
      ]
    },
    {
      "cell_type": "markdown",
      "metadata": {
        "id": "YKVJ0guPPQoM"
      },
      "source": [
        "# Defining the model architecture\n",
        "\n",
        "---\n",
        "\n",
        "\n",
        "\n",
        "We have defined our prediction model architecture here. **Please dont make any changes to the two blocks below.**"
      ]
    },
    {
      "cell_type": "code",
      "metadata": {
        "id": "RYicm7BjPQoN"
      },
      "source": [
        "def build_model(dropout_probability = 0,LR=1e-4):\n",
        "    \n",
        "    # Creating a Keras sequential model\n",
        "    model = tf.keras.models.Sequential()\n",
        "    \n",
        "    # Adding layers \n",
        "    model.add(tf.keras.layers.Flatten(input_shape=(IMG_WIDTH,IMG_HEIGHT, 1)))\n",
        "    model.add(tf.keras.layers.Dense(512, activation='tanh',kernel_initializer='he_uniform'))\n",
        "    model.add(tf.keras.layers.Dense(512, activation='relu',kernel_initializer='glorot_uniform'))\n",
        "    model.add(tf.keras.layers.Dense(512, activation='tanh',kernel_initializer='he_uniform',))\n",
        "    model.add(tf.keras.layers.Dropout(dropout_probability))\n",
        "    model.add(tf.keras.layers.Dense(26,activation='softmax'))\n",
        "    \n",
        "    # Optimizers, loss function and performance metrics\n",
        "    opt = tf.keras.optimizers.Adam(learning_rate=LR)\n",
        "    cat_loss = tf.keras.losses.CategoricalCrossentropy()\n",
        "    acc_metrics = [tf.keras.metrics.CategoricalAccuracy()]\n",
        "    \n",
        "    # Compiling the model\n",
        "    model.compile(optimizer=opt, loss=cat_loss, metrics=acc_metrics)\n",
        "    \n",
        "    return model"
      ],
      "execution_count": null,
      "outputs": []
    },
    {
      "cell_type": "code",
      "metadata": {
        "id": "PIC1i1bvPQoO"
      },
      "source": [
        "#  Variables needed for subsequent sections\n",
        "num_epochs = 40\n",
        "\n",
        "labels=['a', 'b', 'c', 'd', 'e', 'f', 'g', 'h', 'i', 'j', 'k', 'l', 'm', 'n', 'o', 'p', 'q', 'r', 's', 't', 'u', 'v', 'w', 'x', 'y', 'z']"
      ],
      "execution_count": null,
      "outputs": []
    },
    {
      "cell_type": "markdown",
      "metadata": {
        "id": "9mHP1uqCPQoO"
      },
      "source": [
        "# Best Learning Rate determination\n",
        "\n",
        "---\n",
        "\n",
        "\n",
        "\n",
        "Now we are ready to start working with the model. The hyperparameters we would like you to experiment are learning rate of the optimizer, batch size and dropout probability. We shall start with the  experimentation of **learning rate**. Discuss the impact of learning rate on model training and performance.\n",
        "\n",
        "\n",
        "---\n",
        "**5 Points**\n",
        "\n",
        "\n",
        "---\n",
        "\n",
        "\n"
      ]
    },
    {
      "cell_type": "code",
      "metadata": {
        "colab": {
          "base_uri": "https://localhost:8080/",
          "height": 404
        },
        "id": "buJrCke0PQoP",
        "outputId": "6896a746-87e1-485b-a2c2-5799bd15b657"
      },
      "source": [
        "def determine_best_learning_rate():\n",
        "    learning_rates = [1e-3,1e-4,1e-5]\n",
        "    avg_val_accuracies = []\n",
        "\n",
        "    # Insert your code here to get generators that fetch batches from train and validation directories (use batch size 16)\n",
        "    datagen_tr = get_generator_from_dir(train_dir_path, 16)\n",
        "    datagen_val = get_generator_from_dir(validation_dir_path, 16)    \n",
        "    \n",
        "    for l_rate in learning_rates:\n",
        "        \n",
        "        # Insert your code here to build a model with the current learning rate\n",
        "        model = build_model(LR=l_rate)\n",
        "        \n",
        "        # Insert your code here to train the model using the training set and validate using the validation set\n",
        "        h=model.fit(datagen_tr, validation_data=datagen_val, epochs=num_epochs)\n",
        "        \n",
        "        # Insert your code here to find the average validation accuracy for this model setting and append it to the maintained list\n",
        "        avg_val_accuracies.append(np.mean(h.history['val_categorical_accuracy']))\n",
        "\n",
        "    # Insert your code here to figure out the learning rate which gives the highest average validation accuracy. Print the value and return it.\n",
        "    best_val_acc = max(avg_val_accuracies)\n",
        "    best_LR_i=0\n",
        "    for i, val_acc in enumerate(avg_val_accuracies):\n",
        "        if(val_acc==best_val_acc):\n",
        "            best_LR_i=i\n",
        "            break\n",
        "    print(learning_rates[best_LR_i])\n",
        "    return learning_rates[best_LR_i]\n",
        "\n",
        "\n",
        "# determine_best_learning_rate() is being called here\n",
        "best_lr = determine_best_learning_rate()"
      ],
      "execution_count": null,
      "outputs": [
        {
          "output_type": "stream",
          "text": [
            "Found 20220 images belonging to 26 classes.\n",
            "Found 374 images belonging to 26 classes.\n",
            "Epoch 1/40\n",
            "1264/1264 [==============================] - 13s 10ms/step - loss: 3.4540 - categorical_accuracy: 0.0384 - val_loss: 3.4116 - val_categorical_accuracy: 0.0348\n",
            "Epoch 2/40\n",
            "1264/1264 [==============================] - 11s 9ms/step - loss: 3.4031 - categorical_accuracy: 0.0360 - val_loss: 3.3637 - val_categorical_accuracy: 0.0401\n",
            "Epoch 3/40\n",
            "1264/1264 [==============================] - 12s 9ms/step - loss: 3.4143 - categorical_accuracy: 0.0409 - val_loss: 3.3611 - val_categorical_accuracy: 0.0374\n",
            "Epoch 4/40\n",
            "1264/1264 [==============================] - 12s 9ms/step - loss: 3.4042 - categorical_accuracy: 0.0391 - val_loss: 3.3578 - val_categorical_accuracy: 0.0374\n",
            "Epoch 5/40\n",
            "1264/1264 [==============================] - 12s 10ms/step - loss: 3.4055 - categorical_accuracy: 0.0361 - val_loss: 3.4445 - val_categorical_accuracy: 0.0294\n",
            "Epoch 6/40\n",
            "1264/1264 [==============================] - 13s 10ms/step - loss: 3.4074 - categorical_accuracy: 0.0379 - val_loss: 3.3469 - val_categorical_accuracy: 0.0455\n",
            "Epoch 7/40\n",
            "1264/1264 [==============================] - 11s 9ms/step - loss: 3.4069 - categorical_accuracy: 0.0406 - val_loss: 3.4717 - val_categorical_accuracy: 0.0348\n",
            "Epoch 8/40\n",
            "1264/1264 [==============================] - 10s 8ms/step - loss: 3.4142 - categorical_accuracy: 0.0374 - val_loss: 3.4527 - val_categorical_accuracy: 0.0267\n",
            "Epoch 9/40\n",
            "1264/1264 [==============================] - 10s 8ms/step - loss: 3.4106 - categorical_accuracy: 0.0365 - val_loss: 3.3933 - val_categorical_accuracy: 0.0348\n",
            "Epoch 10/40\n",
            "1264/1264 [==============================] - 10s 8ms/step - loss: 3.4072 - categorical_accuracy: 0.0407 - val_loss: 3.4294 - val_categorical_accuracy: 0.0374\n",
            "Epoch 11/40\n",
            "1264/1264 [==============================] - 11s 9ms/step - loss: 3.4109 - categorical_accuracy: 0.0366 - val_loss: 3.4130 - val_categorical_accuracy: 0.0241\n",
            "Epoch 12/40\n",
            "1264/1264 [==============================] - 10s 8ms/step - loss: 3.4137 - categorical_accuracy: 0.0415 - val_loss: 3.4774 - val_categorical_accuracy: 0.0348\n",
            "Epoch 13/40\n",
            "1264/1264 [==============================] - 11s 9ms/step - loss: 3.4139 - categorical_accuracy: 0.0372 - val_loss: 3.4190 - val_categorical_accuracy: 0.0374\n",
            "Epoch 14/40\n",
            "1264/1264 [==============================] - 14s 11ms/step - loss: 3.4041 - categorical_accuracy: 0.0389 - val_loss: 3.2901 - val_categorical_accuracy: 0.0401\n",
            "Epoch 15/40\n",
            "1264/1264 [==============================] - 11s 8ms/step - loss: 3.4034 - categorical_accuracy: 0.0382 - val_loss: 3.3227 - val_categorical_accuracy: 0.0561\n",
            "Epoch 16/40\n",
            "1264/1264 [==============================] - 11s 9ms/step - loss: 3.4078 - categorical_accuracy: 0.0363 - val_loss: 3.6055 - val_categorical_accuracy: 0.0401\n",
            "Epoch 17/40\n",
            "1264/1264 [==============================] - 12s 9ms/step - loss: 3.4139 - categorical_accuracy: 0.0370 - val_loss: 3.4959 - val_categorical_accuracy: 0.0348\n",
            "Epoch 18/40\n",
            "1264/1264 [==============================] - 12s 9ms/step - loss: 3.4171 - categorical_accuracy: 0.0349 - val_loss: 3.4000 - val_categorical_accuracy: 0.0294\n",
            "Epoch 19/40\n",
            "1264/1264 [==============================] - 10s 8ms/step - loss: 3.4048 - categorical_accuracy: 0.0372 - val_loss: 3.3583 - val_categorical_accuracy: 0.0321\n",
            "Epoch 20/40\n",
            "1264/1264 [==============================] - 11s 8ms/step - loss: 3.4179 - categorical_accuracy: 0.0390 - val_loss: 3.4363 - val_categorical_accuracy: 0.0401\n",
            "Epoch 21/40\n",
            "1264/1264 [==============================] - 12s 9ms/step - loss: 3.4106 - categorical_accuracy: 0.0379 - val_loss: 3.4388 - val_categorical_accuracy: 0.0348\n",
            "Epoch 22/40\n",
            "1264/1264 [==============================] - 10s 8ms/step - loss: 3.4008 - categorical_accuracy: 0.0395 - val_loss: 3.3799 - val_categorical_accuracy: 0.0535\n",
            "Epoch 23/40\n",
            "1264/1264 [==============================] - 10s 8ms/step - loss: 3.4155 - categorical_accuracy: 0.0373 - val_loss: 3.4444 - val_categorical_accuracy: 0.0481\n",
            "Epoch 24/40\n",
            "1264/1264 [==============================] - 10s 8ms/step - loss: 3.4060 - categorical_accuracy: 0.0369 - val_loss: 3.4355 - val_categorical_accuracy: 0.0561\n",
            "Epoch 25/40\n",
            "1264/1264 [==============================] - 10s 8ms/step - loss: 3.3996 - categorical_accuracy: 0.0392 - val_loss: 3.4589 - val_categorical_accuracy: 0.0267\n",
            "Epoch 26/40\n",
            "1264/1264 [==============================] - 10s 8ms/step - loss: 3.4080 - categorical_accuracy: 0.0410 - val_loss: 3.3523 - val_categorical_accuracy: 0.0374\n",
            "Epoch 27/40\n",
            "1264/1264 [==============================] - 11s 9ms/step - loss: 3.4162 - categorical_accuracy: 0.0371 - val_loss: 3.4251 - val_categorical_accuracy: 0.0561\n",
            "Epoch 28/40\n",
            "1264/1264 [==============================] - 11s 9ms/step - loss: 3.4118 - categorical_accuracy: 0.0406 - val_loss: 3.4633 - val_categorical_accuracy: 0.0481\n",
            "Epoch 29/40\n",
            "1264/1264 [==============================] - 12s 9ms/step - loss: 3.4017 - categorical_accuracy: 0.0409 - val_loss: 3.3783 - val_categorical_accuracy: 0.0321\n",
            "Epoch 30/40\n",
            "1264/1264 [==============================] - 12s 10ms/step - loss: 3.4107 - categorical_accuracy: 0.0419 - val_loss: 3.3627 - val_categorical_accuracy: 0.0401\n",
            "Epoch 31/40\n",
            "1264/1264 [==============================] - 12s 10ms/step - loss: 3.4156 - categorical_accuracy: 0.0384 - val_loss: 3.5018 - val_categorical_accuracy: 0.0267\n",
            "Epoch 32/40\n",
            "1264/1264 [==============================] - 11s 9ms/step - loss: 3.4082 - categorical_accuracy: 0.0387 - val_loss: 3.4181 - val_categorical_accuracy: 0.0267\n",
            "Epoch 33/40\n",
            "1264/1264 [==============================] - 13s 10ms/step - loss: 3.4114 - categorical_accuracy: 0.0394 - val_loss: 3.5303 - val_categorical_accuracy: 0.0374\n",
            "Epoch 34/40\n",
            "1264/1264 [==============================] - 11s 9ms/step - loss: 3.4029 - categorical_accuracy: 0.0406 - val_loss: 3.3989 - val_categorical_accuracy: 0.0401\n",
            "Epoch 35/40\n",
            "1264/1264 [==============================] - 10s 8ms/step - loss: 3.4135 - categorical_accuracy: 0.0386 - val_loss: 3.4370 - val_categorical_accuracy: 0.0348\n",
            "Epoch 36/40\n",
            "1264/1264 [==============================] - 10s 8ms/step - loss: 3.4132 - categorical_accuracy: 0.0384 - val_loss: 3.4288 - val_categorical_accuracy: 0.0455\n",
            "Epoch 37/40\n",
            "1264/1264 [==============================] - 12s 10ms/step - loss: 3.4116 - categorical_accuracy: 0.0369 - val_loss: 3.5043 - val_categorical_accuracy: 0.0348\n",
            "Epoch 38/40\n",
            "1264/1264 [==============================] - 11s 9ms/step - loss: 3.4132 - categorical_accuracy: 0.0360 - val_loss: 3.3406 - val_categorical_accuracy: 0.0455\n",
            "Epoch 39/40\n",
            "1264/1264 [==============================] - 11s 8ms/step - loss: 3.4062 - categorical_accuracy: 0.0393 - val_loss: 3.3818 - val_categorical_accuracy: 0.0241\n",
            "Epoch 40/40\n",
            "1264/1264 [==============================] - 11s 8ms/step - loss: 3.4096 - categorical_accuracy: 0.0376 - val_loss: 3.3629 - val_categorical_accuracy: 0.0241\n",
            "Epoch 1/40\n",
            "1264/1264 [==============================] - 11s 8ms/step - loss: 2.5136 - categorical_accuracy: 0.2869 - val_loss: 1.4780 - val_categorical_accuracy: 0.5668\n",
            "Epoch 2/40\n",
            "1264/1264 [==============================] - 11s 8ms/step - loss: 1.1900 - categorical_accuracy: 0.6642 - val_loss: 0.8020 - val_categorical_accuracy: 0.8128\n",
            "Epoch 3/40\n",
            "1264/1264 [==============================] - 10s 8ms/step - loss: 0.5952 - categorical_accuracy: 0.8429 - val_loss: 0.4596 - val_categorical_accuracy: 0.8797\n",
            "Epoch 4/40\n",
            "1264/1264 [==============================] - 10s 8ms/step - loss: 0.3513 - categorical_accuracy: 0.9090 - val_loss: 0.3249 - val_categorical_accuracy: 0.9358\n",
            "Epoch 5/40\n",
            "1264/1264 [==============================] - 11s 9ms/step - loss: 0.1989 - categorical_accuracy: 0.9526 - val_loss: 0.1437 - val_categorical_accuracy: 0.9813\n",
            "Epoch 6/40\n",
            "1264/1264 [==============================] - 11s 9ms/step - loss: 0.1278 - categorical_accuracy: 0.9718 - val_loss: 0.1833 - val_categorical_accuracy: 0.9572\n",
            "Epoch 7/40\n",
            "1264/1264 [==============================] - 12s 9ms/step - loss: 0.0926 - categorical_accuracy: 0.9797 - val_loss: 0.0731 - val_categorical_accuracy: 0.9866\n",
            "Epoch 8/40\n",
            "1264/1264 [==============================] - 12s 9ms/step - loss: 0.0798 - categorical_accuracy: 0.9807 - val_loss: 0.0956 - val_categorical_accuracy: 0.9652\n"
          ],
          "name": "stdout"
        },
        {
          "output_type": "stream",
          "text": [
            "Epoch 9/40\n",
            "1264/1264 [==============================] - 12s 9ms/step - loss: 0.0673 - categorical_accuracy: 0.9818 - val_loss: 0.0399 - val_categorical_accuracy: 0.9920\n",
            "Epoch 10/40\n",
            "1264/1264 [==============================] - 11s 8ms/step - loss: 0.0502 - categorical_accuracy: 0.9882 - val_loss: 0.1188 - val_categorical_accuracy: 0.9519\n",
            "Epoch 11/40\n",
            "1264/1264 [==============================] - 10s 8ms/step - loss: 0.0471 - categorical_accuracy: 0.9886 - val_loss: 0.0888 - val_categorical_accuracy: 0.9733\n",
            "Epoch 12/40\n",
            "1264/1264 [==============================] - 11s 8ms/step - loss: 0.0372 - categorical_accuracy: 0.9903 - val_loss: 0.0196 - val_categorical_accuracy: 1.0000\n",
            "Epoch 13/40\n",
            "1264/1264 [==============================] - 10s 8ms/step - loss: 0.0277 - categorical_accuracy: 0.9934 - val_loss: 0.0292 - val_categorical_accuracy: 0.9866\n",
            "Epoch 14/40\n",
            "1264/1264 [==============================] - 11s 9ms/step - loss: 0.0310 - categorical_accuracy: 0.9919 - val_loss: 0.0108 - val_categorical_accuracy: 0.9973\n",
            "Epoch 15/40\n",
            "1264/1264 [==============================] - 11s 9ms/step - loss: 0.0285 - categorical_accuracy: 0.9925 - val_loss: 0.1704 - val_categorical_accuracy: 0.9545\n",
            "Epoch 16/40\n",
            "1264/1264 [==============================] - 12s 9ms/step - loss: 0.0391 - categorical_accuracy: 0.9889 - val_loss: 0.0164 - val_categorical_accuracy: 0.9973\n",
            "Epoch 17/40\n",
            "1264/1264 [==============================] - 10s 8ms/step - loss: 0.0234 - categorical_accuracy: 0.9944 - val_loss: 0.0386 - val_categorical_accuracy: 0.9920\n",
            "Epoch 18/40\n",
            "1264/1264 [==============================] - 10s 8ms/step - loss: 0.0224 - categorical_accuracy: 0.9939 - val_loss: 0.0206 - val_categorical_accuracy: 0.9973\n",
            "Epoch 19/40\n",
            "1264/1264 [==============================] - 10s 8ms/step - loss: 0.0102 - categorical_accuracy: 0.9980 - val_loss: 0.0064 - val_categorical_accuracy: 1.0000\n",
            "Epoch 20/40\n",
            "1264/1264 [==============================] - 10s 8ms/step - loss: 0.0234 - categorical_accuracy: 0.9940 - val_loss: 0.0050 - val_categorical_accuracy: 1.0000\n",
            "Epoch 21/40\n",
            "1264/1264 [==============================] - 10s 8ms/step - loss: 0.0584 - categorical_accuracy: 0.9814 - val_loss: 0.0647 - val_categorical_accuracy: 0.9840\n",
            "Epoch 22/40\n",
            "1264/1264 [==============================] - 11s 9ms/step - loss: 0.0421 - categorical_accuracy: 0.9875 - val_loss: 0.0024 - val_categorical_accuracy: 1.0000\n",
            "Epoch 23/40\n",
            "1264/1264 [==============================] - 13s 11ms/step - loss: 0.0227 - categorical_accuracy: 0.9927 - val_loss: 0.0025 - val_categorical_accuracy: 1.0000\n",
            "Epoch 24/40\n",
            "1264/1264 [==============================] - 13s 11ms/step - loss: 0.0174 - categorical_accuracy: 0.9945 - val_loss: 0.1987 - val_categorical_accuracy: 0.9385\n",
            "Epoch 25/40\n",
            "1264/1264 [==============================] - 12s 10ms/step - loss: 0.0323 - categorical_accuracy: 0.9912 - val_loss: 0.0517 - val_categorical_accuracy: 0.9893\n",
            "Epoch 26/40\n",
            "1264/1264 [==============================] - 13s 10ms/step - loss: 0.0193 - categorical_accuracy: 0.9950 - val_loss: 0.0546 - val_categorical_accuracy: 0.9840\n",
            "Epoch 27/40\n",
            "1264/1264 [==============================] - 13s 10ms/step - loss: 0.0572 - categorical_accuracy: 0.9831 - val_loss: 0.0013 - val_categorical_accuracy: 1.0000\n",
            "Epoch 28/40\n",
            "1264/1264 [==============================] - 12s 9ms/step - loss: 6.6981e-04 - categorical_accuracy: 1.0000 - val_loss: 6.5691e-04 - val_categorical_accuracy: 1.0000\n",
            "Epoch 29/40\n",
            "1264/1264 [==============================] - 11s 8ms/step - loss: 0.0333 - categorical_accuracy: 0.9894 - val_loss: 0.0019 - val_categorical_accuracy: 1.0000\n",
            "Epoch 30/40\n",
            "1264/1264 [==============================] - 10s 8ms/step - loss: 0.0143 - categorical_accuracy: 0.9961 - val_loss: 0.0029 - val_categorical_accuracy: 1.0000\n",
            "Epoch 31/40\n",
            "1264/1264 [==============================] - 10s 8ms/step - loss: 0.0229 - categorical_accuracy: 0.9923 - val_loss: 0.0010 - val_categorical_accuracy: 1.0000\n",
            "Epoch 32/40\n",
            "1264/1264 [==============================] - 10s 8ms/step - loss: 5.6506e-04 - categorical_accuracy: 1.0000 - val_loss: 5.9092e-04 - val_categorical_accuracy: 1.0000\n",
            "Epoch 33/40\n",
            "1264/1264 [==============================] - 11s 8ms/step - loss: 0.0546 - categorical_accuracy: 0.9837 - val_loss: 0.0018 - val_categorical_accuracy: 1.0000\n",
            "Epoch 34/40\n",
            "1264/1264 [==============================] - 13s 10ms/step - loss: 0.0303 - categorical_accuracy: 0.9912 - val_loss: 0.0022 - val_categorical_accuracy: 1.0000\n",
            "Epoch 35/40\n",
            "1264/1264 [==============================] - 11s 9ms/step - loss: 0.0233 - categorical_accuracy: 0.9933 - val_loss: 0.0027 - val_categorical_accuracy: 1.0000\n",
            "Epoch 36/40\n",
            "1264/1264 [==============================] - 12s 9ms/step - loss: 5.7235e-04 - categorical_accuracy: 1.0000 - val_loss: 0.0089 - val_categorical_accuracy: 1.0000\n",
            "Epoch 37/40\n",
            "1264/1264 [==============================] - 12s 9ms/step - loss: 0.0836 - categorical_accuracy: 0.9742 - val_loss: 0.1537 - val_categorical_accuracy: 0.9412\n",
            "Epoch 38/40\n",
            "1264/1264 [==============================] - 12s 9ms/step - loss: 0.0326 - categorical_accuracy: 0.9897 - val_loss: 0.0177 - val_categorical_accuracy: 0.9920\n",
            "Epoch 39/40\n",
            "1264/1264 [==============================] - 12s 9ms/step - loss: 0.0016 - categorical_accuracy: 1.0000 - val_loss: 5.8414e-04 - val_categorical_accuracy: 1.0000\n",
            "Epoch 40/40\n",
            "1264/1264 [==============================] - 12s 9ms/step - loss: 0.0317 - categorical_accuracy: 0.9907 - val_loss: 0.0013 - val_categorical_accuracy: 1.0000\n",
            "Epoch 1/40\n",
            "1264/1264 [==============================] - 12s 9ms/step - loss: 3.0718 - categorical_accuracy: 0.1526 - val_loss: 2.5292 - val_categorical_accuracy: 0.3102\n",
            "Epoch 2/40\n",
            "1264/1264 [==============================] - 11s 8ms/step - loss: 2.3163 - categorical_accuracy: 0.4169 - val_loss: 2.0751 - val_categorical_accuracy: 0.4439\n",
            "Epoch 3/40\n",
            "1264/1264 [==============================] - 11s 9ms/step - loss: 1.8637 - categorical_accuracy: 0.5188 - val_loss: 1.8219 - val_categorical_accuracy: 0.5374\n",
            "Epoch 4/40\n",
            "1264/1264 [==============================] - 12s 10ms/step - loss: 1.6225 - categorical_accuracy: 0.5747 - val_loss: 1.6418 - val_categorical_accuracy: 0.5856\n",
            "Epoch 5/40\n",
            "1264/1264 [==============================] - 12s 9ms/step - loss: 1.4453 - categorical_accuracy: 0.6195 - val_loss: 1.4951 - val_categorical_accuracy: 0.6337\n",
            "Epoch 6/40\n",
            "1264/1264 [==============================] - 12s 10ms/step - loss: 1.2913 - categorical_accuracy: 0.6662 - val_loss: 1.3639 - val_categorical_accuracy: 0.6684\n",
            "Epoch 7/40\n",
            "1264/1264 [==============================] - 12s 9ms/step - loss: 1.1657 - categorical_accuracy: 0.7015 - val_loss: 1.2695 - val_categorical_accuracy: 0.6845\n",
            "Epoch 8/40\n",
            "1264/1264 [==============================] - 12s 9ms/step - loss: 1.0696 - categorical_accuracy: 0.7309 - val_loss: 1.1665 - val_categorical_accuracy: 0.7112\n",
            "Epoch 9/40\n",
            "1264/1264 [==============================] - 12s 10ms/step - loss: 0.9676 - categorical_accuracy: 0.7622 - val_loss: 1.0559 - val_categorical_accuracy: 0.7299\n",
            "Epoch 10/40\n",
            "1264/1264 [==============================] - 12s 9ms/step - loss: 0.8634 - categorical_accuracy: 0.7924 - val_loss: 0.9542 - val_categorical_accuracy: 0.7807\n",
            "Epoch 11/40\n",
            "1264/1264 [==============================] - 12s 9ms/step - loss: 0.7652 - categorical_accuracy: 0.8213 - val_loss: 0.8744 - val_categorical_accuracy: 0.7861\n",
            "Epoch 12/40\n",
            "1264/1264 [==============================] - 12s 9ms/step - loss: 0.6932 - categorical_accuracy: 0.8448 - val_loss: 0.8059 - val_categorical_accuracy: 0.7834\n",
            "Epoch 13/40\n",
            "1264/1264 [==============================] - 10s 8ms/step - loss: 0.6265 - categorical_accuracy: 0.8657 - val_loss: 0.7146 - val_categorical_accuracy: 0.8422\n",
            "Epoch 14/40\n",
            "1264/1264 [==============================] - 11s 9ms/step - loss: 0.5488 - categorical_accuracy: 0.8880 - val_loss: 0.6526 - val_categorical_accuracy: 0.8476\n",
            "Epoch 15/40\n",
            "1264/1264 [==============================] - 12s 9ms/step - loss: 0.5009 - categorical_accuracy: 0.8983 - val_loss: 0.5835 - val_categorical_accuracy: 0.8824\n",
            "Epoch 16/40\n",
            "1264/1264 [==============================] - 10s 8ms/step - loss: 0.4413 - categorical_accuracy: 0.9191 - val_loss: 0.5197 - val_categorical_accuracy: 0.8930\n",
            "Epoch 17/40\n"
          ],
          "name": "stdout"
        },
        {
          "output_type": "stream",
          "text": [
            "1264/1264 [==============================] - 11s 9ms/step - loss: 0.3961 - categorical_accuracy: 0.9295 - val_loss: 0.4673 - val_categorical_accuracy: 0.9144\n",
            "Epoch 18/40\n",
            "1264/1264 [==============================] - 11s 8ms/step - loss: 0.3526 - categorical_accuracy: 0.9392 - val_loss: 0.4117 - val_categorical_accuracy: 0.9251\n",
            "Epoch 19/40\n",
            "1264/1264 [==============================] - 10s 8ms/step - loss: 0.3127 - categorical_accuracy: 0.9513 - val_loss: 0.3980 - val_categorical_accuracy: 0.9251\n",
            "Epoch 20/40\n",
            "1264/1264 [==============================] - 11s 8ms/step - loss: 0.2749 - categorical_accuracy: 0.9579 - val_loss: 0.3544 - val_categorical_accuracy: 0.9358\n",
            "Epoch 21/40\n",
            "1264/1264 [==============================] - 10s 8ms/step - loss: 0.2432 - categorical_accuracy: 0.9670 - val_loss: 0.2950 - val_categorical_accuracy: 0.9652\n",
            "Epoch 22/40\n",
            "1264/1264 [==============================] - 11s 8ms/step - loss: 0.2157 - categorical_accuracy: 0.9724 - val_loss: 0.2809 - val_categorical_accuracy: 0.9572\n",
            "Epoch 23/40\n",
            "1264/1264 [==============================] - 10s 8ms/step - loss: 0.1910 - categorical_accuracy: 0.9759 - val_loss: 0.2539 - val_categorical_accuracy: 0.9572\n",
            "Epoch 24/40\n",
            "1264/1264 [==============================] - 10s 8ms/step - loss: 0.1731 - categorical_accuracy: 0.9791 - val_loss: 0.2150 - val_categorical_accuracy: 0.9652\n",
            "Epoch 25/40\n",
            "1264/1264 [==============================] - 11s 9ms/step - loss: 0.1540 - categorical_accuracy: 0.9827 - val_loss: 0.2043 - val_categorical_accuracy: 0.9706\n",
            "Epoch 26/40\n",
            "1264/1264 [==============================] - 11s 8ms/step - loss: 0.1361 - categorical_accuracy: 0.9865 - val_loss: 0.1896 - val_categorical_accuracy: 0.9652\n",
            "Epoch 27/40\n",
            "1264/1264 [==============================] - 10s 8ms/step - loss: 0.1216 - categorical_accuracy: 0.9878 - val_loss: 0.1627 - val_categorical_accuracy: 0.9759\n",
            "Epoch 28/40\n",
            "1264/1264 [==============================] - 10s 8ms/step - loss: 0.1086 - categorical_accuracy: 0.9903 - val_loss: 0.1550 - val_categorical_accuracy: 0.9786\n",
            "Epoch 29/40\n",
            "1264/1264 [==============================] - 11s 9ms/step - loss: 0.1009 - categorical_accuracy: 0.9914 - val_loss: 0.1481 - val_categorical_accuracy: 0.9759\n",
            "Epoch 30/40\n",
            "1264/1264 [==============================] - 11s 8ms/step - loss: 0.0896 - categorical_accuracy: 0.9904 - val_loss: 0.1175 - val_categorical_accuracy: 0.9840\n",
            "Epoch 31/40\n",
            "1264/1264 [==============================] - 11s 8ms/step - loss: 0.0778 - categorical_accuracy: 0.9947 - val_loss: 0.1082 - val_categorical_accuracy: 0.9840\n",
            "Epoch 32/40\n",
            "1264/1264 [==============================] - 11s 9ms/step - loss: 0.0712 - categorical_accuracy: 0.9950 - val_loss: 0.0969 - val_categorical_accuracy: 0.9813\n",
            "Epoch 33/40\n",
            "1264/1264 [==============================] - 11s 8ms/step - loss: 0.0653 - categorical_accuracy: 0.9949 - val_loss: 0.0960 - val_categorical_accuracy: 0.9759\n",
            "Epoch 34/40\n",
            "1264/1264 [==============================] - 11s 9ms/step - loss: 0.0575 - categorical_accuracy: 0.9961 - val_loss: 0.0836 - val_categorical_accuracy: 0.9893\n",
            "Epoch 35/40\n",
            "1264/1264 [==============================] - 12s 9ms/step - loss: 0.0523 - categorical_accuracy: 0.9970 - val_loss: 0.0733 - val_categorical_accuracy: 0.9947\n",
            "Epoch 36/40\n",
            "1264/1264 [==============================] - 11s 9ms/step - loss: 0.0477 - categorical_accuracy: 0.9968 - val_loss: 0.0683 - val_categorical_accuracy: 0.9920\n",
            "Epoch 37/40\n",
            "1264/1264 [==============================] - 10s 8ms/step - loss: 0.0420 - categorical_accuracy: 0.9984 - val_loss: 0.0586 - val_categorical_accuracy: 0.9947\n",
            "Epoch 38/40\n",
            "1264/1264 [==============================] - 11s 9ms/step - loss: 0.0398 - categorical_accuracy: 0.9979 - val_loss: 0.0570 - val_categorical_accuracy: 0.9947\n",
            "Epoch 39/40\n",
            "1264/1264 [==============================] - 11s 8ms/step - loss: 0.0361 - categorical_accuracy: 0.9980 - val_loss: 0.0488 - val_categorical_accuracy: 0.9973\n",
            "Epoch 40/40\n",
            "1264/1264 [==============================] - 13s 10ms/step - loss: 0.0323 - categorical_accuracy: 0.9985 - val_loss: 0.0446 - val_categorical_accuracy: 0.9947\n",
            "0.0001\n"
          ],
          "name": "stdout"
        }
      ]
    },
    {
      "cell_type": "code",
      "metadata": {
        "id": "x5DM7cZA-Z7F",
        "outputId": "a5e2e40f-d773-4989-bcf0-07095029fdb4"
      },
      "source": [
        "print(\"the best learning rate = \"+str(best_lr))"
      ],
      "execution_count": null,
      "outputs": [
        {
          "output_type": "stream",
          "text": [
            "the best learning rate = 0.0001\n"
          ],
          "name": "stdout"
        }
      ]
    },
    {
      "cell_type": "markdown",
      "metadata": {
        "id": "QtdAtZ4iPQoQ"
      },
      "source": [
        "# Best Dropout Probability determination\n",
        "\n",
        "---\n",
        "\n",
        "\n",
        "Use the best batch size determined in the previous section for the subsequent sections. We shall now do experimentation of **dropout probability** parameter. Discuss the impact of dropout probability on model performance.\n",
        "\n",
        "\n",
        "---\n",
        "**5 Points**\n",
        "\n",
        "\n",
        "---"
      ]
    },
    {
      "cell_type": "code",
      "metadata": {
        "id": "mij-29OvPQoQ",
        "outputId": "6dabe3fd-1502-466e-f255-05262fe36c15"
      },
      "source": [
        "def determine_best_dropout_probability():\n",
        "    dropout_probs = [0,0.25,0.5,0.75]\n",
        "    avg_val_accuracies = []\n",
        "\n",
        "\n",
        "    # Insert your code here to get generators that fetch batches from train and validation directories (use batch size 16)\n",
        "    datagen_tr = get_generator_from_dir(train_dir_path, 16)\n",
        "    datagen_val = get_generator_from_dir(validation_dir_path, 16)\n",
        "\n",
        "    for prob in dropout_probs:\n",
        "        \n",
        "        \n",
        "        # Insert your code here to build a model with the current dropout probability\n",
        "        model = build_model(dropout_probability=prob)\n",
        "\n",
        "        # Insert your code here to train the model using the training set and validate using the validation set\n",
        "        h=model.fit(datagen_tr, validation_data=datagen_val, epochs=num_epochs)\n",
        "       \n",
        "        # Insert your code here to find average validation accuracy for this model setting and append it to the maintained list\n",
        "        avg_val_accuracies.append(np.mean(h.history['val_categorical_accuracy']))\n",
        "\n",
        "    # Insert your code here to figure out the dropout probability which gives the highest average validation accuracy. Print the value and return it.\n",
        "    best_val_acc = max(avg_val_accuracies)\n",
        "    best_prob_i=0\n",
        "    for i, val_acc in enumerate(avg_val_accuracies):\n",
        "        if(val_acc==best_val_acc):\n",
        "            best_prob_i=i\n",
        "            break\n",
        "    print(dropout_probs[best_prob_i])\n",
        "    return dropout_probs[best_prob_i]\n",
        "\n",
        "\n",
        "    \n",
        "# determine_best_dropout_probability() is being called here\n",
        "best_prob = determine_best_dropout_probability()"
      ],
      "execution_count": null,
      "outputs": [
        {
          "output_type": "stream",
          "text": [
            "Found 20220 images belonging to 26 classes.\n",
            "Found 374 images belonging to 26 classes.\n",
            "Epoch 1/40\n",
            "1264/1264 [==============================] - 12s 9ms/step - loss: 2.5484 - categorical_accuracy: 0.2665 - val_loss: 1.4641 - val_categorical_accuracy: 0.6043\n",
            "Epoch 2/40\n",
            "1264/1264 [==============================] - 11s 9ms/step - loss: 1.1817 - categorical_accuracy: 0.6642 - val_loss: 0.8496 - val_categorical_accuracy: 0.7781\n",
            "Epoch 3/40\n",
            "1264/1264 [==============================] - 11s 9ms/step - loss: 0.6059 - categorical_accuracy: 0.8414 - val_loss: 0.5008 - val_categorical_accuracy: 0.8770\n",
            "Epoch 4/40\n",
            "1264/1264 [==============================] - 11s 8ms/step - loss: 0.3350 - categorical_accuracy: 0.9158 - val_loss: 0.3279 - val_categorical_accuracy: 0.9171\n",
            "Epoch 5/40\n",
            "1264/1264 [==============================] - 11s 9ms/step - loss: 0.1978 - categorical_accuracy: 0.9539 - val_loss: 0.1979 - val_categorical_accuracy: 0.9492\n",
            "Epoch 6/40\n",
            "1264/1264 [==============================] - 11s 9ms/step - loss: 0.1361 - categorical_accuracy: 0.9689 - val_loss: 0.1625 - val_categorical_accuracy: 0.9572\n",
            "Epoch 7/40\n",
            "1264/1264 [==============================] - 11s 8ms/step - loss: 0.0941 - categorical_accuracy: 0.9794 - val_loss: 0.1079 - val_categorical_accuracy: 0.9652\n",
            "Epoch 8/40\n",
            "1264/1264 [==============================] - 12s 9ms/step - loss: 0.0709 - categorical_accuracy: 0.9842 - val_loss: 0.1086 - val_categorical_accuracy: 0.9706\n",
            "Epoch 9/40\n",
            "1264/1264 [==============================] - 11s 9ms/step - loss: 0.0572 - categorical_accuracy: 0.9876 - val_loss: 0.0720 - val_categorical_accuracy: 0.9813\n",
            "Epoch 10/40\n",
            "1264/1264 [==============================] - 12s 9ms/step - loss: 0.0427 - categorical_accuracy: 0.9905 - val_loss: 0.0915 - val_categorical_accuracy: 0.9706\n",
            "Epoch 11/40\n",
            "1264/1264 [==============================] - 11s 9ms/step - loss: 0.0476 - categorical_accuracy: 0.9887 - val_loss: 0.0317 - val_categorical_accuracy: 0.9920\n",
            "Epoch 12/40\n",
            "1264/1264 [==============================] - 11s 9ms/step - loss: 0.0357 - categorical_accuracy: 0.9919 - val_loss: 0.0210 - val_categorical_accuracy: 0.9947\n",
            "Epoch 13/40\n",
            "1264/1264 [==============================] - 11s 9ms/step - loss: 0.0336 - categorical_accuracy: 0.9913 - val_loss: 0.1474 - val_categorical_accuracy: 0.9465\n",
            "Epoch 14/40\n",
            "1264/1264 [==============================] - 13s 10ms/step - loss: 0.0534 - categorical_accuracy: 0.9842 - val_loss: 0.0116 - val_categorical_accuracy: 1.0000\n",
            "Epoch 15/40\n",
            "1264/1264 [==============================] - 12s 10ms/step - loss: 0.0280 - categorical_accuracy: 0.9921 - val_loss: 0.0120 - val_categorical_accuracy: 0.9973\n",
            "Epoch 16/40\n",
            "1264/1264 [==============================] - 13s 10ms/step - loss: 0.0308 - categorical_accuracy: 0.9908 - val_loss: 0.0181 - val_categorical_accuracy: 0.9973\n",
            "Epoch 17/40\n",
            "1264/1264 [==============================] - 12s 10ms/step - loss: 0.0328 - categorical_accuracy: 0.9900 - val_loss: 0.0331 - val_categorical_accuracy: 0.9840\n",
            "Epoch 18/40\n",
            "1264/1264 [==============================] - 11s 9ms/step - loss: 0.0284 - categorical_accuracy: 0.9935 - val_loss: 0.0293 - val_categorical_accuracy: 0.9920\n",
            "Epoch 19/40\n",
            "1264/1264 [==============================] - 11s 9ms/step - loss: 0.0186 - categorical_accuracy: 0.9957 - val_loss: 0.0149 - val_categorical_accuracy: 0.9973\n",
            "Epoch 20/40\n",
            "1264/1264 [==============================] - 13s 10ms/step - loss: 0.0208 - categorical_accuracy: 0.9936 - val_loss: 0.1008 - val_categorical_accuracy: 0.9706\n",
            "Epoch 21/40\n",
            "1264/1264 [==============================] - 11s 9ms/step - loss: 0.0270 - categorical_accuracy: 0.9918 - val_loss: 0.0185 - val_categorical_accuracy: 0.9973\n",
            "Epoch 22/40\n",
            "1264/1264 [==============================] - 11s 9ms/step - loss: 0.0360 - categorical_accuracy: 0.9901 - val_loss: 0.0043 - val_categorical_accuracy: 1.0000\n",
            "Epoch 23/40\n",
            "1264/1264 [==============================] - 12s 9ms/step - loss: 0.0161 - categorical_accuracy: 0.9956 - val_loss: 0.0291 - val_categorical_accuracy: 0.9893\n",
            "Epoch 24/40\n",
            "1264/1264 [==============================] - 11s 9ms/step - loss: 0.0190 - categorical_accuracy: 0.9940 - val_loss: 0.0023 - val_categorical_accuracy: 1.0000\n",
            "Epoch 25/40\n",
            "1264/1264 [==============================] - 11s 9ms/step - loss: 0.0055 - categorical_accuracy: 0.9988 - val_loss: 0.0300 - val_categorical_accuracy: 0.9893\n",
            "Epoch 26/40\n",
            "1264/1264 [==============================] - 11s 9ms/step - loss: 0.0286 - categorical_accuracy: 0.9921 - val_loss: 0.0097 - val_categorical_accuracy: 0.9973\n",
            "Epoch 27/40\n",
            "1264/1264 [==============================] - 11s 9ms/step - loss: 0.0107 - categorical_accuracy: 0.9968 - val_loss: 0.0227 - val_categorical_accuracy: 0.9973\n",
            "Epoch 28/40\n",
            "1264/1264 [==============================] - 11s 9ms/step - loss: 0.0342 - categorical_accuracy: 0.9898 - val_loss: 0.0915 - val_categorical_accuracy: 0.9759\n",
            "Epoch 29/40\n",
            "1264/1264 [==============================] - 11s 8ms/step - loss: 0.0178 - categorical_accuracy: 0.9953 - val_loss: 0.1231 - val_categorical_accuracy: 0.9519\n",
            "Epoch 30/40\n",
            "1264/1264 [==============================] - 11s 9ms/step - loss: 0.0558 - categorical_accuracy: 0.9837 - val_loss: 0.0013 - val_categorical_accuracy: 1.0000\n",
            "Epoch 31/40\n",
            "1264/1264 [==============================] - 12s 9ms/step - loss: 0.0189 - categorical_accuracy: 0.9946 - val_loss: 8.4141e-04 - val_categorical_accuracy: 1.0000\n",
            "Epoch 32/40\n",
            "1264/1264 [==============================] - 11s 9ms/step - loss: 0.0095 - categorical_accuracy: 0.9969 - val_loss: 0.0019 - val_categorical_accuracy: 1.0000\n",
            "Epoch 33/40\n",
            "1264/1264 [==============================] - 11s 9ms/step - loss: 0.0039 - categorical_accuracy: 0.9994 - val_loss: 6.3955e-04 - val_categorical_accuracy: 1.0000\n",
            "Epoch 34/40\n",
            "1264/1264 [==============================] - 11s 8ms/step - loss: 0.0337 - categorical_accuracy: 0.9903 - val_loss: 9.8217e-04 - val_categorical_accuracy: 1.0000\n",
            "Epoch 35/40\n",
            "1264/1264 [==============================] - 11s 9ms/step - loss: 0.0148 - categorical_accuracy: 0.9955 - val_loss: 0.0012 - val_categorical_accuracy: 1.0000\n",
            "Epoch 36/40\n",
            "1264/1264 [==============================] - 12s 10ms/step - loss: 6.0905e-04 - categorical_accuracy: 1.0000 - val_loss: 0.0312 - val_categorical_accuracy: 0.9866\n",
            "Epoch 37/40\n",
            "1264/1264 [==============================] - 11s 9ms/step - loss: 0.0634 - categorical_accuracy: 0.9801 - val_loss: 0.0015 - val_categorical_accuracy: 1.0000\n",
            "Epoch 38/40\n",
            "1264/1264 [==============================] - 11s 9ms/step - loss: 0.0110 - categorical_accuracy: 0.9969 - val_loss: 0.0011 - val_categorical_accuracy: 1.0000\n",
            "Epoch 39/40\n",
            "1264/1264 [==============================] - 11s 9ms/step - loss: 0.0088 - categorical_accuracy: 0.9975 - val_loss: 0.0014 - val_categorical_accuracy: 1.0000\n",
            "Epoch 40/40\n",
            "1264/1264 [==============================] - 11s 9ms/step - loss: 0.0013 - categorical_accuracy: 0.9999 - val_loss: 5.4195e-04 - val_categorical_accuracy: 1.0000\n",
            "Epoch 1/40\n",
            "1264/1264 [==============================] - 11s 9ms/step - loss: 2.6765 - categorical_accuracy: 0.2334 - val_loss: 1.7091 - val_categorical_accuracy: 0.5374\n",
            "Epoch 2/40\n",
            "1264/1264 [==============================] - 11s 9ms/step - loss: 1.4280 - categorical_accuracy: 0.5839 - val_loss: 1.0293 - val_categorical_accuracy: 0.7193\n",
            "Epoch 3/40\n",
            "1264/1264 [==============================] - 11s 9ms/step - loss: 0.8303 - categorical_accuracy: 0.7596 - val_loss: 0.7116 - val_categorical_accuracy: 0.8209\n",
            "Epoch 4/40\n",
            "1264/1264 [==============================] - 11s 9ms/step - loss: 0.4826 - categorical_accuracy: 0.8642 - val_loss: 0.3991 - val_categorical_accuracy: 0.8957\n",
            "Epoch 5/40\n",
            "1264/1264 [==============================] - 11s 9ms/step - loss: 0.3028 - categorical_accuracy: 0.9190 - val_loss: 0.3020 - val_categorical_accuracy: 0.9091\n",
            "Epoch 6/40\n",
            "1264/1264 [==============================] - 11s 9ms/step - loss: 0.2039 - categorical_accuracy: 0.9484 - val_loss: 0.1865 - val_categorical_accuracy: 0.9465\n",
            "Epoch 7/40\n",
            "1264/1264 [==============================] - 11s 9ms/step - loss: 0.1628 - categorical_accuracy: 0.9551 - val_loss: 0.1407 - val_categorical_accuracy: 0.9599\n",
            "Epoch 8/40\n"
          ],
          "name": "stdout"
        },
        {
          "output_type": "stream",
          "text": [
            "1264/1264 [==============================] - 11s 9ms/step - loss: 0.1131 - categorical_accuracy: 0.9726 - val_loss: 0.1266 - val_categorical_accuracy: 0.9599\n",
            "Epoch 9/40\n",
            "1264/1264 [==============================] - 11s 9ms/step - loss: 0.0976 - categorical_accuracy: 0.9726 - val_loss: 0.0723 - val_categorical_accuracy: 0.9786\n",
            "Epoch 10/40\n",
            "1264/1264 [==============================] - 12s 9ms/step - loss: 0.0679 - categorical_accuracy: 0.9817 - val_loss: 0.0997 - val_categorical_accuracy: 0.9679\n",
            "Epoch 11/40\n",
            "1264/1264 [==============================] - 11s 9ms/step - loss: 0.0696 - categorical_accuracy: 0.9799 - val_loss: 0.0383 - val_categorical_accuracy: 0.9920\n",
            "Epoch 12/40\n",
            "1264/1264 [==============================] - 11s 9ms/step - loss: 0.0461 - categorical_accuracy: 0.9881 - val_loss: 0.0651 - val_categorical_accuracy: 0.9840\n",
            "Epoch 13/40\n",
            "1264/1264 [==============================] - 11s 9ms/step - loss: 0.0389 - categorical_accuracy: 0.9900 - val_loss: 0.0591 - val_categorical_accuracy: 0.9786\n",
            "Epoch 14/40\n",
            "1264/1264 [==============================] - 11s 9ms/step - loss: 0.0379 - categorical_accuracy: 0.9894 - val_loss: 0.0574 - val_categorical_accuracy: 0.9813\n",
            "Epoch 15/40\n",
            "1264/1264 [==============================] - 12s 9ms/step - loss: 0.0586 - categorical_accuracy: 0.9822 - val_loss: 0.0780 - val_categorical_accuracy: 0.9679\n",
            "Epoch 16/40\n",
            "1264/1264 [==============================] - 13s 10ms/step - loss: 0.0475 - categorical_accuracy: 0.9848 - val_loss: 0.0199 - val_categorical_accuracy: 0.9947\n",
            "Epoch 17/40\n",
            "1264/1264 [==============================] - 12s 10ms/step - loss: 0.0368 - categorical_accuracy: 0.9896 - val_loss: 0.0646 - val_categorical_accuracy: 0.9733\n",
            "Epoch 18/40\n",
            "1264/1264 [==============================] - 12s 9ms/step - loss: 0.0387 - categorical_accuracy: 0.9894 - val_loss: 0.0333 - val_categorical_accuracy: 0.9947\n",
            "Epoch 19/40\n",
            "1264/1264 [==============================] - 11s 8ms/step - loss: 0.0289 - categorical_accuracy: 0.9921 - val_loss: 0.1648 - val_categorical_accuracy: 0.9519\n",
            "Epoch 20/40\n",
            "1264/1264 [==============================] - 11s 9ms/step - loss: 0.0340 - categorical_accuracy: 0.9908 - val_loss: 0.0928 - val_categorical_accuracy: 0.9786\n",
            "Epoch 21/40\n",
            "1264/1264 [==============================] - 11s 8ms/step - loss: 0.0252 - categorical_accuracy: 0.9928 - val_loss: 0.1432 - val_categorical_accuracy: 0.9465\n",
            "Epoch 22/40\n",
            "1264/1264 [==============================] - 12s 9ms/step - loss: 0.0584 - categorical_accuracy: 0.9789 - val_loss: 0.0017 - val_categorical_accuracy: 1.0000\n",
            "Epoch 23/40\n",
            "1264/1264 [==============================] - 12s 10ms/step - loss: 0.0402 - categorical_accuracy: 0.9880 - val_loss: 0.0088 - val_categorical_accuracy: 1.0000\n",
            "Epoch 24/40\n",
            "1264/1264 [==============================] - 11s 9ms/step - loss: 0.0274 - categorical_accuracy: 0.9917 - val_loss: 0.0234 - val_categorical_accuracy: 0.9973\n",
            "Epoch 25/40\n",
            "1264/1264 [==============================] - 11s 8ms/step - loss: 0.0287 - categorical_accuracy: 0.9921 - val_loss: 0.0030 - val_categorical_accuracy: 1.0000\n",
            "Epoch 26/40\n",
            "1264/1264 [==============================] - 10s 8ms/step - loss: 0.0337 - categorical_accuracy: 0.9891 - val_loss: 0.0298 - val_categorical_accuracy: 0.9920\n",
            "Epoch 27/40\n",
            "1264/1264 [==============================] - 11s 8ms/step - loss: 0.0320 - categorical_accuracy: 0.9904 - val_loss: 0.0120 - val_categorical_accuracy: 0.9973\n",
            "Epoch 28/40\n",
            "1264/1264 [==============================] - 11s 8ms/step - loss: 0.0216 - categorical_accuracy: 0.9938 - val_loss: 0.0907 - val_categorical_accuracy: 0.9759\n",
            "Epoch 29/40\n",
            "1264/1264 [==============================] - 13s 10ms/step - loss: 0.0315 - categorical_accuracy: 0.9915 - val_loss: 0.0172 - val_categorical_accuracy: 0.9920\n",
            "Epoch 30/40\n",
            "1264/1264 [==============================] - 11s 9ms/step - loss: 0.0348 - categorical_accuracy: 0.9885 - val_loss: 0.0084 - val_categorical_accuracy: 0.9973\n",
            "Epoch 31/40\n",
            "1264/1264 [==============================] - 11s 9ms/step - loss: 0.0125 - categorical_accuracy: 0.9961 - val_loss: 0.0100 - val_categorical_accuracy: 0.9947\n",
            "Epoch 32/40\n",
            "1264/1264 [==============================] - 11s 9ms/step - loss: 0.0143 - categorical_accuracy: 0.9960 - val_loss: 0.0073 - val_categorical_accuracy: 0.9973\n",
            "Epoch 33/40\n",
            "1264/1264 [==============================] - 13s 10ms/step - loss: 0.0169 - categorical_accuracy: 0.9951 - val_loss: 8.8999e-04 - val_categorical_accuracy: 1.0000\n",
            "Epoch 34/40\n",
            "1264/1264 [==============================] - 13s 10ms/step - loss: 0.0139 - categorical_accuracy: 0.9958 - val_loss: 0.0014 - val_categorical_accuracy: 1.0000\n",
            "Epoch 35/40\n",
            "1264/1264 [==============================] - 11s 9ms/step - loss: 0.0142 - categorical_accuracy: 0.9962 - val_loss: 0.0013 - val_categorical_accuracy: 1.0000\n",
            "Epoch 36/40\n",
            "1264/1264 [==============================] - 11s 9ms/step - loss: 0.0156 - categorical_accuracy: 0.9950 - val_loss: 0.0393 - val_categorical_accuracy: 0.9973\n",
            "Epoch 37/40\n",
            "1264/1264 [==============================] - 12s 9ms/step - loss: 0.0380 - categorical_accuracy: 0.9877 - val_loss: 0.0238 - val_categorical_accuracy: 0.9893\n",
            "Epoch 38/40\n",
            "1264/1264 [==============================] - 11s 9ms/step - loss: 0.0200 - categorical_accuracy: 0.9950 - val_loss: 0.0373 - val_categorical_accuracy: 0.9893\n",
            "Epoch 39/40\n",
            "1264/1264 [==============================] - 12s 10ms/step - loss: 0.0185 - categorical_accuracy: 0.9947 - val_loss: 0.0083 - val_categorical_accuracy: 0.9973\n",
            "Epoch 40/40\n",
            "1264/1264 [==============================] - 12s 10ms/step - loss: 0.0198 - categorical_accuracy: 0.9946 - val_loss: 0.0193 - val_categorical_accuracy: 0.9920\n",
            "Epoch 1/40\n",
            "1264/1264 [==============================] - 13s 10ms/step - loss: 2.9235 - categorical_accuracy: 0.1652 - val_loss: 1.8866 - val_categorical_accuracy: 0.5053\n",
            "Epoch 2/40\n",
            "1264/1264 [==============================] - 13s 10ms/step - loss: 1.7378 - categorical_accuracy: 0.4832 - val_loss: 1.4615 - val_categorical_accuracy: 0.6016\n",
            "Epoch 3/40\n",
            "1264/1264 [==============================] - 12s 9ms/step - loss: 1.1923 - categorical_accuracy: 0.6395 - val_loss: 0.9277 - val_categorical_accuracy: 0.7540\n",
            "Epoch 4/40\n",
            "1264/1264 [==============================] - 11s 9ms/step - loss: 0.7823 - categorical_accuracy: 0.7598 - val_loss: 0.6226 - val_categorical_accuracy: 0.8476\n",
            "Epoch 5/40\n",
            "1264/1264 [==============================] - 12s 10ms/step - loss: 0.5159 - categorical_accuracy: 0.8473 - val_loss: 0.4563 - val_categorical_accuracy: 0.8877\n",
            "Epoch 6/40\n",
            "1264/1264 [==============================] - 12s 10ms/step - loss: 0.3570 - categorical_accuracy: 0.8973 - val_loss: 0.3042 - val_categorical_accuracy: 0.9251\n",
            "Epoch 7/40\n",
            "1264/1264 [==============================] - 13s 10ms/step - loss: 0.2577 - categorical_accuracy: 0.9240 - val_loss: 0.1943 - val_categorical_accuracy: 0.9572\n",
            "Epoch 8/40\n",
            "1264/1264 [==============================] - 12s 10ms/step - loss: 0.1981 - categorical_accuracy: 0.9402 - val_loss: 0.1710 - val_categorical_accuracy: 0.9706\n",
            "Epoch 9/40\n",
            "1264/1264 [==============================] - 11s 9ms/step - loss: 0.1542 - categorical_accuracy: 0.9541 - val_loss: 0.1361 - val_categorical_accuracy: 0.9733\n",
            "Epoch 10/40\n",
            "1264/1264 [==============================] - 12s 10ms/step - loss: 0.1293 - categorical_accuracy: 0.9639 - val_loss: 0.1303 - val_categorical_accuracy: 0.9652\n",
            "Epoch 11/40\n",
            "1264/1264 [==============================] - 11s 9ms/step - loss: 0.1187 - categorical_accuracy: 0.9639 - val_loss: 0.1390 - val_categorical_accuracy: 0.9652\n",
            "Epoch 12/40\n",
            "1264/1264 [==============================] - 11s 9ms/step - loss: 0.0961 - categorical_accuracy: 0.9716 - val_loss: 0.0982 - val_categorical_accuracy: 0.9706\n",
            "Epoch 13/40\n",
            "1264/1264 [==============================] - 11s 9ms/step - loss: 0.0829 - categorical_accuracy: 0.9761 - val_loss: 0.1128 - val_categorical_accuracy: 0.9599\n",
            "Epoch 14/40\n",
            "1264/1264 [==============================] - 12s 9ms/step - loss: 0.0769 - categorical_accuracy: 0.9769 - val_loss: 0.0840 - val_categorical_accuracy: 0.9733\n",
            "Epoch 15/40\n",
            "1264/1264 [==============================] - 11s 9ms/step - loss: 0.0663 - categorical_accuracy: 0.9812 - val_loss: 0.0262 - val_categorical_accuracy: 0.9947\n",
            "Epoch 16/40\n"
          ],
          "name": "stdout"
        },
        {
          "output_type": "stream",
          "text": [
            "1264/1264 [==============================] - 13s 10ms/step - loss: 0.0510 - categorical_accuracy: 0.9847 - val_loss: 0.0218 - val_categorical_accuracy: 0.9893\n",
            "Epoch 17/40\n",
            "1264/1264 [==============================] - 12s 9ms/step - loss: 0.0598 - categorical_accuracy: 0.9808 - val_loss: 0.0585 - val_categorical_accuracy: 0.9947\n",
            "Epoch 18/40\n",
            "1264/1264 [==============================] - 11s 9ms/step - loss: 0.0542 - categorical_accuracy: 0.9834 - val_loss: 0.0222 - val_categorical_accuracy: 0.9947\n",
            "Epoch 19/40\n",
            "1264/1264 [==============================] - 12s 9ms/step - loss: 0.0474 - categorical_accuracy: 0.9856 - val_loss: 0.0255 - val_categorical_accuracy: 0.9866\n",
            "Epoch 20/40\n",
            "1264/1264 [==============================] - 11s 9ms/step - loss: 0.0406 - categorical_accuracy: 0.9878 - val_loss: 0.0232 - val_categorical_accuracy: 0.9973\n",
            "Epoch 21/40\n",
            "1264/1264 [==============================] - 11s 9ms/step - loss: 0.0537 - categorical_accuracy: 0.9835 - val_loss: 0.0850 - val_categorical_accuracy: 0.9652\n",
            "Epoch 22/40\n",
            "1264/1264 [==============================] - 12s 10ms/step - loss: 0.0622 - categorical_accuracy: 0.9810 - val_loss: 0.0223 - val_categorical_accuracy: 0.9893\n",
            "Epoch 23/40\n",
            "1264/1264 [==============================] - 11s 9ms/step - loss: 0.0283 - categorical_accuracy: 0.9922 - val_loss: 0.0449 - val_categorical_accuracy: 0.9840\n",
            "Epoch 24/40\n",
            "1264/1264 [==============================] - 11s 9ms/step - loss: 0.0355 - categorical_accuracy: 0.9899 - val_loss: 0.0333 - val_categorical_accuracy: 0.9893\n",
            "Epoch 25/40\n",
            "1264/1264 [==============================] - 12s 10ms/step - loss: 0.0318 - categorical_accuracy: 0.9903 - val_loss: 0.0454 - val_categorical_accuracy: 0.9893\n",
            "Epoch 26/40\n",
            "1264/1264 [==============================] - 12s 9ms/step - loss: 0.0416 - categorical_accuracy: 0.9870 - val_loss: 0.0052 - val_categorical_accuracy: 1.0000\n",
            "Epoch 27/40\n",
            "1264/1264 [==============================] - 11s 9ms/step - loss: 0.0190 - categorical_accuracy: 0.9950 - val_loss: 0.0113 - val_categorical_accuracy: 1.0000\n",
            "Epoch 28/40\n",
            "1264/1264 [==============================] - 11s 8ms/step - loss: 0.0406 - categorical_accuracy: 0.9877 - val_loss: 0.0188 - val_categorical_accuracy: 0.9973\n",
            "Epoch 29/40\n",
            "1264/1264 [==============================] - 11s 9ms/step - loss: 0.0352 - categorical_accuracy: 0.9882 - val_loss: 0.0077 - val_categorical_accuracy: 0.9973\n",
            "Epoch 30/40\n",
            "1264/1264 [==============================] - 11s 8ms/step - loss: 0.0302 - categorical_accuracy: 0.9899 - val_loss: 0.0086 - val_categorical_accuracy: 1.0000\n",
            "Epoch 31/40\n",
            "1264/1264 [==============================] - 11s 9ms/step - loss: 0.0236 - categorical_accuracy: 0.9929 - val_loss: 0.0230 - val_categorical_accuracy: 0.9893\n",
            "Epoch 32/40\n",
            "1264/1264 [==============================] - 12s 10ms/step - loss: 0.0336 - categorical_accuracy: 0.9894 - val_loss: 0.0078 - val_categorical_accuracy: 1.0000\n",
            "Epoch 33/40\n",
            "1264/1264 [==============================] - 12s 10ms/step - loss: 0.0283 - categorical_accuracy: 0.9912 - val_loss: 0.0140 - val_categorical_accuracy: 0.9947\n",
            "Epoch 34/40\n",
            "1264/1264 [==============================] - 12s 10ms/step - loss: 0.0361 - categorical_accuracy: 0.9878 - val_loss: 0.0067 - val_categorical_accuracy: 0.9973\n",
            "Epoch 35/40\n",
            "1264/1264 [==============================] - 12s 10ms/step - loss: 0.0299 - categorical_accuracy: 0.9903 - val_loss: 0.0199 - val_categorical_accuracy: 0.9973\n",
            "Epoch 36/40\n",
            "1264/1264 [==============================] - 12s 9ms/step - loss: 0.0221 - categorical_accuracy: 0.9934 - val_loss: 0.0037 - val_categorical_accuracy: 1.0000\n",
            "Epoch 37/40\n",
            "1264/1264 [==============================] - 13s 10ms/step - loss: 0.0308 - categorical_accuracy: 0.9910 - val_loss: 0.0017 - val_categorical_accuracy: 1.0000\n",
            "Epoch 38/40\n",
            "1264/1264 [==============================] - 12s 10ms/step - loss: 0.0274 - categorical_accuracy: 0.9915 - val_loss: 0.0282 - val_categorical_accuracy: 0.9893\n",
            "Epoch 39/40\n",
            "1264/1264 [==============================] - 11s 9ms/step - loss: 0.0172 - categorical_accuracy: 0.9948 - val_loss: 0.0322 - val_categorical_accuracy: 0.9866\n",
            "Epoch 40/40\n",
            "1264/1264 [==============================] - 11s 9ms/step - loss: 0.0177 - categorical_accuracy: 0.9957 - val_loss: 0.0083 - val_categorical_accuracy: 0.9973\n",
            "Epoch 1/40\n",
            "1264/1264 [==============================] - 11s 9ms/step - loss: 3.2411 - categorical_accuracy: 0.0956 - val_loss: 2.2408 - val_categorical_accuracy: 0.3797\n",
            "Epoch 2/40\n",
            "1264/1264 [==============================] - 11s 9ms/step - loss: 2.2331 - categorical_accuracy: 0.3237 - val_loss: 1.7501 - val_categorical_accuracy: 0.5027\n",
            "Epoch 3/40\n",
            "1264/1264 [==============================] - 12s 9ms/step - loss: 1.7375 - categorical_accuracy: 0.4746 - val_loss: 1.5095 - val_categorical_accuracy: 0.5668\n",
            "Epoch 4/40\n",
            "1264/1264 [==============================] - 11s 9ms/step - loss: 1.3700 - categorical_accuracy: 0.5830 - val_loss: 1.1785 - val_categorical_accuracy: 0.6444\n",
            "Epoch 5/40\n",
            "1264/1264 [==============================] - 11s 9ms/step - loss: 1.0843 - categorical_accuracy: 0.6708 - val_loss: 0.8537 - val_categorical_accuracy: 0.7594\n",
            "Epoch 6/40\n",
            "1264/1264 [==============================] - 13s 10ms/step - loss: 0.7971 - categorical_accuracy: 0.7567 - val_loss: 0.5970 - val_categorical_accuracy: 0.8396\n",
            "Epoch 7/40\n",
            "1264/1264 [==============================] - 11s 9ms/step - loss: 0.5947 - categorical_accuracy: 0.8157 - val_loss: 0.5233 - val_categorical_accuracy: 0.8529\n",
            "Epoch 8/40\n",
            "1264/1264 [==============================] - 12s 10ms/step - loss: 0.4662 - categorical_accuracy: 0.8515 - val_loss: 0.3725 - val_categorical_accuracy: 0.9064\n",
            "Epoch 9/40\n",
            "1264/1264 [==============================] - 11s 9ms/step - loss: 0.3687 - categorical_accuracy: 0.8880 - val_loss: 0.3626 - val_categorical_accuracy: 0.8930\n",
            "Epoch 10/40\n",
            "1264/1264 [==============================] - 12s 9ms/step - loss: 0.3097 - categorical_accuracy: 0.9041 - val_loss: 0.3264 - val_categorical_accuracy: 0.9011\n",
            "Epoch 11/40\n",
            "1264/1264 [==============================] - 11s 9ms/step - loss: 0.2522 - categorical_accuracy: 0.9200 - val_loss: 0.2000 - val_categorical_accuracy: 0.9519\n",
            "Epoch 12/40\n",
            "1264/1264 [==============================] - 11s 9ms/step - loss: 0.2105 - categorical_accuracy: 0.9370 - val_loss: 0.2136 - val_categorical_accuracy: 0.9305\n",
            "Epoch 13/40\n",
            "1264/1264 [==============================] - 11s 8ms/step - loss: 0.1702 - categorical_accuracy: 0.9482 - val_loss: 0.1208 - val_categorical_accuracy: 0.9599\n",
            "Epoch 14/40\n",
            "1264/1264 [==============================] - 11s 9ms/step - loss: 0.1506 - categorical_accuracy: 0.9530 - val_loss: 0.1470 - val_categorical_accuracy: 0.9545\n",
            "Epoch 15/40\n",
            "1264/1264 [==============================] - 11s 9ms/step - loss: 0.1527 - categorical_accuracy: 0.9513 - val_loss: 0.0922 - val_categorical_accuracy: 0.9733\n",
            "Epoch 16/40\n",
            "1264/1264 [==============================] - 11s 9ms/step - loss: 0.1193 - categorical_accuracy: 0.9638 - val_loss: 0.1007 - val_categorical_accuracy: 0.9733\n",
            "Epoch 17/40\n",
            "1264/1264 [==============================] - 11s 8ms/step - loss: 0.1209 - categorical_accuracy: 0.9607 - val_loss: 0.1114 - val_categorical_accuracy: 0.9572\n",
            "Epoch 18/40\n",
            "1264/1264 [==============================] - 11s 9ms/step - loss: 0.1034 - categorical_accuracy: 0.9678 - val_loss: 0.0760 - val_categorical_accuracy: 0.9759\n",
            "Epoch 19/40\n",
            "1264/1264 [==============================] - 11s 9ms/step - loss: 0.0856 - categorical_accuracy: 0.9753 - val_loss: 0.0760 - val_categorical_accuracy: 0.9652\n",
            "Epoch 20/40\n",
            "1264/1264 [==============================] - 11s 8ms/step - loss: 0.0885 - categorical_accuracy: 0.9707 - val_loss: 0.0815 - val_categorical_accuracy: 0.9786\n",
            "Epoch 21/40\n",
            "1264/1264 [==============================] - 11s 9ms/step - loss: 0.0757 - categorical_accuracy: 0.9761 - val_loss: 0.0924 - val_categorical_accuracy: 0.9733\n",
            "Epoch 22/40\n",
            "1264/1264 [==============================] - 11s 9ms/step - loss: 0.0692 - categorical_accuracy: 0.9776 - val_loss: 0.0713 - val_categorical_accuracy: 0.9733\n",
            "Epoch 23/40\n",
            "1264/1264 [==============================] - 11s 9ms/step - loss: 0.0686 - categorical_accuracy: 0.9785 - val_loss: 0.0678 - val_categorical_accuracy: 0.9759\n",
            "Epoch 24/40\n"
          ],
          "name": "stdout"
        },
        {
          "output_type": "stream",
          "text": [
            "1264/1264 [==============================] - 11s 9ms/step - loss: 0.0629 - categorical_accuracy: 0.9801 - val_loss: 0.0276 - val_categorical_accuracy: 0.9973\n",
            "Epoch 25/40\n",
            "1264/1264 [==============================] - 12s 10ms/step - loss: 0.0589 - categorical_accuracy: 0.9815 - val_loss: 0.0463 - val_categorical_accuracy: 0.9813\n",
            "Epoch 26/40\n",
            "1264/1264 [==============================] - 11s 9ms/step - loss: 0.0549 - categorical_accuracy: 0.9821 - val_loss: 0.0366 - val_categorical_accuracy: 0.9866\n",
            "Epoch 27/40\n",
            "1264/1264 [==============================] - 11s 9ms/step - loss: 0.0646 - categorical_accuracy: 0.9810 - val_loss: 0.0493 - val_categorical_accuracy: 0.9813\n",
            "Epoch 28/40\n",
            "1264/1264 [==============================] - 11s 8ms/step - loss: 0.0561 - categorical_accuracy: 0.9826 - val_loss: 0.0752 - val_categorical_accuracy: 0.9759\n",
            "Epoch 29/40\n",
            "1264/1264 [==============================] - 11s 9ms/step - loss: 0.0508 - categorical_accuracy: 0.9839 - val_loss: 0.0811 - val_categorical_accuracy: 0.9733\n",
            "Epoch 30/40\n",
            "1264/1264 [==============================] - 12s 9ms/step - loss: 0.0691 - categorical_accuracy: 0.9779 - val_loss: 0.0114 - val_categorical_accuracy: 1.0000\n",
            "Epoch 31/40\n",
            "1264/1264 [==============================] - 12s 9ms/step - loss: 0.0499 - categorical_accuracy: 0.9844 - val_loss: 0.0246 - val_categorical_accuracy: 0.9947\n",
            "Epoch 32/40\n",
            "1264/1264 [==============================] - 11s 9ms/step - loss: 0.0518 - categorical_accuracy: 0.9829 - val_loss: 0.0198 - val_categorical_accuracy: 0.9920\n",
            "Epoch 33/40\n",
            "1264/1264 [==============================] - 12s 9ms/step - loss: 0.0505 - categorical_accuracy: 0.9841 - val_loss: 0.0285 - val_categorical_accuracy: 0.9920\n",
            "Epoch 34/40\n",
            "1264/1264 [==============================] - 11s 9ms/step - loss: 0.0375 - categorical_accuracy: 0.9882 - val_loss: 0.0129 - val_categorical_accuracy: 0.9973\n",
            "Epoch 35/40\n",
            "1264/1264 [==============================] - 10s 8ms/step - loss: 0.0313 - categorical_accuracy: 0.9897 - val_loss: 0.0467 - val_categorical_accuracy: 0.9786\n",
            "Epoch 36/40\n",
            "1264/1264 [==============================] - 10s 8ms/step - loss: 0.0497 - categorical_accuracy: 0.9832 - val_loss: 0.0554 - val_categorical_accuracy: 0.9840\n",
            "Epoch 37/40\n",
            "1264/1264 [==============================] - 10s 8ms/step - loss: 0.0348 - categorical_accuracy: 0.9888 - val_loss: 0.0097 - val_categorical_accuracy: 0.9973\n",
            "Epoch 38/40\n",
            "1264/1264 [==============================] - 10s 8ms/step - loss: 0.0481 - categorical_accuracy: 0.9851 - val_loss: 0.0136 - val_categorical_accuracy: 0.9973\n",
            "Epoch 39/40\n",
            "1264/1264 [==============================] - 10s 8ms/step - loss: 0.0284 - categorical_accuracy: 0.9907 - val_loss: 0.0157 - val_categorical_accuracy: 0.9947\n",
            "Epoch 40/40\n",
            "1264/1264 [==============================] - 10s 8ms/step - loss: 0.0416 - categorical_accuracy: 0.9863 - val_loss: 0.0064 - val_categorical_accuracy: 1.0000\n",
            "0\n"
          ],
          "name": "stdout"
        }
      ]
    },
    {
      "cell_type": "code",
      "metadata": {
        "id": "S0LxXBlZ-Z7H",
        "outputId": "ce37171f-19ce-4fcc-cf7a-96ad6fedba2c"
      },
      "source": [
        "print(\"the best dropout probability = \"+str(best_prob))"
      ],
      "execution_count": null,
      "outputs": [
        {
          "output_type": "stream",
          "text": [
            "the best dropout probability = 0\n"
          ],
          "name": "stdout"
        }
      ]
    },
    {
      "cell_type": "markdown",
      "metadata": {
        "id": "R0w4dCDjPQoR"
      },
      "source": [
        "# Best Batch Size determination\n",
        "\n",
        "---\n",
        "\n",
        "\n",
        "Use the best learning rate and best dropout probablity determined in the previous sections for the subsequent sections. We shall now do experimentation of **batch size** parameter. Discuss the impact of batch size on model performance.\n",
        "\n",
        "\n",
        "---\n",
        "**5 Points**\n",
        "\n",
        "\n",
        "---\n"
      ]
    },
    {
      "cell_type": "code",
      "metadata": {
        "id": "DHEnUEF8PQoR",
        "outputId": "553638c5-2469-4f4a-bf84-8051505c362e"
      },
      "source": [
        "def determine_best_batch_size():\n",
        "    batch_sizes = [16,32,64]\n",
        "    avg_val_accuracies = []\n",
        "\n",
        "    \n",
        "\n",
        "    for bsize in batch_sizes:\n",
        "        \n",
        "        # Insert your code here to build a model with the default dropout probability and learning rate\n",
        "        model = build_model()\n",
        "        \n",
        "        # Insert your code here to get generators that fetch batches from train and validation directories as per current batch size\n",
        "        datagen_tr = get_generator_from_dir(train_dir_path, bsize)\n",
        "        datagen_val = get_generator_from_dir(validation_dir_path, bsize)\n",
        "        \n",
        "        # Insert your code here to train the model using the training set and validate using the validation set\n",
        "        h=model.fit(datagen_tr, validation_data=datagen_val, epochs=num_epochs)\n",
        "        \n",
        "        # Insert your code here to find the average validation accuracy for this model setting and append it to the maintained list\n",
        "        avg_val_accuracies.append(np.mean(h.history['val_categorical_accuracy']))\n",
        "\n",
        "    # Insert your code here to figure out the batch size which gives the highest average validation accuracy. Print the value and return it.\n",
        "    best_val_acc = max(avg_val_accuracies)\n",
        "    best_size_i=0\n",
        "    for i, val_acc in enumerate(avg_val_accuracies):\n",
        "        if(val_acc==best_val_acc):\n",
        "            best_size_i=i\n",
        "            break\n",
        "    print(batch_sizes[best_size_i])\n",
        "    return batch_sizes[best_size_i]\n",
        "\n",
        "\n",
        "# determine_best_batch_size() is being called here\n",
        "best_batch_size = determine_best_batch_size()"
      ],
      "execution_count": null,
      "outputs": [
        {
          "output_type": "stream",
          "text": [
            "Found 20220 images belonging to 26 classes.\n",
            "Found 374 images belonging to 26 classes.\n",
            "Epoch 1/40\n",
            "1264/1264 [==============================] - 11s 8ms/step - loss: 2.5760 - categorical_accuracy: 0.2610 - val_loss: 1.7090 - val_categorical_accuracy: 0.5241\n",
            "Epoch 2/40\n",
            "1264/1264 [==============================] - 11s 9ms/step - loss: 1.2385 - categorical_accuracy: 0.6494 - val_loss: 0.8862 - val_categorical_accuracy: 0.7380\n",
            "Epoch 3/40\n",
            "1264/1264 [==============================] - 11s 9ms/step - loss: 0.6658 - categorical_accuracy: 0.8122 - val_loss: 0.5247 - val_categorical_accuracy: 0.8529\n",
            "Epoch 4/40\n",
            "1264/1264 [==============================] - 11s 9ms/step - loss: 0.3497 - categorical_accuracy: 0.9170 - val_loss: 0.2640 - val_categorical_accuracy: 0.9385\n",
            "Epoch 5/40\n",
            "1264/1264 [==============================] - 11s 9ms/step - loss: 0.1989 - categorical_accuracy: 0.9554 - val_loss: 0.2484 - val_categorical_accuracy: 0.9305\n",
            "Epoch 6/40\n",
            "1264/1264 [==============================] - 13s 10ms/step - loss: 0.1390 - categorical_accuracy: 0.9667 - val_loss: 0.1237 - val_categorical_accuracy: 0.9706\n",
            "Epoch 7/40\n",
            "1264/1264 [==============================] - 11s 9ms/step - loss: 0.0923 - categorical_accuracy: 0.9789 - val_loss: 0.0800 - val_categorical_accuracy: 0.9866\n",
            "Epoch 8/40\n",
            "1264/1264 [==============================] - 11s 9ms/step - loss: 0.0760 - categorical_accuracy: 0.9832 - val_loss: 0.0668 - val_categorical_accuracy: 0.9759\n",
            "Epoch 9/40\n",
            "1264/1264 [==============================] - 11s 9ms/step - loss: 0.0534 - categorical_accuracy: 0.9877 - val_loss: 0.0260 - val_categorical_accuracy: 0.9947\n",
            "Epoch 10/40\n",
            "1264/1264 [==============================] - 11s 9ms/step - loss: 0.0457 - categorical_accuracy: 0.9897 - val_loss: 0.0615 - val_categorical_accuracy: 0.9866\n",
            "Epoch 11/40\n",
            "1264/1264 [==============================] - 10s 8ms/step - loss: 0.0615 - categorical_accuracy: 0.9815 - val_loss: 0.0190 - val_categorical_accuracy: 0.9973\n",
            "Epoch 12/40\n",
            "1264/1264 [==============================] - 12s 9ms/step - loss: 0.0424 - categorical_accuracy: 0.9886 - val_loss: 0.2548 - val_categorical_accuracy: 0.9225\n",
            "Epoch 13/40\n",
            "1264/1264 [==============================] - 11s 9ms/step - loss: 0.0330 - categorical_accuracy: 0.9914 - val_loss: 0.0875 - val_categorical_accuracy: 0.9733\n",
            "Epoch 14/40\n",
            "1264/1264 [==============================] - 11s 8ms/step - loss: 0.0374 - categorical_accuracy: 0.9911 - val_loss: 0.0320 - val_categorical_accuracy: 0.9973\n",
            "Epoch 15/40\n",
            "1264/1264 [==============================] - 11s 8ms/step - loss: 0.0292 - categorical_accuracy: 0.9928 - val_loss: 0.0542 - val_categorical_accuracy: 0.9866\n",
            "Epoch 16/40\n",
            "1264/1264 [==============================] - 11s 8ms/step - loss: 0.0318 - categorical_accuracy: 0.9927 - val_loss: 0.0349 - val_categorical_accuracy: 0.9920\n",
            "Epoch 17/40\n",
            "1264/1264 [==============================] - 11s 8ms/step - loss: 0.0364 - categorical_accuracy: 0.9903 - val_loss: 0.0206 - val_categorical_accuracy: 0.9920\n",
            "Epoch 18/40\n",
            "1264/1264 [==============================] - 10s 8ms/step - loss: 0.0258 - categorical_accuracy: 0.9922 - val_loss: 0.0103 - val_categorical_accuracy: 1.0000\n",
            "Epoch 19/40\n",
            "1264/1264 [==============================] - 11s 8ms/step - loss: 0.0296 - categorical_accuracy: 0.9915 - val_loss: 0.0408 - val_categorical_accuracy: 0.9866\n",
            "Epoch 20/40\n",
            "1264/1264 [==============================] - 10s 8ms/step - loss: 0.0193 - categorical_accuracy: 0.9937 - val_loss: 0.0210 - val_categorical_accuracy: 0.9947\n",
            "Epoch 21/40\n",
            "1264/1264 [==============================] - 11s 9ms/step - loss: 0.0163 - categorical_accuracy: 0.9957 - val_loss: 0.0250 - val_categorical_accuracy: 0.9920\n",
            "Epoch 22/40\n",
            "1264/1264 [==============================] - 11s 9ms/step - loss: 0.0178 - categorical_accuracy: 0.9953 - val_loss: 0.0164 - val_categorical_accuracy: 0.9947\n",
            "Epoch 23/40\n",
            "1264/1264 [==============================] - 11s 9ms/step - loss: 0.0329 - categorical_accuracy: 0.9910 - val_loss: 0.0604 - val_categorical_accuracy: 0.9840\n",
            "Epoch 24/40\n",
            "1264/1264 [==============================] - 12s 9ms/step - loss: 0.0365 - categorical_accuracy: 0.9884 - val_loss: 0.0529 - val_categorical_accuracy: 0.9893\n",
            "Epoch 25/40\n",
            "1264/1264 [==============================] - 11s 9ms/step - loss: 0.0519 - categorical_accuracy: 0.9852 - val_loss: 0.0143 - val_categorical_accuracy: 0.9947\n",
            "Epoch 26/40\n",
            "1264/1264 [==============================] - 11s 9ms/step - loss: 0.0153 - categorical_accuracy: 0.9957 - val_loss: 0.0014 - val_categorical_accuracy: 1.0000\n",
            "Epoch 27/40\n",
            "1264/1264 [==============================] - 11s 8ms/step - loss: 0.0046 - categorical_accuracy: 0.9989 - val_loss: 0.0156 - val_categorical_accuracy: 0.9973\n",
            "Epoch 28/40\n",
            "1264/1264 [==============================] - 12s 9ms/step - loss: 0.0178 - categorical_accuracy: 0.9951 - val_loss: 0.0119 - val_categorical_accuracy: 0.9973\n",
            "Epoch 29/40\n",
            "1264/1264 [==============================] - 12s 9ms/step - loss: 0.0171 - categorical_accuracy: 0.9946 - val_loss: 0.0029 - val_categorical_accuracy: 1.0000\n",
            "Epoch 30/40\n",
            "1264/1264 [==============================] - 12s 10ms/step - loss: 0.0237 - categorical_accuracy: 0.9929 - val_loss: 0.0027 - val_categorical_accuracy: 1.0000\n",
            "Epoch 31/40\n",
            "1264/1264 [==============================] - 12s 10ms/step - loss: 0.0018 - categorical_accuracy: 0.9996 - val_loss: 0.2111 - val_categorical_accuracy: 0.9278\n",
            "Epoch 32/40\n",
            "1264/1264 [==============================] - 11s 8ms/step - loss: 0.0297 - categorical_accuracy: 0.9907 - val_loss: 0.0092 - val_categorical_accuracy: 0.9973\n",
            "Epoch 33/40\n",
            "1264/1264 [==============================] - 11s 9ms/step - loss: 0.0034 - categorical_accuracy: 0.9993 - val_loss: 0.1074 - val_categorical_accuracy: 0.9866\n",
            "Epoch 34/40\n",
            "1264/1264 [==============================] - 12s 10ms/step - loss: 0.0229 - categorical_accuracy: 0.9929 - val_loss: 0.1514 - val_categorical_accuracy: 0.9465\n",
            "Epoch 35/40\n",
            "1264/1264 [==============================] - 12s 9ms/step - loss: 0.0139 - categorical_accuracy: 0.9960 - val_loss: 0.0019 - val_categorical_accuracy: 1.0000\n",
            "Epoch 36/40\n",
            "1264/1264 [==============================] - 12s 10ms/step - loss: 0.0318 - categorical_accuracy: 0.9904 - val_loss: 8.6160e-04 - val_categorical_accuracy: 1.0000\n",
            "Epoch 37/40\n",
            "1264/1264 [==============================] - 10s 8ms/step - loss: 0.0021 - categorical_accuracy: 0.9995 - val_loss: 0.0940 - val_categorical_accuracy: 0.9786\n",
            "Epoch 38/40\n",
            "1264/1264 [==============================] - 10s 8ms/step - loss: 0.0271 - categorical_accuracy: 0.9921 - val_loss: 0.0234 - val_categorical_accuracy: 0.9947\n",
            "Epoch 39/40\n",
            "1264/1264 [==============================] - 11s 9ms/step - loss: 0.0205 - categorical_accuracy: 0.9929 - val_loss: 0.0272 - val_categorical_accuracy: 0.9893\n",
            "Epoch 40/40\n",
            "1264/1264 [==============================] - 11s 8ms/step - loss: 0.0408 - categorical_accuracy: 0.9875 - val_loss: 8.4691e-04 - val_categorical_accuracy: 1.0000\n",
            "Found 20220 images belonging to 26 classes.\n",
            "Found 374 images belonging to 26 classes.\n",
            "Epoch 1/40\n",
            "632/632 [==============================] - 8s 13ms/step - loss: 2.5737 - categorical_accuracy: 0.2768 - val_loss: 1.6776 - val_categorical_accuracy: 0.5508\n",
            "Epoch 2/40\n",
            "632/632 [==============================] - 8s 13ms/step - loss: 1.3496 - categorical_accuracy: 0.6218 - val_loss: 1.2466 - val_categorical_accuracy: 0.6417\n",
            "Epoch 3/40\n",
            "632/632 [==============================] - 8s 12ms/step - loss: 0.8367 - categorical_accuracy: 0.7741 - val_loss: 0.7300 - val_categorical_accuracy: 0.8316\n",
            "Epoch 4/40\n",
            "632/632 [==============================] - 8s 13ms/step - loss: 0.4927 - categorical_accuracy: 0.8802 - val_loss: 0.4854 - val_categorical_accuracy: 0.8984\n",
            "Epoch 5/40\n",
            "632/632 [==============================] - 8s 13ms/step - loss: 0.3171 - categorical_accuracy: 0.9267 - val_loss: 0.3220 - val_categorical_accuracy: 0.9385\n",
            "Epoch 6/40\n",
            "632/632 [==============================] - 8s 12ms/step - loss: 0.1998 - categorical_accuracy: 0.9605 - val_loss: 0.2252 - val_categorical_accuracy: 0.9572\n",
            "Epoch 7/40\n",
            "632/632 [==============================] - 8s 12ms/step - loss: 0.1300 - categorical_accuracy: 0.9782 - val_loss: 0.1859 - val_categorical_accuracy: 0.9599\n",
            "Epoch 8/40\n"
          ],
          "name": "stdout"
        },
        {
          "output_type": "stream",
          "text": [
            "632/632 [==============================] - 8s 12ms/step - loss: 0.1019 - categorical_accuracy: 0.9833 - val_loss: 0.1104 - val_categorical_accuracy: 0.9813\n",
            "Epoch 9/40\n",
            "632/632 [==============================] - 8s 12ms/step - loss: 0.0780 - categorical_accuracy: 0.9866 - val_loss: 0.1111 - val_categorical_accuracy: 0.9733\n",
            "Epoch 10/40\n",
            "632/632 [==============================] - 8s 12ms/step - loss: 0.0601 - categorical_accuracy: 0.9897 - val_loss: 0.0522 - val_categorical_accuracy: 0.9866\n",
            "Epoch 11/40\n",
            "632/632 [==============================] - 8s 12ms/step - loss: 0.0581 - categorical_accuracy: 0.9881 - val_loss: 0.0524 - val_categorical_accuracy: 0.9920\n",
            "Epoch 12/40\n",
            "632/632 [==============================] - 8s 12ms/step - loss: 0.0606 - categorical_accuracy: 0.9856 - val_loss: 0.0844 - val_categorical_accuracy: 0.9759\n",
            "Epoch 13/40\n",
            "632/632 [==============================] - 8s 12ms/step - loss: 0.0325 - categorical_accuracy: 0.9933 - val_loss: 0.0251 - val_categorical_accuracy: 1.0000\n",
            "Epoch 14/40\n",
            "632/632 [==============================] - 8s 12ms/step - loss: 0.0162 - categorical_accuracy: 0.9982 - val_loss: 0.0426 - val_categorical_accuracy: 0.9947\n",
            "Epoch 15/40\n",
            "632/632 [==============================] - 8s 12ms/step - loss: 0.0783 - categorical_accuracy: 0.9803 - val_loss: 0.0215 - val_categorical_accuracy: 0.9947\n",
            "Epoch 16/40\n",
            "632/632 [==============================] - 8s 12ms/step - loss: 0.0339 - categorical_accuracy: 0.9926 - val_loss: 0.0123 - val_categorical_accuracy: 1.0000\n",
            "Epoch 17/40\n",
            "632/632 [==============================] - 8s 12ms/step - loss: 0.0123 - categorical_accuracy: 0.9980 - val_loss: 0.0210 - val_categorical_accuracy: 0.9973\n",
            "Epoch 18/40\n",
            "632/632 [==============================] - 8s 12ms/step - loss: 0.0240 - categorical_accuracy: 0.9945 - val_loss: 0.0134 - val_categorical_accuracy: 0.9973\n",
            "Epoch 19/40\n",
            "632/632 [==============================] - 8s 12ms/step - loss: 0.0214 - categorical_accuracy: 0.9949 - val_loss: 0.0058 - val_categorical_accuracy: 1.0000\n",
            "Epoch 20/40\n",
            "632/632 [==============================] - 8s 12ms/step - loss: 0.0280 - categorical_accuracy: 0.9921 - val_loss: 0.0066 - val_categorical_accuracy: 1.0000\n",
            "Epoch 21/40\n",
            "632/632 [==============================] - 8s 12ms/step - loss: 0.0182 - categorical_accuracy: 0.9951 - val_loss: 0.0043 - val_categorical_accuracy: 1.0000\n",
            "Epoch 22/40\n",
            "632/632 [==============================] - 8s 12ms/step - loss: 0.0165 - categorical_accuracy: 0.9961 - val_loss: 0.0846 - val_categorical_accuracy: 0.9679\n",
            "Epoch 23/40\n",
            "632/632 [==============================] - 8s 12ms/step - loss: 0.0243 - categorical_accuracy: 0.9940 - val_loss: 0.0181 - val_categorical_accuracy: 0.9947\n",
            "Epoch 24/40\n",
            "632/632 [==============================] - 8s 12ms/step - loss: 0.0355 - categorical_accuracy: 0.9901 - val_loss: 0.0033 - val_categorical_accuracy: 1.0000\n",
            "Epoch 25/40\n",
            "632/632 [==============================] - 8s 12ms/step - loss: 0.0017 - categorical_accuracy: 1.0000 - val_loss: 0.1080 - val_categorical_accuracy: 0.9652\n",
            "Epoch 26/40\n",
            "632/632 [==============================] - 8s 12ms/step - loss: 0.0674 - categorical_accuracy: 0.9785 - val_loss: 0.0058 - val_categorical_accuracy: 0.9973\n",
            "Epoch 27/40\n",
            "632/632 [==============================] - 8s 12ms/step - loss: 0.0194 - categorical_accuracy: 0.9944 - val_loss: 0.0132 - val_categorical_accuracy: 0.9973\n",
            "Epoch 28/40\n",
            "632/632 [==============================] - 8s 12ms/step - loss: 0.0384 - categorical_accuracy: 0.9892 - val_loss: 0.0022 - val_categorical_accuracy: 1.0000\n",
            "Epoch 29/40\n",
            "632/632 [==============================] - 8s 12ms/step - loss: 0.0010 - categorical_accuracy: 1.0000 - val_loss: 0.2094 - val_categorical_accuracy: 0.9332\n",
            "Epoch 30/40\n",
            "632/632 [==============================] - 8s 12ms/step - loss: 0.0972 - categorical_accuracy: 0.9702 - val_loss: 0.0057 - val_categorical_accuracy: 1.0000\n",
            "Epoch 31/40\n",
            "632/632 [==============================] - 8s 12ms/step - loss: 0.0203 - categorical_accuracy: 0.9940 - val_loss: 0.0016 - val_categorical_accuracy: 1.0000\n",
            "Epoch 32/40\n",
            "632/632 [==============================] - 8s 12ms/step - loss: 7.6615e-04 - categorical_accuracy: 1.0000 - val_loss: 0.0013 - val_categorical_accuracy: 1.0000\n",
            "Epoch 33/40\n",
            "632/632 [==============================] - 8s 12ms/step - loss: 0.0700 - categorical_accuracy: 0.9781 - val_loss: 0.0022 - val_categorical_accuracy: 1.0000\n",
            "Epoch 34/40\n",
            "632/632 [==============================] - 8s 12ms/step - loss: 0.0010 - categorical_accuracy: 1.0000 - val_loss: 0.0017 - val_categorical_accuracy: 1.0000\n",
            "Epoch 35/40\n",
            "632/632 [==============================] - 8s 12ms/step - loss: 9.0377e-04 - categorical_accuracy: 1.0000 - val_loss: 0.1845 - val_categorical_accuracy: 0.9465\n",
            "Epoch 36/40\n",
            "632/632 [==============================] - 8s 12ms/step - loss: 0.0678 - categorical_accuracy: 0.9796 - val_loss: 0.0014 - val_categorical_accuracy: 1.0000\n",
            "Epoch 37/40\n",
            "632/632 [==============================] - 8s 12ms/step - loss: 8.2185e-04 - categorical_accuracy: 1.0000 - val_loss: 0.0014 - val_categorical_accuracy: 1.0000\n",
            "Epoch 38/40\n",
            "632/632 [==============================] - 8s 12ms/step - loss: 5.8934e-04 - categorical_accuracy: 1.0000 - val_loss: 0.0011 - val_categorical_accuracy: 1.0000\n",
            "Epoch 39/40\n",
            "632/632 [==============================] - 8s 12ms/step - loss: 0.0295 - categorical_accuracy: 0.9905 - val_loss: 0.0030 - val_categorical_accuracy: 1.0000\n",
            "Epoch 40/40\n",
            "632/632 [==============================] - 8s 12ms/step - loss: 0.0011 - categorical_accuracy: 1.0000 - val_loss: 0.0016 - val_categorical_accuracy: 1.0000\n",
            "Found 20220 images belonging to 26 classes.\n",
            "Found 374 images belonging to 26 classes.\n",
            "Epoch 1/40\n",
            "316/316 [==============================] - 7s 21ms/step - loss: 2.7064 - categorical_accuracy: 0.2507 - val_loss: 1.7836 - val_categorical_accuracy: 0.4920\n",
            "Epoch 2/40\n",
            "316/316 [==============================] - 7s 21ms/step - loss: 1.4940 - categorical_accuracy: 0.5939 - val_loss: 1.2881 - val_categorical_accuracy: 0.6524\n",
            "Epoch 3/40\n",
            "316/316 [==============================] - 6s 21ms/step - loss: 1.0351 - categorical_accuracy: 0.7262 - val_loss: 0.9309 - val_categorical_accuracy: 0.7513\n",
            "Epoch 4/40\n",
            "316/316 [==============================] - 7s 21ms/step - loss: 0.6958 - categorical_accuracy: 0.8253 - val_loss: 0.6384 - val_categorical_accuracy: 0.8583\n",
            "Epoch 5/40\n",
            "316/316 [==============================] - 6s 20ms/step - loss: 0.4607 - categorical_accuracy: 0.8965 - val_loss: 0.4840 - val_categorical_accuracy: 0.9037\n",
            "Epoch 6/40\n",
            "316/316 [==============================] - 6s 21ms/step - loss: 0.3114 - categorical_accuracy: 0.9364 - val_loss: 0.3301 - val_categorical_accuracy: 0.9465\n",
            "Epoch 7/40\n",
            "316/316 [==============================] - 6s 21ms/step - loss: 0.2272 - categorical_accuracy: 0.9608 - val_loss: 0.2465 - val_categorical_accuracy: 0.9652\n",
            "Epoch 8/40\n",
            "316/316 [==============================] - 6s 20ms/step - loss: 0.1628 - categorical_accuracy: 0.9728 - val_loss: 0.1957 - val_categorical_accuracy: 0.9519\n",
            "Epoch 9/40\n",
            "316/316 [==============================] - 7s 21ms/step - loss: 0.1280 - categorical_accuracy: 0.9806 - val_loss: 0.1464 - val_categorical_accuracy: 0.9813\n",
            "Epoch 10/40\n",
            "316/316 [==============================] - 6s 20ms/step - loss: 0.0894 - categorical_accuracy: 0.9878 - val_loss: 0.1108 - val_categorical_accuracy: 0.9759\n",
            "Epoch 11/40\n",
            "316/316 [==============================] - 7s 21ms/step - loss: 0.0681 - categorical_accuracy: 0.9921 - val_loss: 0.1116 - val_categorical_accuracy: 0.9786\n",
            "Epoch 12/40\n",
            "316/316 [==============================] - 6s 20ms/step - loss: 0.0681 - categorical_accuracy: 0.9894 - val_loss: 0.0628 - val_categorical_accuracy: 0.9920\n",
            "Epoch 13/40\n",
            "316/316 [==============================] - 7s 21ms/step - loss: 0.0432 - categorical_accuracy: 0.9959 - val_loss: 0.0772 - val_categorical_accuracy: 0.9893\n",
            "Epoch 14/40\n",
            "316/316 [==============================] - 7s 21ms/step - loss: 0.0453 - categorical_accuracy: 0.9946 - val_loss: 0.0517 - val_categorical_accuracy: 0.9893\n",
            "Epoch 15/40\n",
            "316/316 [==============================] - 6s 20ms/step - loss: 0.0301 - categorical_accuracy: 0.9975 - val_loss: 0.0583 - val_categorical_accuracy: 0.9840\n",
            "Epoch 16/40\n"
          ],
          "name": "stdout"
        },
        {
          "output_type": "stream",
          "text": [
            "316/316 [==============================] - 6s 20ms/step - loss: 0.0316 - categorical_accuracy: 0.9955 - val_loss: 0.0382 - val_categorical_accuracy: 0.9947\n",
            "Epoch 17/40\n",
            "316/316 [==============================] - 6s 20ms/step - loss: 0.0374 - categorical_accuracy: 0.9936 - val_loss: 0.0224 - val_categorical_accuracy: 1.0000\n",
            "Epoch 18/40\n",
            "316/316 [==============================] - 6s 20ms/step - loss: 0.0171 - categorical_accuracy: 0.9984 - val_loss: 0.0212 - val_categorical_accuracy: 0.9973\n",
            "Epoch 19/40\n",
            "316/316 [==============================] - 6s 20ms/step - loss: 0.0308 - categorical_accuracy: 0.9936 - val_loss: 0.0558 - val_categorical_accuracy: 0.9840\n",
            "Epoch 20/40\n",
            "316/316 [==============================] - 6s 20ms/step - loss: 0.0212 - categorical_accuracy: 0.9970 - val_loss: 0.0154 - val_categorical_accuracy: 1.0000\n",
            "Epoch 21/40\n",
            "316/316 [==============================] - 7s 21ms/step - loss: 0.0089 - categorical_accuracy: 0.9995 - val_loss: 0.0185 - val_categorical_accuracy: 1.0000\n",
            "Epoch 22/40\n",
            "316/316 [==============================] - 7s 21ms/step - loss: 0.0097 - categorical_accuracy: 0.9997 - val_loss: 0.0083 - val_categorical_accuracy: 1.0000\n",
            "Epoch 23/40\n",
            "316/316 [==============================] - 6s 20ms/step - loss: 0.0068 - categorical_accuracy: 0.9997 - val_loss: 0.0077 - val_categorical_accuracy: 1.0000\n",
            "Epoch 24/40\n",
            "316/316 [==============================] - 6s 20ms/step - loss: 0.0041 - categorical_accuracy: 1.0000 - val_loss: 0.0195 - val_categorical_accuracy: 0.9973\n",
            "Epoch 25/40\n",
            "316/316 [==============================] - 6s 20ms/step - loss: 0.1017 - categorical_accuracy: 0.9702 - val_loss: 0.0090 - val_categorical_accuracy: 1.0000\n",
            "Epoch 26/40\n",
            "316/316 [==============================] - 6s 20ms/step - loss: 0.0041 - categorical_accuracy: 1.0000 - val_loss: 0.0042 - val_categorical_accuracy: 1.0000\n",
            "Epoch 27/40\n",
            "316/316 [==============================] - 6s 20ms/step - loss: 0.0031 - categorical_accuracy: 1.0000 - val_loss: 0.0039 - val_categorical_accuracy: 1.0000\n",
            "Epoch 28/40\n",
            "316/316 [==============================] - 7s 21ms/step - loss: 0.0025 - categorical_accuracy: 1.0000 - val_loss: 0.0038 - val_categorical_accuracy: 1.0000\n",
            "Epoch 29/40\n",
            "316/316 [==============================] - 6s 20ms/step - loss: 0.0086 - categorical_accuracy: 0.9979 - val_loss: 0.0777 - val_categorical_accuracy: 0.9733\n",
            "Epoch 30/40\n",
            "316/316 [==============================] - 6s 21ms/step - loss: 0.0208 - categorical_accuracy: 0.9960 - val_loss: 0.0587 - val_categorical_accuracy: 0.9840\n",
            "Epoch 31/40\n",
            "316/316 [==============================] - 6s 20ms/step - loss: 0.0288 - categorical_accuracy: 0.9932 - val_loss: 0.0057 - val_categorical_accuracy: 0.9973\n",
            "Epoch 32/40\n",
            "316/316 [==============================] - 7s 21ms/step - loss: 0.0020 - categorical_accuracy: 1.0000 - val_loss: 0.0027 - val_categorical_accuracy: 1.0000\n",
            "Epoch 33/40\n",
            "316/316 [==============================] - 6s 20ms/step - loss: 0.0015 - categorical_accuracy: 1.0000 - val_loss: 0.0026 - val_categorical_accuracy: 1.0000\n",
            "Epoch 34/40\n",
            "316/316 [==============================] - 6s 21ms/step - loss: 0.0014 - categorical_accuracy: 1.0000 - val_loss: 0.0024 - val_categorical_accuracy: 1.0000\n",
            "Epoch 35/40\n",
            "316/316 [==============================] - 6s 20ms/step - loss: 0.0012 - categorical_accuracy: 1.0000 - val_loss: 0.0021 - val_categorical_accuracy: 1.0000\n",
            "Epoch 36/40\n",
            "316/316 [==============================] - 6s 20ms/step - loss: 0.0284 - categorical_accuracy: 0.9915 - val_loss: 0.0202 - val_categorical_accuracy: 0.9973\n",
            "Epoch 37/40\n",
            "316/316 [==============================] - 7s 21ms/step - loss: 0.0061 - categorical_accuracy: 0.9995 - val_loss: 0.0036 - val_categorical_accuracy: 1.0000\n",
            "Epoch 38/40\n",
            "316/316 [==============================] - 6s 20ms/step - loss: 0.0030 - categorical_accuracy: 0.9998 - val_loss: 0.0020 - val_categorical_accuracy: 1.0000\n",
            "Epoch 39/40\n",
            "316/316 [==============================] - 6s 20ms/step - loss: 0.0013 - categorical_accuracy: 1.0000 - val_loss: 0.0020 - val_categorical_accuracy: 1.0000\n",
            "Epoch 40/40\n",
            "316/316 [==============================] - 6s 20ms/step - loss: 0.0021 - categorical_accuracy: 0.9997 - val_loss: 0.0603 - val_categorical_accuracy: 0.9866\n",
            "16\n"
          ],
          "name": "stdout"
        }
      ]
    },
    {
      "cell_type": "code",
      "metadata": {
        "id": "K9IN_CEp-Z7H",
        "outputId": "5c57b74d-3b00-4051-d896-e24e1a3d03cc"
      },
      "source": [
        "print(\"the best batch size = \"+str(best_batch_size))"
      ],
      "execution_count": null,
      "outputs": [
        {
          "output_type": "stream",
          "text": [
            "the best batch size = 16\n"
          ],
          "name": "stdout"
        }
      ]
    },
    {
      "cell_type": "markdown",
      "metadata": {
        "id": "B2jgv5azPQoS"
      },
      "source": [
        "# Images Visualization\n",
        "\n",
        "---\n",
        "\n",
        "\n",
        "Now we shall train our model with best hyperparameters. As a first step we need to plot images to have visual understanding of the data. This image visualization shall be reused. Hence create a custom **function to visualize images**.\n",
        "\n",
        "\n",
        "---\n",
        "**2 Points**\n",
        "\n",
        "\n",
        "---\n",
        "\n",
        "\n"
      ]
    },
    {
      "cell_type": "code",
      "metadata": {
        "id": "fR9e7KoWPQoS"
      },
      "source": [
        "def visualize_image(img):\n",
        "    # Insert your code here to visualize a given image\n",
        "    image=cv2.imread(img)\n",
        "    plt.figure()\n",
        "    plt.imshow(img, image)\n"
      ],
      "execution_count": null,
      "outputs": []
    },
    {
      "cell_type": "markdown",
      "metadata": {
        "id": "SgPvW6gmPQoT"
      },
      "source": [
        "# Make generators ready\n",
        "\n",
        "---\n",
        "\n",
        "Create generators to fetch batches from train and validation directory. For test samples, create with the help of get_dataframe() method. You may use best batch size determined earlier.\n",
        "\n",
        "\n",
        "\n",
        "---\n",
        "**3 Points**\n",
        "\n",
        "\n",
        "---\n",
        "\n",
        "\n"
      ]
    },
    {
      "cell_type": "code",
      "metadata": {
        "id": "GM7L7NmxPQoT",
        "scrolled": false,
        "outputId": "7be4d14c-fa87-45b1-fcc5-4b2adfb41b0c"
      },
      "source": [
        "train_gen=get_generator_from_dir(train_dir_path, best_batch_size)\n",
        "val_gen=get_generator_from_dir(validation_dir_path, best_batch_size)\n",
        "df=get_dataframe(test_dir_path)\n",
        "#printdf['Label'].value_counts()\n",
        "test_gen=get_generator_from_dataframe(directory_path=test_dir_path, dataframe=df, batch_size=best_batch_size)"
      ],
      "execution_count": null,
      "outputs": [
        {
          "output_type": "stream",
          "text": [
            "Found 20220 images belonging to 26 classes.\n",
            "Found 374 images belonging to 26 classes.\n",
            "          Image Label\n",
            "0    f_1597.png     f\n",
            "1    h_1851.png     h\n",
            "2    c_1164.png     c\n",
            "3      y_19.png     y\n",
            "4    q_2882.png     q\n",
            "..          ...   ...\n",
            "411  i_1966.png     i\n",
            "412  p_2812.png     p\n",
            "413  d_1284.png     d\n",
            "414  g_1709.png     g\n",
            "415  f_1567.png     f\n",
            "\n",
            "[416 rows x 2 columns]\n",
            "Found 416 validated image filenames belonging to 26 classes.\n"
          ],
          "name": "stdout"
        }
      ]
    },
    {
      "cell_type": "markdown",
      "metadata": {
        "id": "kNcG9DjOPQoT"
      },
      "source": [
        "# Class-wise samples Plot\n",
        "\n",
        "---\n",
        "\n",
        "Plot the class-wise number of samples present in training, validation and test directory. Also, visualise 5 samples each from train, validation and test directories.\n",
        "\n",
        "\n",
        "\n",
        "---\n",
        "**5 Points (3+2)**\n",
        "\n",
        "\n",
        "---\n",
        "\n",
        "\n"
      ]
    },
    {
      "cell_type": "code",
      "metadata": {
        "id": "kg5pp0BZ-Z7J",
        "outputId": "81ec560b-c371-4db5-fa2e-4fe8381d0d08"
      },
      "source": [
        "def sample_plot(df, x_label, y_label=\"number of samples\"):\n",
        "    dff=pd.DataFrame(df['Label'].value_counts())\n",
        "    dff=dff.sort_index(axis=0)\n",
        "    ax=dff.plot.bar(figsize=(6, 6))\n",
        "    ax.set_xlabel(x_label)\n",
        "    ax.set_ylabel(y_label)\n",
        "\n",
        "sample_plot(get_dataframe(train_dir_path), x_label=\"training\")\n",
        "sample_plot(get_dataframe(validation_dir_path), x_label=\"validation\")\n",
        "sample_plot(get_dataframe(test_dir_path), x_label=\"testing\")"
      ],
      "execution_count": null,
      "outputs": [
        {
          "output_type": "stream",
          "text": [
            "           Image Label\n",
            "0      m_490.png     m\n",
            "1      m_681.png     m\n",
            "2      m_487.png     m\n",
            "3      m_385.png     m\n",
            "4      m_554.png     m\n",
            "...          ...   ...\n",
            "20215  y_415.png     y\n",
            "20216    y_5.png     y\n",
            "20217  y_161.png     y\n",
            "20218  y_162.png     y\n",
            "20219  y_413.png     y\n",
            "\n",
            "[20220 rows x 2 columns]\n",
            "          Image Label\n",
            "0    m_2425.png     m\n",
            "1    m_2415.png     m\n",
            "2    m_2474.png     m\n",
            "3    m_2369.png     m\n",
            "4    m_2394.png     m\n",
            "..          ...   ...\n",
            "369  y_3915.png     y\n",
            "370    y_16.png     y\n",
            "371  y_3985.png     y\n",
            "372  y_3960.png     y\n",
            "373     y_7.png     y\n",
            "\n",
            "[374 rows x 2 columns]\n",
            "          Image Label\n",
            "0    f_1597.png     f\n",
            "1    h_1851.png     h\n",
            "2    c_1164.png     c\n",
            "3      y_19.png     y\n",
            "4    q_2882.png     q\n",
            "..          ...   ...\n",
            "411  i_1966.png     i\n",
            "412  p_2812.png     p\n",
            "413  d_1284.png     d\n",
            "414  g_1709.png     g\n",
            "415  f_1567.png     f\n",
            "\n",
            "[416 rows x 2 columns]\n"
          ],
          "name": "stdout"
        },
        {
          "output_type": "display_data",
          "data": {
            "image/png": "[encoded data removed]",
            "text/plain": [
              "<Figure size 432x432 with 1 Axes>"
            ]
          },
          "metadata": {
            "tags": [],
            "needs_background": "light"
          }
        },
        {
          "output_type": "display_data",
          "data": {
            "image/png": "[encoded data removed]",
            "text/plain": [
              "<Figure size 432x432 with 1 Axes>"
            ]
          },
          "metadata": {
            "tags": [],
            "needs_background": "light"
          }
        },
        {
          "output_type": "display_data",
          "data": {
            "image/png": "[encoded data removed]",
            "text/plain": [
              "<Figure size 432x432 with 1 Axes>"
            ]
          },
          "metadata": {
            "tags": [],
            "needs_background": "light"
          }
        }
      ]
    },
    {
      "cell_type": "code",
      "metadata": {
        "id": "m53mF1Nh-Z7J",
        "outputId": "4abac4f8-b3e6-48c7-cf3e-ae0ea8336b79"
      },
      "source": [
        "def visualize_folder(folder):\n",
        "    for root, dirs, files in os.walk(folder):\n",
        "        i=0\n",
        "        for name in files:\n",
        "                if(i==5):\n",
        "                    break\n",
        "                i+=1\n",
        "                img=cv2.imread(os.path.join(root, name))\n",
        "                plt.figure()\n",
        "                plt.imshow(img)\n",
        "        break\n",
        "visualize_folder(train_dir_path+'/'+random.choice(labels))\n",
        "visualize_folder(validation_dir_path+'/'+random.choice(labels))\n",
        "visualize_folder(test_dir_path)"
      ],
      "execution_count": null,
      "outputs": [
        {
          "output_type": "display_data",
          "data": {
            "image/png": "[encoded data removed]",
            "text/plain": [
              "<Figure size 432x288 with 1 Axes>"
            ]
          },
          "metadata": {
            "tags": [],
            "needs_background": "light"
          }
        },
        {
          "output_type": "display_data",
          "data": {
            "image/png": "[encoded data removed]",
            "text/plain": [
              "<Figure size 432x288 with 1 Axes>"
            ]
          },
          "metadata": {
            "tags": [],
            "needs_background": "light"
          }
        },
        {
          "output_type": "display_data",
          "data": {
            "image/png": "[encoded data removed]",
            "text/plain": [
              "<Figure size 432x288 with 1 Axes>"
            ]
          },
          "metadata": {
            "tags": [],
            "needs_background": "light"
          }
        },
        {
          "output_type": "display_data",
          "data": {
            "image/png": "[encoded data removed]",
            "text/plain": [
              "<Figure size 432x288 with 1 Axes>"
            ]
          },
          "metadata": {
            "tags": [],
            "needs_background": "light"
          }
        },
        {
          "output_type": "display_data",
          "data": {
            "image/png": "[encoded data removed]",
            "text/plain": [
              "<Figure size 432x288 with 1 Axes>"
            ]
          },
          "metadata": {
            "tags": [],
            "needs_background": "light"
          }
        },
        {
          "output_type": "display_data",
          "data": {
            "image/png": "[encoded data removed]",
            "text/plain": [
              "<Figure size 432x288 with 1 Axes>"
            ]
          },
          "metadata": {
            "tags": [],
            "needs_background": "light"
          }
        },
        {
          "output_type": "display_data",
          "data": {
            "image/png": "[encoded data removed]",
            "text/plain": [
              "<Figure size 432x288 with 1 Axes>"
            ]
          },
          "metadata": {
            "tags": [],
            "needs_background": "light"
          }
        },
        {
          "output_type": "display_data",
          "data": {
            "image/png": "[encoded data removed]",
            "text/plain": [
              "<Figure size 432x288 with 1 Axes>"
            ]
          },
          "metadata": {
            "tags": [],
            "needs_background": "light"
          }
        },
        {
          "output_type": "display_data",
          "data": {
            "image/png": "[encoded data removed]",
            "text/plain": [
              "<Figure size 432x288 with 1 Axes>"
            ]
          },
          "metadata": {
            "tags": [],
            "needs_background": "light"
          }
        },
        {
          "output_type": "display_data",
          "data": {
            "image/png": "[encoded data removed]",
            "text/plain": [
              "<Figure size 432x288 with 1 Axes>"
            ]
          },
          "metadata": {
            "tags": [],
            "needs_background": "light"
          }
        },
        {
          "output_type": "display_data",
          "data": {
            "image/png": "[encoded data removed]",
            "text/plain": [
              "<Figure size 432x288 with 1 Axes>"
            ]
          },
          "metadata": {
            "tags": [],
            "needs_background": "light"
          }
        },
        {
          "output_type": "display_data",
          "data": {
            "image/png": "[encoded data removed]",
            "text/plain": [
              "<Figure size 432x288 with 1 Axes>"
            ]
          },
          "metadata": {
            "tags": [],
            "needs_background": "light"
          }
        },
        {
          "output_type": "display_data",
          "data": {
            "image/png": "[encoded data removed]",
            "text/plain": [
              "<Figure size 432x288 with 1 Axes>"
            ]
          },
          "metadata": {
            "tags": [],
            "needs_background": "light"
          }
        },
        {
          "output_type": "display_data",
          "data": {
            "image/png": "[encoded data removed]",
            "text/plain": [
              "<Figure size 432x288 with 1 Axes>"
            ]
          },
          "metadata": {
            "tags": [],
            "needs_background": "light"
          }
        },
        {
          "output_type": "display_data",
          "data": {
            "image/png": "[encoded data removed]",
            "text/plain": [
              "<Figure size 432x288 with 1 Axes>"
            ]
          },
          "metadata": {
            "tags": [],
            "needs_background": "light"
          }
        }
      ]
    },
    {
      "cell_type": "markdown",
      "metadata": {
        "id": "jjyJpqPJdo1N"
      },
      "source": [
        "# Build Model\n",
        "\n",
        "---\n",
        "Now build the model as per the best learning rate and dropout probability value determined earlier. Summarize and plot the model architecture.\n",
        "\n",
        "---\n",
        "\n",
        "**2 Points**\n",
        "\n",
        "---\n",
        "\n",
        "\n"
      ]
    },
    {
      "cell_type": "code",
      "metadata": {
        "id": "3lnXy6PZfhSC",
        "outputId": "3c3692b6-cfa9-47c2-92c6-171e1838fe68"
      },
      "source": [
        "# Insert your code here to build the model as per the best learning rate and dropout probability values determined earlier\n",
        "model=build_model(dropout_probability=best_prob, LR=best_lr)\n",
        "\n",
        "# Insert your code here to print the model summary\n",
        "print(model.summary())\n",
        "\n",
        "# Insert your code to plot the model architecture\n",
        "tf.keras.utils.plot_model(\n",
        "    model,\n",
        "    to_file=\"model.png\")"
      ],
      "execution_count": null,
      "outputs": [
        {
          "output_type": "stream",
          "text": [
            "Model: \"sequential_11\"\n",
            "_________________________________________________________________\n",
            "Layer (type)                 Output Shape              Param #   \n",
            "=================================================================\n",
            "flatten_11 (Flatten)         (None, 1600)              0         \n",
            "_________________________________________________________________\n",
            "dense_44 (Dense)             (None, 512)               819712    \n",
            "_________________________________________________________________\n",
            "dense_45 (Dense)             (None, 512)               262656    \n",
            "_________________________________________________________________\n",
            "dense_46 (Dense)             (None, 512)               262656    \n",
            "_________________________________________________________________\n",
            "dropout_11 (Dropout)         (None, 512)               0         \n",
            "_________________________________________________________________\n",
            "dense_47 (Dense)             (None, 26)                13338     \n",
            "=================================================================\n",
            "Total params: 1,358,362\n",
            "Trainable params: 1,358,362\n",
            "Non-trainable params: 0\n",
            "_________________________________________________________________\n",
            "None\n"
          ],
          "name": "stdout"
        },
        {
          "output_type": "execute_result",
          "data": {
            "image/png": "[encoded data removed]",
            "text/plain": [
              "<IPython.core.display.Image object>"
            ]
          },
          "metadata": {
            "tags": []
          },
          "execution_count": 32
        }
      ]
    },
    {
      "cell_type": "markdown",
      "metadata": {
        "id": "xqekZRlBr5WE"
      },
      "source": [
        "# Training the Model\n",
        "\n",
        "---\n",
        "Train the model built with best hyperparameter settings. Generate a **Plot** of Epochs Vs. training and validation accuracy. Also generate a similar plot for training and validation loss. Discuss your **inferences** from the plot.\n",
        "\n",
        "\n",
        "---\n",
        "\n",
        "**7 Points**\n",
        "\n",
        "\n",
        "---\n",
        "\n"
      ]
    },
    {
      "cell_type": "code",
      "metadata": {
        "id": "uBM4OVXNs8Br",
        "outputId": "44ec0e35-7f60-45da-f00c-6ca517925b98"
      },
      "source": [
        "# Insert your code here to train the model with best hyperparameter settings using training set and validate using the validation set (1 Point)\n",
        "h=model.fit(train_gen, validation_data=val_gen, epochs=num_epochs)\n"
      ],
      "execution_count": null,
      "outputs": [
        {
          "output_type": "stream",
          "text": [
            "Epoch 1/40\n",
            "1264/1264 [==============================] - 13s 10ms/step - loss: 2.5414 - categorical_accuracy: 0.2783 - val_loss: 1.4742 - val_categorical_accuracy: 0.6203\n",
            "Epoch 2/40\n",
            "1264/1264 [==============================] - 12s 10ms/step - loss: 1.1804 - categorical_accuracy: 0.6653 - val_loss: 0.8554 - val_categorical_accuracy: 0.7701\n",
            "Epoch 3/40\n",
            "1264/1264 [==============================] - 13s 10ms/step - loss: 0.6319 - categorical_accuracy: 0.8258 - val_loss: 0.5152 - val_categorical_accuracy: 0.8850\n",
            "Epoch 4/40\n",
            "1264/1264 [==============================] - 13s 10ms/step - loss: 0.3504 - categorical_accuracy: 0.9107 - val_loss: 0.2712 - val_categorical_accuracy: 0.9465\n",
            "Epoch 5/40\n",
            "1264/1264 [==============================] - 14s 11ms/step - loss: 0.2092 - categorical_accuracy: 0.9539 - val_loss: 0.2133 - val_categorical_accuracy: 0.9492\n",
            "Epoch 6/40\n",
            "1264/1264 [==============================] - 13s 10ms/step - loss: 0.1450 - categorical_accuracy: 0.9654 - val_loss: 0.1158 - val_categorical_accuracy: 0.9840\n",
            "Epoch 7/40\n",
            "1264/1264 [==============================] - 12s 10ms/step - loss: 0.1129 - categorical_accuracy: 0.9723 - val_loss: 0.0754 - val_categorical_accuracy: 0.9866\n",
            "Epoch 8/40\n",
            "1264/1264 [==============================] - 12s 9ms/step - loss: 0.0691 - categorical_accuracy: 0.9854 - val_loss: 0.0785 - val_categorical_accuracy: 0.9866\n",
            "Epoch 9/40\n",
            "1264/1264 [==============================] - 11s 9ms/step - loss: 0.0600 - categorical_accuracy: 0.9880 - val_loss: 0.0602 - val_categorical_accuracy: 0.9840\n",
            "Epoch 10/40\n",
            "1264/1264 [==============================] - 12s 9ms/step - loss: 0.0480 - categorical_accuracy: 0.9886 - val_loss: 0.0575 - val_categorical_accuracy: 0.9840\n",
            "Epoch 11/40\n",
            "1264/1264 [==============================] - 11s 9ms/step - loss: 0.0411 - categorical_accuracy: 0.9909 - val_loss: 0.0447 - val_categorical_accuracy: 0.9947\n",
            "Epoch 12/40\n",
            "1264/1264 [==============================] - 12s 10ms/step - loss: 0.0483 - categorical_accuracy: 0.9859 - val_loss: 0.0755 - val_categorical_accuracy: 0.9786\n",
            "Epoch 13/40\n",
            "1264/1264 [==============================] - 12s 9ms/step - loss: 0.0315 - categorical_accuracy: 0.9917 - val_loss: 0.0070 - val_categorical_accuracy: 1.0000\n",
            "Epoch 14/40\n",
            "1264/1264 [==============================] - 11s 9ms/step - loss: 0.0410 - categorical_accuracy: 0.9881 - val_loss: 0.0317 - val_categorical_accuracy: 0.9947\n",
            "Epoch 15/40\n",
            "1264/1264 [==============================] - 12s 10ms/step - loss: 0.0308 - categorical_accuracy: 0.9923 - val_loss: 0.0221 - val_categorical_accuracy: 0.9947\n",
            "Epoch 16/40\n",
            "1264/1264 [==============================] - 11s 9ms/step - loss: 0.0415 - categorical_accuracy: 0.9874 - val_loss: 0.0313 - val_categorical_accuracy: 0.9893\n",
            "Epoch 17/40\n",
            "1264/1264 [==============================] - 11s 9ms/step - loss: 0.0305 - categorical_accuracy: 0.9919 - val_loss: 0.0480 - val_categorical_accuracy: 0.9840\n",
            "Epoch 18/40\n",
            "1264/1264 [==============================] - 11s 9ms/step - loss: 0.0263 - categorical_accuracy: 0.9928 - val_loss: 0.0356 - val_categorical_accuracy: 0.9920\n",
            "Epoch 19/40\n",
            "1264/1264 [==============================] - 11s 8ms/step - loss: 0.0135 - categorical_accuracy: 0.9968 - val_loss: 0.0454 - val_categorical_accuracy: 0.9866\n",
            "Epoch 20/40\n",
            "1264/1264 [==============================] - 12s 9ms/step - loss: 0.0283 - categorical_accuracy: 0.9917 - val_loss: 0.0412 - val_categorical_accuracy: 0.9893\n",
            "Epoch 21/40\n",
            "1264/1264 [==============================] - 12s 9ms/step - loss: 0.0500 - categorical_accuracy: 0.9855 - val_loss: 0.0020 - val_categorical_accuracy: 1.0000\n",
            "Epoch 22/40\n",
            "1264/1264 [==============================] - 11s 9ms/step - loss: 0.0215 - categorical_accuracy: 0.9936 - val_loss: 0.0026 - val_categorical_accuracy: 1.0000\n",
            "Epoch 23/40\n",
            "1264/1264 [==============================] - 11s 9ms/step - loss: 0.0077 - categorical_accuracy: 0.9983 - val_loss: 0.0038 - val_categorical_accuracy: 1.0000\n",
            "Epoch 24/40\n",
            "1264/1264 [==============================] - 11s 9ms/step - loss: 0.0218 - categorical_accuracy: 0.9944 - val_loss: 0.0367 - val_categorical_accuracy: 0.9920\n",
            "Epoch 25/40\n",
            "1264/1264 [==============================] - 12s 10ms/step - loss: 0.0042 - categorical_accuracy: 0.9993 - val_loss: 0.0717 - val_categorical_accuracy: 0.9733\n",
            "Epoch 26/40\n",
            "1264/1264 [==============================] - 12s 9ms/step - loss: 0.0234 - categorical_accuracy: 0.9937 - val_loss: 0.0018 - val_categorical_accuracy: 1.0000\n",
            "Epoch 27/40\n",
            "1264/1264 [==============================] - 11s 9ms/step - loss: 0.0070 - categorical_accuracy: 0.9983 - val_loss: 0.0155 - val_categorical_accuracy: 0.9947\n",
            "Epoch 28/40\n",
            "1264/1264 [==============================] - 12s 9ms/step - loss: 0.0070 - categorical_accuracy: 0.9989 - val_loss: 0.0742 - val_categorical_accuracy: 0.9733\n",
            "Epoch 29/40\n",
            "1264/1264 [==============================] - 12s 10ms/step - loss: 0.0454 - categorical_accuracy: 0.9861 - val_loss: 0.0028 - val_categorical_accuracy: 1.0000\n",
            "Epoch 30/40\n",
            "1264/1264 [==============================] - 12s 9ms/step - loss: 0.0165 - categorical_accuracy: 0.9952 - val_loss: 0.0010 - val_categorical_accuracy: 1.0000\n",
            "Epoch 31/40\n",
            "1264/1264 [==============================] - 15s 12ms/step - loss: 0.0297 - categorical_accuracy: 0.9903 - val_loss: 0.0143 - val_categorical_accuracy: 0.9947\n",
            "Epoch 32/40\n",
            "1264/1264 [==============================] - 12s 10ms/step - loss: 0.0052 - categorical_accuracy: 0.9984 - val_loss: 0.0045 - val_categorical_accuracy: 1.0000\n",
            "Epoch 33/40\n",
            "1264/1264 [==============================] - 12s 9ms/step - loss: 0.0474 - categorical_accuracy: 0.9862 - val_loss: 8.9414e-04 - val_categorical_accuracy: 1.0000\n",
            "Epoch 34/40\n",
            "1264/1264 [==============================] - 11s 9ms/step - loss: 0.0076 - categorical_accuracy: 0.9977 - val_loss: 0.0470 - val_categorical_accuracy: 0.9866\n",
            "Epoch 35/40\n",
            "1264/1264 [==============================] - 12s 10ms/step - loss: 0.0071 - categorical_accuracy: 0.9986 - val_loss: 0.0028 - val_categorical_accuracy: 0.9973\n",
            "Epoch 36/40\n",
            "1264/1264 [==============================] - 12s 9ms/step - loss: 0.0089 - categorical_accuracy: 0.9976 - val_loss: 0.0099 - val_categorical_accuracy: 0.9973\n",
            "Epoch 37/40\n",
            "1264/1264 [==============================] - 12s 9ms/step - loss: 0.0048 - categorical_accuracy: 0.9992 - val_loss: 0.0177 - val_categorical_accuracy: 0.9973\n",
            "Epoch 38/40\n",
            "1264/1264 [==============================] - 11s 9ms/step - loss: 0.0095 - categorical_accuracy: 0.9977 - val_loss: 0.0019 - val_categorical_accuracy: 1.0000\n",
            "Epoch 39/40\n",
            "1264/1264 [==============================] - 12s 10ms/step - loss: 0.0080 - categorical_accuracy: 0.9981 - val_loss: 0.0121 - val_categorical_accuracy: 1.0000\n",
            "Epoch 40/40\n",
            "1264/1264 [==============================] - 14s 11ms/step - loss: 0.0049 - categorical_accuracy: 0.9985 - val_loss: 6.4322e-04 - val_categorical_accuracy: 1.0000\n"
          ],
          "name": "stdout"
        }
      ]
    },
    {
      "cell_type": "code",
      "metadata": {
        "id": "uBd5p0Dl-Z7L"
      },
      "source": [
        "# Insert your code here to obtain the lists: epochs, training accuracy, validation accuracy, training loss, validation loss (2 Points)\n",
        "training_acc=h.history['categorical_accuracy']\n",
        "validation_acc=h.history['val_categorical_accuracy']\n",
        "training_loss=h.history['loss']\n",
        "validation_loss=h.history['val_loss']\n",
        "epochs_list=list(range(num_epochs))"
      ],
      "execution_count": null,
      "outputs": []
    },
    {
      "cell_type": "code",
      "metadata": {
        "id": "R28QEcCY-Z7L",
        "outputId": "afee8192-d753-4a4c-ce0a-22fe117264c5"
      },
      "source": [
        "# Insert your code here to plot Epochs Vs. training and validation accuracy (2 Points)\n",
        "plt.plot(epochs_list, training_acc)\n",
        "plt.plot(epochs_list, validation_acc)\n",
        "plt.xlabel(\"number of epochs\")\n",
        "plt.ylabel(\"accuracy\")\n",
        "plt.legend([\"Train accuracy\", \"Validation accuracy\"])"
      ],
      "execution_count": null,
      "outputs": [
        {
          "output_type": "execute_result",
          "data": {
            "text/plain": [
              "<matplotlib.legend.Legend at 0x7f113c237eb0>"
            ]
          },
          "metadata": {
            "tags": []
          },
          "execution_count": 63
        },
        {
          "output_type": "display_data",
          "data": {
            "image/png": "[encoded data removed]",
            "text/plain": [
              "<Figure size 432x288 with 1 Axes>"
            ]
          },
          "metadata": {
            "tags": [],
            "needs_background": "light"
          }
        }
      ]
    },
    {
      "cell_type": "code",
      "metadata": {
        "id": "XVsGgFxL-Z7L",
        "outputId": "f1431ec3-01dd-41de-b277-ae780df5c895"
      },
      "source": [
        "# Insert your code here to plot Epochs Vs. training and validation loss (2 Points)\n",
        "plt.plot(epochs_list, training_loss)\n",
        "plt.plot(epochs_list, validation_loss)\n",
        "plt.xlabel(\"number of epochs\")\n",
        "plt.ylabel(\"loss value\")\n",
        "plt.legend([\"Train loss\", \"Validation loss\"])"
      ],
      "execution_count": null,
      "outputs": [
        {
          "output_type": "execute_result",
          "data": {
            "text/plain": [
              "<matplotlib.legend.Legend at 0x7f1134693040>"
            ]
          },
          "metadata": {
            "tags": []
          },
          "execution_count": 64
        },
        {
          "output_type": "display_data",
          "data": {
            "image/png": "[encoded data removed]",
            "text/plain": [
              "<Figure size 432x288 with 1 Axes>"
            ]
          },
          "metadata": {
            "tags": [],
            "needs_background": "light"
          }
        }
      ]
    },
    {
      "cell_type": "markdown",
      "metadata": {
        "id": "OO87N5Iv5aoq"
      },
      "source": [
        "# Prediction\n",
        "\n",
        "---\n",
        "Evaluate performance of model on the test sets.\n",
        "\n",
        "\n",
        "\n",
        "\n",
        "---\n",
        "**2 Points**\n",
        "\n",
        "---\n",
        "\n",
        "\n",
        "\n"
      ]
    },
    {
      "cell_type": "code",
      "metadata": {
        "id": "EqKv23bx7z16",
        "scrolled": true,
        "outputId": "73c870f8-4f85-499a-b545-5289e5a75018"
      },
      "source": [
        "# Insert your code here to get the model's performance with test set\n",
        "model.evaluate(test_gen)"
      ],
      "execution_count": null,
      "outputs": [
        {
          "output_type": "stream",
          "text": [
            "26/26 [==============================] - 0s 5ms/step - loss: 8.7616e-04 - categorical_accuracy: 1.0000\n"
          ],
          "name": "stdout"
        },
        {
          "output_type": "execute_result",
          "data": {
            "text/plain": [
              "[0.0008761585340835154, 1.0]"
            ]
          },
          "metadata": {
            "tags": []
          },
          "execution_count": 66
        }
      ]
    },
    {
      "cell_type": "markdown",
      "metadata": {
        "id": "YttJlxdDPQoV"
      },
      "source": [
        "# Observations\n",
        "\n",
        "---\n",
        "Write your observations from this experiment. Also, what would be your suggestions for increasing the performance of the model ?\n",
        "\n",
        "\n",
        "\n",
        "\n",
        "---\n",
        "**5 Points**\n",
        "\n",
        "---\n"
      ]
    },
    {
      "cell_type": "markdown",
      "metadata": {
        "id": "Yvas0a1h-Z7M"
      },
      "source": [
        "### Observations\n",
        "We trained our model to fit on the given training dataset and evaluate the model based on the validation set accuracy. \n",
        "Then we chose the best hyperparameters from the given list so that our model has the least loss and highest validation accuracy. After we chose the best hyperparameters, then we train the model using those hyperparameters over 40 epochs and plot the epochs vs accuracy / epochs vs loss graphs. As expected the accuracy will increase with the increasing the number epochs and becomes stable around 40 epochs. Also the loss decreases while we increase the number of epochs. "
      ]
    },
    {
      "cell_type": "markdown",
      "metadata": {
        "id": "KJb-RSR1-Z7M"
      },
      "source": [
        "### Suggestions\n",
        "As we can see that the model is already performing well on the test set also, there cannot be much steps to do in order to make the performance better. But in order to make the loss even smaller, we can take certain steps - \n",
        "1) **increasing the number of epochs** - we can increase the number of epochs to further reduce the categorical loss.\n",
        "\n",
        "2) **exploring a greater range of the hyperparameter values** - we chose only few hyperparameters during our training. Perhaphs taking a greater range and then choosing the best hyperparameter out of that would be a better choice to further decrease the loss."
      ]
    }
  ]
}