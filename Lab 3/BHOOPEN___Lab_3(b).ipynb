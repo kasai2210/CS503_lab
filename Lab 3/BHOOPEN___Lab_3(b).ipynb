{
 "cells": [
  {
   "cell_type": "markdown",
   "metadata": {
    "id": "uJT4Bt4-12rC"
   },
   "source": [
    "# **Lab 3(b)**\n",
    "# Convolution Neural Networks\n",
    "\n",
    "\n",
    "---\n",
    "\n",
    "\n",
    "Total Points: **75**\n",
    "\n",
    "Tentative Weightage : **3%**\n",
    "\n",
    "Submission Deadline :  **25th March 2021, 23:59 hours**\n",
    "\n",
    "Link to the dataset : https://drive.google.com/file/d/14HjM98X9T2LIw7L5Io6kq0uRc9GFN93z/view?usp=sharing\n",
    "\n",
    "---\n",
    "\n",
    "\n",
    "\n",
    "General Instructions:\n",
    "\n",
    "---\n",
    "\n",
    "\n",
    "\n",
    "1. You have to do this lab individually\n",
    "2. You may use **sklearn, seaborn, matplotlib, pandas, Tensorflow 2.x**\n",
    "3. All the code should be submitted in the form of a single Jupyter notebook itself.\n",
    "4. Points for each sub-section are mentioned in the appropriate question.\n",
    "5. Make sure to begin early as a few experiments may consume more time to run.\n",
    "6. You can use Google colab to run a jupyter notebook (https://colab.research.google.com/) How to load data in Google Colab ?(https://towardsdatascience.com/3-ways-to-load-csv-files-into-colab-7c14fcbdcb92) (https://www.marktechpost.com/2019/06/07/how-to-connect-google-colab-with-google-drive/)\n",
    "7. The lab must be submitted on Google classroom. The code as well as the accompanying observations should be made part of the python notebook.\n",
    "8. **Code Readability** is very important. Modularize your code by making use of classes, functions that can be flexibly reused wherever necessary. Also use self explanatory variable names and add comments to describe your approach wherever necessary. You may add additional code or text blocks as necessary.\n",
    "9. You are expected to submit your **inferences** (preferably in a text block) and not just an error free code.\n",
    "10. Students are expected to follow the **honor code** of the class.\n",
    "11. In case of any queries regarding Lab 3, please mail 2019aim1003@iitrpr.ac.in\n"
   ]
  },
  {
   "cell_type": "markdown",
   "metadata": {
    "id": "IVlFdnMK12rJ"
   },
   "source": [
    "---\n",
    "\n",
    "### A long time ago, in a galaxy far far away....\n",
    "\n",
    "Rey is a warrior who wants to reach her mentor, Luke Skywalker, to complete her training. No one has seen or communicated Skywalker, who has moved to someplace in outer planetary systems for ages. But Rey is fortunate enough to find a document that can help her to reach the destination. However, she is not familiar with the document's script (which happens to be Latin). Also, it is challenging to segment characters in a handwritten script. She can use her droid BB-8 for recognising words. There are two known representations for such words known to BB-8: **Alpha representation**( using alphabets) and **Omega representation**(using shapes). Since BB-8 is an astromech droid, he can use only one of them due to memory constraints.  Rey reaches out to you for help, and you (being an expert in script recognition and convolution neural networks) agree to help her. You are supposed to carry out experiments in the following section to determine which representation could help her.\n",
    "\n",
    "*May the force be with you!!*\n",
    "\n",
    "---\n",
    "\n",
    "# Task: Word Recognition\n",
    "\n",
    "You have to train a deep CNN model that can help in recognising a word, i.e. given a word-image(image with a word present in it) as input, the model yields a representation that can help in recognising the word from a set of possible words (termed as  'lexicon' of words). \n",
    "\n",
    "---\n",
    "\n",
    "## Representations of the word\n",
    "\n",
    "There are two representations for a word:\n",
    "\n",
    "1. **Alpha representation**: This is based on the claim that a word can be represented in terms of occurences of characters in various segments of image.\n",
    "\n",
    "The word is split into equal parts at various levels.\n",
    "\n",
    "At level *i*:  \n",
    "* A word is split into *i* (nearly) equal segments.  \n",
    "* For every segment, we compute a binary vector in which each segment correspond to alphabets/characters (Shown in fig.).\n",
    "\n",
    "![Alpha Vector](https://drive.google.com/uc?export=view&id=17rUvYXvWUc2IP8aD-O3kualSjr2dcn2b)\n",
    "\n",
    "*  Individual vectors of each segment are concatenated after one another, i.e. the level vector is obtained by concatenating individual vectors of first segment followed by second, third and so on.\n",
    "\n",
    "The final vector is obtained by concatenating vectors of all levels $\\{L_i.L_{i+1}.L_{i+2}\\cdots\\}$.\n",
    "\n",
    "\n",
    "*For this assignment, you are supposed to use levels 2-5. \n",
    "This makes the length of final Alpha vector to be (2+3+4+5) * 26 = 364*\n",
    "\n",
    "\n",
    "\n",
    "2. **Omega representation**: This is based on the claim that a word can be represented in terms of count of 11 primitve shapes present in various segments of image. The 11 shapes are: *ascender, descender, left small semi-circle, right small semi-circle, left large semi-circle, right large semi-circle, circle, vertical line, diagonal line, diagonal line at a slope of 135 degrees, and horizontal line*. These have been shown in figure.\n",
    "\n",
    "![Primary Shapes](https://drive.google.com/uc?export=view&id=1573VBQwD03ae_UBjDaYk4fq84bGmDzr2)\n",
    "\n",
    "The word is split into equal parts at various levels.\n",
    "\n",
    "At level *i*:  \n",
    "* A word is split into *i* (nearly) equal segments.  \n",
    "* For every segment, we compute a vector in which each segment correspond to count of a shape.\n",
    "\n",
    "![Omega for anagram](https://drive.google.com/uc?export=view&id=1nk1pj0yp5wunCxYeUp5ppH8hdsHF41rv)\n",
    "\n",
    "\n",
    "*  Individual vectors of each segment are concatenated after one another, i.e. the level vector is obtained by concatenating individual vectors of first segment followed by second, third and so on.\n",
    "\n",
    "The final vector is obtained by concatenating vectors of all levels $\\{L_i.L_{i+1}.L_{i+2}\\cdots\\}$.\n",
    "\n",
    "*For this assignment, you are supposed to use levels 1-5. \n",
    "This makes the length of final Omega vector to be (1+2+3+4+5) * 11 = 165*\n",
    "\n",
    "---\n",
    "\n",
    "**Note**: For both representations, while splitting, in case of unequal lengths of segments, segments at the end should be of more length e.g. Level 3 split of \"omega\" = {o,me,ga} and \"play\" = {p,l,ay}. Also, for a smaller words like \"ok\" level 3 split = {$\\epsilon$,o,k} where $\\epsilon$ = empty string. \n",
    "\n",
    "---\n",
    "\n",
    "Your final goal of this assignment is to detemine which representation will be more helpful for word recognition. \n",
    "\n"
   ]
  },
  {
   "cell_type": "code",
   "execution_count": 152,
   "metadata": {
    "id": "h74MHOsV12rK"
   },
   "outputs": [],
   "source": [
    "# Import the necessary libraries\n",
    "\n",
    "import tensorflow as tf\n",
    "import numpy as np\n",
    "import pandas as pd\n",
    "import seaborn as sns\n",
    "import cv2\n",
    "import matplotlib.pyplot as plt\n",
    "import os\n",
    "import shutil\n",
    "import random\n",
    "\n",
    "# If using Google Colab, use the following package to display the image\n",
    "# If running on your local system, cv2.imshow shall work fine\n",
    "# If running on your local system please comment the line below\n",
    "# from google.colab.patches import cv2_imshow"
   ]
  },
  {
   "cell_type": "code",
   "execution_count": 153,
   "metadata": {
    "id": "VzdPAxac12rM"
   },
   "outputs": [],
   "source": [
    "IMG_HEIGHT = 50\n",
    "IMG_WIDTH = 250"
   ]
  },
  {
   "cell_type": "markdown",
   "metadata": {
    "id": "Wd0u6NE_12rN"
   },
   "source": [
    "# Dataset\n",
    "\n",
    "The dataset used here is a synthetic word recognition dataset. It consists of images of lowercase English words, generated with handwritten-fonts. All images are single channel (grayscale) and have size 250 * 50. <br>\n",
    "\n",
    "The dataset has the following directory structure:\n",
    "\n",
    "<pre>\n",
    "<b>WR-Dataset</b>\n",
    "|__ <b>train</b>: [foo_1.png, bar_2.png, sample_3.png ....]\n",
    "|__ <b>validation</b>: [foo_221.png, bar_322.png, sample_353.png ....]\n",
    "|__ <b>test</b>: [bar_521.png, foo_272.png, example_433.png ....]\n",
    "|__ <b>Alphabet.csv</b>\n",
    "    \n",
    "</pre>\n",
    "\n",
    "Extract the paths of these directories onto different variables to facilitate accessing the dataset and thereby training the model."
   ]
  },
  {
   "cell_type": "code",
   "execution_count": 154,
   "metadata": {
    "id": "D2iBGOF42N_k"
   },
   "outputs": [],
   "source": [
    "#Add the paths for train, validation and test directories\n",
    "\n",
    "train_dir_path=\"/home/anshul/Downloads/Lab3a/WR-Dataset/Train\"\n",
    "validation_dir_path=\"/home/anshul/Downloads/Lab3a/WR-Dataset/Validation\"\n",
    "test_dir_path=\"/home/anshul/Downloads/Lab3a/WR-Dataset/Test\""
   ]
  },
  {
   "cell_type": "markdown",
   "metadata": {
    "id": "uy9vx_PZ12rU"
   },
   "source": [
    "# Visualizing sample images\n",
    "\n",
    "Prepare an image to label map and visualize 5 randomly chosen images from training, validation and test sets (along with their labels). Also, Mention the number of word classes present in each of the three sets.\n",
    "\n",
    "----\n",
    "\n",
    "**(1+1+1) points**\n",
    "\n",
    "---"
   ]
  },
  {
   "cell_type": "code",
   "execution_count": 155,
   "metadata": {
    "colab": {
     "base_uri": "https://localhost:8080/",
     "height": 1000
    },
    "id": "HlouZ0lY12rU",
    "outputId": "3112b867-d305-4d3c-85ac-240556b34664"
   },
   "outputs": [
    {
     "name": "stdout",
     "output_type": "stream",
     "text": [
      "              Image    Label\n",
      "0           d_5.png        d\n",
      "1        here_5.png     here\n",
      "2       email_0.png    email\n",
      "3         was_2.png      was\n",
      "4        them_4.png     them\n",
      "...             ...      ...\n",
      "2047   rights_4.png   rights\n",
      "2048    terms_6.png    terms\n",
      "2049  through_4.png  through\n",
      "2050      see_1.png      see\n",
      "2051     page_0.png     page\n",
      "\n",
      "[2052 rows x 2 columns]\n",
      "              Image     Label\n",
      "0        help_1.png      help\n",
      "1          as_6.png        as\n",
      "2     message_4.png   message\n",
      "3    american_5.png  american\n",
      "4     address_2.png   address\n",
      "..              ...       ...\n",
      "395   version_4.png   version\n",
      "396      just_0.png      just\n",
      "397      want_1.png      want\n",
      "398     total_5.png     total\n",
      "399         i_1.png         i\n",
      "\n",
      "[400 rows x 2 columns]\n",
      "             Image    Label\n",
      "0       over_7.png     over\n",
      "1      years_4.png    years\n",
      "2        all_2.png      all\n",
      "3       user_2.png     user\n",
      "4        off_0.png      off\n",
      "..             ...      ...\n",
      "103    other_4.png    other\n",
      "104     home_1.png     home\n",
      "105     read_5.png     read\n",
      "106      and_4.png      and\n",
      "107  address_5.png  address\n",
      "\n",
      "[108 rows x 2 columns]\n"
     ]
    },
    {
     "data": {
      "image/png": "[encoded data removed]",
      "text/plain": [
       "<Figure size 432x288 with 1 Axes>"
      ]
     },
     "metadata": {
      "needs_background": "light"
     },
     "output_type": "display_data"
    },
    {
     "data": {
      "image/png": "[encoded data removed]",
      "text/plain": [
       "<Figure size 432x288 with 1 Axes>"
      ]
     },
     "metadata": {
      "needs_background": "light"
     },
     "output_type": "display_data"
    },
    {
     "data": {
      "image/png": "[encoded data removed]",
      "text/plain": [
       "<Figure size 432x288 with 1 Axes>"
      ]
     },
     "metadata": {
      "needs_background": "light"
     },
     "output_type": "display_data"
    },
    {
     "data": {
      "image/png": "[encoded data removed]",
      "text/plain": [
       "<Figure size 432x288 with 1 Axes>"
      ]
     },
     "metadata": {
      "needs_background": "light"
     },
     "output_type": "display_data"
    },
    {
     "data": {
      "image/png": "[encoded data removed]",
      "text/plain": [
       "<Figure size 432x288 with 1 Axes>"
      ]
     },
     "metadata": {
      "needs_background": "light"
     },
     "output_type": "display_data"
    },
    {
     "data": {
      "image/png": "[encoded data removed]",
      "text/plain": [
       "<Figure size 432x288 with 1 Axes>"
      ]
     },
     "metadata": {
      "needs_background": "light"
     },
     "output_type": "display_data"
    },
    {
     "data": {
      "image/png": "[encoded data removed]",
      "text/plain": [
       "<Figure size 432x288 with 1 Axes>"
      ]
     },
     "metadata": {
      "needs_background": "light"
     },
     "output_type": "display_data"
    },
    {
     "data": {
      "image/png": "[encoded data removed]",
      "text/plain": [
       "<Figure size 432x288 with 1 Axes>"
      ]
     },
     "metadata": {
      "needs_background": "light"
     },
     "output_type": "display_data"
    },
    {
     "data": {
      "image/png": "[encoded data removed]",
      "text/plain": [
       "<Figure size 432x288 with 1 Axes>"
      ]
     },
     "metadata": {
      "needs_background": "light"
     },
     "output_type": "display_data"
    },
    {
     "data": {
      "image/png": "[encoded data removed]",
      "text/plain": [
       "<Figure size 432x288 with 1 Axes>"
      ]
     },
     "metadata": {
      "needs_background": "light"
     },
     "output_type": "display_data"
    },
    {
     "data": {
      "image/png": "[encoded data removed]",
      "text/plain": [
       "<Figure size 432x288 with 1 Axes>"
      ]
     },
     "metadata": {
      "needs_background": "light"
     },
     "output_type": "display_data"
    },
    {
     "data": {
      "image/png": "[encoded data removed]",
      "text/plain": [
       "<Figure size 432x288 with 1 Axes>"
      ]
     },
     "metadata": {
      "needs_background": "light"
     },
     "output_type": "display_data"
    },
    {
     "data": {
      "image/png": "[encoded data removed]",
      "text/plain": [
       "<Figure size 432x288 with 1 Axes>"
      ]
     },
     "metadata": {
      "needs_background": "light"
     },
     "output_type": "display_data"
    },
    {
     "data": {
      "image/png": "[encoded data removed]",
      "text/plain": [
       "<Figure size 432x288 with 1 Axes>"
      ]
     },
     "metadata": {
      "needs_background": "light"
     },
     "output_type": "display_data"
    },
    {
     "data": {
      "image/png": "[encoded data removed]",
      "text/plain": [
       "<Figure size 432x288 with 1 Axes>"
      ]
     },
     "metadata": {
      "needs_background": "light"
     },
     "output_type": "display_data"
    }
   ],
   "source": [
    "# Insert code to build a dataframe with Images and their corresponding labels for 3 folders (similar to Lab 3(a))\n",
    "def get_dataframe(folder_name):\n",
    "    \n",
    "    # Insert code to give you list of all the image files in folder\n",
    "    file_names=[]\n",
    "    for root, dirs, files in os.walk(folder_name):\n",
    "        for name in files:\n",
    "            file_names.append(name)\n",
    "    # Insert code to get list of labels from list of images \n",
    "    # (Hint: every image file name has its label name as prefix)\n",
    "    label_names = []\n",
    "    for name in file_names:\n",
    "        names,_=name.split('_')\n",
    "        label_names.append(names)\n",
    "    # Make a dataframe with two columns - Image(file name) and Label (class label)\n",
    "    df = pd.DataFrame(list(zip(file_names, label_names)), columns=['Image', 'Label'])\n",
    "    # display and return the dataframe\n",
    "    print(df)\n",
    "    return df\n",
    "\n",
    "\n",
    "# display the dataframes\n",
    "train_df=get_dataframe(train_dir_path)\n",
    "test_df=get_dataframe(test_dir_path)\n",
    "val_df=get_dataframe(validation_dir_path)\n",
    "\n",
    "# Visualise images from the train set\n",
    "def visualize_folder(folder):\n",
    "    for root, dirs, files in os.walk(folder):\n",
    "        i=0\n",
    "        for name in files:\n",
    "                if(i==5):\n",
    "                    break\n",
    "                i+=1\n",
    "                img=cv2.imread(os.path.join(root, name))\n",
    "                plt.figure()\n",
    "                plt.imshow(img)\n",
    "                plt.title(folder)\n",
    "        break\n",
    "        \n",
    "visualize_folder(train_dir_path)\n",
    "# Visualise images from the validation set\n",
    "visualize_folder(validation_dir_path)\n",
    "\n",
    "\n",
    "# Visualise images from the test set\n",
    "visualize_folder(test_dir_path)\n",
    "\n",
    "\n",
    "\n"
   ]
  },
  {
   "cell_type": "markdown",
   "metadata": {
    "id": "uwU9b8hOwPFe"
   },
   "source": [
    "Now, you will have to write modules that can give you vector representations for the input words.\n",
    "\n",
    "---\n",
    "\n",
    "**(3 + 3 points)**\n",
    "\n",
    "---"
   ]
  },
  {
   "cell_type": "code",
   "execution_count": 156,
   "metadata": {
    "id": "bhVtaEJxgDRF"
   },
   "outputs": [],
   "source": [
    "df_a=pd.read_csv(\"/home/anshul/Downloads/Lab3a/WR-Dataset/Alphabet.csv\")"
   ]
  },
  {
   "cell_type": "code",
   "execution_count": 157,
   "metadata": {
    "id": "dGSLobA8gDRF"
   },
   "outputs": [],
   "source": [
    "def get_value(letter):\n",
    "    alpha_np=df_a.to_numpy()\n",
    "    a=['a', 0,0,1,0,0,0,1,1,0,0,0]\n",
    "    fin=np.insert(alpha_np, 0, a, axis=0)\n",
    "    return fin[ord(letter) - ord('a')][1:12]"
   ]
  },
  {
   "cell_type": "code",
   "execution_count": 158,
   "metadata": {
    "id": "Wot9v85C12rP"
   },
   "outputs": [],
   "source": [
    "def get_Omega_vector(word):\n",
    "  #Insert the code for a function that returns Omega representation of the input word\n",
    "    vector = []\n",
    "    for i in range(1, 6):\n",
    "        c = np.array_split(list(word[::-1]), i)[::-1]\n",
    "        for j in c:\n",
    "            t = [0] * 11\n",
    "            for k in j:\n",
    "                t = np.add(get_value(k), t)\n",
    "            vector.extend(t)\n",
    "  #Hint: For computing count of segments, you can add count of shapes for individual characters (already provided in Alphabet.csv file)\n",
    "    return vector"
   ]
  },
  {
   "cell_type": "code",
   "execution_count": 159,
   "metadata": {
    "id": "wYkEjcoJ12rP"
   },
   "outputs": [],
   "source": [
    "def get_Alpha_vector(word):\n",
    "  #Insert the code for a function that returns Alpha representation of the input word \n",
    "    vector = []\n",
    "    for i in range(2, 6):\n",
    "        c = np.array_split(list(word[::-1]), i)[::-1]\n",
    "        for j in c:\n",
    "            al= [0] * 26\n",
    "            for k in j:\n",
    "                off = ord(str(k)) - ord('a')\n",
    "                al[off] = 1\n",
    "            vector.extend(al)\n",
    "\n",
    "    return vector"
   ]
  },
  {
   "cell_type": "markdown",
   "metadata": {
    "id": "ze5H4o_Q12rQ"
   },
   "source": [
    "To test the above modules, try printing Omega and Alpha vectors for your first name."
   ]
  },
  {
   "cell_type": "code",
   "execution_count": 160,
   "metadata": {
    "colab": {
     "base_uri": "https://localhost:8080/"
    },
    "id": "cvwaWcfC12rR",
    "outputId": "d2ce59c3-2a35-458e-dff2-bf8b4373d389"
   },
   "outputs": [
    {
     "name": "stdout",
     "output_type": "stream",
     "text": [
      "Omega vector: [2, 1, 3, 0, 4, 0, 4, 5, 0, 0, 1, 2, 0, 1, 0, 2, 0, 2, 2, 0, 0, 0, 0, 1, 2, 0, 2, 0, 2, 3, 0, 0, 1, 2, 0, 0, 0, 1, 0, 1, 2, 0, 0, 0, 0, 0, 2, 0, 2, 0, 2, 0, 0, 0, 0, 0, 1, 1, 0, 1, 0, 1, 3, 0, 0, 1, 1, 0, 0, 0, 1, 0, 1, 1, 0, 0, 0, 1, 0, 1, 0, 1, 0, 1, 1, 0, 0, 0, 0, 1, 1, 0, 2, 0, 2, 1, 0, 0, 0, 0, 0, 1, 0, 0, 0, 0, 2, 0, 0, 1, 1, 0, 0, 0, 1, 0, 1, 1, 0, 0, 0, 1, 0, 0, 0, 0, 0, 0, 1, 0, 0, 0, 0, 0, 1, 0, 1, 0, 1, 0, 0, 0, 0, 0, 1, 1, 0, 2, 0, 2, 1, 0, 0, 0, 0, 0, 1, 0, 0, 0, 0, 2, 0, 0, 1]\n",
      "Omegavector size: 165\n",
      "Alphavector: [0, 1, 0, 0, 0, 0, 0, 1, 0, 0, 0, 0, 0, 0, 1, 0, 0, 0, 0, 0, 0, 0, 0, 0, 0, 0, 0, 0, 0, 0, 1, 0, 0, 0, 0, 0, 0, 0, 0, 1, 1, 1, 0, 0, 0, 0, 0, 0, 0, 0, 0, 0, 0, 1, 0, 0, 0, 0, 0, 1, 0, 0, 0, 0, 0, 0, 0, 0, 0, 0, 0, 0, 0, 0, 0, 0, 0, 0, 0, 0, 0, 0, 0, 0, 0, 0, 0, 0, 0, 0, 0, 0, 1, 0, 0, 0, 0, 0, 0, 0, 0, 0, 0, 0, 0, 0, 0, 0, 1, 0, 0, 0, 0, 0, 0, 0, 0, 1, 0, 1, 0, 0, 0, 0, 0, 0, 0, 0, 0, 0, 0, 1, 0, 0, 0, 0, 0, 0, 0, 0, 0, 0, 0, 0, 0, 0, 0, 0, 0, 0, 0, 0, 0, 0, 0, 0, 0, 0, 0, 0, 0, 0, 0, 1, 0, 0, 0, 0, 0, 0, 1, 0, 0, 0, 0, 0, 0, 0, 0, 0, 0, 0, 0, 0, 0, 0, 0, 0, 0, 0, 0, 0, 0, 0, 0, 0, 1, 1, 0, 0, 0, 0, 0, 0, 0, 0, 0, 0, 0, 0, 0, 0, 1, 0, 0, 0, 0, 0, 0, 0, 0, 1, 0, 0, 0, 0, 0, 0, 0, 0, 0, 0, 0, 0, 0, 1, 0, 0, 0, 0, 0, 0, 0, 0, 0, 0, 0, 0, 0, 0, 0, 0, 0, 0, 0, 0, 0, 0, 0, 0, 0, 0, 0, 0, 0, 0, 0, 1, 0, 0, 0, 0, 0, 0, 0, 0, 0, 0, 0, 0, 0, 0, 0, 0, 0, 0, 0, 0, 0, 0, 0, 0, 0, 0, 0, 0, 0, 0, 0, 0, 1, 0, 0, 0, 0, 0, 0, 0, 0, 0, 0, 0, 0, 0, 0, 0, 0, 0, 0, 0, 0, 0, 0, 0, 0, 0, 1, 1, 0, 0, 0, 0, 0, 0, 0, 0, 0, 0, 0, 0, 0, 0, 1, 0, 0, 0, 0, 0, 0, 0, 0, 1, 0, 0, 0, 0, 0, 0, 0, 0, 0, 0, 0, 0]\n",
      "Alphavector size: 364\n"
     ]
    }
   ],
   "source": [
    "name =\"bhoopen\"\n",
    "\n",
    "print(\"Omega vector:\",get_Omega_vector(name))\n",
    "print(\"Omegavector size:\", len(get_Omega_vector(name)))\n",
    "print(\"Alphavector:\",get_Alpha_vector(name))\n",
    "print(\"Alphavector size:\", len(get_Alpha_vector(name)))"
   ]
  },
  {
   "cell_type": "markdown",
   "metadata": {
    "id": "OYLjHCKP12rR"
   },
   "source": [
    "# Building Alpha model architecture \n",
    "\n",
    "Following is the architecture of the model that will learn Alpha representation:\n",
    "\n",
    "Input shape: 250 * 50 ( RGB )\n",
    "\n",
    "\n",
    "* 2 Convolution layers with 64  filters\n",
    "* A Max Pool layer with pool size 2 * 2   \n",
    "* 2 Convolution layers with 128  filters\n",
    "* A Max Pool layer with pool size 2 * 2    \n",
    "* 6 Convolution layers with 256  filters\n",
    "* 3 Convolution layers with 512  filters\n",
    "* GLobal Average Pooling layer\n",
    "* Dense  layer with 4096 units\n",
    "* Dropout layer with rate 0.5\n",
    "* Dense  layer with 4096 units\n",
    "* Dropout layer with rate 0.5\n",
    "* Dense  layer with 364 units (Output)\n",
    "\n",
    "For all convolution layers, keep kernel size as 3 * 3, use ReLu activation \n",
    "\n",
    "For all max pool layers, keep stride as 2\n",
    "\n",
    "For all dense layers, except the final layer use ReLu activation.\n",
    "\n",
    "For final layer, use sigmoid activation.\n",
    "\n",
    "**Loss function**: Binary cross-entropy\n",
    "\n",
    "**Similarity Metric**: Cosine Similarity\n",
    "\n",
    "You need to make a function that will take a learning rate as parameter as return the compiled Alpha model.\n",
    "\n",
    "---\n",
    "\n",
    "**(3 points)**\n",
    "\n",
    "---"
   ]
  },
  {
   "cell_type": "code",
   "execution_count": 161,
   "metadata": {
    "id": "2qOc5FfC12rS"
   },
   "outputs": [],
   "source": [
    "#Insert the code for function that returns a model which will predict Alpharepresentation\n",
    "\n",
    "def Alpha_model(learning_rate=1e-4):\n",
    "    # Instantiate Sequential model\n",
    "    model = tf.keras.models.Sequential()\n",
    "    \n",
    "    # Add Layers\n",
    "    model.add(tf.keras.layers.Conv2D(filters=64,  kernel_size=(3, 3), activation=tf.keras.activations.relu, padding=\"same\"))\n",
    "    model.add(tf.keras.layers.Conv2D(filters=64,  kernel_size=(3, 3), activation=tf.keras.activations.relu, padding=\"same\"))\n",
    "    model.add(tf.keras.layers.MaxPool2D(pool_size=(2, 2), strides=2))\n",
    "    model.add(tf.keras.layers.Conv2D(filters=128, kernel_size=(3, 3), activation=tf.keras.activations.relu, padding=\"same\"))\n",
    "    model.add(tf.keras.layers.Conv2D(filters=128, kernel_size=(3, 3), activation=tf.keras.activations.relu, padding=\"same\"))\n",
    "    model.add(tf.keras.layers.MaxPool2D(pool_size=(2, 2), strides=2))\n",
    "    model.add(tf.keras.layers.Conv2D(filters=256, kernel_size=(3, 3), activation=tf.keras.activations.relu, padding=\"same\"))\n",
    "    model.add(tf.keras.layers.Conv2D(filters=256, kernel_size=(3, 3), activation=tf.keras.activations.relu, padding=\"same\"))\n",
    "    model.add(tf.keras.layers.Conv2D(filters=256, kernel_size=(3, 3), activation=tf.keras.activations.relu, padding=\"same\"))\n",
    "    model.add(tf.keras.layers.Conv2D(filters=256, kernel_size=(3, 3), activation=tf.keras.activations.relu, padding=\"same\"))\n",
    "    model.add(tf.keras.layers.Conv2D(filters=256, kernel_size=(3, 3), activation=tf.keras.activations.relu, padding=\"same\"))\n",
    "    model.add(tf.keras.layers.Conv2D(filters=256, kernel_size=(3, 3), activation=tf.keras.activations.relu, padding=\"same\"))\n",
    "    model.add(tf.keras.layers.Conv2D(filters=512, kernel_size=(3, 3), activation=tf.keras.activations.relu, padding=\"same\"))\n",
    "    model.add(tf.keras.layers.Conv2D(filters=512, kernel_size=(3, 3), activation=tf.keras.activations.relu, padding=\"same\"))\n",
    "    model.add(tf.keras.layers.Conv2D(filters=512, kernel_size=(3, 3), activation=tf.keras.activations.relu, padding=\"same\"))\n",
    "    model.add(tf.keras.layers.GlobalAveragePooling2D())\n",
    "    model.add(tf.keras.layers.Dense(4096, activation=tf.keras.activations.relu))\n",
    "    model.add(tf.keras.layers.Dropout(0.5))\n",
    "    model.add(tf.keras.layers.Dense(4096, activation=tf.keras.activations.relu))\n",
    "    model.add(tf.keras.layers.Dropout(0.5))\n",
    "    model.add(tf.keras.layers.Dense(364, activation=tf.keras.activations.sigmoid))\n",
    "    # Define optimizers(Adam Optimizers), loss function and similarity metrics\n",
    "    optimizer = tf.keras.optimizers.Adam(learning_rate=learning_rate)\n",
    "    loss = tf.keras.losses.BinaryCrossentropy()\n",
    "    metrics = [tf.keras.metrics.CosineSimilarity()]\n",
    "    # Compile the model\n",
    "    model.compile(optimizer = optimizer,\n",
    "                  loss = loss,\n",
    "                  metrics = metrics)\n",
    "    \n",
    "    \n",
    "    # return model\n",
    "    return model\n",
    "    "
   ]
  },
  {
   "cell_type": "markdown",
   "metadata": {
    "id": "St0Ngp7112rS"
   },
   "source": [
    "Following is the architecture of the Omega model, i.e. model that will learn to predict Omega representation:\n",
    "\n",
    "Input shape: 250 * 50 ( RGB )\n",
    "\n",
    "\n",
    "* 2 Convolution layers with 64  filters\n",
    "* A Max Pool layer with pool size 2 * 2   \n",
    "* 2 Convolution layers with 128  filters\n",
    "* A Max Pool layer with pool size 2 * 2    \n",
    "* 6 Convolution layers with 256  filters\n",
    "* 3 Convolution layers with 512  filters\n",
    "* GLobal Average Pooling layer\n",
    "* Dense  layer with 4096 units\n",
    "* Dropout layer with rate 0.5\n",
    "* Dense  layer with 4096 units\n",
    "* Dropout layer with rate 0.5\n",
    "* Dense  layer with 165 units (Output)\n",
    "\n",
    "For all convolution layers, keep kernel size as 3 * 3, use ReLu activation \n",
    "\n",
    "For all max pool layers, keep stride as 2\n",
    "\n",
    "For all dense layers, use ReLu activation.\n",
    "\n",
    "**Loss function**: Mean-squared error\n",
    "\n",
    "**Similarity Metric**: Cosine Similarity\n",
    "\n",
    "You need to make a function that will take a learning rate as parameter as return the compiled Omega model.\n",
    "\n",
    "---\n",
    "\n",
    "**(3 points)**\n",
    "\n",
    "---"
   ]
  },
  {
   "cell_type": "code",
   "execution_count": 162,
   "metadata": {
    "id": "O-FOj3Z212rT"
   },
   "outputs": [],
   "source": [
    "#Insert the code for function that returns a model which will predict Omega representation\n",
    "\n",
    "def Omega_model(learning_rate=1e-4):\n",
    "    # Instantiate Sequential model\n",
    "    model = tf.keras.Sequential()\n",
    "    \n",
    "    # Add Layers\n",
    "    model.add(tf.keras.layers.Conv2D(filters=64,  kernel_size=(3, 3), activation=tf.keras.activations.relu, padding=\"same\"))\n",
    "    model.add(tf.keras.layers.Conv2D(filters=64,  kernel_size=(3, 3), activation=tf.keras.activations.relu, padding=\"same\"))\n",
    "    model.add(tf.keras.layers.MaxPool2D(pool_size=(2, 2), strides=2))\n",
    "    model.add(tf.keras.layers.Conv2D(filters=128, kernel_size=(3, 3), activation=tf.keras.activations.relu, padding=\"same\"))\n",
    "    model.add(tf.keras.layers.Conv2D(filters=128, kernel_size=(3, 3), activation=tf.keras.activations.relu, padding=\"same\"))\n",
    "    model.add(tf.keras.layers.MaxPool2D(pool_size=(2, 2), strides=2))\n",
    "    model.add(tf.keras.layers.Conv2D(filters=256, kernel_size=(3, 3), activation=tf.keras.activations.relu, padding=\"same\"))\n",
    "    model.add(tf.keras.layers.Conv2D(filters=256, kernel_size=(3, 3), activation=tf.keras.activations.relu, padding=\"same\"))\n",
    "    model.add(tf.keras.layers.Conv2D(filters=256, kernel_size=(3, 3), activation=tf.keras.activations.relu, padding=\"same\"))\n",
    "    model.add(tf.keras.layers.Conv2D(filters=256, kernel_size=(3, 3), activation=tf.keras.activations.relu, padding=\"same\"))\n",
    "    model.add(tf.keras.layers.Conv2D(filters=256, kernel_size=(3, 3), activation=tf.keras.activations.relu, padding=\"same\"))\n",
    "    model.add(tf.keras.layers.Conv2D(filters=256, kernel_size=(3, 3), activation=tf.keras.activations.relu, padding=\"same\"))\n",
    "    model.add(tf.keras.layers.Conv2D(filters=512, kernel_size=(3, 3), activation=tf.keras.activations.relu, padding=\"same\"))\n",
    "    model.add(tf.keras.layers.Conv2D(filters=512, kernel_size=(3, 3), activation=tf.keras.activations.relu, padding=\"same\"))\n",
    "    model.add(tf.keras.layers.Conv2D(filters=512, kernel_size=(3, 3), activation=tf.keras.activations.relu, padding=\"same\"))\n",
    "    model.add(tf.keras.layers.GlobalAveragePooling2D())\n",
    "    model.add(tf.keras.layers.Flatten())\n",
    "    model.add(tf.keras.layers.Dense(4096, activation=tf.keras.activations.relu))\n",
    "    model.add(tf.keras.layers.Dropout(0.5))\n",
    "    model.add(tf.keras.layers.Dense(4096, activation=tf.keras.activations.relu))\n",
    "    model.add(tf.keras.layers.Dropout(0.5))\n",
    "    model.add(tf.keras.layers.Dense(165, activation=tf.keras.activations.relu))\n",
    "    # Define optimizers (Adam Optimizer), loss function and similarity metrics\n",
    "    optimizer = tf.keras.optimizers.Adam(learning_rate=learning_rate)\n",
    "    loss = tf.keras.losses.MeanSquaredError()\n",
    "    metrics = [tf.keras.metrics.CosineSimilarity()]    \n",
    "    # Compile the model\n",
    "    model.compile(optimizer = optimizer,\n",
    "                  loss = loss,\n",
    "                  metrics = metrics)\n",
    "    # return model\n",
    "    return model\n",
    "    \n",
    "    "
   ]
  },
  {
   "cell_type": "markdown",
   "metadata": {
    "id": "8bqfuahL12rU"
   },
   "source": [
    "Why did we use BCE as loss function and sigmoid as activation for final layer in Alpha model, while MSE and ReLu for Omega model? \n",
    "\n",
    "----\n",
    "\n",
    "**2 points**\n",
    "\n",
    "---\n",
    "\n",
    "\n",
    "\n"
   ]
  },
  {
   "cell_type": "markdown",
   "metadata": {
    "id": "2pFWucqFwwDv"
   },
   "source": [
    "## Seen and Unseen Words\n",
    "\n",
    "Words whose images hase been seen by the model during training are termed as seen words, while those which are part of the test set but not seen during training are called unseen words.\n",
    "\n",
    "----\n",
    "\n",
    "**1 point**\n",
    "\n",
    "---"
   ]
  },
  {
   "cell_type": "code",
   "execution_count": 163,
   "metadata": {
    "colab": {
     "base_uri": "https://localhost:8080/"
    },
    "id": "zjqQ_OOQ12ra",
    "outputId": "7517874a-ad1e-4e69-a304-a84c19318197"
   },
   "outputs": [
    {
     "name": "stdout",
     "output_type": "stream",
     "text": [
      "The seen words are  ['d', 'here', 'email', 'was', 'them', 'center', 'must', 'news', 'related', 'out', 'phone', 'the', 'list', 'last', 'policy', 'years', 'go', 'women', 'uk', 'please', 'based', 'subject', 'program', 'over', 'open', 'mail', 'user', 'so', 'for', 'pm', 'posted', 'can', 'case', 'both', 'may', 'site', 'this', 'links', 'also', 'on', 'uk', 'subject', 'based', 'please', 'program', 'open', 'mail', 'special', 'user', 'so', 'can', 'case', 'posted', 'pm', 'may', 'both', 'site', 'on', 'links', 'also', 'this', 'email', 'here', 'center', 'was', 'them', 'must', 'news', 'o', 'related', 'phone', 'out', 'list', 'the', 'policy', 'last', 'go', 'women', 'states', 'software', 'january', 'be', 'file', 'c', 'he', 'to', 'used', 'link', 'free', 'member', 'check', 'best', 'back', 'under', 'your', 'research', 'same', 'if', 'local', 'review', 'before', 'my', 'were', 'support', 'sign', 'back', 'your', 'under', 'if', 'local', 'into', 'review', 'my', 'before', 'find', 'were', 'support', 'r', 'sign', 'states', 'january', 'software', 'version', 'be', 'c', 'to', 'used', 'free', 'link', 'member', 'check', 'with', 'have', 'web', 'public', 'buy', 'get', 'shipping', 'technology', 'book', 'made', 'she', 'take', 'use', 'only', 'a', 'these', 'home', 'well', 'prices', 'you', 'education', 'an', 'other', 'united', 'pages', 'at', 'p', 'they', 'will', 'now', 'data', 'business', 'system', 'good', 'high', 'area', 'new', 'message', 'united', 'pages', 'other', 'p', 'at', 'they', 'will', 'now', 'business', 'data', 'good', 'system', 'new', 'area', 'buy', 'public', 'have', 'web', 'shipping', 'get', 'technology', 'book', 'she', 'did', 'made', 'a', 'use', 'take', 'well', 'home', 'these', 'prices', 'read', 'you', 'education', 'an', 'us', 'privacy', 'being', 'two', 'items', 'contact', 'each', 'set', 'name', 'do', 'line', 'its', 'price', 'm', 'search', 'available', 'design', 'project', 'today', 'no', 'full', 'need', 're', 'online', 'company', 'development', 'item', 'even', 'information', 'should', 'map', 'more', 'w', 'as', 'forum', 'page', 'see', 'terms', 'through', 'development', 'company', 'item', 'even', 'has', 'map', 'information', 'as', 'w', 'product', 'forum', 'rights', 'page', 'see', 'through', 'terms', 'being', 'privacy', 'items', 'two', 'each', 'contact', 'name', 'set', 'line', 'do', 'price', 'its', 'available', 'search', 'project', 'design', 're', 'full', 'no', 'today', 'online', 'f', 'general', 'days', 'add', 'city', 'know', 'games', 'sports', 'date', 'are', 'world', 'most', 'great', 'music', 't', 'and', 'view', 'year', 'report', 'me', 'next', 'e', 'hotel', 'time', 'up', 'reviews', 'some', 'people', 'n', 'store', 'view', 'way', 'year', 'me', 'part', 'next', 'e', 'hotel', 'up', 'time', 'own', 'some', 'people', 'general', 'days', 'city', 'know', 'games', 'date', 'sports', 'world', 'are', 'great', 'music', 'by', 't', 'ebay', 'than', 'comments', 'long', 'hotels', 'because', 'reserved', 'south', 'national', 'not', 'want', 'x', 'just', 'there', 'one', 'or', 'car', 'right', 'products', 'been', 'am', 'i', 'her', 'our', 'when', 'does', 'university', 'very', 'after', 'dvd', 'show', 'one', 'b', 'or', 'car', 'using', 'right', 'been', 'products', 'any', 'am', 'her', 'when', 'does', 'after', 'very', 'that', 'than', 'ebay', 'comments', 'long', 'hotels', 'their', 'because', 's', 'reserved', 'south', 'national', 'not', 'x', 'there', 'just', 'first', 'travel', 'would', 'order', 'in', 'copyright', 'code', 'who', 'office', 'send', 'we', 'type', 'video', 'could', 'it', 'where', 'which', 'within', 'help', 'click', 'post', 'number', 'between', 'from', 'office', 'send', 'type', 'video', 'could', 'where', 'like', 'which', 'click', 'help', 'within', 'post', 'had', 'between', 'number', 'from', 'work', 'results', 'travel', 'about', 'would', 'order', 'code', 'copyright', 'in', 'who', 'off', 'of', 'security', 'life', 'many', 'much', 'international', 'books', 'services', 'state', 'is', 'group', 'black', 'his', 'community', 'found', 'such', 'section', 'de', 'but', 'g', 'info', 'index', 'jan', 'service', 'day', 'said', 'family', 'how', 'then', 'top', 'what', 'all', 'management', 'website', 'l', 'make', 'group', 'is', 'black', 'community', 'his', 'found', 'such', 'de', 'section', 'but', 'jan', 'index', 'school', 'g', 'info', 'said', 'service', 'those', 'family', 'then', 'how', 'what', 'top', 'management', 'l', 'of', 'health', 'security', 'many', 'life', 'much', 'international', 'services', 'books', 'state', 'company', 'item', 'should', 'more', 'information', 'even', 'has', 'as', 'product', 'rights', 'see', 'terms', 'through', 'items', 'two', 'being', 'us', 'privacy', 'each', 'contact', 'line', 'do', 'set', 'name', 'price', 'its', 'm', 'search', 'available', 'project', 'design', 'online', 'need', 'full', 'no', 'two', 'items', 'privacy', 'us', 'being', 'contact', 'each', 'do', 'line', 'name', 'set', 'its', 'm', 'available', 'search', 'design', 'project', 'online', 'f', 'need', 'full', 'today', 're', 'company', 'item', 'information', 'more', 'map', 'should', 'has', 'even', 'forum', 'product', 'w', 'rights', 'see', 'page', 'through', 'terms', 'p', 'at', 'pages', 'united', 'they', 'now', 'will', 'high', 'good', 'system', 'message', 'area', 'new', 'public', 'buy', 'web', 'have', 'with', 'technology', 'shipping', 'get', 'she', 'made', 'did', 'well', 'home', 'these', 'a', 'only', 'use', 'you', 'read', 'prices', 'education', 'an', 'address', 'web', 'have', 'buy', 'public', 'with', 'technology', 'get', 'shipping', 'made', 'she', 'these', 'only', 'use', 'take', 'a', 'read', 'education', 'an', 'p', 'other', 'pages', 'united', 'will', 'business', 'data', 'high', 'system', 'good', 'message', 'new', 'area', 'your', 'under', 'back', 'best', 'research', 'same', 'if', 'into', 'my', 'before', 'review', 'support', 'find', 'r', 'states', 'version', 'be', 'software', 'january', 'file', 'used', 'to', 'he', 'free', 'link', 'check', 'states', 'version', 'january', 'software', 'file', 'used', 'he', 'to', 'link', 'free', 'member', 'check', 'under', 'your', 'back', 'best', 'research', 'same', 'if', 'into', 'local', 'before', 'my', 'review', 'support', 'were', 'find', 'sign', 'r', 'uk', 'program', 'subject', 'based', 'please', 'mail', 'open', 'user', 'special', 'so', 'both', 'may', 'case', 'can', 'posted', 'this', 'also', 'links', 'site', 'email', 'here', 'd', 'center', 'them', 'was', 'must', 'news', 'out', 'phone', 'related', 'last', 'policy', 'women', 'go', 'here', 'email', 'd', 'them', 'was', 'center', 'must', 'o', 'news', 'out', 'list', 'the', 'policy', 'last', 'years', 'women', 'go', 'uk', 'program', 'please', 'based', 'subject', 'mail', 'over', 'open', 'special', 'so', 'for', 'may', 'both', 'posted', 'pm', 'case', 'also', 'links', 'this', 'site', 'black', 'group', 'make', 'is', 'found', 'his', 'community', 'de', 'section', 'but', 'said', 'service', 'index', 'jan', 'info', 'g', 'then', 'those', 'family', 'management', 'all', 'website', 'what', 'top', 'l', 'health', 'of', 'life', 'many', 'security', 'books', 'services', 'state', 'health', 'of', 'many', 'life', 'security', 'international', 'much', 'books', 'state', 'is', 'make', 'group', 'found', 'community', 'his', 'section', 'de', 'such', 'but', 'service', 'said', 'day', 'info', 'g', 'jan', 'school', 'how', 'then', 'family', 'those', 'website', 'all', 'management', 'top', 'what', 'l', 'office', 'type', 'send', 'video', 'it', 'could', 'which', 'like', 'where', 'post', 'help', 'click', 'within', 'had', 'number', 'work', 'travel', 'results', 'would', 'about', 'copyright', 'code', 'in', 'order', 'who', 'off', 'travel', 'results', 'first', 'would', 'in', 'copyright', 'off', 'office', 'we', 'type', 'send', 'video', 'it', 'could', 'which', 'where', 'like', 'post', 'within', 'click', 'help', 'number', 'between', 'had', 'or', 'one', 'b', 'car', 'real', 'products', 'using', 'right', 'i', 'when', 'our', 'her', 'does', 'show', 'dvd', 'after', 'very', 'university', 'ebay', 'comments', 'hotels', 'long', 'their', 'reserved', 's', 'because', 'details', 'not', 'there', 'just', 'x', 'want', 'than', 'ebay', 'comments', 'hotels', 'long', 'their', 's', 'reserved', 'south', 'not', 'national', 'there', 'x', 'b', 'one', 'car', 'been', 'real', 'products', 'right', 'using', 'am', 'i', 'any', 'our', 'her', 'does', 'dvd', 'university', 'after', 'that', 'store', 'n', 'way', 'me', 'part', 'report', 'year', 'hotel', 'next', 'internet', 'time', 'up', 'own', 'reviews', 'some', 'general', 'know', 'city', 'add', 'date', 'sports', 'house', 'games', 'world', 'great', 'most', 't', 'general', 'days', 'add', 'city', 'sports', 'date', 'are', 'world', 'most', 'great', 'by', 'music', 'store', 'view', 'way', 'part', 'me', 'report', 'hotel', 'e', 'next', 'internet', 'up', 'time', 'reviews', 'own', 'some', 'people', 'many', 'life', 'of', 'health', 'international', 'state', 'services', 'books', 'community', 'his', 'found', 'group', 'is', 'black', 'but', 'such', 'de', 'section', 'those', 'family', 'then', 'how', 'jan', 'index', 'school', 'g', 'info', 'day', 'service', 'l', 'website', 'all', 'his', 'community', 'is', 'group', 'make', 'black', 'but', 'such', 'de', 'family', 'those', 'how', 'then', 'g', 'info', 'index', 'school', 'jan', 'service', 'day', 'said', 'l', 'top', 'what', 'management', 'website', 'security', 'life', 'many', 'of', 'health', 'much', 'international', 'state', 'books', 'services', 'results', 'first', 'travel', 'work', 'about', 'would', 'order', 'code', 'copyright', 'in', 'off', 'who', 'send', 'type', 'we', 'office', 'could', 'it', 'video', 'click', 'within', 'post', 'where', 'like', 'which', 'from', 'number', 'we', 'type', 'office', 'could', 'it', 'video', 'within', 'help', 'click', 'post', 'where', 'which', 'from', 'between', 'results', 'travel', 'work', 'would', 'about', 'order', 'in', 'copyright', 'code', 'off', 'who', 'ebay', 'long', 'hotels', 'south', 'because', 's', 'reserved', 'x', 'want', 'there', 'just', 'national', 'details', 'not', 'one', 'b', 'or', 'any', 'i', 'am', 'using', 'right', 'been', 'products', 'real', 'does', 'her', 'when', 'after', 'very', 'university', 'show', 'dvd', 'car', 'b', 'one', 'or', 'am', 'i', 'right', 'using', 'real', 'been', 'does', 'her', 'our', 'when', 'after', 'dvd', 'show', 'comments', 'ebay', 'long', 'because', 'reserved', 's', 'want', 'just', 'there', 'details', 'general', 'house', 'games', 'date', 'sports', 'city', 'add', 'know', 'great', 'most', 'world', 'are', 't', 'and', 'music', 'by', 'view', 'way', 'n', 'store', 'next', 'e', 'hotel', 'year', 'report', 'me', 'part', 'own', 'reviews', 'up', 'time', 'internet', 'some', 'way', 'view', 'n', 'store', 'e', 'hotel', 'year', 'report', 'me', 'reviews', 'own', 'time', 'up', 'internet', 'people', 'some', 'general', 'games', 'house', 'sports', 'date', 'add', 'city', 'know', 'most', 'great', 'are', 'world', 't', 'and', 'music', 'by', 'each', 'contact', 'being', 'privacy', 'us', 'items', 'price', 'name', 'set', 'line', 'do', 'available', 'search', 'm', 're', 'no', 'need', 'today', 'f', 'project', 'design', 'item', 'company', 'w', 'product', 'forum', 'even', 'has', 'more', 'should', 'map', 'information', 'through', 'terms', 'page', 'item', 'company', 'development', 'w', 'as', 'has', 'even', 'information', 'should', 'map', 'more', 'rights', 'through', 'page', 'see', 'contact', 'each', 'us', 'privacy', 'two', 'items', 'its', 'set', 'name', 'do', 'search', 'available', 'm', 'today', 'no', 'full', 'need', 're', 'f', 'online', 'project', 'shipping', 'get', 'with', 'public', 'have', 'web', 'she', 'did', 'book', 'prices', 'read', 'you', 'a', 'use', 'only', 'take', 'well', 'home', 'these', 'an', 'education', 'they', 'united', 'pages', 'other', 'p', 'will', 'now', 'good', 'system', 'high', 'business', 'data', 'new', 'area', 'message', 'they', 'other', 'united', 'pages', 'at', 'p', 'now', 'system', 'business', 'area', 'new', 'message', 'get', 'shipping', 'technology', 'with', 'have', 'web', 'public', 'buy', 'made', 'book', 'prices', 'you', 'take', 'only', 'a', 'well', 'an', 'january', 'software', 'version', 'be', 'file', 'c', 'free', 'to', 'he', 'used', 'member', 'research', 'best', 'back', 'your', 'if', 'same', 'review', 'my', 'local', 'into', 'r', 'sign', 'find', 'were', 'support', 'research', 'best', 'back', 'under', 'your', 'if', 'same', 'review', 'before', 'my', 'local', 'into', 'were', 'find', 'support', 'software', 'january', 'be', 'states', 'c', 'link', 'free', 'he', 'to', 'used', 'check', 'member', 'center', 'was', 'them', 'd', 'o', 'must', 'list', 'the', 'out', 'go', 'women', 'years', 'last', 'subject', 'based', 'please', 'program', 'uk', 'user', 'open', 'mail', 'for', 'so', 'site', 'on', 'links', 'this', 'can', 'case', 'posted', 'may', 'both', 'please', 'based', 'subject', 'program', 'uk', 'special', 'user', 'over', 'mail', 'for', 'so', 'site', 'this', 'links', 'also', 'pm', 'posted', 'can', 'case', 'may', 'was', 'them', 'center', 'd', 'email', 'o', 'news', 'must', 'list', 'related', 'out', 'phone', 'go', 'women', 'last', 'policy', 'years', 'view', 'way', 'store', 'n', 'hotel', 'e', 'part', 'me', 'report', 'year', 'reviews', 'own', 'internet', 'up', 'time', 'people', 'some', 'days', 'general', 'sports', 'date', 'games', 'house', 'add', 'city', 'most', 'great', 'world', 'and', 't', 'by', 'music', 'days', 'general', 'date', 'sports', 'house', 'know', 'city', 'add', 'great', 'most', 'world', 'are', 't', 'music', 'way', 'view', 'store', 'n', 'hotel', 'e', 'next', 'me', 'part', 'year', 'own', 'reviews', 'time', 'up', 'people', 'some', 'car', 'or', 'b', 'one', 'am', 'i', 'any', 'real', 'products', 'right', 'does', 'when', 'our', 'her', 'that', 'dvd', 'show', 'university', 'very', 'comments', 'than', 'ebay', 'their', 'hotels', 'long', 'south', 's', 'reserved', 'because', 'just', 'there', 'want', 'x', 'details', 'national', 'comments', 'ebay', 'than', 'hotels', 'long', 'south', 'reserved', 's', 'because', 'there', 'just', 'x', 'want', 'details', 'not', 'national', 'car', 'or', 'one', 'b', 'am', 'any', 'real', 'products', 'been', 'using', 'right', 'does', 'when', 'our', 'her', 'that', 'show', 'dvd', 'after', 'very', 'we', 'type', 'send', 'it', 'could', 'video', 'post', 'within', 'click', 'help', 'which', 'where', 'like', 'from', 'number', 'between', 'had', 'travel', 'results', 'first', 'work', 'about', 'would', 'in', 'code', 'order', 'off', 'who', 'travel', 'first', 'results', 'work', 'would', 'about', 'copyright', 'code', 'in', 'order', 'off', 'who', 'type', 'we', 'send', 'office', 'it', 'could', 'video', 'post', 'help', 'click', 'within', 'which', 'like', 'where', 'from', 'between', 'had', 'found', 'community', 'his', 'black', 'is', 'make', 'group', 'but', 'section', 'de', 'such', 'how', 'then', 'those', 'service', 'day', 'info', 'jan', 'school', 'index', 'l', 'website', 'all', 'management', 'top', 'life', 'security', 'health', 'of', 'international', 'much', 'state', 'services', 'books', 'life', 'security', 'health', 'of', 'international', 'much', 'books', 'services', 'found', 'his', 'community', 'black', 'group', 'make', 'is', 'but', 'de', 'section', 'such', 'then', 'how', 'those', 'family', 'said', 'service', 'school', 'index', 'jan', 'info', 'g', 'l', 'management', 'all', 'website', 'what', 'program', 'please', 'based', 'subject', 'uk', 'user', 'special', 'mail', 'over', 'open', 'for', 'so', 'links', 'this', 'on', 'site', 'may', 'both', 'posted', 'pm', 'case', 'can', 'was', 'center', 'here', 'email', 'd', 'o', 'news', 'must', 'list', 'phone', 'out', 'related', 'go', 'policy', 'last', 'years', 'them', 'was', 'here', 'd', 'news', 'o', 'must', 'the', 'list', 'out', 'phone', 'related', 'women', 'years', 'last', 'policy', 'program', 'based', 'uk', 'user', 'mail', 'open', 'over', 'for', 'so', 'on', 'also', 'links', 'site', 'both', 'may', 'case', 'can', 'pm', 'posted', 'research', 'under', 'your', 'back', 'if', 'same', 'before', 'my', 'local', 'sign', 'r', 'support', 'were', 'find', 'be', 'january', 'software', 'states', 'c', 'file', 'used', 'he', 'to', 'member', 'software', 'c', 'file', 'free', 'link', 'used', 'he', 'check', 'member', 'research', 'your', 'under', 'back', 'best', 'if', 'my', 'before', 'review', 'into', 'local', 'sign', 'r', 'support', 'find', 'were', 'they', 'at', 'p', 'other', 'pages', 'now', 'will', 'high', 'system', 'good', 'business', 'data', 'message', 'new', 'area', 'technology', 'get', 'web', 'have', 'buy', 'public', 'with', 'did', 'made', 'book', 'you', 'read', 'prices', 'home', 'well', 'only', 'use', 'take', 'address', 'education', 'technology', 'shipping', 'get', 'public', 'web', 'have', 'with', 'she', 'did', 'book', 'you', 'read', 'prices', 'well', 'a', 'take', 'only', 'an', 'address', 'education', 'they', 'p', 'at', 'pages', 'united', 'will', 'good', 'system', 'data', 'message', 'area', 'new', 'item', 'company', 'forum', 'w', 'as', 'information', 'more', 'map', 'should', 'has', 'even', 'rights', 'through', 'terms', 'see', 'page', 'contact', 'each', 'two', 'items', 'privacy', 'us', 'being', 'its', 'price', 'do', 'line', 'name', 'set', 'search', 'm', 'f', 'need', 'full', 'today', 're', 'design', 'project', 'each', 'contact', 'items', 'two', 'being', 'us', 'privacy', 'price', 'line', 'do', 'set', 'name', 'search', 'available', 'm', 'f', 'online', 're', 'today', 'need', 'full', 'project', 'design', 'item', 'company', 'forum', 'as', 'product', 'map', 'should', 'information', 'even', 'has', 'rights', 'terms', 'through', 'see', 'page']\n",
      "\n",
      "The unseen words are  ['download', 'care', 'him', 'h', 'end', 'place', 'members', 'county', 'computer', 'power', 'total', 'american', 'photo', 'following', 'while', 'systems', 'three', 'down', 'game', 'network']\n"
     ]
    }
   ],
   "source": [
    "#Insert code to print seen word classes \n",
    "test = set(test_df['Label'])\n",
    "train = set(train_df['Label'])\n",
    "seen_words=list(train_df['Label'])\n",
    "print(\"The seen words are \", seen_words)\n",
    "\n",
    "#Insert code to print unseen word classes from test set\n",
    "\n",
    "print(\"\")\n",
    "unseen_words=list(test-train)\n",
    "print(\"The unseen words are \", unseen_words)"
   ]
  },
  {
   "cell_type": "code",
   "execution_count": 164,
   "metadata": {
    "id": "CijrdSMD12rU"
   },
   "outputs": [],
   "source": [
    "NUM_EPOCHS=30\n",
    "BATCH_SIZE=8"
   ]
  },
  {
   "cell_type": "markdown",
   "metadata": {
    "id": "sKqf06tp12rV"
   },
   "source": [
    "# Tuning Hyperparameters for Omega Model\n",
    "We will now tune the *learning rate* for the first model. \n",
    "For that, load the train and validation data (images and their labels, i.e. Omega vectors) \n",
    "\n",
    "----\n",
    "\n",
    "**1 point**\n",
    "\n",
    "---"
   ]
  },
  {
   "cell_type": "code",
   "execution_count": 165,
   "metadata": {
    "id": "07Pdqt6Z12rV"
   },
   "outputs": [],
   "source": [
    "#Insert the code for loading train and validation set images and their corresponding labels \n",
    "def make_x(df, folder):\n",
    "    x=[]\n",
    "    for i in range(len(df)):\n",
    "        img=cv2.imread(folder+'/'+df['Image'][i])\n",
    "        x.append(img)\n",
    "    x=np.array(x, dtype='float32')\n",
    "    return x\n",
    "\n",
    "def make_y(df):\n",
    "    y=[]\n",
    "    for i in range(len(df)):\n",
    "        y.append(get_Omega_vector(df['Label'][i]))\n",
    "    y=np.array(y)\n",
    "    return y\n",
    "\n",
    "x_train=make_x(train_df, train_dir_path)\n",
    "y_train=make_y(train_df)\n",
    "x_val=make_x(val_df, validation_dir_path)\n",
    "y_val=make_y(val_df)"
   ]
  },
  {
   "cell_type": "markdown",
   "metadata": {
    "id": "4m_5CCl13WQ0"
   },
   "source": [
    "Now find the best LR for the Omega model.\n",
    "\n",
    "----\n",
    "\n",
    "**4 points**\n",
    "\n",
    "---"
   ]
  },
  {
   "cell_type": "code",
   "execution_count": 166,
   "metadata": {
    "colab": {
     "base_uri": "https://localhost:8080/"
    },
    "id": "WE_bbMO312rW",
    "outputId": "6fa3a381-2c84-4fc3-8e0b-c5597cef5226"
   },
   "outputs": [
    {
     "name": "stdout",
     "output_type": "stream",
     "text": [
      "Epoch 1/30\n",
      "257/257 [==============================] - 10s 38ms/step - loss: 2031.1008 - cosine_similarity: 0.4164 - val_loss: 0.2773 - val_cosine_similarity: 0.6802\n",
      "Epoch 2/30\n",
      "257/257 [==============================] - 9s 37ms/step - loss: 0.3115 - cosine_similarity: 0.6655 - val_loss: 0.2491 - val_cosine_similarity: 0.7012\n",
      "Epoch 3/30\n",
      "257/257 [==============================] - 9s 37ms/step - loss: 0.2778 - cosine_similarity: 0.6746 - val_loss: 0.2454 - val_cosine_similarity: 0.7047\n",
      "Epoch 4/30\n",
      "257/257 [==============================] - 9s 37ms/step - loss: 0.2796 - cosine_similarity: 0.6856 - val_loss: 0.2407 - val_cosine_similarity: 0.7112\n",
      "Epoch 5/30\n",
      "257/257 [==============================] - 10s 37ms/step - loss: 0.2665 - cosine_similarity: 0.6912 - val_loss: 0.2539 - val_cosine_similarity: 0.7150\n",
      "Epoch 6/30\n",
      "257/257 [==============================] - 10s 38ms/step - loss: 0.2628 - cosine_similarity: 0.6905 - val_loss: 0.2447 - val_cosine_similarity: 0.7146\n",
      "Epoch 7/30\n",
      "257/257 [==============================] - 10s 37ms/step - loss: 0.2594 - cosine_similarity: 0.6869 - val_loss: 0.2429 - val_cosine_similarity: 0.7115\n",
      "Epoch 8/30\n",
      "257/257 [==============================] - 10s 38ms/step - loss: 0.2639 - cosine_similarity: 0.6955 - val_loss: 0.2446 - val_cosine_similarity: 0.7124\n",
      "Epoch 9/30\n",
      "257/257 [==============================] - 10s 38ms/step - loss: 0.2588 - cosine_similarity: 0.7005 - val_loss: 0.2363 - val_cosine_similarity: 0.7139\n",
      "Epoch 10/30\n",
      "257/257 [==============================] - 10s 38ms/step - loss: 0.2562 - cosine_similarity: 0.6964 - val_loss: 0.2438 - val_cosine_similarity: 0.7104\n",
      "Epoch 11/30\n",
      "257/257 [==============================] - 10s 38ms/step - loss: 0.2563 - cosine_similarity: 0.7005 - val_loss: 0.2358 - val_cosine_similarity: 0.7154\n",
      "Epoch 12/30\n",
      "257/257 [==============================] - 10s 38ms/step - loss: 0.2613 - cosine_similarity: 0.6983 - val_loss: 0.2374 - val_cosine_similarity: 0.7173\n",
      "Epoch 13/30\n",
      "257/257 [==============================] - 10s 38ms/step - loss: 0.2576 - cosine_similarity: 0.6967 - val_loss: 0.2437 - val_cosine_similarity: 0.7141\n",
      "Epoch 14/30\n",
      "257/257 [==============================] - 10s 38ms/step - loss: 0.2531 - cosine_similarity: 0.6995 - val_loss: 0.2305 - val_cosine_similarity: 0.7199\n",
      "Epoch 15/30\n",
      "257/257 [==============================] - 10s 38ms/step - loss: 0.2530 - cosine_similarity: 0.7066 - val_loss: 0.2307 - val_cosine_similarity: 0.7262\n",
      "Epoch 16/30\n",
      "257/257 [==============================] - 10s 38ms/step - loss: 0.2449 - cosine_similarity: 0.7091 - val_loss: 0.2269 - val_cosine_similarity: 0.7289\n",
      "Epoch 17/30\n",
      "257/257 [==============================] - 10s 38ms/step - loss: 0.2441 - cosine_similarity: 0.7141 - val_loss: 0.2217 - val_cosine_similarity: 0.7408\n",
      "Epoch 18/30\n",
      "257/257 [==============================] - 10s 38ms/step - loss: 0.2380 - cosine_similarity: 0.7252 - val_loss: 0.2273 - val_cosine_similarity: 0.7367\n",
      "Epoch 19/30\n",
      "257/257 [==============================] - 10s 38ms/step - loss: 0.2365 - cosine_similarity: 0.7282 - val_loss: 0.2164 - val_cosine_similarity: 0.7464\n",
      "Epoch 20/30\n",
      "257/257 [==============================] - 10s 38ms/step - loss: 0.2250 - cosine_similarity: 0.7397 - val_loss: 0.2045 - val_cosine_similarity: 0.7649\n",
      "Epoch 21/30\n",
      "257/257 [==============================] - 10s 38ms/step - loss: 0.2161 - cosine_similarity: 0.7452 - val_loss: 0.2012 - val_cosine_similarity: 0.7689\n",
      "Epoch 22/30\n",
      "257/257 [==============================] - 10s 38ms/step - loss: 0.2119 - cosine_similarity: 0.7595 - val_loss: 0.1935 - val_cosine_similarity: 0.7789\n",
      "Epoch 23/30\n",
      "257/257 [==============================] - 10s 38ms/step - loss: 0.2105 - cosine_similarity: 0.7622 - val_loss: 0.1897 - val_cosine_similarity: 0.7886\n",
      "Epoch 24/30\n",
      "257/257 [==============================] - 10s 38ms/step - loss: 0.2061 - cosine_similarity: 0.7698 - val_loss: 0.1839 - val_cosine_similarity: 0.7947\n",
      "Epoch 25/30\n",
      "257/257 [==============================] - 10s 38ms/step - loss: 0.1938 - cosine_similarity: 0.7762 - val_loss: 0.1831 - val_cosine_similarity: 0.8030\n",
      "Epoch 26/30\n",
      "257/257 [==============================] - 10s 38ms/step - loss: 0.1968 - cosine_similarity: 0.7827 - val_loss: 0.1795 - val_cosine_similarity: 0.8076\n",
      "Epoch 27/30\n",
      "257/257 [==============================] - 10s 38ms/step - loss: 0.1909 - cosine_similarity: 0.7850 - val_loss: 0.1742 - val_cosine_similarity: 0.8130\n",
      "Epoch 28/30\n",
      "257/257 [==============================] - 10s 38ms/step - loss: 0.1922 - cosine_similarity: 0.7876 - val_loss: 0.1772 - val_cosine_similarity: 0.8122\n",
      "Epoch 29/30\n",
      "257/257 [==============================] - 10s 38ms/step - loss: 0.1834 - cosine_similarity: 0.7978 - val_loss: 0.1751 - val_cosine_similarity: 0.8110\n",
      "Epoch 30/30\n",
      "257/257 [==============================] - 10s 38ms/step - loss: 0.1870 - cosine_similarity: 0.7989 - val_loss: 0.1717 - val_cosine_similarity: 0.8210\n",
      "Epoch 1/30\n",
      "257/257 [==============================] - 11s 39ms/step - loss: 0.3253 - cosine_similarity: 0.6474 - val_loss: 0.2211 - val_cosine_similarity: 0.7273\n",
      "Epoch 2/30\n",
      "257/257 [==============================] - 10s 38ms/step - loss: 0.2521 - cosine_similarity: 0.7061 - val_loss: 0.2144 - val_cosine_similarity: 0.7332\n",
      "Epoch 3/30\n",
      "257/257 [==============================] - 10s 39ms/step - loss: 0.2484 - cosine_similarity: 0.7092 - val_loss: 0.2159 - val_cosine_similarity: 0.7330\n",
      "Epoch 4/30\n",
      "257/257 [==============================] - 11s 42ms/step - loss: 0.2339 - cosine_similarity: 0.7182 - val_loss: 0.2085 - val_cosine_similarity: 0.7393\n",
      "Epoch 5/30\n",
      "257/257 [==============================] - 10s 39ms/step - loss: 0.2301 - cosine_similarity: 0.7218 - val_loss: 0.2061 - val_cosine_similarity: 0.7383\n",
      "Epoch 6/30\n",
      "257/257 [==============================] - 10s 39ms/step - loss: 0.2193 - cosine_similarity: 0.7291 - val_loss: 0.2027 - val_cosine_similarity: 0.7428\n",
      "Epoch 7/30\n",
      "257/257 [==============================] - 10s 39ms/step - loss: 0.2178 - cosine_similarity: 0.7346 - val_loss: 0.1855 - val_cosine_similarity: 0.7717\n",
      "Epoch 8/30\n",
      "257/257 [==============================] - 10s 39ms/step - loss: 0.1997 - cosine_similarity: 0.7563 - val_loss: 0.1954 - val_cosine_similarity: 0.7823\n",
      "Epoch 9/30\n",
      "257/257 [==============================] - 10s 39ms/step - loss: 0.1908 - cosine_similarity: 0.7823 - val_loss: 0.1640 - val_cosine_similarity: 0.8140\n",
      "Epoch 10/30\n",
      "257/257 [==============================] - 10s 39ms/step - loss: 0.1693 - cosine_similarity: 0.8089 - val_loss: 0.1514 - val_cosine_similarity: 0.8324\n",
      "Epoch 11/30\n",
      "257/257 [==============================] - 10s 39ms/step - loss: 0.1557 - cosine_similarity: 0.8293 - val_loss: 0.1435 - val_cosine_similarity: 0.8430\n",
      "Epoch 12/30\n",
      "257/257 [==============================] - 10s 39ms/step - loss: 0.1469 - cosine_similarity: 0.8388 - val_loss: 0.1322 - val_cosine_similarity: 0.8537\n",
      "Epoch 13/30\n",
      "257/257 [==============================] - 10s 39ms/step - loss: 0.1333 - cosine_similarity: 0.8525 - val_loss: 0.1232 - val_cosine_similarity: 0.8695\n",
      "Epoch 14/30\n",
      "257/257 [==============================] - 10s 39ms/step - loss: 0.1279 - cosine_similarity: 0.8651 - val_loss: 0.1137 - val_cosine_similarity: 0.8825\n",
      "Epoch 15/30\n",
      "257/257 [==============================] - 10s 39ms/step - loss: 0.1232 - cosine_similarity: 0.8762 - val_loss: 0.1111 - val_cosine_similarity: 0.8900\n",
      "Epoch 16/30\n",
      "257/257 [==============================] - 10s 39ms/step - loss: 0.1083 - cosine_similarity: 0.8856 - val_loss: 0.0960 - val_cosine_similarity: 0.9022\n",
      "Epoch 17/30\n",
      "257/257 [==============================] - 10s 39ms/step - loss: 0.0994 - cosine_similarity: 0.8981 - val_loss: 0.0921 - val_cosine_similarity: 0.9069\n",
      "Epoch 18/30\n",
      "257/257 [==============================] - 10s 39ms/step - loss: 0.0941 - cosine_similarity: 0.9050 - val_loss: 0.1032 - val_cosine_similarity: 0.9019\n",
      "Epoch 19/30\n",
      "257/257 [==============================] - 10s 39ms/step - loss: 0.0922 - cosine_similarity: 0.9106 - val_loss: 0.0854 - val_cosine_similarity: 0.9208\n",
      "Epoch 20/30\n",
      "257/257 [==============================] - 10s 39ms/step - loss: 0.0820 - cosine_similarity: 0.9201 - val_loss: 0.0838 - val_cosine_similarity: 0.9206\n",
      "Epoch 21/30\n"
     ]
    },
    {
     "name": "stdout",
     "output_type": "stream",
     "text": [
      "257/257 [==============================] - 10s 39ms/step - loss: 0.0776 - cosine_similarity: 0.9258 - val_loss: 0.0734 - val_cosine_similarity: 0.9307\n",
      "Epoch 22/30\n",
      "257/257 [==============================] - 10s 39ms/step - loss: 0.0712 - cosine_similarity: 0.9332 - val_loss: 0.0698 - val_cosine_similarity: 0.9345\n",
      "Epoch 23/30\n",
      "257/257 [==============================] - 10s 39ms/step - loss: 0.0631 - cosine_similarity: 0.9378 - val_loss: 0.0620 - val_cosine_similarity: 0.9407\n",
      "Epoch 24/30\n",
      "257/257 [==============================] - 10s 39ms/step - loss: 0.0672 - cosine_similarity: 0.9418 - val_loss: 0.0603 - val_cosine_similarity: 0.9480\n",
      "Epoch 25/30\n",
      "257/257 [==============================] - 10s 39ms/step - loss: 0.0559 - cosine_similarity: 0.9498 - val_loss: 0.0760 - val_cosine_similarity: 0.9511\n",
      "Epoch 26/30\n",
      "257/257 [==============================] - 10s 39ms/step - loss: 0.0577 - cosine_similarity: 0.9503 - val_loss: 0.0652 - val_cosine_similarity: 0.9460\n",
      "Epoch 27/30\n",
      "257/257 [==============================] - 10s 39ms/step - loss: 0.0501 - cosine_similarity: 0.9549 - val_loss: 0.0428 - val_cosine_similarity: 0.9590\n",
      "Epoch 28/30\n",
      "257/257 [==============================] - 10s 39ms/step - loss: 0.0491 - cosine_similarity: 0.9581 - val_loss: 0.0444 - val_cosine_similarity: 0.9618\n",
      "Epoch 29/30\n",
      "257/257 [==============================] - 10s 39ms/step - loss: 0.0423 - cosine_similarity: 0.9633 - val_loss: 0.0373 - val_cosine_similarity: 0.9695\n",
      "Epoch 30/30\n",
      "257/257 [==============================] - 10s 38ms/step - loss: 0.0373 - cosine_similarity: 0.9675 - val_loss: 0.0362 - val_cosine_similarity: 0.9703\n",
      "Epoch 1/30\n",
      "257/257 [==============================] - 11s 39ms/step - loss: 0.3790 - cosine_similarity: 0.5563 - val_loss: 0.2404 - val_cosine_similarity: 0.7177\n",
      "Epoch 2/30\n",
      "257/257 [==============================] - 10s 39ms/step - loss: 0.2765 - cosine_similarity: 0.6817 - val_loss: 0.2278 - val_cosine_similarity: 0.7250\n",
      "Epoch 3/30\n",
      "257/257 [==============================] - 10s 39ms/step - loss: 0.2577 - cosine_similarity: 0.6886 - val_loss: 0.2204 - val_cosine_similarity: 0.7288\n",
      "Epoch 4/30\n",
      "257/257 [==============================] - 10s 39ms/step - loss: 0.2596 - cosine_similarity: 0.6956 - val_loss: 0.2170 - val_cosine_similarity: 0.7326\n",
      "Epoch 5/30\n",
      "257/257 [==============================] - 10s 39ms/step - loss: 0.2501 - cosine_similarity: 0.7023 - val_loss: 0.2213 - val_cosine_similarity: 0.7386\n",
      "Epoch 6/30\n",
      "257/257 [==============================] - 10s 38ms/step - loss: 0.2485 - cosine_similarity: 0.7087 - val_loss: 0.2155 - val_cosine_similarity: 0.7404\n",
      "Epoch 7/30\n",
      "257/257 [==============================] - 10s 39ms/step - loss: 0.2412 - cosine_similarity: 0.7101 - val_loss: 0.2253 - val_cosine_similarity: 0.7440\n",
      "Epoch 8/30\n",
      "257/257 [==============================] - 10s 38ms/step - loss: 0.2424 - cosine_similarity: 0.7127 - val_loss: 0.2165 - val_cosine_similarity: 0.7468\n",
      "Epoch 9/30\n",
      "257/257 [==============================] - 10s 38ms/step - loss: 0.2367 - cosine_similarity: 0.7146 - val_loss: 0.2169 - val_cosine_similarity: 0.7479\n",
      "Epoch 10/30\n",
      "257/257 [==============================] - 10s 39ms/step - loss: 0.2345 - cosine_similarity: 0.7138 - val_loss: 0.2038 - val_cosine_similarity: 0.7517\n",
      "Epoch 11/30\n",
      "257/257 [==============================] - 10s 39ms/step - loss: 0.2279 - cosine_similarity: 0.7194 - val_loss: 0.2032 - val_cosine_similarity: 0.7555\n",
      "Epoch 12/30\n",
      "257/257 [==============================] - 10s 39ms/step - loss: 0.2339 - cosine_similarity: 0.7287 - val_loss: 0.1970 - val_cosine_similarity: 0.7614\n",
      "Epoch 13/30\n",
      "257/257 [==============================] - 10s 39ms/step - loss: 0.2257 - cosine_similarity: 0.7328 - val_loss: 0.2031 - val_cosine_similarity: 0.7634\n",
      "Epoch 14/30\n",
      "257/257 [==============================] - 10s 39ms/step - loss: 0.2199 - cosine_similarity: 0.7343 - val_loss: 0.1972 - val_cosine_similarity: 0.7705\n",
      "Epoch 15/30\n",
      "257/257 [==============================] - 10s 39ms/step - loss: 0.2232 - cosine_similarity: 0.7434 - val_loss: 0.1883 - val_cosine_similarity: 0.7792\n",
      "Epoch 16/30\n",
      "257/257 [==============================] - 10s 39ms/step - loss: 0.2121 - cosine_similarity: 0.7481 - val_loss: 0.1848 - val_cosine_similarity: 0.7842\n",
      "Epoch 17/30\n",
      "257/257 [==============================] - 10s 39ms/step - loss: 0.2109 - cosine_similarity: 0.7503 - val_loss: 0.1778 - val_cosine_similarity: 0.7914\n",
      "Epoch 18/30\n",
      "257/257 [==============================] - 10s 39ms/step - loss: 0.2021 - cosine_similarity: 0.7621 - val_loss: 0.1739 - val_cosine_similarity: 0.7966\n",
      "Epoch 19/30\n",
      "257/257 [==============================] - 10s 39ms/step - loss: 0.1963 - cosine_similarity: 0.7690 - val_loss: 0.1825 - val_cosine_similarity: 0.7950\n",
      "Epoch 20/30\n",
      "257/257 [==============================] - 10s 39ms/step - loss: 0.1950 - cosine_similarity: 0.7763 - val_loss: 0.1673 - val_cosine_similarity: 0.8126\n",
      "Epoch 21/30\n",
      "257/257 [==============================] - 10s 39ms/step - loss: 0.1865 - cosine_similarity: 0.7811 - val_loss: 0.1702 - val_cosine_similarity: 0.8140\n",
      "Epoch 22/30\n",
      "257/257 [==============================] - 10s 39ms/step - loss: 0.1835 - cosine_similarity: 0.7885 - val_loss: 0.1615 - val_cosine_similarity: 0.8177\n",
      "Epoch 23/30\n",
      "257/257 [==============================] - 10s 39ms/step - loss: 0.1802 - cosine_similarity: 0.7918 - val_loss: 0.1639 - val_cosine_similarity: 0.8185\n",
      "Epoch 24/30\n",
      "257/257 [==============================] - 10s 39ms/step - loss: 0.1773 - cosine_similarity: 0.7969 - val_loss: 0.1558 - val_cosine_similarity: 0.8276\n",
      "Epoch 25/30\n",
      "257/257 [==============================] - 10s 39ms/step - loss: 0.1710 - cosine_similarity: 0.8017 - val_loss: 0.1489 - val_cosine_similarity: 0.8313\n",
      "Epoch 26/30\n",
      "257/257 [==============================] - 10s 39ms/step - loss: 0.1697 - cosine_similarity: 0.8072 - val_loss: 0.1511 - val_cosine_similarity: 0.8358\n",
      "Epoch 27/30\n",
      "257/257 [==============================] - 10s 39ms/step - loss: 0.1634 - cosine_similarity: 0.8087 - val_loss: 0.1520 - val_cosine_similarity: 0.8333\n",
      "Epoch 28/30\n",
      "257/257 [==============================] - 10s 39ms/step - loss: 0.1540 - cosine_similarity: 0.8172 - val_loss: 0.1370 - val_cosine_similarity: 0.8495\n",
      "Epoch 29/30\n",
      "257/257 [==============================] - 10s 39ms/step - loss: 0.1512 - cosine_similarity: 0.8249 - val_loss: 0.1326 - val_cosine_similarity: 0.8573\n",
      "Epoch 30/30\n",
      "257/257 [==============================] - 10s 39ms/step - loss: 0.1430 - cosine_similarity: 0.8374 - val_loss: 0.1267 - val_cosine_similarity: 0.8625\n",
      "0.0001\n"
     ]
    }
   ],
   "source": [
    "def determine_Omega_lr():\n",
    "    learning_rates = [1e-3,1e-4,1e-5]\n",
    "    avg_val_similarity = []\n",
    "    \n",
    "\n",
    "    for l_rate in learning_rates:\n",
    "        \n",
    "        # Insert your code here to build a model with the current learning rate\n",
    "        model = Omega_model(l_rate)\n",
    "        \n",
    "        # Insert your code here to train the model using the training set and validate using the validation set\n",
    "        h = model.fit(x=x_train,y=y_train, validation_data=(x_val, y_val), epochs=NUM_EPOCHS, batch_size = BATCH_SIZE)\n",
    "        \n",
    "        # Insert your code here to find the average validation accuracy for this model setting and append it to the maintained list\n",
    "        avg_val_similarity.append(np.average(h.history['val_cosine_similarity']))\n",
    "\n",
    "    # Insert your code here to figure out the learning rate which gives the highest average validation accuracy. Print the value and return it.\n",
    "    best_val_sim = max(avg_val_similarity)\n",
    "    best_LR_i=0\n",
    "    for i, val_sim in enumerate(avg_val_similarity):\n",
    "      if(val_sim==best_val_sim):\n",
    "        best_LR_i=i\n",
    "        break\n",
    "    print(learning_rates[best_LR_i])\n",
    "    return learning_rates[best_LR_i]\n",
    "\n",
    "# determine_best_learning_rate() is being called here\n",
    "best_Omega_lr = determine_Omega_lr()"
   ]
  },
  {
   "cell_type": "code",
   "execution_count": 167,
   "metadata": {
    "colab": {
     "base_uri": "https://localhost:8080/"
    },
    "id": "QE6IfQH_gDRK",
    "outputId": "1feb6db5-840a-49e9-f304-9afa81ace00b"
   },
   "outputs": [
    {
     "name": "stdout",
     "output_type": "stream",
     "text": [
      "Best Omega model learning rate: 0.0001\n"
     ]
    }
   ],
   "source": [
    "print(\"Best Omega model learning rate: \"+str(best_Omega_lr)) "
   ]
  },
  {
   "cell_type": "markdown",
   "metadata": {
    "id": "iUzZ3kKD12rX"
   },
   "source": [
    "# Tuning Hyperparameters for Alpha Model\n",
    "We will now tune the *learning rate* for the second model. \n",
    "\n",
    "For that, load the train and validation data (images and their labels, i.e. Alpha vectors) \n",
    "\n",
    "---\n",
    "\n",
    "**1 Point**\n",
    "\n",
    "---"
   ]
  },
  {
   "cell_type": "code",
   "execution_count": 168,
   "metadata": {
    "id": "ngXD2nHA30iH"
   },
   "outputs": [],
   "source": [
    "#Insert the code for loading train and validation set images and their corresponding labels (1 point)\n",
    "def make_x_a(df, folder):\n",
    "    x=[]\n",
    "    for i in range(len(df)):\n",
    "        img=cv2.imread(folder+'/'+df['Image'][i])\n",
    "        x.append(img)\n",
    "    x=np.array(x, dtype='float32')\n",
    "    return x\n",
    "\n",
    "def make_y_a(df):\n",
    "    y=[]\n",
    "    for i in range(len(df)):\n",
    "        y.append(get_Alpha_vector(df['Label'][i]))\n",
    "    y=np.array(y)\n",
    "    return y\n",
    "\n",
    "x_train_a=make_x_a(train_df, train_dir_path)\n",
    "y_train_a=make_y_a(train_df)\n",
    "x_val_a=make_x_a(val_df, validation_dir_path)\n",
    "y_val_a=make_y_a(val_df)"
   ]
  },
  {
   "cell_type": "markdown",
   "metadata": {
    "id": "eSscLeEi3_Fe"
   },
   "source": [
    "Now find the best LR for the Omega model.\n",
    "\n",
    "----\n",
    "\n",
    "**4 points**\n",
    "\n",
    "---"
   ]
  },
  {
   "cell_type": "code",
   "execution_count": 169,
   "metadata": {
    "colab": {
     "base_uri": "https://localhost:8080/"
    },
    "id": "AnnKLhfi12rX",
    "outputId": "32d001ba-03c0-4e10-aaf4-6ba09f051ce1"
   },
   "outputs": [
    {
     "name": "stdout",
     "output_type": "stream",
     "text": [
      "Epoch 1/30\n",
      "257/257 [==============================] - 11s 39ms/step - loss: 0.2715 - cosine_similarity: 0.2721 - val_loss: 0.1663 - val_cosine_similarity: 0.2889\n",
      "Epoch 2/30\n",
      "257/257 [==============================] - 10s 39ms/step - loss: 0.1704 - cosine_similarity: 0.3070 - val_loss: 0.1630 - val_cosine_similarity: 0.2956\n",
      "Epoch 3/30\n",
      "257/257 [==============================] - 10s 39ms/step - loss: 0.1689 - cosine_similarity: 0.3136 - val_loss: 0.1584 - val_cosine_similarity: 0.2990\n",
      "Epoch 4/30\n",
      "257/257 [==============================] - 10s 38ms/step - loss: 0.1696 - cosine_similarity: 0.3054 - val_loss: 0.1646 - val_cosine_similarity: 0.2980\n",
      "Epoch 5/30\n",
      "257/257 [==============================] - 10s 38ms/step - loss: 0.1707 - cosine_similarity: 0.3091 - val_loss: 0.1640 - val_cosine_similarity: 0.2979\n",
      "Epoch 6/30\n",
      "257/257 [==============================] - 10s 38ms/step - loss: 0.1706 - cosine_similarity: 0.3100 - val_loss: 0.1640 - val_cosine_similarity: 0.2985\n",
      "Epoch 7/30\n",
      "257/257 [==============================] - 10s 38ms/step - loss: 0.1697 - cosine_similarity: 0.3109 - val_loss: 0.1648 - val_cosine_similarity: 0.2971\n",
      "Epoch 8/30\n",
      "257/257 [==============================] - 10s 38ms/step - loss: 0.1685 - cosine_similarity: 0.3102 - val_loss: 0.1636 - val_cosine_similarity: 0.2963\n",
      "Epoch 9/30\n",
      "257/257 [==============================] - 10s 38ms/step - loss: 0.1695 - cosine_similarity: 0.3109 - val_loss: 0.1644 - val_cosine_similarity: 0.2932\n",
      "Epoch 10/30\n",
      "257/257 [==============================] - 10s 38ms/step - loss: 0.1684 - cosine_similarity: 0.3096 - val_loss: 0.1637 - val_cosine_similarity: 0.2973\n",
      "Epoch 11/30\n",
      "257/257 [==============================] - 10s 38ms/step - loss: 0.1664 - cosine_similarity: 0.3101 - val_loss: 0.1637 - val_cosine_similarity: 0.2991\n",
      "Epoch 12/30\n",
      "257/257 [==============================] - 10s 38ms/step - loss: 0.1689 - cosine_similarity: 0.3104 - val_loss: 0.1639 - val_cosine_similarity: 0.2985\n",
      "Epoch 13/30\n",
      "257/257 [==============================] - 10s 38ms/step - loss: 0.1687 - cosine_similarity: 0.3167 - val_loss: 0.1647 - val_cosine_similarity: 0.2921\n",
      "Epoch 14/30\n",
      "257/257 [==============================] - 10s 38ms/step - loss: 0.1695 - cosine_similarity: 0.3131 - val_loss: 0.1634 - val_cosine_similarity: 0.2989\n",
      "Epoch 15/30\n",
      "257/257 [==============================] - 10s 38ms/step - loss: 0.1682 - cosine_similarity: 0.3078 - val_loss: 0.1636 - val_cosine_similarity: 0.2982\n",
      "Epoch 16/30\n",
      "257/257 [==============================] - 10s 38ms/step - loss: 0.1681 - cosine_similarity: 0.3115 - val_loss: 0.1633 - val_cosine_similarity: 0.2972\n",
      "Epoch 17/30\n",
      "257/257 [==============================] - 10s 38ms/step - loss: 0.1688 - cosine_similarity: 0.3115 - val_loss: 0.1637 - val_cosine_similarity: 0.2950\n",
      "Epoch 18/30\n",
      "257/257 [==============================] - 10s 38ms/step - loss: 0.1675 - cosine_similarity: 0.3109 - val_loss: 0.1640 - val_cosine_similarity: 0.2973\n",
      "Epoch 19/30\n",
      "257/257 [==============================] - 10s 38ms/step - loss: 0.1687 - cosine_similarity: 0.3058 - val_loss: 0.1639 - val_cosine_similarity: 0.2981\n",
      "Epoch 20/30\n",
      "257/257 [==============================] - 10s 38ms/step - loss: 0.1687 - cosine_similarity: 0.3144 - val_loss: 0.1639 - val_cosine_similarity: 0.2971\n",
      "Epoch 21/30\n",
      "257/257 [==============================] - 10s 38ms/step - loss: 0.1677 - cosine_similarity: 0.3115 - val_loss: 0.1638 - val_cosine_similarity: 0.2982\n",
      "Epoch 22/30\n",
      "257/257 [==============================] - 10s 38ms/step - loss: 0.1685 - cosine_similarity: 0.3110 - val_loss: 0.1638 - val_cosine_similarity: 0.2984\n",
      "Epoch 23/30\n",
      "257/257 [==============================] - 10s 38ms/step - loss: 0.1684 - cosine_similarity: 0.3095 - val_loss: 0.1643 - val_cosine_similarity: 0.2953\n",
      "Epoch 24/30\n",
      "257/257 [==============================] - 10s 38ms/step - loss: 0.1661 - cosine_similarity: 0.3102 - val_loss: 0.1636 - val_cosine_similarity: 0.2998\n",
      "Epoch 25/30\n",
      "257/257 [==============================] - 10s 38ms/step - loss: 0.1693 - cosine_similarity: 0.3133 - val_loss: 0.1640 - val_cosine_similarity: 0.2973\n",
      "Epoch 26/30\n",
      "257/257 [==============================] - 10s 38ms/step - loss: 0.1692 - cosine_similarity: 0.3129 - val_loss: 0.1636 - val_cosine_similarity: 0.2977\n",
      "Epoch 27/30\n",
      "257/257 [==============================] - 10s 38ms/step - loss: 0.1676 - cosine_similarity: 0.3131 - val_loss: 0.1633 - val_cosine_similarity: 0.2976\n",
      "Epoch 28/30\n",
      "257/257 [==============================] - 10s 38ms/step - loss: 0.1690 - cosine_similarity: 0.3109 - val_loss: 0.1639 - val_cosine_similarity: 0.2961\n",
      "Epoch 29/30\n",
      "257/257 [==============================] - 10s 38ms/step - loss: 0.1677 - cosine_similarity: 0.3115 - val_loss: 0.1640 - val_cosine_similarity: 0.2940\n",
      "Epoch 30/30\n",
      "257/257 [==============================] - 10s 38ms/step - loss: 0.1692 - cosine_similarity: 0.3121 - val_loss: 0.1639 - val_cosine_similarity: 0.2979\n",
      "Epoch 1/30\n",
      "257/257 [==============================] - 11s 39ms/step - loss: 0.2340 - cosine_similarity: 0.2426 - val_loss: 0.1598 - val_cosine_similarity: 0.2930\n",
      "Epoch 2/30\n",
      "257/257 [==============================] - 10s 38ms/step - loss: 0.1722 - cosine_similarity: 0.2875 - val_loss: 0.1598 - val_cosine_similarity: 0.2875\n",
      "Epoch 3/30\n",
      "257/257 [==============================] - 10s 39ms/step - loss: 0.1679 - cosine_similarity: 0.2958 - val_loss: 0.1584 - val_cosine_similarity: 0.2990\n",
      "Epoch 4/30\n",
      "257/257 [==============================] - 10s 39ms/step - loss: 0.1674 - cosine_similarity: 0.3011 - val_loss: 0.1589 - val_cosine_similarity: 0.2930\n",
      "Epoch 5/30\n",
      "257/257 [==============================] - 10s 38ms/step - loss: 0.1666 - cosine_similarity: 0.3041 - val_loss: 0.1591 - val_cosine_similarity: 0.2897\n",
      "Epoch 6/30\n",
      "257/257 [==============================] - 10s 39ms/step - loss: 0.1658 - cosine_similarity: 0.3068 - val_loss: 0.1590 - val_cosine_similarity: 0.2967\n",
      "Epoch 7/30\n",
      "257/257 [==============================] - 10s 39ms/step - loss: 0.1673 - cosine_similarity: 0.3135 - val_loss: 0.1594 - val_cosine_similarity: 0.2909\n",
      "Epoch 8/30\n",
      "257/257 [==============================] - 10s 39ms/step - loss: 0.1660 - cosine_similarity: 0.3107 - val_loss: 0.1583 - val_cosine_similarity: 0.3004\n",
      "Epoch 9/30\n",
      "257/257 [==============================] - 10s 39ms/step - loss: 0.1665 - cosine_similarity: 0.3147 - val_loss: 0.1575 - val_cosine_similarity: 0.3010\n",
      "Epoch 10/30\n",
      "257/257 [==============================] - 10s 38ms/step - loss: 0.1629 - cosine_similarity: 0.3126 - val_loss: 0.1570 - val_cosine_similarity: 0.3007\n",
      "Epoch 11/30\n",
      "257/257 [==============================] - 10s 39ms/step - loss: 0.1621 - cosine_similarity: 0.3155 - val_loss: 0.1554 - val_cosine_similarity: 0.3070\n",
      "Epoch 12/30\n",
      "257/257 [==============================] - 10s 39ms/step - loss: 0.1584 - cosine_similarity: 0.3338 - val_loss: 0.1510 - val_cosine_similarity: 0.3308\n",
      "Epoch 13/30\n",
      "257/257 [==============================] - 10s 39ms/step - loss: 0.1526 - cosine_similarity: 0.3578 - val_loss: 0.1490 - val_cosine_similarity: 0.3442\n",
      "Epoch 14/30\n",
      "257/257 [==============================] - 10s 39ms/step - loss: 0.1513 - cosine_similarity: 0.3818 - val_loss: 0.1462 - val_cosine_similarity: 0.3654\n",
      "Epoch 15/30\n",
      "257/257 [==============================] - 10s 39ms/step - loss: 0.1507 - cosine_similarity: 0.3996 - val_loss: 0.1420 - val_cosine_similarity: 0.3899\n",
      "Epoch 16/30\n",
      "257/257 [==============================] - 10s 39ms/step - loss: 0.1437 - cosine_similarity: 0.4188 - val_loss: 0.1383 - val_cosine_similarity: 0.4126\n",
      "Epoch 17/30\n",
      "257/257 [==============================] - 10s 39ms/step - loss: 0.1379 - cosine_similarity: 0.4457 - val_loss: 0.1332 - val_cosine_similarity: 0.4385\n",
      "Epoch 18/30\n",
      "257/257 [==============================] - 10s 39ms/step - loss: 0.1313 - cosine_similarity: 0.4705 - val_loss: 0.1271 - val_cosine_similarity: 0.4631\n",
      "Epoch 19/30\n",
      "257/257 [==============================] - 10s 39ms/step - loss: 0.1249 - cosine_similarity: 0.5020 - val_loss: 0.1249 - val_cosine_similarity: 0.4906\n",
      "Epoch 20/30\n",
      "257/257 [==============================] - 10s 39ms/step - loss: 0.1174 - cosine_similarity: 0.5384 - val_loss: 0.1085 - val_cosine_similarity: 0.5530\n",
      "Epoch 21/30\n"
     ]
    },
    {
     "name": "stdout",
     "output_type": "stream",
     "text": [
      "257/257 [==============================] - 10s 39ms/step - loss: 0.1081 - cosine_similarity: 0.5810 - val_loss: 0.0983 - val_cosine_similarity: 0.5953\n",
      "Epoch 22/30\n",
      "257/257 [==============================] - 10s 39ms/step - loss: 0.0958 - cosine_similarity: 0.6191 - val_loss: 0.0946 - val_cosine_similarity: 0.6143\n",
      "Epoch 23/30\n",
      "257/257 [==============================] - 10s 39ms/step - loss: 0.0870 - cosine_similarity: 0.6629 - val_loss: 0.0787 - val_cosine_similarity: 0.6752\n",
      "Epoch 24/30\n",
      "257/257 [==============================] - 10s 39ms/step - loss: 0.0753 - cosine_similarity: 0.7016 - val_loss: 0.0689 - val_cosine_similarity: 0.7131\n",
      "Epoch 25/30\n",
      "257/257 [==============================] - 10s 39ms/step - loss: 0.0631 - cosine_similarity: 0.7530 - val_loss: 0.0600 - val_cosine_similarity: 0.7505\n",
      "Epoch 26/30\n",
      "257/257 [==============================] - 10s 39ms/step - loss: 0.0539 - cosine_similarity: 0.7900 - val_loss: 0.0523 - val_cosine_similarity: 0.7929\n",
      "Epoch 27/30\n",
      "257/257 [==============================] - 10s 39ms/step - loss: 0.0447 - cosine_similarity: 0.8314 - val_loss: 0.0334 - val_cosine_similarity: 0.8510\n",
      "Epoch 28/30\n",
      "257/257 [==============================] - 10s 39ms/step - loss: 0.0359 - cosine_similarity: 0.8627 - val_loss: 0.0262 - val_cosine_similarity: 0.8957\n",
      "Epoch 29/30\n",
      "257/257 [==============================] - 10s 39ms/step - loss: 0.0267 - cosine_similarity: 0.8967 - val_loss: 0.0203 - val_cosine_similarity: 0.9131\n",
      "Epoch 30/30\n",
      "257/257 [==============================] - 10s 39ms/step - loss: 0.0214 - cosine_similarity: 0.9192 - val_loss: 0.0188 - val_cosine_similarity: 0.9175\n",
      "Epoch 1/30\n",
      "257/257 [==============================] - 11s 39ms/step - loss: 0.3969 - cosine_similarity: 0.1908 - val_loss: 0.1642 - val_cosine_similarity: 0.2900\n",
      "Epoch 2/30\n",
      "257/257 [==============================] - 10s 39ms/step - loss: 0.1958 - cosine_similarity: 0.2288 - val_loss: 0.1617 - val_cosine_similarity: 0.2928\n",
      "Epoch 3/30\n",
      "257/257 [==============================] - 10s 39ms/step - loss: 0.1878 - cosine_similarity: 0.2462 - val_loss: 0.1614 - val_cosine_similarity: 0.2952\n",
      "Epoch 4/30\n",
      "257/257 [==============================] - 10s 39ms/step - loss: 0.1799 - cosine_similarity: 0.2601 - val_loss: 0.1590 - val_cosine_similarity: 0.2966\n",
      "Epoch 5/30\n",
      "257/257 [==============================] - 10s 39ms/step - loss: 0.1772 - cosine_similarity: 0.2679 - val_loss: 0.1582 - val_cosine_similarity: 0.2983\n",
      "Epoch 6/30\n",
      "257/257 [==============================] - 10s 39ms/step - loss: 0.1739 - cosine_similarity: 0.2781 - val_loss: 0.1571 - val_cosine_similarity: 0.3026\n",
      "Epoch 7/30\n",
      "257/257 [==============================] - 10s 39ms/step - loss: 0.1726 - cosine_similarity: 0.2825 - val_loss: 0.1559 - val_cosine_similarity: 0.3058\n",
      "Epoch 8/30\n",
      "257/257 [==============================] - 10s 39ms/step - loss: 0.1716 - cosine_similarity: 0.2842 - val_loss: 0.1563 - val_cosine_similarity: 0.3064\n",
      "Epoch 9/30\n",
      "257/257 [==============================] - 10s 39ms/step - loss: 0.1721 - cosine_similarity: 0.2926 - val_loss: 0.1558 - val_cosine_similarity: 0.3026\n",
      "Epoch 10/30\n",
      "257/257 [==============================] - 10s 39ms/step - loss: 0.1671 - cosine_similarity: 0.2947 - val_loss: 0.1547 - val_cosine_similarity: 0.3095\n",
      "Epoch 11/30\n",
      "257/257 [==============================] - 10s 39ms/step - loss: 0.1660 - cosine_similarity: 0.3000 - val_loss: 0.1542 - val_cosine_similarity: 0.3124\n",
      "Epoch 12/30\n",
      "257/257 [==============================] - 10s 39ms/step - loss: 0.1667 - cosine_similarity: 0.3062 - val_loss: 0.1538 - val_cosine_similarity: 0.3110\n",
      "Epoch 13/30\n",
      "257/257 [==============================] - 10s 39ms/step - loss: 0.1650 - cosine_similarity: 0.3067 - val_loss: 0.1531 - val_cosine_similarity: 0.3186\n",
      "Epoch 14/30\n",
      "257/257 [==============================] - 10s 39ms/step - loss: 0.1642 - cosine_similarity: 0.3116 - val_loss: 0.1532 - val_cosine_similarity: 0.3200\n",
      "Epoch 15/30\n",
      "257/257 [==============================] - 10s 39ms/step - loss: 0.1629 - cosine_similarity: 0.3105 - val_loss: 0.1520 - val_cosine_similarity: 0.3233\n",
      "Epoch 16/30\n",
      "257/257 [==============================] - 10s 39ms/step - loss: 0.1613 - cosine_similarity: 0.3214 - val_loss: 0.1514 - val_cosine_similarity: 0.3228\n",
      "Epoch 17/30\n",
      "257/257 [==============================] - 10s 39ms/step - loss: 0.1617 - cosine_similarity: 0.3226 - val_loss: 0.1502 - val_cosine_similarity: 0.3241\n",
      "Epoch 18/30\n",
      "257/257 [==============================] - 10s 39ms/step - loss: 0.1595 - cosine_similarity: 0.3292 - val_loss: 0.1504 - val_cosine_similarity: 0.3239\n",
      "Epoch 19/30\n",
      "257/257 [==============================] - 10s 39ms/step - loss: 0.1581 - cosine_similarity: 0.3312 - val_loss: 0.1511 - val_cosine_similarity: 0.3255\n",
      "Epoch 20/30\n",
      "257/257 [==============================] - 10s 39ms/step - loss: 0.1595 - cosine_similarity: 0.3337 - val_loss: 0.1492 - val_cosine_similarity: 0.3338\n",
      "Epoch 21/30\n",
      "257/257 [==============================] - 10s 39ms/step - loss: 0.1581 - cosine_similarity: 0.3378 - val_loss: 0.1496 - val_cosine_similarity: 0.3359\n",
      "Epoch 22/30\n",
      "257/257 [==============================] - 10s 39ms/step - loss: 0.1548 - cosine_similarity: 0.3438 - val_loss: 0.1483 - val_cosine_similarity: 0.3354\n",
      "Epoch 23/30\n",
      "257/257 [==============================] - 10s 39ms/step - loss: 0.1537 - cosine_similarity: 0.3498 - val_loss: 0.1464 - val_cosine_similarity: 0.3453\n",
      "Epoch 24/30\n",
      "257/257 [==============================] - 10s 39ms/step - loss: 0.1528 - cosine_similarity: 0.3569 - val_loss: 0.1453 - val_cosine_similarity: 0.3559\n",
      "Epoch 25/30\n",
      "257/257 [==============================] - 10s 39ms/step - loss: 0.1532 - cosine_similarity: 0.3639 - val_loss: 0.1452 - val_cosine_similarity: 0.3599\n",
      "Epoch 26/30\n",
      "257/257 [==============================] - 10s 39ms/step - loss: 0.1496 - cosine_similarity: 0.3733 - val_loss: 0.1441 - val_cosine_similarity: 0.3685\n",
      "Epoch 27/30\n",
      "257/257 [==============================] - 10s 39ms/step - loss: 0.1485 - cosine_similarity: 0.3753 - val_loss: 0.1428 - val_cosine_similarity: 0.3773\n",
      "Epoch 28/30\n",
      "257/257 [==============================] - 10s 39ms/step - loss: 0.1478 - cosine_similarity: 0.3795 - val_loss: 0.1405 - val_cosine_similarity: 0.3824\n",
      "Epoch 29/30\n",
      "257/257 [==============================] - 10s 39ms/step - loss: 0.1446 - cosine_similarity: 0.3899 - val_loss: 0.1399 - val_cosine_similarity: 0.3879\n",
      "Epoch 30/30\n",
      "257/257 [==============================] - 10s 39ms/step - loss: 0.1460 - cosine_similarity: 0.3926 - val_loss: 0.1412 - val_cosine_similarity: 0.3925\n",
      "0.0001\n"
     ]
    }
   ],
   "source": [
    "def determine_Alpha_lr():\n",
    "    learning_rates = [1e-3,1e-4,1e-5]\n",
    "    avg_val_similarity = []\n",
    "    \n",
    "\n",
    "    for l_rate in learning_rates:\n",
    "        \n",
    "        # Insert your code here to build a model with the current learning rate\n",
    "        model = Alpha_model(l_rate)\n",
    "        \n",
    "        # Insert your code here to train the model using the training set and validate using the validation set\n",
    "        h = model.fit(x=x_train_a,y=y_train_a, validation_data=(x_val_a, y_val_a), epochs=NUM_EPOCHS, batch_size = BATCH_SIZE)\n",
    "        \n",
    "        # Insert your code here to find the average validation accuracy for this model setting and append it to the maintained list\n",
    "        avg_val_similarity.append(np.average(h.history['val_cosine_similarity']))\n",
    "\n",
    "    # Insert your code here to figure out the learning rate which gives the highest average validation accuracy. Print the value and return it.\n",
    "    best_val_sim = max(avg_val_similarity)\n",
    "    best_LR_i=0\n",
    "    for i, val_sim in enumerate(avg_val_similarity):\n",
    "      if(val_sim==best_val_sim):\n",
    "        best_LR_i=i\n",
    "        break\n",
    "    print(learning_rates[best_LR_i])\n",
    "    return learning_rates[best_LR_i]\n",
    "\n",
    "\n",
    "# determine_best_learning_rate() is being called here\n",
    "best_Alpha_lr = determine_Alpha_lr()"
   ]
  },
  {
   "cell_type": "code",
   "execution_count": 170,
   "metadata": {
    "colab": {
     "base_uri": "https://localhost:8080/"
    },
    "id": "ruo82cVkgDRL",
    "outputId": "533b2471-866b-4fbf-ff3c-2317d4bf498a"
   },
   "outputs": [
    {
     "name": "stdout",
     "output_type": "stream",
     "text": [
      "Best Aplha model learning rate: 0.0001\n"
     ]
    }
   ],
   "source": [
    "print(\"Best Aplha model learning rate: \"+str(best_Alpha_lr)) "
   ]
  },
  {
   "cell_type": "markdown",
   "metadata": {
    "id": "7VwwwHmz12rX"
   },
   "source": [
    "---\n",
    "\n",
    "Describe the purpose and arguments of following callbacks from `tensorflow.keras.callbacks`\n",
    "\n",
    "\n",
    "1. EarlyStopping() **[2 Points]**\n",
    "\n",
    "> It is used to monitor the progress of the model and stop the model early if the metric/quantity has stopped changing.\n",
    "\n",
    "> Its arguments are\n",
    "1)**monitor**\t- the quantity to be monitored. \n",
    "2)**min_delta**\t- Minimum change in the monitored quantity to qualify as an improvement, i.e. an absolute change of less than min_delta, will count as no improvement.\n",
    "3)**patience** - The number of epochs the model will wait if there is no improvement in the monitored quantity after which the training will be stopped.\n",
    "4)**mode** - can be either \"auto\", \"max\", \"min\". In min mode, training will stop when the quantity monitored has stopped decreasing, in \"max\" mode it will stop when the quantity monitored has stopped increasing and in \"auto\" mode, the direction is automatically inferred from the name of the monitored quantity.\n",
    "\n",
    "2. ReduceLROnPlateau() **[2 Points]**\n",
    "\n",
    "> If the model stagnates after some number of epochs, then we reduce the learning rate by some factor so as to improve the convergence rate during the plateau.\n",
    "\n",
    "> Important arguments are - \n",
    "1)**factor** - the factor by which to reduce the learning rate of the model.\n",
    "2)**monitor**\t- the quantity to be monitored. \n",
    "3)**min_delta**\t- Minimum change in the monitored quantity to qualify as an improvement, i.e. an absolute change of less than min_delta, will count as no improvement.\n",
    "4)**patience** - The number of epochs the model will wait if there is no improvement in the monitored quantity after which the training will be stopped.\n",
    "5)**mode** - can be either \"auto\", \"max\", \"min\". In min mode, training will stop when the quantity monitored has stopped decreasing, in \"max\" mode it will stop when the quantity monitored has stopped increasing and in \"auto\" mode, the direction is automatically inferred from the name of the monitored quantity.\n",
    "6)**min_lr** - the minimum learning rate below which we can't further reduce the learning rate.\n",
    "\n",
    "3. CSVLogger() **[2 Points]**\n",
    "\n",
    "> This function saves the log/history of training the model to the given location.\n",
    "\n",
    "> Important arguments are -\n",
    "1)**filename** - name of the CSV file into which to dump the logs.\n",
    "2)**separator**\t- String by which the seperate the elements of the log in the CSV file\n",
    "3)**append** - Boolean value which tells if we should append the file to the existing CSV log file or overwrite it.\n",
    "\n",
    "4. ModelCheckPoint()  **[2 Points]**\n",
    "\n",
    "> It is used to create training checkpoints after some interval which store all the information about the model and the training. We can later use this to continue training where we left off, or use the saved model for predictions.\n",
    "\n",
    "> Important arguments are -\n",
    "1)**monitor**\t- the quantity to be monitored. \n",
    "2)**save_freq** - The number of epochs after which to save the model periodically.\n",
    "3)**mode** - can be either \"auto\", \"max\", \"min\". In min mode, training will stop when the quantity monitored has stopped decreasing, in \"max\" mode it will stop when the quantity monitored has stopped increasing and in \"auto\" mode, the direction is automatically inferred from the name of the monitored quantity.\n",
    "4)**save_best_only** - boolean value which tells to save the best model only according to the quantity monitored. \n",
    "5)**filepath** - the path where to save the checkpoints and the model.\n",
    "6)**save_weights_only** - boolean value which tells whether to save only the weights of the model, if it is false the full model is saved and if true then only the weights will be saved."
   ]
  },
  {
   "cell_type": "markdown",
   "metadata": {
    "id": "jjyJpqPJdo1N"
   },
   "source": [
    "# Model building and training using callbacks\n",
    "\n",
    "---\n",
    "Now build and summarize the Omega model as per the best learning rate value determined earlier.\n",
    "\n",
    "---\n",
    "\n",
    "**1 Point**\n",
    "\n",
    "---\n",
    "\n",
    "\n"
   ]
  },
  {
   "cell_type": "code",
   "execution_count": 171,
   "metadata": {
    "id": "5faBvh2e12rY"
   },
   "outputs": [],
   "source": [
    "# Insert code for building model using the best LR determined\n",
    "omega_m = Omega_model(best_Omega_lr)"
   ]
  },
  {
   "cell_type": "markdown",
   "metadata": {
    "id": "xSgQlN2R12rY"
   },
   "source": [
    "Now instantiate the four callbacks which you have described above.\n",
    "\n",
    "\n",
    "---\n",
    "\n",
    "**2 Points**\n",
    "\n",
    "---"
   ]
  },
  {
   "cell_type": "code",
   "execution_count": 172,
   "metadata": {
    "id": "JmMUsp4312rY"
   },
   "outputs": [],
   "source": [
    "# EarlyStopping after validation loss has not improved for 5 epochs \n",
    "es_o = tf.keras.callbacks.EarlyStopping('val_loss', patience=5)\n",
    "\n",
    "# ReduceLROnPlateau reducing LR by half when validation loss has not improved for 3 epochs. \n",
    "rLRP_o = tf.keras.callbacks.ReduceLROnPlateau('val_loss', factor=0.5, patience=3)\n",
    "\n",
    "# CSVlogger for keeping logs in filename of your choice\n",
    "csvL_o = tf.keras.callbacks.CSVLogger('omega_log.csv')\n",
    "\n",
    "# ModelCheckpoint that saves the best weights of model after every 10 epochs\n",
    "mc_o = tf.keras.callbacks.ModelCheckpoint('/home/anshul/Downloads/Lab3a/WR-Dataset/checkpoint/omega', save_freq=10)\n",
    "\n",
    "# Make a list of all the callbacks\n",
    "callback_list_o = [es_o, rLRP_o, csvL_o, mc_o]"
   ]
  },
  {
   "cell_type": "markdown",
   "metadata": {
    "id": "qEe2QedJ12rY"
   },
   "source": [
    "Now train the model using these callbacks for the loaded training word images.\n",
    "\n",
    "---\n",
    "\n",
    "**7 Points**\n",
    "\n",
    "---"
   ]
  },
  {
   "cell_type": "code",
   "execution_count": 173,
   "metadata": {
    "colab": {
     "base_uri": "https://localhost:8080/"
    },
    "id": "1B0rW-Fz12rY",
    "outputId": "5225a0cc-a361-4d21-c9ed-b143f41cb15f"
   },
   "outputs": [
    {
     "name": "stdout",
     "output_type": "stream",
     "text": [
      "Epoch 1/30\n",
      "  9/257 [>.............................] - ETA: 9s - loss: 0.4831 - cosine_similarity: 0.3496INFO:tensorflow:Assets written to: /home/anshul/Downloads/Lab3a/WR-Dataset/checkpoint/omega/assets\n",
      " 19/257 [=>............................] - ETA: 36s - loss: 0.4418 - cosine_similarity: 0.4416INFO:tensorflow:Assets written to: /home/anshul/Downloads/Lab3a/WR-Dataset/checkpoint/omega/assets\n",
      " 29/257 [==>...........................] - ETA: 42s - loss: 0.4177 - cosine_similarity: 0.4910INFO:tensorflow:Assets written to: /home/anshul/Downloads/Lab3a/WR-Dataset/checkpoint/omega/assets\n",
      " 39/257 [===>..........................] - ETA: 48s - loss: 0.4000 - cosine_similarity: 0.5219INFO:tensorflow:Assets written to: /home/anshul/Downloads/Lab3a/WR-Dataset/checkpoint/omega/assets\n",
      " 49/257 [====>.........................] - ETA: 47s - loss: 0.3873 - cosine_similarity: 0.5426INFO:tensorflow:Assets written to: /home/anshul/Downloads/Lab3a/WR-Dataset/checkpoint/omega/assets\n",
      " 59/257 [=====>........................] - ETA: 45s - loss: 0.3784 - cosine_similarity: 0.5579INFO:tensorflow:Assets written to: /home/anshul/Downloads/Lab3a/WR-Dataset/checkpoint/omega/assets\n",
      " 69/257 [=======>......................] - ETA: 43s - loss: 0.3709 - cosine_similarity: 0.5697INFO:tensorflow:Assets written to: /home/anshul/Downloads/Lab3a/WR-Dataset/checkpoint/omega/assets\n",
      " 79/257 [========>.....................] - ETA: 43s - loss: 0.3645 - cosine_similarity: 0.5794INFO:tensorflow:Assets written to: /home/anshul/Downloads/Lab3a/WR-Dataset/checkpoint/omega/assets\n",
      " 89/257 [=========>....................] - ETA: 40s - loss: 0.3589 - cosine_similarity: 0.5875INFO:tensorflow:Assets written to: /home/anshul/Downloads/Lab3a/WR-Dataset/checkpoint/omega/assets\n",
      " 99/257 [==========>...................] - ETA: 38s - loss: 0.3537 - cosine_similarity: 0.5943INFO:tensorflow:Assets written to: /home/anshul/Downloads/Lab3a/WR-Dataset/checkpoint/omega/assets\n",
      "109/257 [===========>..................] - ETA: 36s - loss: 0.3493 - cosine_similarity: 0.6002INFO:tensorflow:Assets written to: /home/anshul/Downloads/Lab3a/WR-Dataset/checkpoint/omega/assets\n",
      "119/257 [============>.................] - ETA: 34s - loss: 0.3453 - cosine_similarity: 0.6053INFO:tensorflow:Assets written to: /home/anshul/Downloads/Lab3a/WR-Dataset/checkpoint/omega/assets\n",
      "129/257 [==============>...............] - ETA: 31s - loss: 0.3416 - cosine_similarity: 0.6100INFO:tensorflow:Assets written to: /home/anshul/Downloads/Lab3a/WR-Dataset/checkpoint/omega/assets\n",
      "139/257 [===============>..............] - ETA: 29s - loss: 0.3382 - cosine_similarity: 0.6142INFO:tensorflow:Assets written to: /home/anshul/Downloads/Lab3a/WR-Dataset/checkpoint/omega/assets\n",
      "149/257 [================>.............] - ETA: 26s - loss: 0.3350 - cosine_similarity: 0.6180INFO:tensorflow:Assets written to: /home/anshul/Downloads/Lab3a/WR-Dataset/checkpoint/omega/assets\n",
      "159/257 [=================>............] - ETA: 24s - loss: 0.3322 - cosine_similarity: 0.6214INFO:tensorflow:Assets written to: /home/anshul/Downloads/Lab3a/WR-Dataset/checkpoint/omega/assets\n",
      "169/257 [==================>...........] - ETA: 22s - loss: 0.3299 - cosine_similarity: 0.6246INFO:tensorflow:Assets written to: /home/anshul/Downloads/Lab3a/WR-Dataset/checkpoint/omega/assets\n",
      "179/257 [===================>..........] - ETA: 19s - loss: 0.3280 - cosine_similarity: 0.6274INFO:tensorflow:Assets written to: /home/anshul/Downloads/Lab3a/WR-Dataset/checkpoint/omega/assets\n",
      "189/257 [=====================>........] - ETA: 17s - loss: 0.3262 - cosine_similarity: 0.6300INFO:tensorflow:Assets written to: /home/anshul/Downloads/Lab3a/WR-Dataset/checkpoint/omega/assets\n",
      "199/257 [======================>.......] - ETA: 14s - loss: 0.3247 - cosine_similarity: 0.6324INFO:tensorflow:Assets written to: /home/anshul/Downloads/Lab3a/WR-Dataset/checkpoint/omega/assets\n",
      "209/257 [=======================>......] - ETA: 12s - loss: 0.3232 - cosine_similarity: 0.6346INFO:tensorflow:Assets written to: /home/anshul/Downloads/Lab3a/WR-Dataset/checkpoint/omega/assets\n",
      "219/257 [========================>.....] - ETA: 9s - loss: 0.3219 - cosine_similarity: 0.6366 INFO:tensorflow:Assets written to: /home/anshul/Downloads/Lab3a/WR-Dataset/checkpoint/omega/assets\n",
      "229/257 [=========================>....] - ETA: 7s - loss: 0.3206 - cosine_similarity: 0.6385INFO:tensorflow:Assets written to: /home/anshul/Downloads/Lab3a/WR-Dataset/checkpoint/omega/assets\n",
      "239/257 [==========================>...] - ETA: 4s - loss: 0.3194 - cosine_similarity: 0.6403INFO:tensorflow:Assets written to: /home/anshul/Downloads/Lab3a/WR-Dataset/checkpoint/omega/assets\n",
      "249/257 [============================>.] - ETA: 2s - loss: 0.3181 - cosine_similarity: 0.6419INFO:tensorflow:Assets written to: /home/anshul/Downloads/Lab3a/WR-Dataset/checkpoint/omega/assets\n",
      "257/257 [==============================] - 67s 257ms/step - loss: 0.3171 - cosine_similarity: 0.6433 - val_loss: 0.2221 - val_cosine_similarity: 0.7268\n",
      "Epoch 2/30\n",
      "  3/257 [..............................] - ETA: 9s - loss: 0.2448 - cosine_similarity: 0.7044INFO:tensorflow:Assets written to: /home/anshul/Downloads/Lab3a/WR-Dataset/checkpoint/omega/assets\n",
      " 12/257 [>.............................] - ETA: 54s - loss: 0.2441 - cosine_similarity: 0.6841 INFO:tensorflow:Assets written to: /home/anshul/Downloads/Lab3a/WR-Dataset/checkpoint/omega/assets\n",
      " 22/257 [=>............................] - ETA: 53s - loss: 0.2531 - cosine_similarity: 0.6810INFO:tensorflow:Assets written to: /home/anshul/Downloads/Lab3a/WR-Dataset/checkpoint/omega/assets\n",
      " 32/257 [==>...........................] - ETA: 56s - loss: 0.2578 - cosine_similarity: 0.6828 INFO:tensorflow:Assets written to: /home/anshul/Downloads/Lab3a/WR-Dataset/checkpoint/omega/assets\n",
      " 42/257 [===>..........................] - ETA: 53s - loss: 0.2607 - cosine_similarity: 0.6846INFO:tensorflow:Assets written to: /home/anshul/Downloads/Lab3a/WR-Dataset/checkpoint/omega/assets\n",
      " 52/257 [=====>........................] - ETA: 51s - loss: 0.2620 - cosine_similarity: 0.6860INFO:tensorflow:Assets written to: /home/anshul/Downloads/Lab3a/WR-Dataset/checkpoint/omega/assets\n",
      " 62/257 [======>.......................] - ETA: 49s - loss: 0.2625 - cosine_similarity: 0.6871INFO:tensorflow:Assets written to: /home/anshul/Downloads/Lab3a/WR-Dataset/checkpoint/omega/assets\n",
      " 72/257 [=======>......................] - ETA: 48s - loss: 0.2628 - cosine_similarity: 0.6878INFO:tensorflow:Assets written to: /home/anshul/Downloads/Lab3a/WR-Dataset/checkpoint/omega/assets\n",
      " 82/257 [========>.....................] - ETA: 45s - loss: 0.2630 - cosine_similarity: 0.6886INFO:tensorflow:Assets written to: /home/anshul/Downloads/Lab3a/WR-Dataset/checkpoint/omega/assets\n",
      " 92/257 [=========>....................] - ETA: 42s - loss: 0.2630 - cosine_similarity: 0.6891INFO:tensorflow:Assets written to: /home/anshul/Downloads/Lab3a/WR-Dataset/checkpoint/omega/assets\n",
      "102/257 [==========>...................] - ETA: 39s - loss: 0.2629 - cosine_similarity: 0.6898INFO:tensorflow:Assets written to: /home/anshul/Downloads/Lab3a/WR-Dataset/checkpoint/omega/assets\n",
      "112/257 [============>.................] - ETA: 36s - loss: 0.2629 - cosine_similarity: 0.6906INFO:tensorflow:Assets written to: /home/anshul/Downloads/Lab3a/WR-Dataset/checkpoint/omega/assets\n",
      "122/257 [=============>................] - ETA: 34s - loss: 0.2626 - cosine_similarity: 0.6915INFO:tensorflow:Assets written to: /home/anshul/Downloads/Lab3a/WR-Dataset/checkpoint/omega/assets\n",
      "132/257 [==============>...............] - ETA: 32s - loss: 0.2622 - cosine_similarity: 0.6923INFO:tensorflow:Assets written to: /home/anshul/Downloads/Lab3a/WR-Dataset/checkpoint/omega/assets\n",
      "142/257 [===============>..............] - ETA: 29s - loss: 0.2617 - cosine_similarity: 0.6930INFO:tensorflow:Assets written to: /home/anshul/Downloads/Lab3a/WR-Dataset/checkpoint/omega/assets\n",
      "152/257 [================>.............] - ETA: 26s - loss: 0.2612 - cosine_similarity: 0.6936INFO:tensorflow:Assets written to: /home/anshul/Downloads/Lab3a/WR-Dataset/checkpoint/omega/assets\n",
      "162/257 [=================>............] - ETA: 24s - loss: 0.2608 - cosine_similarity: 0.6941INFO:tensorflow:Assets written to: /home/anshul/Downloads/Lab3a/WR-Dataset/checkpoint/omega/assets\n"
     ]
    },
    {
     "name": "stdout",
     "output_type": "stream",
     "text": [
      "172/257 [===================>..........] - ETA: 21s - loss: 0.2604 - cosine_similarity: 0.6945INFO:tensorflow:Assets written to: /home/anshul/Downloads/Lab3a/WR-Dataset/checkpoint/omega/assets\n",
      "182/257 [====================>.........] - ETA: 19s - loss: 0.2600 - cosine_similarity: 0.6949INFO:tensorflow:Assets written to: /home/anshul/Downloads/Lab3a/WR-Dataset/checkpoint/omega/assets\n",
      "192/257 [=====================>........] - ETA: 16s - loss: 0.2597 - cosine_similarity: 0.6953INFO:tensorflow:Assets written to: /home/anshul/Downloads/Lab3a/WR-Dataset/checkpoint/omega/assets\n",
      "202/257 [======================>.......] - ETA: 14s - loss: 0.2594 - cosine_similarity: 0.6957INFO:tensorflow:Assets written to: /home/anshul/Downloads/Lab3a/WR-Dataset/checkpoint/omega/assets\n",
      "212/257 [=======================>......] - ETA: 11s - loss: 0.2592 - cosine_similarity: 0.6961INFO:tensorflow:Assets written to: /home/anshul/Downloads/Lab3a/WR-Dataset/checkpoint/omega/assets\n",
      "222/257 [========================>.....] - ETA: 8s - loss: 0.2589 - cosine_similarity: 0.6964INFO:tensorflow:Assets written to: /home/anshul/Downloads/Lab3a/WR-Dataset/checkpoint/omega/assets\n",
      "232/257 [==========================>...] - ETA: 6s - loss: 0.2586 - cosine_similarity: 0.6967INFO:tensorflow:Assets written to: /home/anshul/Downloads/Lab3a/WR-Dataset/checkpoint/omega/assets\n",
      "242/257 [===========================>..] - ETA: 3s - loss: 0.2583 - cosine_similarity: 0.6969INFO:tensorflow:Assets written to: /home/anshul/Downloads/Lab3a/WR-Dataset/checkpoint/omega/assets\n",
      "252/257 [============================>.] - ETA: 1s - loss: 0.2580 - cosine_similarity: 0.6972INFO:tensorflow:Assets written to: /home/anshul/Downloads/Lab3a/WR-Dataset/checkpoint/omega/assets\n",
      "257/257 [==============================] - 67s 263ms/step - loss: 0.2579 - cosine_similarity: 0.6973 - val_loss: 0.2415 - val_cosine_similarity: 0.7313\n",
      "Epoch 3/30\n",
      "  5/257 [..............................] - ETA: 9s - loss: 0.2304 - cosine_similarity: 0.6809INFO:tensorflow:Assets written to: /home/anshul/Downloads/Lab3a/WR-Dataset/checkpoint/omega/assets\n",
      " 15/257 [>.............................] - ETA: 43s - loss: 0.2518 - cosine_similarity: 0.6930INFO:tensorflow:Assets written to: /home/anshul/Downloads/Lab3a/WR-Dataset/checkpoint/omega/assets\n",
      " 25/257 [=>............................] - ETA: 47s - loss: 0.2520 - cosine_similarity: 0.6979INFO:tensorflow:Assets written to: /home/anshul/Downloads/Lab3a/WR-Dataset/checkpoint/omega/assets\n",
      " 35/257 [===>..........................] - ETA: 51s - loss: 0.2532 - cosine_similarity: 0.6997INFO:tensorflow:Assets written to: /home/anshul/Downloads/Lab3a/WR-Dataset/checkpoint/omega/assets\n",
      " 45/257 [====>.........................] - ETA: 49s - loss: 0.2544 - cosine_similarity: 0.7014INFO:tensorflow:Assets written to: /home/anshul/Downloads/Lab3a/WR-Dataset/checkpoint/omega/assets\n",
      " 55/257 [=====>........................] - ETA: 47s - loss: 0.2550 - cosine_similarity: 0.7021INFO:tensorflow:Assets written to: /home/anshul/Downloads/Lab3a/WR-Dataset/checkpoint/omega/assets\n",
      " 65/257 [======>.......................] - ETA: 45s - loss: 0.2553 - cosine_similarity: 0.7025INFO:tensorflow:Assets written to: /home/anshul/Downloads/Lab3a/WR-Dataset/checkpoint/omega/assets\n",
      " 75/257 [=======>......................] - ETA: 44s - loss: 0.2551 - cosine_similarity: 0.7026INFO:tensorflow:Assets written to: /home/anshul/Downloads/Lab3a/WR-Dataset/checkpoint/omega/assets\n",
      " 85/257 [========>.....................] - ETA: 41s - loss: 0.2548 - cosine_similarity: 0.7026INFO:tensorflow:Assets written to: /home/anshul/Downloads/Lab3a/WR-Dataset/checkpoint/omega/assets\n",
      " 95/257 [==========>...................] - ETA: 39s - loss: 0.2545 - cosine_similarity: 0.7026INFO:tensorflow:Assets written to: /home/anshul/Downloads/Lab3a/WR-Dataset/checkpoint/omega/assets\n",
      "105/257 [===========>..................] - ETA: 36s - loss: 0.2542 - cosine_similarity: 0.7028INFO:tensorflow:Assets written to: /home/anshul/Downloads/Lab3a/WR-Dataset/checkpoint/omega/assets\n",
      "115/257 [============>.................] - ETA: 34s - loss: 0.2537 - cosine_similarity: 0.7031INFO:tensorflow:Assets written to: /home/anshul/Downloads/Lab3a/WR-Dataset/checkpoint/omega/assets\n",
      "125/257 [=============>................] - ETA: 32s - loss: 0.2533 - cosine_similarity: 0.7035INFO:tensorflow:Assets written to: /home/anshul/Downloads/Lab3a/WR-Dataset/checkpoint/omega/assets\n",
      "135/257 [==============>...............] - ETA: 29s - loss: 0.2529 - cosine_similarity: 0.7038INFO:tensorflow:Assets written to: /home/anshul/Downloads/Lab3a/WR-Dataset/checkpoint/omega/assets\n",
      "145/257 [===============>..............] - ETA: 27s - loss: 0.2524 - cosine_similarity: 0.7042INFO:tensorflow:Assets written to: /home/anshul/Downloads/Lab3a/WR-Dataset/checkpoint/omega/assets\n",
      "155/257 [=================>............] - ETA: 24s - loss: 0.2521 - cosine_similarity: 0.7045INFO:tensorflow:Assets written to: /home/anshul/Downloads/Lab3a/WR-Dataset/checkpoint/omega/assets\n",
      "165/257 [==================>...........] - ETA: 22s - loss: 0.2517 - cosine_similarity: 0.7048INFO:tensorflow:Assets written to: /home/anshul/Downloads/Lab3a/WR-Dataset/checkpoint/omega/assets\n",
      "175/257 [===================>..........] - ETA: 20s - loss: 0.2514 - cosine_similarity: 0.7050INFO:tensorflow:Assets written to: /home/anshul/Downloads/Lab3a/WR-Dataset/checkpoint/omega/assets\n",
      "185/257 [====================>.........] - ETA: 17s - loss: 0.2511 - cosine_similarity: 0.7052INFO:tensorflow:Assets written to: /home/anshul/Downloads/Lab3a/WR-Dataset/checkpoint/omega/assets\n",
      "195/257 [=====================>........] - ETA: 15s - loss: 0.2508 - cosine_similarity: 0.7054INFO:tensorflow:Assets written to: /home/anshul/Downloads/Lab3a/WR-Dataset/checkpoint/omega/assets\n",
      "205/257 [======================>.......] - ETA: 12s - loss: 0.2505 - cosine_similarity: 0.7056INFO:tensorflow:Assets written to: /home/anshul/Downloads/Lab3a/WR-Dataset/checkpoint/omega/assets\n",
      "215/257 [========================>.....] - ETA: 10s - loss: 0.2502 - cosine_similarity: 0.7057INFO:tensorflow:Assets written to: /home/anshul/Downloads/Lab3a/WR-Dataset/checkpoint/omega/assets\n",
      "225/257 [=========================>....] - ETA: 7s - loss: 0.2500 - cosine_similarity: 0.7058INFO:tensorflow:Assets written to: /home/anshul/Downloads/Lab3a/WR-Dataset/checkpoint/omega/assets\n",
      "235/257 [==========================>...] - ETA: 5s - loss: 0.2497 - cosine_similarity: 0.7059INFO:tensorflow:Assets written to: /home/anshul/Downloads/Lab3a/WR-Dataset/checkpoint/omega/assets\n",
      "245/257 [===========================>..] - ETA: 2s - loss: 0.2494 - cosine_similarity: 0.7061INFO:tensorflow:Assets written to: /home/anshul/Downloads/Lab3a/WR-Dataset/checkpoint/omega/assets\n",
      "255/257 [============================>.] - ETA: 0s - loss: 0.2491 - cosine_similarity: 0.7062INFO:tensorflow:Assets written to: /home/anshul/Downloads/Lab3a/WR-Dataset/checkpoint/omega/assets\n",
      "257/257 [==============================] - 66s 256ms/step - loss: 0.2491 - cosine_similarity: 0.7063 - val_loss: 0.2140 - val_cosine_similarity: 0.7316\n",
      "Epoch 4/30\n",
      "  9/257 [>.............................] - ETA: 9s - loss: 0.2251 - cosine_similarity: 0.7005INFO:tensorflow:Assets written to: /home/anshul/Downloads/Lab3a/WR-Dataset/checkpoint/omega/assets\n",
      " 18/257 [=>............................] - ETA: 36s - loss: 0.2273 - cosine_similarity: 0.7021INFO:tensorflow:Assets written to: /home/anshul/Downloads/Lab3a/WR-Dataset/checkpoint/omega/assets\n",
      " 28/257 [==>...........................] - ETA: 42s - loss: 0.2317 - cosine_similarity: 0.7026INFO:tensorflow:Assets written to: /home/anshul/Downloads/Lab3a/WR-Dataset/checkpoint/omega/assets\n",
      " 38/257 [===>..........................] - ETA: 46s - loss: 0.2349 - cosine_similarity: 0.7041INFO:tensorflow:Assets written to: /home/anshul/Downloads/Lab3a/WR-Dataset/checkpoint/omega/assets\n",
      " 48/257 [====>.........................] - ETA: 45s - loss: 0.2355 - cosine_similarity: 0.7045INFO:tensorflow:Assets written to: /home/anshul/Downloads/Lab3a/WR-Dataset/checkpoint/omega/assets\n",
      " 58/257 [=====>........................] - ETA: 44s - loss: 0.2354 - cosine_similarity: 0.7044INFO:tensorflow:Assets written to: /home/anshul/Downloads/Lab3a/WR-Dataset/checkpoint/omega/assets\n"
     ]
    },
    {
     "name": "stdout",
     "output_type": "stream",
     "text": [
      " 68/257 [======>.......................] - ETA: 42s - loss: 0.2347 - cosine_similarity: 0.7041INFO:tensorflow:Assets written to: /home/anshul/Downloads/Lab3a/WR-Dataset/checkpoint/omega/assets\n",
      " 78/257 [========>.....................] - ETA: 41s - loss: 0.2342 - cosine_similarity: 0.7039INFO:tensorflow:Assets written to: /home/anshul/Downloads/Lab3a/WR-Dataset/checkpoint/omega/assets\n",
      " 88/257 [=========>....................] - ETA: 39s - loss: 0.2339 - cosine_similarity: 0.7042INFO:tensorflow:Assets written to: /home/anshul/Downloads/Lab3a/WR-Dataset/checkpoint/omega/assets\n",
      " 98/257 [==========>...................] - ETA: 37s - loss: 0.2336 - cosine_similarity: 0.7047INFO:tensorflow:Assets written to: /home/anshul/Downloads/Lab3a/WR-Dataset/checkpoint/omega/assets\n",
      "108/257 [===========>..................] - ETA: 34s - loss: 0.2335 - cosine_similarity: 0.7052INFO:tensorflow:Assets written to: /home/anshul/Downloads/Lab3a/WR-Dataset/checkpoint/omega/assets\n",
      "118/257 [============>.................] - ETA: 33s - loss: 0.2335 - cosine_similarity: 0.7057INFO:tensorflow:Assets written to: /home/anshul/Downloads/Lab3a/WR-Dataset/checkpoint/omega/assets\n",
      "128/257 [=============>................] - ETA: 31s - loss: 0.2335 - cosine_similarity: 0.7062INFO:tensorflow:Assets written to: /home/anshul/Downloads/Lab3a/WR-Dataset/checkpoint/omega/assets\n",
      "138/257 [===============>..............] - ETA: 28s - loss: 0.2335 - cosine_similarity: 0.7066INFO:tensorflow:Assets written to: /home/anshul/Downloads/Lab3a/WR-Dataset/checkpoint/omega/assets\n",
      "148/257 [================>.............] - ETA: 26s - loss: 0.2336 - cosine_similarity: 0.7069INFO:tensorflow:Assets written to: /home/anshul/Downloads/Lab3a/WR-Dataset/checkpoint/omega/assets\n",
      "158/257 [=================>............] - ETA: 23s - loss: 0.2338 - cosine_similarity: 0.7072INFO:tensorflow:Assets written to: /home/anshul/Downloads/Lab3a/WR-Dataset/checkpoint/omega/assets\n",
      "168/257 [==================>...........] - ETA: 21s - loss: 0.2339 - cosine_similarity: 0.7076INFO:tensorflow:Assets written to: /home/anshul/Downloads/Lab3a/WR-Dataset/checkpoint/omega/assets\n",
      "178/257 [===================>..........] - ETA: 19s - loss: 0.2340 - cosine_similarity: 0.7079INFO:tensorflow:Assets written to: /home/anshul/Downloads/Lab3a/WR-Dataset/checkpoint/omega/assets\n",
      "188/257 [====================>.........] - ETA: 16s - loss: 0.2341 - cosine_similarity: 0.7082INFO:tensorflow:Assets written to: /home/anshul/Downloads/Lab3a/WR-Dataset/checkpoint/omega/assets\n",
      "198/257 [======================>.......] - ETA: 14s - loss: 0.2341 - cosine_similarity: 0.7086INFO:tensorflow:Assets written to: /home/anshul/Downloads/Lab3a/WR-Dataset/checkpoint/omega/assets\n",
      "208/257 [=======================>......] - ETA: 11s - loss: 0.2342 - cosine_similarity: 0.7090INFO:tensorflow:Assets written to: /home/anshul/Downloads/Lab3a/WR-Dataset/checkpoint/omega/assets\n",
      "218/257 [========================>.....] - ETA: 9s - loss: 0.2342 - cosine_similarity: 0.7093 INFO:tensorflow:Assets written to: /home/anshul/Downloads/Lab3a/WR-Dataset/checkpoint/omega/assets\n",
      "228/257 [=========================>....] - ETA: 7s - loss: 0.2342 - cosine_similarity: 0.7097INFO:tensorflow:Assets written to: /home/anshul/Downloads/Lab3a/WR-Dataset/checkpoint/omega/assets\n",
      "238/257 [==========================>...] - ETA: 4s - loss: 0.2343 - cosine_similarity: 0.7099INFO:tensorflow:Assets written to: /home/anshul/Downloads/Lab3a/WR-Dataset/checkpoint/omega/assets\n",
      "248/257 [===========================>..] - ETA: 2s - loss: 0.2343 - cosine_similarity: 0.7102INFO:tensorflow:Assets written to: /home/anshul/Downloads/Lab3a/WR-Dataset/checkpoint/omega/assets\n",
      "257/257 [==============================] - 64s 248ms/step - loss: 0.2343 - cosine_similarity: 0.7104 - val_loss: 0.2101 - val_cosine_similarity: 0.7351\n",
      "Epoch 5/30\n",
      "  1/257 [..............................] - ETA: 9s - loss: 0.2935 - cosine_similarity: 0.7762INFO:tensorflow:Assets written to: /home/anshul/Downloads/Lab3a/WR-Dataset/checkpoint/omega/assets\n",
      " 11/257 [>.............................] - ETA: 58s - loss: 0.2469 - cosine_similarity: 0.7333 INFO:tensorflow:Assets written to: /home/anshul/Downloads/Lab3a/WR-Dataset/checkpoint/omega/assets\n",
      " 21/257 [=>............................] - ETA: 55s - loss: 0.2348 - cosine_similarity: 0.7281 INFO:tensorflow:Assets written to: /home/anshul/Downloads/Lab3a/WR-Dataset/checkpoint/omega/assets\n",
      " 31/257 [==>...........................] - ETA: 53s - loss: 0.2304 - cosine_similarity: 0.7261INFO:tensorflow:Assets written to: /home/anshul/Downloads/Lab3a/WR-Dataset/checkpoint/omega/assets\n",
      " 41/257 [===>..........................] - ETA: 54s - loss: 0.2279 - cosine_similarity: 0.7254INFO:tensorflow:Assets written to: /home/anshul/Downloads/Lab3a/WR-Dataset/checkpoint/omega/assets\n",
      " 51/257 [====>.........................] - ETA: 51s - loss: 0.2261 - cosine_similarity: 0.7248INFO:tensorflow:Assets written to: /home/anshul/Downloads/Lab3a/WR-Dataset/checkpoint/omega/assets\n",
      " 61/257 [======>.......................] - ETA: 48s - loss: 0.2253 - cosine_similarity: 0.7246INFO:tensorflow:Assets written to: /home/anshul/Downloads/Lab3a/WR-Dataset/checkpoint/omega/assets\n",
      " 71/257 [=======>......................] - ETA: 45s - loss: 0.2259 - cosine_similarity: 0.7245INFO:tensorflow:Assets written to: /home/anshul/Downloads/Lab3a/WR-Dataset/checkpoint/omega/assets\n",
      " 81/257 [========>.....................] - ETA: 44s - loss: 0.2269 - cosine_similarity: 0.7245INFO:tensorflow:Assets written to: /home/anshul/Downloads/Lab3a/WR-Dataset/checkpoint/omega/assets\n",
      " 91/257 [=========>....................] - ETA: 41s - loss: 0.2281 - cosine_similarity: 0.7242INFO:tensorflow:Assets written to: /home/anshul/Downloads/Lab3a/WR-Dataset/checkpoint/omega/assets\n",
      "101/257 [==========>...................] - ETA: 38s - loss: 0.2291 - cosine_similarity: 0.7238INFO:tensorflow:Assets written to: /home/anshul/Downloads/Lab3a/WR-Dataset/checkpoint/omega/assets\n",
      "111/257 [===========>..................] - ETA: 36s - loss: 0.2299 - cosine_similarity: 0.7234INFO:tensorflow:Assets written to: /home/anshul/Downloads/Lab3a/WR-Dataset/checkpoint/omega/assets\n",
      "121/257 [=============>................] - ETA: 33s - loss: 0.2307 - cosine_similarity: 0.7229INFO:tensorflow:Assets written to: /home/anshul/Downloads/Lab3a/WR-Dataset/checkpoint/omega/assets\n",
      "131/257 [==============>...............] - ETA: 31s - loss: 0.2313 - cosine_similarity: 0.7225INFO:tensorflow:Assets written to: /home/anshul/Downloads/Lab3a/WR-Dataset/checkpoint/omega/assets\n",
      "141/257 [===============>..............] - ETA: 28s - loss: 0.2318 - cosine_similarity: 0.7221INFO:tensorflow:Assets written to: /home/anshul/Downloads/Lab3a/WR-Dataset/checkpoint/omega/assets\n",
      "151/257 [================>.............] - ETA: 26s - loss: 0.2322 - cosine_similarity: 0.7216INFO:tensorflow:Assets written to: /home/anshul/Downloads/Lab3a/WR-Dataset/checkpoint/omega/assets\n",
      "161/257 [=================>............] - ETA: 23s - loss: 0.2326 - cosine_similarity: 0.7213INFO:tensorflow:Assets written to: /home/anshul/Downloads/Lab3a/WR-Dataset/checkpoint/omega/assets\n",
      "171/257 [==================>...........] - ETA: 21s - loss: 0.2329 - cosine_similarity: 0.7209INFO:tensorflow:Assets written to: /home/anshul/Downloads/Lab3a/WR-Dataset/checkpoint/omega/assets\n",
      "181/257 [====================>.........] - ETA: 19s - loss: 0.2332 - cosine_similarity: 0.7206INFO:tensorflow:Assets written to: /home/anshul/Downloads/Lab3a/WR-Dataset/checkpoint/omega/assets\n",
      "191/257 [=====================>........] - ETA: 16s - loss: 0.2335 - cosine_similarity: 0.7204INFO:tensorflow:Assets written to: /home/anshul/Downloads/Lab3a/WR-Dataset/checkpoint/omega/assets\n",
      "201/257 [======================>.......] - ETA: 13s - loss: 0.2337 - cosine_similarity: 0.7201INFO:tensorflow:Assets written to: /home/anshul/Downloads/Lab3a/WR-Dataset/checkpoint/omega/assets\n",
      "211/257 [=======================>......] - ETA: 11s - loss: 0.2339 - cosine_similarity: 0.7200INFO:tensorflow:Assets written to: /home/anshul/Downloads/Lab3a/WR-Dataset/checkpoint/omega/assets\n",
      "221/257 [========================>.....] - ETA: 9s - loss: 0.2341 - cosine_similarity: 0.7198INFO:tensorflow:Assets written to: /home/anshul/Downloads/Lab3a/WR-Dataset/checkpoint/omega/assets\n"
     ]
    },
    {
     "name": "stdout",
     "output_type": "stream",
     "text": [
      "231/257 [=========================>....] - ETA: 6s - loss: 0.2343 - cosine_similarity: 0.7196INFO:tensorflow:Assets written to: /home/anshul/Downloads/Lab3a/WR-Dataset/checkpoint/omega/assets\n",
      "241/257 [===========================>..] - ETA: 3s - loss: 0.2344 - cosine_similarity: 0.7195INFO:tensorflow:Assets written to: /home/anshul/Downloads/Lab3a/WR-Dataset/checkpoint/omega/assets\n",
      "251/257 [============================>.] - ETA: 1s - loss: 0.2345 - cosine_similarity: 0.7194INFO:tensorflow:Assets written to: /home/anshul/Downloads/Lab3a/WR-Dataset/checkpoint/omega/assets\n",
      "257/257 [==============================] - 65s 255ms/step - loss: 0.2345 - cosine_similarity: 0.7194 - val_loss: 0.2156 - val_cosine_similarity: 0.7357\n",
      "Epoch 6/30\n",
      "  5/257 [..............................] - ETA: 9s - loss: 0.2316 - cosine_similarity: 0.7391INFO:tensorflow:Assets written to: /home/anshul/Downloads/Lab3a/WR-Dataset/checkpoint/omega/assets\n",
      " 14/257 [>.............................] - ETA: 46s - loss: 0.2278 - cosine_similarity: 0.7245INFO:tensorflow:Assets written to: /home/anshul/Downloads/Lab3a/WR-Dataset/checkpoint/omega/assets\n",
      " 24/257 [=>............................] - ETA: 49s - loss: 0.2264 - cosine_similarity: 0.7220INFO:tensorflow:Assets written to: /home/anshul/Downloads/Lab3a/WR-Dataset/checkpoint/omega/assets\n",
      " 34/257 [==>...........................] - ETA: 48s - loss: 0.2246 - cosine_similarity: 0.7222INFO:tensorflow:Assets written to: /home/anshul/Downloads/Lab3a/WR-Dataset/checkpoint/omega/assets\n",
      " 44/257 [====>.........................] - ETA: 50s - loss: 0.2244 - cosine_similarity: 0.7224INFO:tensorflow:Assets written to: /home/anshul/Downloads/Lab3a/WR-Dataset/checkpoint/omega/assets\n",
      " 54/257 [=====>........................] - ETA: 47s - loss: 0.2246 - cosine_similarity: 0.7223INFO:tensorflow:Assets written to: /home/anshul/Downloads/Lab3a/WR-Dataset/checkpoint/omega/assets\n",
      " 64/257 [======>.......................] - ETA: 45s - loss: 0.2247 - cosine_similarity: 0.7218INFO:tensorflow:Assets written to: /home/anshul/Downloads/Lab3a/WR-Dataset/checkpoint/omega/assets\n",
      " 74/257 [=======>......................] - ETA: 43s - loss: 0.2246 - cosine_similarity: 0.7210INFO:tensorflow:Assets written to: /home/anshul/Downloads/Lab3a/WR-Dataset/checkpoint/omega/assets\n",
      " 84/257 [========>.....................] - ETA: 42s - loss: 0.2246 - cosine_similarity: 0.7206INFO:tensorflow:Assets written to: /home/anshul/Downloads/Lab3a/WR-Dataset/checkpoint/omega/assets\n",
      " 94/257 [=========>....................] - ETA: 39s - loss: 0.2247 - cosine_similarity: 0.7206INFO:tensorflow:Assets written to: /home/anshul/Downloads/Lab3a/WR-Dataset/checkpoint/omega/assets\n",
      "104/257 [===========>..................] - ETA: 37s - loss: 0.2248 - cosine_similarity: 0.7208INFO:tensorflow:Assets written to: /home/anshul/Downloads/Lab3a/WR-Dataset/checkpoint/omega/assets\n",
      "114/257 [============>.................] - ETA: 34s - loss: 0.2249 - cosine_similarity: 0.7210INFO:tensorflow:Assets written to: /home/anshul/Downloads/Lab3a/WR-Dataset/checkpoint/omega/assets\n",
      "124/257 [=============>................] - ETA: 32s - loss: 0.2250 - cosine_similarity: 0.7212INFO:tensorflow:Assets written to: /home/anshul/Downloads/Lab3a/WR-Dataset/checkpoint/omega/assets\n",
      "134/257 [==============>...............] - ETA: 30s - loss: 0.2252 - cosine_similarity: 0.7214INFO:tensorflow:Assets written to: /home/anshul/Downloads/Lab3a/WR-Dataset/checkpoint/omega/assets\n",
      "144/257 [===============>..............] - ETA: 27s - loss: 0.2253 - cosine_similarity: 0.7216INFO:tensorflow:Assets written to: /home/anshul/Downloads/Lab3a/WR-Dataset/checkpoint/omega/assets\n",
      "154/257 [================>.............] - ETA: 25s - loss: 0.2253 - cosine_similarity: 0.7217INFO:tensorflow:Assets written to: /home/anshul/Downloads/Lab3a/WR-Dataset/checkpoint/omega/assets\n",
      "164/257 [==================>...........] - ETA: 22s - loss: 0.2254 - cosine_similarity: 0.7219INFO:tensorflow:Assets written to: /home/anshul/Downloads/Lab3a/WR-Dataset/checkpoint/omega/assets\n",
      "174/257 [===================>..........] - ETA: 20s - loss: 0.2254 - cosine_similarity: 0.7220INFO:tensorflow:Assets written to: /home/anshul/Downloads/Lab3a/WR-Dataset/checkpoint/omega/assets\n",
      "184/257 [====================>.........] - ETA: 18s - loss: 0.2253 - cosine_similarity: 0.7222INFO:tensorflow:Assets written to: /home/anshul/Downloads/Lab3a/WR-Dataset/checkpoint/omega/assets\n",
      "194/257 [=====================>........] - ETA: 15s - loss: 0.2253 - cosine_similarity: 0.7224INFO:tensorflow:Assets written to: /home/anshul/Downloads/Lab3a/WR-Dataset/checkpoint/omega/assets\n",
      "204/257 [======================>.......] - ETA: 13s - loss: 0.2253 - cosine_similarity: 0.7225INFO:tensorflow:Assets written to: /home/anshul/Downloads/Lab3a/WR-Dataset/checkpoint/omega/assets\n",
      "214/257 [=======================>......] - ETA: 10s - loss: 0.2254 - cosine_similarity: 0.7226INFO:tensorflow:Assets written to: /home/anshul/Downloads/Lab3a/WR-Dataset/checkpoint/omega/assets\n",
      "224/257 [=========================>....] - ETA: 8s - loss: 0.2254 - cosine_similarity: 0.7227INFO:tensorflow:Assets written to: /home/anshul/Downloads/Lab3a/WR-Dataset/checkpoint/omega/assets\n",
      "234/257 [==========================>...] - ETA: 5s - loss: 0.2255 - cosine_similarity: 0.7228INFO:tensorflow:Assets written to: /home/anshul/Downloads/Lab3a/WR-Dataset/checkpoint/omega/assets\n",
      "244/257 [===========================>..] - ETA: 3s - loss: 0.2256 - cosine_similarity: 0.7228INFO:tensorflow:Assets written to: /home/anshul/Downloads/Lab3a/WR-Dataset/checkpoint/omega/assets\n",
      "254/257 [============================>.] - ETA: 0s - loss: 0.2256 - cosine_similarity: 0.7229INFO:tensorflow:Assets written to: /home/anshul/Downloads/Lab3a/WR-Dataset/checkpoint/omega/assets\n",
      "257/257 [==============================] - 65s 255ms/step - loss: 0.2256 - cosine_similarity: 0.7229 - val_loss: 0.2030 - val_cosine_similarity: 0.7438\n",
      "Epoch 7/30\n",
      "  7/257 [..............................] - ETA: 9s - loss: 0.1898 - cosine_similarity: 0.7363INFO:tensorflow:Assets written to: /home/anshul/Downloads/Lab3a/WR-Dataset/checkpoint/omega/assets\n",
      " 17/257 [>.............................] - ETA: 38s - loss: 0.1986 - cosine_similarity: 0.7348INFO:tensorflow:Assets written to: /home/anshul/Downloads/Lab3a/WR-Dataset/checkpoint/omega/assets\n",
      " 27/257 [==>...........................] - ETA: 43s - loss: 0.2041 - cosine_similarity: 0.7341INFO:tensorflow:Assets written to: /home/anshul/Downloads/Lab3a/WR-Dataset/checkpoint/omega/assets\n",
      " 37/257 [===>..........................] - ETA: 44s - loss: 0.2076 - cosine_similarity: 0.7333INFO:tensorflow:Assets written to: /home/anshul/Downloads/Lab3a/WR-Dataset/checkpoint/omega/assets\n",
      " 47/257 [====>.........................] - ETA: 46s - loss: 0.2100 - cosine_similarity: 0.7328INFO:tensorflow:Assets written to: /home/anshul/Downloads/Lab3a/WR-Dataset/checkpoint/omega/assets\n",
      " 57/257 [=====>........................] - ETA: 45s - loss: 0.2120 - cosine_similarity: 0.7324INFO:tensorflow:Assets written to: /home/anshul/Downloads/Lab3a/WR-Dataset/checkpoint/omega/assets\n",
      " 67/257 [======>.......................] - ETA: 43s - loss: 0.2137 - cosine_similarity: 0.7323INFO:tensorflow:Assets written to: /home/anshul/Downloads/Lab3a/WR-Dataset/checkpoint/omega/assets\n",
      " 77/257 [=======>......................] - ETA: 41s - loss: 0.2150 - cosine_similarity: 0.7322INFO:tensorflow:Assets written to: /home/anshul/Downloads/Lab3a/WR-Dataset/checkpoint/omega/assets\n",
      " 87/257 [=========>....................] - ETA: 40s - loss: 0.2162 - cosine_similarity: 0.7319INFO:tensorflow:Assets written to: /home/anshul/Downloads/Lab3a/WR-Dataset/checkpoint/omega/assets\n",
      " 97/257 [==========>...................] - ETA: 38s - loss: 0.2172 - cosine_similarity: 0.7319INFO:tensorflow:Assets written to: /home/anshul/Downloads/Lab3a/WR-Dataset/checkpoint/omega/assets\n",
      "107/257 [===========>..................] - ETA: 36s - loss: 0.2182 - cosine_similarity: 0.7318INFO:tensorflow:Assets written to: /home/anshul/Downloads/Lab3a/WR-Dataset/checkpoint/omega/assets\n",
      "117/257 [============>.................] - ETA: 33s - loss: 0.2189 - cosine_similarity: 0.7319INFO:tensorflow:Assets written to: /home/anshul/Downloads/Lab3a/WR-Dataset/checkpoint/omega/assets\n"
     ]
    },
    {
     "name": "stdout",
     "output_type": "stream",
     "text": [
      "127/257 [=============>................] - ETA: 31s - loss: 0.2195 - cosine_similarity: 0.7319INFO:tensorflow:Assets written to: /home/anshul/Downloads/Lab3a/WR-Dataset/checkpoint/omega/assets\n",
      "137/257 [==============>...............] - ETA: 29s - loss: 0.2200 - cosine_similarity: 0.7318INFO:tensorflow:Assets written to: /home/anshul/Downloads/Lab3a/WR-Dataset/checkpoint/omega/assets\n",
      "147/257 [================>.............] - ETA: 26s - loss: 0.2204 - cosine_similarity: 0.7317INFO:tensorflow:Assets written to: /home/anshul/Downloads/Lab3a/WR-Dataset/checkpoint/omega/assets\n",
      "157/257 [=================>............] - ETA: 24s - loss: 0.2208 - cosine_similarity: 0.7316INFO:tensorflow:Assets written to: /home/anshul/Downloads/Lab3a/WR-Dataset/checkpoint/omega/assets\n",
      "167/257 [==================>...........] - ETA: 21s - loss: 0.2210 - cosine_similarity: 0.7316INFO:tensorflow:Assets written to: /home/anshul/Downloads/Lab3a/WR-Dataset/checkpoint/omega/assets\n",
      "177/257 [===================>..........] - ETA: 19s - loss: 0.2212 - cosine_similarity: 0.7316INFO:tensorflow:Assets written to: /home/anshul/Downloads/Lab3a/WR-Dataset/checkpoint/omega/assets\n",
      "187/257 [====================>.........] - ETA: 17s - loss: 0.2214 - cosine_similarity: 0.7317INFO:tensorflow:Assets written to: /home/anshul/Downloads/Lab3a/WR-Dataset/checkpoint/omega/assets\n",
      "197/257 [=====================>........] - ETA: 14s - loss: 0.2216 - cosine_similarity: 0.7318INFO:tensorflow:Assets written to: /home/anshul/Downloads/Lab3a/WR-Dataset/checkpoint/omega/assets\n",
      "207/257 [=======================>......] - ETA: 12s - loss: 0.2217 - cosine_similarity: 0.7319INFO:tensorflow:Assets written to: /home/anshul/Downloads/Lab3a/WR-Dataset/checkpoint/omega/assets\n",
      "217/257 [========================>.....] - ETA: 9s - loss: 0.2218 - cosine_similarity: 0.7319 INFO:tensorflow:Assets written to: /home/anshul/Downloads/Lab3a/WR-Dataset/checkpoint/omega/assets\n",
      "227/257 [=========================>....] - ETA: 7s - loss: 0.2218 - cosine_similarity: 0.7319INFO:tensorflow:Assets written to: /home/anshul/Downloads/Lab3a/WR-Dataset/checkpoint/omega/assets\n",
      "237/257 [==========================>...] - ETA: 4s - loss: 0.2219 - cosine_similarity: 0.7319INFO:tensorflow:Assets written to: /home/anshul/Downloads/Lab3a/WR-Dataset/checkpoint/omega/assets\n",
      "247/257 [===========================>..] - ETA: 2s - loss: 0.2220 - cosine_similarity: 0.7318INFO:tensorflow:Assets written to: /home/anshul/Downloads/Lab3a/WR-Dataset/checkpoint/omega/assets\n",
      "257/257 [==============================] - 63s 247ms/step - loss: 0.2220 - cosine_similarity: 0.7318 - val_loss: 0.2125 - val_cosine_similarity: 0.7534\n",
      "Epoch 8/30\n",
      "  1/257 [..............................] - ETA: 9s - loss: 0.2744 - cosine_similarity: 0.7594INFO:tensorflow:Assets written to: /home/anshul/Downloads/Lab3a/WR-Dataset/checkpoint/omega/assets\n",
      " 10/257 [>.............................] - ETA: 1:20 - loss: 0.2488 - cosine_similarity: 0.7362INFO:tensorflow:Assets written to: /home/anshul/Downloads/Lab3a/WR-Dataset/checkpoint/omega/assets\n",
      " 20/257 [=>............................] - ETA: 1:05 - loss: 0.2397 - cosine_similarity: 0.7295INFO:tensorflow:Assets written to: /home/anshul/Downloads/Lab3a/WR-Dataset/checkpoint/omega/assets\n",
      " 30/257 [==>...........................] - ETA: 1:00 - loss: 0.2357 - cosine_similarity: 0.7292INFO:tensorflow:Assets written to: /home/anshul/Downloads/Lab3a/WR-Dataset/checkpoint/omega/assets\n",
      " 40/257 [===>..........................] - ETA: 56s - loss: 0.2328 - cosine_similarity: 0.7301INFO:tensorflow:Assets written to: /home/anshul/Downloads/Lab3a/WR-Dataset/checkpoint/omega/assets\n",
      " 50/257 [====>.........................] - ETA: 55s - loss: 0.2312 - cosine_similarity: 0.7306INFO:tensorflow:Assets written to: /home/anshul/Downloads/Lab3a/WR-Dataset/checkpoint/omega/assets\n",
      " 60/257 [======>.......................] - ETA: 52s - loss: 0.2300 - cosine_similarity: 0.7313INFO:tensorflow:Assets written to: /home/anshul/Downloads/Lab3a/WR-Dataset/checkpoint/omega/assets\n",
      " 70/257 [=======>......................] - ETA: 49s - loss: 0.2294 - cosine_similarity: 0.7319INFO:tensorflow:Assets written to: /home/anshul/Downloads/Lab3a/WR-Dataset/checkpoint/omega/assets\n",
      " 80/257 [========>.....................] - ETA: 46s - loss: 0.2284 - cosine_similarity: 0.7325INFO:tensorflow:Assets written to: /home/anshul/Downloads/Lab3a/WR-Dataset/checkpoint/omega/assets\n",
      " 90/257 [=========>....................] - ETA: 44s - loss: 0.2276 - cosine_similarity: 0.7331INFO:tensorflow:Assets written to: /home/anshul/Downloads/Lab3a/WR-Dataset/checkpoint/omega/assets\n",
      "100/257 [==========>...................] - ETA: 41s - loss: 0.2269 - cosine_similarity: 0.7335INFO:tensorflow:Assets written to: /home/anshul/Downloads/Lab3a/WR-Dataset/checkpoint/omega/assets\n",
      "110/257 [===========>..................] - ETA: 38s - loss: 0.2262 - cosine_similarity: 0.7339INFO:tensorflow:Assets written to: /home/anshul/Downloads/Lab3a/WR-Dataset/checkpoint/omega/assets\n",
      "120/257 [=============>................] - ETA: 35s - loss: 0.2257 - cosine_similarity: 0.7342INFO:tensorflow:Assets written to: /home/anshul/Downloads/Lab3a/WR-Dataset/checkpoint/omega/assets\n",
      "130/257 [==============>...............] - ETA: 32s - loss: 0.2252 - cosine_similarity: 0.7345INFO:tensorflow:Assets written to: /home/anshul/Downloads/Lab3a/WR-Dataset/checkpoint/omega/assets\n",
      "140/257 [===============>..............] - ETA: 30s - loss: 0.2248 - cosine_similarity: 0.7348INFO:tensorflow:Assets written to: /home/anshul/Downloads/Lab3a/WR-Dataset/checkpoint/omega/assets\n",
      "150/257 [================>.............] - ETA: 27s - loss: 0.2244 - cosine_similarity: 0.7351INFO:tensorflow:Assets written to: /home/anshul/Downloads/Lab3a/WR-Dataset/checkpoint/omega/assets\n",
      "160/257 [=================>............] - ETA: 25s - loss: 0.2241 - cosine_similarity: 0.7354INFO:tensorflow:Assets written to: /home/anshul/Downloads/Lab3a/WR-Dataset/checkpoint/omega/assets\n",
      "170/257 [==================>...........] - ETA: 22s - loss: 0.2237 - cosine_similarity: 0.7357INFO:tensorflow:Assets written to: /home/anshul/Downloads/Lab3a/WR-Dataset/checkpoint/omega/assets\n",
      "180/257 [====================>.........] - ETA: 19s - loss: 0.2234 - cosine_similarity: 0.7360INFO:tensorflow:Assets written to: /home/anshul/Downloads/Lab3a/WR-Dataset/checkpoint/omega/assets\n",
      "190/257 [=====================>........] - ETA: 17s - loss: 0.2231 - cosine_similarity: 0.7362INFO:tensorflow:Assets written to: /home/anshul/Downloads/Lab3a/WR-Dataset/checkpoint/omega/assets\n",
      "200/257 [======================>.......] - ETA: 14s - loss: 0.2228 - cosine_similarity: 0.7364INFO:tensorflow:Assets written to: /home/anshul/Downloads/Lab3a/WR-Dataset/checkpoint/omega/assets\n",
      "210/257 [=======================>......] - ETA: 12s - loss: 0.2225 - cosine_similarity: 0.7366INFO:tensorflow:Assets written to: /home/anshul/Downloads/Lab3a/WR-Dataset/checkpoint/omega/assets\n",
      "220/257 [========================>.....] - ETA: 9s - loss: 0.2222 - cosine_similarity: 0.7368 INFO:tensorflow:Assets written to: /home/anshul/Downloads/Lab3a/WR-Dataset/checkpoint/omega/assets\n",
      "230/257 [=========================>....] - ETA: 6s - loss: 0.2219 - cosine_similarity: 0.7370INFO:tensorflow:Assets written to: /home/anshul/Downloads/Lab3a/WR-Dataset/checkpoint/omega/assets\n",
      "240/257 [===========================>..] - ETA: 4s - loss: 0.2216 - cosine_similarity: 0.7372INFO:tensorflow:Assets written to: /home/anshul/Downloads/Lab3a/WR-Dataset/checkpoint/omega/assets\n",
      "250/257 [============================>.] - ETA: 1s - loss: 0.2213 - cosine_similarity: 0.7375INFO:tensorflow:Assets written to: /home/anshul/Downloads/Lab3a/WR-Dataset/checkpoint/omega/assets\n",
      "257/257 [==============================] - 66s 259ms/step - loss: 0.2210 - cosine_similarity: 0.7377 - val_loss: 0.1872 - val_cosine_similarity: 0.7712\n",
      "Epoch 9/30\n",
      "  3/257 [..............................] - ETA: 9s - loss: 0.1470 - cosine_similarity: 0.7466INFO:tensorflow:Assets written to: /home/anshul/Downloads/Lab3a/WR-Dataset/checkpoint/omega/assets\n",
      " 13/257 [>.............................] - ETA: 1:03 - loss: 0.1759 - cosine_similarity: 0.7511INFO:tensorflow:Assets written to: /home/anshul/Downloads/Lab3a/WR-Dataset/checkpoint/omega/assets\n"
     ]
    },
    {
     "name": "stdout",
     "output_type": "stream",
     "text": [
      " 23/257 [=>............................] - ETA: 59s - loss: 0.1863 - cosine_similarity: 0.7498 INFO:tensorflow:Assets written to: /home/anshul/Downloads/Lab3a/WR-Dataset/checkpoint/omega/assets\n",
      " 33/257 [==>...........................] - ETA: 55s - loss: 0.1913 - cosine_similarity: 0.7494INFO:tensorflow:Assets written to: /home/anshul/Downloads/Lab3a/WR-Dataset/checkpoint/omega/assets\n",
      " 43/257 [====>.........................] - ETA: 52s - loss: 0.1955 - cosine_similarity: 0.7491INFO:tensorflow:Assets written to: /home/anshul/Downloads/Lab3a/WR-Dataset/checkpoint/omega/assets\n",
      " 53/257 [=====>........................] - ETA: 52s - loss: 0.1987 - cosine_similarity: 0.7489INFO:tensorflow:Assets written to: /home/anshul/Downloads/Lab3a/WR-Dataset/checkpoint/omega/assets\n",
      " 63/257 [======>.......................] - ETA: 49s - loss: 0.2010 - cosine_similarity: 0.7486INFO:tensorflow:Assets written to: /home/anshul/Downloads/Lab3a/WR-Dataset/checkpoint/omega/assets\n",
      " 73/257 [=======>......................] - ETA: 46s - loss: 0.2026 - cosine_similarity: 0.7484INFO:tensorflow:Assets written to: /home/anshul/Downloads/Lab3a/WR-Dataset/checkpoint/omega/assets\n",
      " 83/257 [========>.....................] - ETA: 43s - loss: 0.2036 - cosine_similarity: 0.7483INFO:tensorflow:Assets written to: /home/anshul/Downloads/Lab3a/WR-Dataset/checkpoint/omega/assets\n",
      " 93/257 [=========>....................] - ETA: 40s - loss: 0.2044 - cosine_similarity: 0.7485INFO:tensorflow:Assets written to: /home/anshul/Downloads/Lab3a/WR-Dataset/checkpoint/omega/assets\n",
      "103/257 [===========>..................] - ETA: 39s - loss: 0.2049 - cosine_similarity: 0.7487INFO:tensorflow:Assets written to: /home/anshul/Downloads/Lab3a/WR-Dataset/checkpoint/omega/assets\n",
      "113/257 [============>.................] - ETA: 36s - loss: 0.2051 - cosine_similarity: 0.7490INFO:tensorflow:Assets written to: /home/anshul/Downloads/Lab3a/WR-Dataset/checkpoint/omega/assets\n",
      "123/257 [=============>................] - ETA: 33s - loss: 0.2052 - cosine_similarity: 0.7492INFO:tensorflow:Assets written to: /home/anshul/Downloads/Lab3a/WR-Dataset/checkpoint/omega/assets\n",
      "133/257 [==============>...............] - ETA: 31s - loss: 0.2052 - cosine_similarity: 0.7495INFO:tensorflow:Assets written to: /home/anshul/Downloads/Lab3a/WR-Dataset/checkpoint/omega/assets\n",
      "143/257 [===============>..............] - ETA: 28s - loss: 0.2051 - cosine_similarity: 0.7498INFO:tensorflow:Assets written to: /home/anshul/Downloads/Lab3a/WR-Dataset/checkpoint/omega/assets\n",
      "153/257 [================>.............] - ETA: 26s - loss: 0.2050 - cosine_similarity: 0.7500INFO:tensorflow:Assets written to: /home/anshul/Downloads/Lab3a/WR-Dataset/checkpoint/omega/assets\n",
      "163/257 [==================>...........] - ETA: 23s - loss: 0.2049 - cosine_similarity: 0.7502INFO:tensorflow:Assets written to: /home/anshul/Downloads/Lab3a/WR-Dataset/checkpoint/omega/assets\n",
      "173/257 [===================>..........] - ETA: 21s - loss: 0.2048 - cosine_similarity: 0.7504INFO:tensorflow:Assets written to: /home/anshul/Downloads/Lab3a/WR-Dataset/checkpoint/omega/assets\n",
      "183/257 [====================>.........] - ETA: 18s - loss: 0.2046 - cosine_similarity: 0.7506INFO:tensorflow:Assets written to: /home/anshul/Downloads/Lab3a/WR-Dataset/checkpoint/omega/assets\n",
      "193/257 [=====================>........] - ETA: 16s - loss: 0.2045 - cosine_similarity: 0.7509INFO:tensorflow:Assets written to: /home/anshul/Downloads/Lab3a/WR-Dataset/checkpoint/omega/assets\n",
      "203/257 [======================>.......] - ETA: 13s - loss: 0.2043 - cosine_similarity: 0.7512INFO:tensorflow:Assets written to: /home/anshul/Downloads/Lab3a/WR-Dataset/checkpoint/omega/assets\n",
      "213/257 [=======================>......] - ETA: 11s - loss: 0.2042 - cosine_similarity: 0.7515INFO:tensorflow:Assets written to: /home/anshul/Downloads/Lab3a/WR-Dataset/checkpoint/omega/assets\n",
      "223/257 [=========================>....] - ETA: 8s - loss: 0.2041 - cosine_similarity: 0.7518INFO:tensorflow:Assets written to: /home/anshul/Downloads/Lab3a/WR-Dataset/checkpoint/omega/assets\n",
      "233/257 [==========================>...] - ETA: 6s - loss: 0.2040 - cosine_similarity: 0.7522INFO:tensorflow:Assets written to: /home/anshul/Downloads/Lab3a/WR-Dataset/checkpoint/omega/assets\n",
      "243/257 [===========================>..] - ETA: 3s - loss: 0.2039 - cosine_similarity: 0.7525INFO:tensorflow:Assets written to: /home/anshul/Downloads/Lab3a/WR-Dataset/checkpoint/omega/assets\n",
      "253/257 [============================>.] - ETA: 1s - loss: 0.2038 - cosine_similarity: 0.7529INFO:tensorflow:Assets written to: /home/anshul/Downloads/Lab3a/WR-Dataset/checkpoint/omega/assets\n",
      "257/257 [==============================] - 66s 258ms/step - loss: 0.2038 - cosine_similarity: 0.7530 - val_loss: 0.1843 - val_cosine_similarity: 0.7673\n",
      "Epoch 10/30\n",
      "  7/257 [..............................] - ETA: 9s - loss: 0.1736 - cosine_similarity: 0.7739INFO:tensorflow:Assets written to: /home/anshul/Downloads/Lab3a/WR-Dataset/checkpoint/omega/assets\n",
      " 16/257 [>.............................] - ETA: 49s - loss: 0.1778 - cosine_similarity: 0.7756INFO:tensorflow:Assets written to: /home/anshul/Downloads/Lab3a/WR-Dataset/checkpoint/omega/assets\n",
      " 26/257 [==>...........................] - ETA: 50s - loss: 0.1848 - cosine_similarity: 0.7760INFO:tensorflow:Assets written to: /home/anshul/Downloads/Lab3a/WR-Dataset/checkpoint/omega/assets\n",
      " 36/257 [===>..........................] - ETA: 49s - loss: 0.1881 - cosine_similarity: 0.7758INFO:tensorflow:Assets written to: /home/anshul/Downloads/Lab3a/WR-Dataset/checkpoint/omega/assets\n",
      " 46/257 [====>.........................] - ETA: 47s - loss: 0.1893 - cosine_similarity: 0.7768INFO:tensorflow:Assets written to: /home/anshul/Downloads/Lab3a/WR-Dataset/checkpoint/omega/assets\n",
      " 56/257 [=====>........................] - ETA: 47s - loss: 0.1898 - cosine_similarity: 0.7777INFO:tensorflow:Assets written to: /home/anshul/Downloads/Lab3a/WR-Dataset/checkpoint/omega/assets\n",
      " 66/257 [======>.......................] - ETA: 45s - loss: 0.1899 - cosine_similarity: 0.7785INFO:tensorflow:Assets written to: /home/anshul/Downloads/Lab3a/WR-Dataset/checkpoint/omega/assets\n",
      " 76/257 [=======>......................] - ETA: 43s - loss: 0.1900 - cosine_similarity: 0.7791INFO:tensorflow:Assets written to: /home/anshul/Downloads/Lab3a/WR-Dataset/checkpoint/omega/assets\n",
      " 86/257 [=========>....................] - ETA: 40s - loss: 0.1902 - cosine_similarity: 0.7794INFO:tensorflow:Assets written to: /home/anshul/Downloads/Lab3a/WR-Dataset/checkpoint/omega/assets\n",
      " 96/257 [==========>...................] - ETA: 38s - loss: 0.1904 - cosine_similarity: 0.7796INFO:tensorflow:Assets written to: /home/anshul/Downloads/Lab3a/WR-Dataset/checkpoint/omega/assets\n",
      "106/257 [===========>..................] - ETA: 37s - loss: 0.1904 - cosine_similarity: 0.7798INFO:tensorflow:Assets written to: /home/anshul/Downloads/Lab3a/WR-Dataset/checkpoint/omega/assets\n",
      "116/257 [============>.................] - ETA: 34s - loss: 0.1903 - cosine_similarity: 0.7800INFO:tensorflow:Assets written to: /home/anshul/Downloads/Lab3a/WR-Dataset/checkpoint/omega/assets\n",
      "126/257 [=============>................] - ETA: 32s - loss: 0.1902 - cosine_similarity: 0.7802INFO:tensorflow:Assets written to: /home/anshul/Downloads/Lab3a/WR-Dataset/checkpoint/omega/assets\n",
      "136/257 [==============>...............] - ETA: 29s - loss: 0.1901 - cosine_similarity: 0.7804INFO:tensorflow:Assets written to: /home/anshul/Downloads/Lab3a/WR-Dataset/checkpoint/omega/assets\n",
      "146/257 [================>.............] - ETA: 27s - loss: 0.1899 - cosine_similarity: 0.7806INFO:tensorflow:Assets written to: /home/anshul/Downloads/Lab3a/WR-Dataset/checkpoint/omega/assets\n",
      "156/257 [=================>............] - ETA: 25s - loss: 0.1898 - cosine_similarity: 0.7807INFO:tensorflow:Assets written to: /home/anshul/Downloads/Lab3a/WR-Dataset/checkpoint/omega/assets\n",
      "166/257 [==================>...........] - ETA: 22s - loss: 0.1896 - cosine_similarity: 0.7809INFO:tensorflow:Assets written to: /home/anshul/Downloads/Lab3a/WR-Dataset/checkpoint/omega/assets\n",
      "176/257 [===================>..........] - ETA: 20s - loss: 0.1894 - cosine_similarity: 0.7811INFO:tensorflow:Assets written to: /home/anshul/Downloads/Lab3a/WR-Dataset/checkpoint/omega/assets\n"
     ]
    },
    {
     "name": "stdout",
     "output_type": "stream",
     "text": [
      "186/257 [====================>.........] - ETA: 17s - loss: 0.1893 - cosine_similarity: 0.7813INFO:tensorflow:Assets written to: /home/anshul/Downloads/Lab3a/WR-Dataset/checkpoint/omega/assets\n",
      "196/257 [=====================>........] - ETA: 15s - loss: 0.1891 - cosine_similarity: 0.7815INFO:tensorflow:Assets written to: /home/anshul/Downloads/Lab3a/WR-Dataset/checkpoint/omega/assets\n",
      "206/257 [=======================>......] - ETA: 12s - loss: 0.1890 - cosine_similarity: 0.7817INFO:tensorflow:Assets written to: /home/anshul/Downloads/Lab3a/WR-Dataset/checkpoint/omega/assets\n",
      "216/257 [========================>.....] - ETA: 10s - loss: 0.1888 - cosine_similarity: 0.7820INFO:tensorflow:Assets written to: /home/anshul/Downloads/Lab3a/WR-Dataset/checkpoint/omega/assets\n",
      "226/257 [=========================>....] - ETA: 7s - loss: 0.1886 - cosine_similarity: 0.7822INFO:tensorflow:Assets written to: /home/anshul/Downloads/Lab3a/WR-Dataset/checkpoint/omega/assets\n",
      "236/257 [==========================>...] - ETA: 5s - loss: 0.1884 - cosine_similarity: 0.7825INFO:tensorflow:Assets written to: /home/anshul/Downloads/Lab3a/WR-Dataset/checkpoint/omega/assets\n",
      "246/257 [===========================>..] - ETA: 2s - loss: 0.1882 - cosine_similarity: 0.7827INFO:tensorflow:Assets written to: /home/anshul/Downloads/Lab3a/WR-Dataset/checkpoint/omega/assets\n",
      "256/257 [============================>.] - ETA: 0s - loss: 0.1880 - cosine_similarity: 0.7830INFO:tensorflow:Assets written to: /home/anshul/Downloads/Lab3a/WR-Dataset/checkpoint/omega/assets\n",
      "257/257 [==============================] - 66s 258ms/step - loss: 0.1880 - cosine_similarity: 0.7830 - val_loss: 0.1660 - val_cosine_similarity: 0.7999\n",
      "Epoch 11/30\n",
      "  9/257 [>.............................] - ETA: 8s - loss: 0.1869 - cosine_similarity: 0.8177INFO:tensorflow:Assets written to: /home/anshul/Downloads/Lab3a/WR-Dataset/checkpoint/omega/assets\n",
      " 19/257 [=>............................] - ETA: 41s - loss: 0.1877 - cosine_similarity: 0.8149INFO:tensorflow:Assets written to: /home/anshul/Downloads/Lab3a/WR-Dataset/checkpoint/omega/assets\n",
      " 29/257 [==>...........................] - ETA: 44s - loss: 0.1843 - cosine_similarity: 0.8137INFO:tensorflow:Assets written to: /home/anshul/Downloads/Lab3a/WR-Dataset/checkpoint/omega/assets\n",
      " 39/257 [===>..........................] - ETA: 44s - loss: 0.1817 - cosine_similarity: 0.8120INFO:tensorflow:Assets written to: /home/anshul/Downloads/Lab3a/WR-Dataset/checkpoint/omega/assets\n",
      " 49/257 [====>.........................] - ETA: 44s - loss: 0.1799 - cosine_similarity: 0.8114INFO:tensorflow:Assets written to: /home/anshul/Downloads/Lab3a/WR-Dataset/checkpoint/omega/assets\n",
      " 59/257 [=====>........................] - ETA: 45s - loss: 0.1781 - cosine_similarity: 0.8107INFO:tensorflow:Assets written to: /home/anshul/Downloads/Lab3a/WR-Dataset/checkpoint/omega/assets\n",
      " 69/257 [=======>......................] - ETA: 43s - loss: 0.1771 - cosine_similarity: 0.8101INFO:tensorflow:Assets written to: /home/anshul/Downloads/Lab3a/WR-Dataset/checkpoint/omega/assets\n",
      " 79/257 [========>.....................] - ETA: 41s - loss: 0.1763 - cosine_similarity: 0.8097INFO:tensorflow:Assets written to: /home/anshul/Downloads/Lab3a/WR-Dataset/checkpoint/omega/assets\n",
      " 89/257 [=========>....................] - ETA: 39s - loss: 0.1756 - cosine_similarity: 0.8094INFO:tensorflow:Assets written to: /home/anshul/Downloads/Lab3a/WR-Dataset/checkpoint/omega/assets\n",
      " 99/257 [==========>...................] - ETA: 36s - loss: 0.1750 - cosine_similarity: 0.8093INFO:tensorflow:Assets written to: /home/anshul/Downloads/Lab3a/WR-Dataset/checkpoint/omega/assets\n",
      "109/257 [===========>..................] - ETA: 35s - loss: 0.1745 - cosine_similarity: 0.8093INFO:tensorflow:Assets written to: /home/anshul/Downloads/Lab3a/WR-Dataset/checkpoint/omega/assets\n",
      "119/257 [============>.................] - ETA: 32s - loss: 0.1739 - cosine_similarity: 0.8093INFO:tensorflow:Assets written to: /home/anshul/Downloads/Lab3a/WR-Dataset/checkpoint/omega/assets\n",
      "129/257 [==============>...............] - ETA: 30s - loss: 0.1734 - cosine_similarity: 0.8093INFO:tensorflow:Assets written to: /home/anshul/Downloads/Lab3a/WR-Dataset/checkpoint/omega/assets\n",
      "139/257 [===============>..............] - ETA: 28s - loss: 0.1730 - cosine_similarity: 0.8093INFO:tensorflow:Assets written to: /home/anshul/Downloads/Lab3a/WR-Dataset/checkpoint/omega/assets\n",
      "149/257 [================>.............] - ETA: 26s - loss: 0.1726 - cosine_similarity: 0.8092INFO:tensorflow:Assets written to: /home/anshul/Downloads/Lab3a/WR-Dataset/checkpoint/omega/assets\n",
      "159/257 [=================>............] - ETA: 23s - loss: 0.1723 - cosine_similarity: 0.8093INFO:tensorflow:Assets written to: /home/anshul/Downloads/Lab3a/WR-Dataset/checkpoint/omega/assets\n",
      "169/257 [==================>...........] - ETA: 21s - loss: 0.1721 - cosine_similarity: 0.8094INFO:tensorflow:Assets written to: /home/anshul/Downloads/Lab3a/WR-Dataset/checkpoint/omega/assets\n",
      "179/257 [===================>..........] - ETA: 18s - loss: 0.1718 - cosine_similarity: 0.8095INFO:tensorflow:Assets written to: /home/anshul/Downloads/Lab3a/WR-Dataset/checkpoint/omega/assets\n",
      "189/257 [=====================>........] - ETA: 16s - loss: 0.1716 - cosine_similarity: 0.8097INFO:tensorflow:Assets written to: /home/anshul/Downloads/Lab3a/WR-Dataset/checkpoint/omega/assets\n",
      "199/257 [======================>.......] - ETA: 14s - loss: 0.1713 - cosine_similarity: 0.8099INFO:tensorflow:Assets written to: /home/anshul/Downloads/Lab3a/WR-Dataset/checkpoint/omega/assets\n",
      "209/257 [=======================>......] - ETA: 11s - loss: 0.1711 - cosine_similarity: 0.8101INFO:tensorflow:Assets written to: /home/anshul/Downloads/Lab3a/WR-Dataset/checkpoint/omega/assets\n",
      "219/257 [========================>.....] - ETA: 9s - loss: 0.1709 - cosine_similarity: 0.8102INFO:tensorflow:Assets written to: /home/anshul/Downloads/Lab3a/WR-Dataset/checkpoint/omega/assets\n",
      "229/257 [=========================>....] - ETA: 6s - loss: 0.1706 - cosine_similarity: 0.8104INFO:tensorflow:Assets written to: /home/anshul/Downloads/Lab3a/WR-Dataset/checkpoint/omega/assets\n",
      "239/257 [==========================>...] - ETA: 4s - loss: 0.1703 - cosine_similarity: 0.8105INFO:tensorflow:Assets written to: /home/anshul/Downloads/Lab3a/WR-Dataset/checkpoint/omega/assets\n",
      "249/257 [============================>.] - ETA: 1s - loss: 0.1701 - cosine_similarity: 0.8107INFO:tensorflow:Assets written to: /home/anshul/Downloads/Lab3a/WR-Dataset/checkpoint/omega/assets\n",
      "257/257 [==============================] - 64s 250ms/step - loss: 0.1698 - cosine_similarity: 0.8108 - val_loss: 0.1515 - val_cosine_similarity: 0.8299\n",
      "Epoch 12/30\n",
      "  3/257 [..............................] - ETA: 9s - loss: 0.1382 - cosine_similarity: 0.8182INFO:tensorflow:Assets written to: /home/anshul/Downloads/Lab3a/WR-Dataset/checkpoint/omega/assets\n",
      " 12/257 [>.............................] - ETA: 53s - loss: 0.1554 - cosine_similarity: 0.8237 INFO:tensorflow:Assets written to: /home/anshul/Downloads/Lab3a/WR-Dataset/checkpoint/omega/assets\n",
      " 22/257 [=>............................] - ETA: 1:00 - loss: 0.1565 - cosine_similarity: 0.8272INFO:tensorflow:Assets written to: /home/anshul/Downloads/Lab3a/WR-Dataset/checkpoint/omega/assets\n",
      " 32/257 [==>...........................] - ETA: 56s - loss: 0.1575 - cosine_similarity: 0.8285 INFO:tensorflow:Assets written to: /home/anshul/Downloads/Lab3a/WR-Dataset/checkpoint/omega/assets\n",
      " 42/257 [===>..........................] - ETA: 53s - loss: 0.1570 - cosine_similarity: 0.8288INFO:tensorflow:Assets written to: /home/anshul/Downloads/Lab3a/WR-Dataset/checkpoint/omega/assets\n",
      " 52/257 [=====>........................] - ETA: 50s - loss: 0.1566 - cosine_similarity: 0.8288INFO:tensorflow:Assets written to: /home/anshul/Downloads/Lab3a/WR-Dataset/checkpoint/omega/assets\n",
      " 62/257 [======>.......................] - ETA: 49s - loss: 0.1562 - cosine_similarity: 0.8288INFO:tensorflow:Assets written to: /home/anshul/Downloads/Lab3a/WR-Dataset/checkpoint/omega/assets\n",
      " 72/257 [=======>......................] - ETA: 46s - loss: 0.1559 - cosine_similarity: 0.8289INFO:tensorflow:Assets written to: /home/anshul/Downloads/Lab3a/WR-Dataset/checkpoint/omega/assets\n"
     ]
    },
    {
     "name": "stdout",
     "output_type": "stream",
     "text": [
      " 82/257 [========>.....................] - ETA: 43s - loss: 0.1557 - cosine_similarity: 0.8288INFO:tensorflow:Assets written to: /home/anshul/Downloads/Lab3a/WR-Dataset/checkpoint/omega/assets\n",
      " 92/257 [=========>....................] - ETA: 41s - loss: 0.1556 - cosine_similarity: 0.8289INFO:tensorflow:Assets written to: /home/anshul/Downloads/Lab3a/WR-Dataset/checkpoint/omega/assets\n",
      "102/257 [==========>...................] - ETA: 38s - loss: 0.1555 - cosine_similarity: 0.8290INFO:tensorflow:Assets written to: /home/anshul/Downloads/Lab3a/WR-Dataset/checkpoint/omega/assets\n",
      "112/257 [============>.................] - ETA: 36s - loss: 0.1553 - cosine_similarity: 0.8291INFO:tensorflow:Assets written to: /home/anshul/Downloads/Lab3a/WR-Dataset/checkpoint/omega/assets\n",
      "122/257 [=============>................] - ETA: 34s - loss: 0.1552 - cosine_similarity: 0.8293INFO:tensorflow:Assets written to: /home/anshul/Downloads/Lab3a/WR-Dataset/checkpoint/omega/assets\n",
      "132/257 [==============>...............] - ETA: 31s - loss: 0.1551 - cosine_similarity: 0.8293INFO:tensorflow:Assets written to: /home/anshul/Downloads/Lab3a/WR-Dataset/checkpoint/omega/assets\n",
      "142/257 [===============>..............] - ETA: 28s - loss: 0.1549 - cosine_similarity: 0.8294INFO:tensorflow:Assets written to: /home/anshul/Downloads/Lab3a/WR-Dataset/checkpoint/omega/assets\n",
      "152/257 [================>.............] - ETA: 26s - loss: 0.1547 - cosine_similarity: 0.8294INFO:tensorflow:Assets written to: /home/anshul/Downloads/Lab3a/WR-Dataset/checkpoint/omega/assets\n",
      "162/257 [=================>............] - ETA: 24s - loss: 0.1545 - cosine_similarity: 0.8294INFO:tensorflow:Assets written to: /home/anshul/Downloads/Lab3a/WR-Dataset/checkpoint/omega/assets\n",
      "172/257 [===================>..........] - ETA: 21s - loss: 0.1543 - cosine_similarity: 0.8295INFO:tensorflow:Assets written to: /home/anshul/Downloads/Lab3a/WR-Dataset/checkpoint/omega/assets\n",
      "182/257 [====================>.........] - ETA: 18s - loss: 0.1540 - cosine_similarity: 0.8295INFO:tensorflow:Assets written to: /home/anshul/Downloads/Lab3a/WR-Dataset/checkpoint/omega/assets\n",
      "192/257 [=====================>........] - ETA: 16s - loss: 0.1539 - cosine_similarity: 0.8296INFO:tensorflow:Assets written to: /home/anshul/Downloads/Lab3a/WR-Dataset/checkpoint/omega/assets\n",
      "202/257 [======================>.......] - ETA: 13s - loss: 0.1538 - cosine_similarity: 0.8296INFO:tensorflow:Assets written to: /home/anshul/Downloads/Lab3a/WR-Dataset/checkpoint/omega/assets\n",
      "212/257 [=======================>......] - ETA: 11s - loss: 0.1537 - cosine_similarity: 0.8296INFO:tensorflow:Assets written to: /home/anshul/Downloads/Lab3a/WR-Dataset/checkpoint/omega/assets\n",
      "222/257 [========================>.....] - ETA: 8s - loss: 0.1536 - cosine_similarity: 0.8297INFO:tensorflow:Assets written to: /home/anshul/Downloads/Lab3a/WR-Dataset/checkpoint/omega/assets\n",
      "232/257 [==========================>...] - ETA: 6s - loss: 0.1535 - cosine_similarity: 0.8297INFO:tensorflow:Assets written to: /home/anshul/Downloads/Lab3a/WR-Dataset/checkpoint/omega/assets\n",
      "242/257 [===========================>..] - ETA: 3s - loss: 0.1534 - cosine_similarity: 0.8298INFO:tensorflow:Assets written to: /home/anshul/Downloads/Lab3a/WR-Dataset/checkpoint/omega/assets\n",
      "252/257 [============================>.] - ETA: 1s - loss: 0.1533 - cosine_similarity: 0.8298INFO:tensorflow:Assets written to: /home/anshul/Downloads/Lab3a/WR-Dataset/checkpoint/omega/assets\n",
      "257/257 [==============================] - 66s 259ms/step - loss: 0.1532 - cosine_similarity: 0.8299 - val_loss: 0.1439 - val_cosine_similarity: 0.8363\n",
      "Epoch 13/30\n",
      "  5/257 [..............................] - ETA: 9s - loss: 0.1105 - cosine_similarity: 0.8555INFO:tensorflow:Assets written to: /home/anshul/Downloads/Lab3a/WR-Dataset/checkpoint/omega/assets\n",
      " 15/257 [>.............................] - ETA: 44s - loss: 0.1231 - cosine_similarity: 0.8490INFO:tensorflow:Assets written to: /home/anshul/Downloads/Lab3a/WR-Dataset/checkpoint/omega/assets\n",
      " 25/257 [=>............................] - ETA: 54s - loss: 0.1291 - cosine_similarity: 0.8477INFO:tensorflow:Assets written to: /home/anshul/Downloads/Lab3a/WR-Dataset/checkpoint/omega/assets\n",
      " 35/257 [===>..........................] - ETA: 52s - loss: 0.1332 - cosine_similarity: 0.8461INFO:tensorflow:Assets written to: /home/anshul/Downloads/Lab3a/WR-Dataset/checkpoint/omega/assets\n",
      " 45/257 [====>.........................] - ETA: 50s - loss: 0.1356 - cosine_similarity: 0.8455INFO:tensorflow:Assets written to: /home/anshul/Downloads/Lab3a/WR-Dataset/checkpoint/omega/assets\n",
      " 55/257 [=====>........................] - ETA: 48s - loss: 0.1375 - cosine_similarity: 0.8452INFO:tensorflow:Assets written to: /home/anshul/Downloads/Lab3a/WR-Dataset/checkpoint/omega/assets\n",
      " 65/257 [======>.......................] - ETA: 46s - loss: 0.1386 - cosine_similarity: 0.8449INFO:tensorflow:Assets written to: /home/anshul/Downloads/Lab3a/WR-Dataset/checkpoint/omega/assets\n",
      " 75/257 [=======>......................] - ETA: 45s - loss: 0.1395 - cosine_similarity: 0.8445INFO:tensorflow:Assets written to: /home/anshul/Downloads/Lab3a/WR-Dataset/checkpoint/omega/assets\n",
      " 85/257 [========>.....................] - ETA: 42s - loss: 0.1404 - cosine_similarity: 0.8442INFO:tensorflow:Assets written to: /home/anshul/Downloads/Lab3a/WR-Dataset/checkpoint/omega/assets\n",
      " 95/257 [==========>...................] - ETA: 39s - loss: 0.1411 - cosine_similarity: 0.8440INFO:tensorflow:Assets written to: /home/anshul/Downloads/Lab3a/WR-Dataset/checkpoint/omega/assets\n",
      "105/257 [===========>..................] - ETA: 37s - loss: 0.1416 - cosine_similarity: 0.8439INFO:tensorflow:Assets written to: /home/anshul/Downloads/Lab3a/WR-Dataset/checkpoint/omega/assets\n",
      "115/257 [============>.................] - ETA: 35s - loss: 0.1419 - cosine_similarity: 0.8437INFO:tensorflow:Assets written to: /home/anshul/Downloads/Lab3a/WR-Dataset/checkpoint/omega/assets\n",
      "125/257 [=============>................] - ETA: 32s - loss: 0.1422 - cosine_similarity: 0.8436INFO:tensorflow:Assets written to: /home/anshul/Downloads/Lab3a/WR-Dataset/checkpoint/omega/assets\n",
      "135/257 [==============>...............] - ETA: 30s - loss: 0.1424 - cosine_similarity: 0.8435INFO:tensorflow:Assets written to: /home/anshul/Downloads/Lab3a/WR-Dataset/checkpoint/omega/assets\n",
      "145/257 [===============>..............] - ETA: 27s - loss: 0.1425 - cosine_similarity: 0.8435INFO:tensorflow:Assets written to: /home/anshul/Downloads/Lab3a/WR-Dataset/checkpoint/omega/assets\n",
      "155/257 [=================>............] - ETA: 25s - loss: 0.1426 - cosine_similarity: 0.8434INFO:tensorflow:Assets written to: /home/anshul/Downloads/Lab3a/WR-Dataset/checkpoint/omega/assets\n",
      "165/257 [==================>...........] - ETA: 22s - loss: 0.1426 - cosine_similarity: 0.8433INFO:tensorflow:Assets written to: /home/anshul/Downloads/Lab3a/WR-Dataset/checkpoint/omega/assets\n",
      "175/257 [===================>..........] - ETA: 20s - loss: 0.1427 - cosine_similarity: 0.8432INFO:tensorflow:Assets written to: /home/anshul/Downloads/Lab3a/WR-Dataset/checkpoint/omega/assets\n",
      "185/257 [====================>.........] - ETA: 17s - loss: 0.1427 - cosine_similarity: 0.8431INFO:tensorflow:Assets written to: /home/anshul/Downloads/Lab3a/WR-Dataset/checkpoint/omega/assets\n",
      "195/257 [=====================>........] - ETA: 15s - loss: 0.1427 - cosine_similarity: 0.8430INFO:tensorflow:Assets written to: /home/anshul/Downloads/Lab3a/WR-Dataset/checkpoint/omega/assets\n",
      "205/257 [======================>.......] - ETA: 13s - loss: 0.1427 - cosine_similarity: 0.8430INFO:tensorflow:Assets written to: /home/anshul/Downloads/Lab3a/WR-Dataset/checkpoint/omega/assets\n",
      "215/257 [========================>.....] - ETA: 10s - loss: 0.1426 - cosine_similarity: 0.8429INFO:tensorflow:Assets written to: /home/anshul/Downloads/Lab3a/WR-Dataset/checkpoint/omega/assets\n",
      "225/257 [=========================>....] - ETA: 7s - loss: 0.1426 - cosine_similarity: 0.8429INFO:tensorflow:Assets written to: /home/anshul/Downloads/Lab3a/WR-Dataset/checkpoint/omega/assets\n",
      "235/257 [==========================>...] - ETA: 5s - loss: 0.1425 - cosine_similarity: 0.8429INFO:tensorflow:Assets written to: /home/anshul/Downloads/Lab3a/WR-Dataset/checkpoint/omega/assets\n"
     ]
    },
    {
     "name": "stdout",
     "output_type": "stream",
     "text": [
      "245/257 [===========================>..] - ETA: 3s - loss: 0.1425 - cosine_similarity: 0.8429INFO:tensorflow:Assets written to: /home/anshul/Downloads/Lab3a/WR-Dataset/checkpoint/omega/assets\n",
      "255/257 [============================>.] - ETA: 0s - loss: 0.1424 - cosine_similarity: 0.8429INFO:tensorflow:Assets written to: /home/anshul/Downloads/Lab3a/WR-Dataset/checkpoint/omega/assets\n",
      "257/257 [==============================] - 66s 257ms/step - loss: 0.1424 - cosine_similarity: 0.8429 - val_loss: 0.1484 - val_cosine_similarity: 0.8477\n",
      "Epoch 14/30\n",
      "  9/257 [>.............................] - ETA: 8s - loss: 0.1549 - cosine_similarity: 0.8432INFO:tensorflow:Assets written to: /home/anshul/Downloads/Lab3a/WR-Dataset/checkpoint/omega/assets\n",
      " 18/257 [=>............................] - ETA: 36s - loss: 0.1487 - cosine_similarity: 0.8462INFO:tensorflow:Assets written to: /home/anshul/Downloads/Lab3a/WR-Dataset/checkpoint/omega/assets\n",
      " 28/257 [==>...........................] - ETA: 46s - loss: 0.1455 - cosine_similarity: 0.8481INFO:tensorflow:Assets written to: /home/anshul/Downloads/Lab3a/WR-Dataset/checkpoint/omega/assets\n",
      " 38/257 [===>..........................] - ETA: 46s - loss: 0.1439 - cosine_similarity: 0.8486INFO:tensorflow:Assets written to: /home/anshul/Downloads/Lab3a/WR-Dataset/checkpoint/omega/assets\n",
      " 48/257 [====>.........................] - ETA: 45s - loss: 0.1428 - cosine_similarity: 0.8488INFO:tensorflow:Assets written to: /home/anshul/Downloads/Lab3a/WR-Dataset/checkpoint/omega/assets\n",
      " 58/257 [=====>........................] - ETA: 43s - loss: 0.1420 - cosine_similarity: 0.8489INFO:tensorflow:Assets written to: /home/anshul/Downloads/Lab3a/WR-Dataset/checkpoint/omega/assets\n",
      " 68/257 [======>.......................] - ETA: 42s - loss: 0.1413 - cosine_similarity: 0.8491INFO:tensorflow:Assets written to: /home/anshul/Downloads/Lab3a/WR-Dataset/checkpoint/omega/assets\n",
      " 78/257 [========>.....................] - ETA: 42s - loss: 0.1406 - cosine_similarity: 0.8494INFO:tensorflow:Assets written to: /home/anshul/Downloads/Lab3a/WR-Dataset/checkpoint/omega/assets\n",
      " 88/257 [=========>....................] - ETA: 39s - loss: 0.1400 - cosine_similarity: 0.8496INFO:tensorflow:Assets written to: /home/anshul/Downloads/Lab3a/WR-Dataset/checkpoint/omega/assets\n",
      " 98/257 [==========>...................] - ETA: 37s - loss: 0.1398 - cosine_similarity: 0.8500INFO:tensorflow:Assets written to: /home/anshul/Downloads/Lab3a/WR-Dataset/checkpoint/omega/assets\n",
      "108/257 [===========>..................] - ETA: 35s - loss: 0.1395 - cosine_similarity: 0.8502INFO:tensorflow:Assets written to: /home/anshul/Downloads/Lab3a/WR-Dataset/checkpoint/omega/assets\n",
      "118/257 [============>.................] - ETA: 33s - loss: 0.1392 - cosine_similarity: 0.8504INFO:tensorflow:Assets written to: /home/anshul/Downloads/Lab3a/WR-Dataset/checkpoint/omega/assets\n",
      "128/257 [=============>................] - ETA: 31s - loss: 0.1390 - cosine_similarity: 0.8505INFO:tensorflow:Assets written to: /home/anshul/Downloads/Lab3a/WR-Dataset/checkpoint/omega/assets\n",
      "138/257 [===============>..............] - ETA: 28s - loss: 0.1388 - cosine_similarity: 0.8506INFO:tensorflow:Assets written to: /home/anshul/Downloads/Lab3a/WR-Dataset/checkpoint/omega/assets\n",
      "148/257 [================>.............] - ETA: 26s - loss: 0.1385 - cosine_similarity: 0.8507INFO:tensorflow:Assets written to: /home/anshul/Downloads/Lab3a/WR-Dataset/checkpoint/omega/assets\n",
      "158/257 [=================>............] - ETA: 24s - loss: 0.1382 - cosine_similarity: 0.8507INFO:tensorflow:Assets written to: /home/anshul/Downloads/Lab3a/WR-Dataset/checkpoint/omega/assets\n",
      "168/257 [==================>...........] - ETA: 21s - loss: 0.1381 - cosine_similarity: 0.8507INFO:tensorflow:Assets written to: /home/anshul/Downloads/Lab3a/WR-Dataset/checkpoint/omega/assets\n",
      "178/257 [===================>..........] - ETA: 19s - loss: 0.1379 - cosine_similarity: 0.8508INFO:tensorflow:Assets written to: /home/anshul/Downloads/Lab3a/WR-Dataset/checkpoint/omega/assets\n",
      "188/257 [====================>.........] - ETA: 16s - loss: 0.1377 - cosine_similarity: 0.8509INFO:tensorflow:Assets written to: /home/anshul/Downloads/Lab3a/WR-Dataset/checkpoint/omega/assets\n",
      "198/257 [======================>.......] - ETA: 14s - loss: 0.1375 - cosine_similarity: 0.8510INFO:tensorflow:Assets written to: /home/anshul/Downloads/Lab3a/WR-Dataset/checkpoint/omega/assets\n",
      "208/257 [=======================>......] - ETA: 12s - loss: 0.1373 - cosine_similarity: 0.8510INFO:tensorflow:Assets written to: /home/anshul/Downloads/Lab3a/WR-Dataset/checkpoint/omega/assets\n",
      "218/257 [========================>.....] - ETA: 9s - loss: 0.1371 - cosine_similarity: 0.8511 INFO:tensorflow:Assets written to: /home/anshul/Downloads/Lab3a/WR-Dataset/checkpoint/omega/assets\n",
      "228/257 [=========================>....] - ETA: 7s - loss: 0.1370 - cosine_similarity: 0.8512INFO:tensorflow:Assets written to: /home/anshul/Downloads/Lab3a/WR-Dataset/checkpoint/omega/assets\n",
      "238/257 [==========================>...] - ETA: 4s - loss: 0.1368 - cosine_similarity: 0.8512INFO:tensorflow:Assets written to: /home/anshul/Downloads/Lab3a/WR-Dataset/checkpoint/omega/assets\n",
      "248/257 [===========================>..] - ETA: 2s - loss: 0.1367 - cosine_similarity: 0.8513INFO:tensorflow:Assets written to: /home/anshul/Downloads/Lab3a/WR-Dataset/checkpoint/omega/assets\n",
      "257/257 [==============================] - 64s 248ms/step - loss: 0.1366 - cosine_similarity: 0.8514 - val_loss: 0.1309 - val_cosine_similarity: 0.8622\n",
      "Epoch 15/30\n",
      "  1/257 [..............................] - ETA: 9s - loss: 0.1365 - cosine_similarity: 0.8744INFO:tensorflow:Assets written to: /home/anshul/Downloads/Lab3a/WR-Dataset/checkpoint/omega/assets\n",
      " 11/257 [>.............................] - ETA: 58s - loss: 0.1390 - cosine_similarity: 0.8686 INFO:tensorflow:Assets written to: /home/anshul/Downloads/Lab3a/WR-Dataset/checkpoint/omega/assets\n",
      " 21/257 [=>............................] - ETA: 55s - loss: 0.1363 - cosine_similarity: 0.8652 INFO:tensorflow:Assets written to: /home/anshul/Downloads/Lab3a/WR-Dataset/checkpoint/omega/assets\n",
      " 31/257 [==>...........................] - ETA: 57s - loss: 0.1350 - cosine_similarity: 0.8650 INFO:tensorflow:Assets written to: /home/anshul/Downloads/Lab3a/WR-Dataset/checkpoint/omega/assets\n",
      " 41/257 [===>..........................] - ETA: 54s - loss: 0.1341 - cosine_similarity: 0.8651INFO:tensorflow:Assets written to: /home/anshul/Downloads/Lab3a/WR-Dataset/checkpoint/omega/assets\n",
      " 51/257 [====>.........................] - ETA: 51s - loss: 0.1335 - cosine_similarity: 0.8645INFO:tensorflow:Assets written to: /home/anshul/Downloads/Lab3a/WR-Dataset/checkpoint/omega/assets\n",
      " 61/257 [======>.......................] - ETA: 48s - loss: 0.1331 - cosine_similarity: 0.8638INFO:tensorflow:Assets written to: /home/anshul/Downloads/Lab3a/WR-Dataset/checkpoint/omega/assets\n",
      " 71/257 [=======>......................] - ETA: 45s - loss: 0.1327 - cosine_similarity: 0.8633INFO:tensorflow:Assets written to: /home/anshul/Downloads/Lab3a/WR-Dataset/checkpoint/omega/assets\n",
      " 81/257 [========>.....................] - ETA: 44s - loss: 0.1323 - cosine_similarity: 0.8631INFO:tensorflow:Assets written to: /home/anshul/Downloads/Lab3a/WR-Dataset/checkpoint/omega/assets\n",
      " 91/257 [=========>....................] - ETA: 41s - loss: 0.1319 - cosine_similarity: 0.8631INFO:tensorflow:Assets written to: /home/anshul/Downloads/Lab3a/WR-Dataset/checkpoint/omega/assets\n",
      "101/257 [==========>...................] - ETA: 39s - loss: 0.1316 - cosine_similarity: 0.8631INFO:tensorflow:Assets written to: /home/anshul/Downloads/Lab3a/WR-Dataset/checkpoint/omega/assets\n",
      "111/257 [===========>..................] - ETA: 36s - loss: 0.1313 - cosine_similarity: 0.8632INFO:tensorflow:Assets written to: /home/anshul/Downloads/Lab3a/WR-Dataset/checkpoint/omega/assets\n",
      "121/257 [=============>................] - ETA: 34s - loss: 0.1310 - cosine_similarity: 0.8633INFO:tensorflow:Assets written to: /home/anshul/Downloads/Lab3a/WR-Dataset/checkpoint/omega/assets\n",
      "131/257 [==============>...............] - ETA: 31s - loss: 0.1307 - cosine_similarity: 0.8634INFO:tensorflow:Assets written to: /home/anshul/Downloads/Lab3a/WR-Dataset/checkpoint/omega/assets\n"
     ]
    },
    {
     "name": "stdout",
     "output_type": "stream",
     "text": [
      "141/257 [===============>..............] - ETA: 29s - loss: 0.1304 - cosine_similarity: 0.8635INFO:tensorflow:Assets written to: /home/anshul/Downloads/Lab3a/WR-Dataset/checkpoint/omega/assets\n",
      "151/257 [================>.............] - ETA: 26s - loss: 0.1300 - cosine_similarity: 0.8636INFO:tensorflow:Assets written to: /home/anshul/Downloads/Lab3a/WR-Dataset/checkpoint/omega/assets\n",
      "161/257 [=================>............] - ETA: 24s - loss: 0.1297 - cosine_similarity: 0.8637INFO:tensorflow:Assets written to: /home/anshul/Downloads/Lab3a/WR-Dataset/checkpoint/omega/assets\n",
      "171/257 [==================>...........] - ETA: 21s - loss: 0.1294 - cosine_similarity: 0.8638INFO:tensorflow:Assets written to: /home/anshul/Downloads/Lab3a/WR-Dataset/checkpoint/omega/assets\n",
      "181/257 [====================>.........] - ETA: 19s - loss: 0.1292 - cosine_similarity: 0.8639INFO:tensorflow:Assets written to: /home/anshul/Downloads/Lab3a/WR-Dataset/checkpoint/omega/assets\n",
      "191/257 [=====================>........] - ETA: 16s - loss: 0.1289 - cosine_similarity: 0.8640INFO:tensorflow:Assets written to: /home/anshul/Downloads/Lab3a/WR-Dataset/checkpoint/omega/assets\n",
      "201/257 [======================>.......] - ETA: 14s - loss: 0.1286 - cosine_similarity: 0.8641INFO:tensorflow:Assets written to: /home/anshul/Downloads/Lab3a/WR-Dataset/checkpoint/omega/assets\n",
      "211/257 [=======================>......] - ETA: 11s - loss: 0.1284 - cosine_similarity: 0.8641INFO:tensorflow:Assets written to: /home/anshul/Downloads/Lab3a/WR-Dataset/checkpoint/omega/assets\n",
      "221/257 [========================>.....] - ETA: 9s - loss: 0.1281 - cosine_similarity: 0.8642INFO:tensorflow:Assets written to: /home/anshul/Downloads/Lab3a/WR-Dataset/checkpoint/omega/assets\n",
      "231/257 [=========================>....] - ETA: 6s - loss: 0.1279 - cosine_similarity: 0.8643INFO:tensorflow:Assets written to: /home/anshul/Downloads/Lab3a/WR-Dataset/checkpoint/omega/assets\n",
      "241/257 [===========================>..] - ETA: 4s - loss: 0.1277 - cosine_similarity: 0.8643INFO:tensorflow:Assets written to: /home/anshul/Downloads/Lab3a/WR-Dataset/checkpoint/omega/assets\n",
      "251/257 [============================>.] - ETA: 1s - loss: 0.1275 - cosine_similarity: 0.8644INFO:tensorflow:Assets written to: /home/anshul/Downloads/Lab3a/WR-Dataset/checkpoint/omega/assets\n",
      "257/257 [==============================] - 66s 257ms/step - loss: 0.1274 - cosine_similarity: 0.8645 - val_loss: 0.1188 - val_cosine_similarity: 0.8751\n",
      "Epoch 16/30\n",
      "  5/257 [..............................] - ETA: 9s - loss: 0.0981 - cosine_similarity: 0.8643INFO:tensorflow:Assets written to: /home/anshul/Downloads/Lab3a/WR-Dataset/checkpoint/omega/assets\n",
      " 14/257 [>.............................] - ETA: 46s - loss: 0.1033 - cosine_similarity: 0.8652INFO:tensorflow:Assets written to: /home/anshul/Downloads/Lab3a/WR-Dataset/checkpoint/omega/assets\n",
      " 24/257 [=>............................] - ETA: 49s - loss: 0.1079 - cosine_similarity: 0.8689INFO:tensorflow:Assets written to: /home/anshul/Downloads/Lab3a/WR-Dataset/checkpoint/omega/assets\n",
      " 34/257 [==>...........................] - ETA: 52s - loss: 0.1100 - cosine_similarity: 0.8708INFO:tensorflow:Assets written to: /home/anshul/Downloads/Lab3a/WR-Dataset/checkpoint/omega/assets\n",
      " 44/257 [====>.........................] - ETA: 50s - loss: 0.1113 - cosine_similarity: 0.8717INFO:tensorflow:Assets written to: /home/anshul/Downloads/Lab3a/WR-Dataset/checkpoint/omega/assets\n",
      " 54/257 [=====>........................] - ETA: 48s - loss: 0.1120 - cosine_similarity: 0.8728INFO:tensorflow:Assets written to: /home/anshul/Downloads/Lab3a/WR-Dataset/checkpoint/omega/assets\n",
      " 64/257 [======>.......................] - ETA: 45s - loss: 0.1123 - cosine_similarity: 0.8737INFO:tensorflow:Assets written to: /home/anshul/Downloads/Lab3a/WR-Dataset/checkpoint/omega/assets\n",
      " 74/257 [=======>......................] - ETA: 43s - loss: 0.1124 - cosine_similarity: 0.8743INFO:tensorflow:Assets written to: /home/anshul/Downloads/Lab3a/WR-Dataset/checkpoint/omega/assets\n",
      " 84/257 [========>.....................] - ETA: 42s - loss: 0.1125 - cosine_similarity: 0.8748INFO:tensorflow:Assets written to: /home/anshul/Downloads/Lab3a/WR-Dataset/checkpoint/omega/assets\n",
      " 94/257 [=========>....................] - ETA: 39s - loss: 0.1126 - cosine_similarity: 0.8752INFO:tensorflow:Assets written to: /home/anshul/Downloads/Lab3a/WR-Dataset/checkpoint/omega/assets\n",
      "104/257 [===========>..................] - ETA: 37s - loss: 0.1128 - cosine_similarity: 0.8755INFO:tensorflow:Assets written to: /home/anshul/Downloads/Lab3a/WR-Dataset/checkpoint/omega/assets\n",
      "114/257 [============>.................] - ETA: 34s - loss: 0.1128 - cosine_similarity: 0.8758INFO:tensorflow:Assets written to: /home/anshul/Downloads/Lab3a/WR-Dataset/checkpoint/omega/assets\n",
      "124/257 [=============>................] - ETA: 32s - loss: 0.1130 - cosine_similarity: 0.8761INFO:tensorflow:Assets written to: /home/anshul/Downloads/Lab3a/WR-Dataset/checkpoint/omega/assets\n",
      "134/257 [==============>...............] - ETA: 30s - loss: 0.1131 - cosine_similarity: 0.8764INFO:tensorflow:Assets written to: /home/anshul/Downloads/Lab3a/WR-Dataset/checkpoint/omega/assets\n",
      "144/257 [===============>..............] - ETA: 27s - loss: 0.1132 - cosine_similarity: 0.8766INFO:tensorflow:Assets written to: /home/anshul/Downloads/Lab3a/WR-Dataset/checkpoint/omega/assets\n",
      "154/257 [================>.............] - ETA: 25s - loss: 0.1133 - cosine_similarity: 0.8768INFO:tensorflow:Assets written to: /home/anshul/Downloads/Lab3a/WR-Dataset/checkpoint/omega/assets\n",
      "164/257 [==================>...........] - ETA: 23s - loss: 0.1134 - cosine_similarity: 0.8769INFO:tensorflow:Assets written to: /home/anshul/Downloads/Lab3a/WR-Dataset/checkpoint/omega/assets\n",
      "174/257 [===================>..........] - ETA: 20s - loss: 0.1135 - cosine_similarity: 0.8771INFO:tensorflow:Assets written to: /home/anshul/Downloads/Lab3a/WR-Dataset/checkpoint/omega/assets\n",
      "184/257 [====================>.........] - ETA: 18s - loss: 0.1136 - cosine_similarity: 0.8772INFO:tensorflow:Assets written to: /home/anshul/Downloads/Lab3a/WR-Dataset/checkpoint/omega/assets\n",
      "194/257 [=====================>........] - ETA: 15s - loss: 0.1137 - cosine_similarity: 0.8773INFO:tensorflow:Assets written to: /home/anshul/Downloads/Lab3a/WR-Dataset/checkpoint/omega/assets\n",
      "204/257 [======================>.......] - ETA: 13s - loss: 0.1138 - cosine_similarity: 0.8774INFO:tensorflow:Assets written to: /home/anshul/Downloads/Lab3a/WR-Dataset/checkpoint/omega/assets\n",
      "214/257 [=======================>......] - ETA: 10s - loss: 0.1138 - cosine_similarity: 0.8774INFO:tensorflow:Assets written to: /home/anshul/Downloads/Lab3a/WR-Dataset/checkpoint/omega/assets\n",
      "224/257 [=========================>....] - ETA: 8s - loss: 0.1138 - cosine_similarity: 0.8775INFO:tensorflow:Assets written to: /home/anshul/Downloads/Lab3a/WR-Dataset/checkpoint/omega/assets\n",
      "234/257 [==========================>...] - ETA: 5s - loss: 0.1139 - cosine_similarity: 0.8776INFO:tensorflow:Assets written to: /home/anshul/Downloads/Lab3a/WR-Dataset/checkpoint/omega/assets\n",
      "244/257 [===========================>..] - ETA: 3s - loss: 0.1139 - cosine_similarity: 0.8776INFO:tensorflow:Assets written to: /home/anshul/Downloads/Lab3a/WR-Dataset/checkpoint/omega/assets\n",
      "254/257 [============================>.] - ETA: 0s - loss: 0.1139 - cosine_similarity: 0.8777INFO:tensorflow:Assets written to: /home/anshul/Downloads/Lab3a/WR-Dataset/checkpoint/omega/assets\n",
      "257/257 [==============================] - 66s 258ms/step - loss: 0.1139 - cosine_similarity: 0.8777 - val_loss: 0.1142 - val_cosine_similarity: 0.8846\n",
      "Epoch 17/30\n",
      "  7/257 [..............................] - ETA: 9s - loss: 0.1065 - cosine_similarity: 0.8799INFO:tensorflow:Assets written to: /home/anshul/Downloads/Lab3a/WR-Dataset/checkpoint/omega/assets\n",
      " 17/257 [>.............................] - ETA: 40s - loss: 0.1077 - cosine_similarity: 0.8792INFO:tensorflow:Assets written to: /home/anshul/Downloads/Lab3a/WR-Dataset/checkpoint/omega/assets\n",
      " 27/257 [==>...........................] - ETA: 45s - loss: 0.1067 - cosine_similarity: 0.8797INFO:tensorflow:Assets written to: /home/anshul/Downloads/Lab3a/WR-Dataset/checkpoint/omega/assets\n"
     ]
    },
    {
     "name": "stdout",
     "output_type": "stream",
     "text": [
      " 37/257 [===>..........................] - ETA: 45s - loss: 0.1055 - cosine_similarity: 0.8813INFO:tensorflow:Assets written to: /home/anshul/Downloads/Lab3a/WR-Dataset/checkpoint/omega/assets\n",
      " 47/257 [====>.........................] - ETA: 47s - loss: 0.1046 - cosine_similarity: 0.8826INFO:tensorflow:Assets written to: /home/anshul/Downloads/Lab3a/WR-Dataset/checkpoint/omega/assets\n",
      " 57/257 [=====>........................] - ETA: 45s - loss: 0.1042 - cosine_similarity: 0.8836INFO:tensorflow:Assets written to: /home/anshul/Downloads/Lab3a/WR-Dataset/checkpoint/omega/assets\n",
      " 67/257 [======>.......................] - ETA: 43s - loss: 0.1043 - cosine_similarity: 0.8842INFO:tensorflow:Assets written to: /home/anshul/Downloads/Lab3a/WR-Dataset/checkpoint/omega/assets\n",
      " 77/257 [=======>......................] - ETA: 41s - loss: 0.1045 - cosine_similarity: 0.8848INFO:tensorflow:Assets written to: /home/anshul/Downloads/Lab3a/WR-Dataset/checkpoint/omega/assets\n",
      " 87/257 [=========>....................] - ETA: 40s - loss: 0.1046 - cosine_similarity: 0.8851INFO:tensorflow:Assets written to: /home/anshul/Downloads/Lab3a/WR-Dataset/checkpoint/omega/assets\n",
      " 97/257 [==========>...................] - ETA: 37s - loss: 0.1047 - cosine_similarity: 0.8854INFO:tensorflow:Assets written to: /home/anshul/Downloads/Lab3a/WR-Dataset/checkpoint/omega/assets\n",
      "107/257 [===========>..................] - ETA: 35s - loss: 0.1049 - cosine_similarity: 0.8857INFO:tensorflow:Assets written to: /home/anshul/Downloads/Lab3a/WR-Dataset/checkpoint/omega/assets\n",
      "117/257 [============>.................] - ETA: 33s - loss: 0.1050 - cosine_similarity: 0.8859INFO:tensorflow:Assets written to: /home/anshul/Downloads/Lab3a/WR-Dataset/checkpoint/omega/assets\n",
      "127/257 [=============>................] - ETA: 31s - loss: 0.1052 - cosine_similarity: 0.8861INFO:tensorflow:Assets written to: /home/anshul/Downloads/Lab3a/WR-Dataset/checkpoint/omega/assets\n",
      "137/257 [==============>...............] - ETA: 29s - loss: 0.1054 - cosine_similarity: 0.8863INFO:tensorflow:Assets written to: /home/anshul/Downloads/Lab3a/WR-Dataset/checkpoint/omega/assets\n",
      "147/257 [================>.............] - ETA: 26s - loss: 0.1055 - cosine_similarity: 0.8865INFO:tensorflow:Assets written to: /home/anshul/Downloads/Lab3a/WR-Dataset/checkpoint/omega/assets\n",
      "157/257 [=================>............] - ETA: 24s - loss: 0.1056 - cosine_similarity: 0.8867INFO:tensorflow:Assets written to: /home/anshul/Downloads/Lab3a/WR-Dataset/checkpoint/omega/assets\n",
      "167/257 [==================>...........] - ETA: 21s - loss: 0.1057 - cosine_similarity: 0.8868INFO:tensorflow:Assets written to: /home/anshul/Downloads/Lab3a/WR-Dataset/checkpoint/omega/assets\n",
      "177/257 [===================>..........] - ETA: 19s - loss: 0.1059 - cosine_similarity: 0.8870INFO:tensorflow:Assets written to: /home/anshul/Downloads/Lab3a/WR-Dataset/checkpoint/omega/assets\n",
      "187/257 [====================>.........] - ETA: 17s - loss: 0.1060 - cosine_similarity: 0.8871INFO:tensorflow:Assets written to: /home/anshul/Downloads/Lab3a/WR-Dataset/checkpoint/omega/assets\n",
      "197/257 [=====================>........] - ETA: 14s - loss: 0.1060 - cosine_similarity: 0.8872INFO:tensorflow:Assets written to: /home/anshul/Downloads/Lab3a/WR-Dataset/checkpoint/omega/assets\n",
      "207/257 [=======================>......] - ETA: 12s - loss: 0.1060 - cosine_similarity: 0.8873INFO:tensorflow:Assets written to: /home/anshul/Downloads/Lab3a/WR-Dataset/checkpoint/omega/assets\n",
      "217/257 [========================>.....] - ETA: 9s - loss: 0.1061 - cosine_similarity: 0.8874 INFO:tensorflow:Assets written to: /home/anshul/Downloads/Lab3a/WR-Dataset/checkpoint/omega/assets\n",
      "227/257 [=========================>....] - ETA: 7s - loss: 0.1061 - cosine_similarity: 0.8875INFO:tensorflow:Assets written to: /home/anshul/Downloads/Lab3a/WR-Dataset/checkpoint/omega/assets\n",
      "237/257 [==========================>...] - ETA: 4s - loss: 0.1061 - cosine_similarity: 0.8876INFO:tensorflow:Assets written to: /home/anshul/Downloads/Lab3a/WR-Dataset/checkpoint/omega/assets\n",
      "247/257 [===========================>..] - ETA: 2s - loss: 0.1062 - cosine_similarity: 0.8877INFO:tensorflow:Assets written to: /home/anshul/Downloads/Lab3a/WR-Dataset/checkpoint/omega/assets\n",
      "257/257 [==============================] - 64s 250ms/step - loss: 0.1062 - cosine_similarity: 0.8878 - val_loss: 0.1091 - val_cosine_similarity: 0.8934\n",
      "Epoch 18/30\n",
      "  1/257 [..............................] - ETA: 9s - loss: 0.1134 - cosine_similarity: 0.9029INFO:tensorflow:Assets written to: /home/anshul/Downloads/Lab3a/WR-Dataset/checkpoint/omega/assets\n",
      " 10/257 [>.............................] - ETA: 1:07 - loss: 0.1030 - cosine_similarity: 0.8947INFO:tensorflow:Assets written to: /home/anshul/Downloads/Lab3a/WR-Dataset/checkpoint/omega/assets\n",
      " 20/257 [=>............................] - ETA: 1:00 - loss: 0.1024 - cosine_similarity: 0.8926INFO:tensorflow:Assets written to: /home/anshul/Downloads/Lab3a/WR-Dataset/checkpoint/omega/assets\n",
      " 30/257 [==>...........................] - ETA: 57s - loss: 0.1024 - cosine_similarity: 0.8931 INFO:tensorflow:Assets written to: /home/anshul/Downloads/Lab3a/WR-Dataset/checkpoint/omega/assets\n",
      " 40/257 [===>..........................] - ETA: 53s - loss: 0.1022 - cosine_similarity: 0.8937INFO:tensorflow:Assets written to: /home/anshul/Downloads/Lab3a/WR-Dataset/checkpoint/omega/assets\n",
      " 50/257 [====>.........................] - ETA: 53s - loss: 0.1026 - cosine_similarity: 0.8941INFO:tensorflow:Assets written to: /home/anshul/Downloads/Lab3a/WR-Dataset/checkpoint/omega/assets\n",
      " 60/257 [======>.......................] - ETA: 50s - loss: 0.1029 - cosine_similarity: 0.8943INFO:tensorflow:Assets written to: /home/anshul/Downloads/Lab3a/WR-Dataset/checkpoint/omega/assets\n",
      " 70/257 [=======>......................] - ETA: 47s - loss: 0.1033 - cosine_similarity: 0.8944INFO:tensorflow:Assets written to: /home/anshul/Downloads/Lab3a/WR-Dataset/checkpoint/omega/assets\n",
      " 80/257 [========>.....................] - ETA: 44s - loss: 0.1038 - cosine_similarity: 0.8945INFO:tensorflow:Assets written to: /home/anshul/Downloads/Lab3a/WR-Dataset/checkpoint/omega/assets\n",
      " 90/257 [=========>....................] - ETA: 43s - loss: 0.1040 - cosine_similarity: 0.8945INFO:tensorflow:Assets written to: /home/anshul/Downloads/Lab3a/WR-Dataset/checkpoint/omega/assets\n",
      "100/257 [==========>...................] - ETA: 40s - loss: 0.1043 - cosine_similarity: 0.8945INFO:tensorflow:Assets written to: /home/anshul/Downloads/Lab3a/WR-Dataset/checkpoint/omega/assets\n",
      "110/257 [===========>..................] - ETA: 37s - loss: 0.1045 - cosine_similarity: 0.8946INFO:tensorflow:Assets written to: /home/anshul/Downloads/Lab3a/WR-Dataset/checkpoint/omega/assets\n",
      "120/257 [=============>................] - ETA: 34s - loss: 0.1045 - cosine_similarity: 0.8947INFO:tensorflow:Assets written to: /home/anshul/Downloads/Lab3a/WR-Dataset/checkpoint/omega/assets\n",
      "130/257 [==============>...............] - ETA: 32s - loss: 0.1045 - cosine_similarity: 0.8948INFO:tensorflow:Assets written to: /home/anshul/Downloads/Lab3a/WR-Dataset/checkpoint/omega/assets\n",
      "140/257 [===============>..............] - ETA: 29s - loss: 0.1045 - cosine_similarity: 0.8949INFO:tensorflow:Assets written to: /home/anshul/Downloads/Lab3a/WR-Dataset/checkpoint/omega/assets\n",
      "150/257 [================>.............] - ETA: 27s - loss: 0.1044 - cosine_similarity: 0.8950INFO:tensorflow:Assets written to: /home/anshul/Downloads/Lab3a/WR-Dataset/checkpoint/omega/assets\n",
      "160/257 [=================>............] - ETA: 24s - loss: 0.1044 - cosine_similarity: 0.8951INFO:tensorflow:Assets written to: /home/anshul/Downloads/Lab3a/WR-Dataset/checkpoint/omega/assets\n",
      "170/257 [==================>...........] - ETA: 22s - loss: 0.1044 - cosine_similarity: 0.8951INFO:tensorflow:Assets written to: /home/anshul/Downloads/Lab3a/WR-Dataset/checkpoint/omega/assets\n",
      "180/257 [====================>.........] - ETA: 19s - loss: 0.1044 - cosine_similarity: 0.8952INFO:tensorflow:Assets written to: /home/anshul/Downloads/Lab3a/WR-Dataset/checkpoint/omega/assets\n",
      "190/257 [=====================>........] - ETA: 17s - loss: 0.1044 - cosine_similarity: 0.8952INFO:tensorflow:Assets written to: /home/anshul/Downloads/Lab3a/WR-Dataset/checkpoint/omega/assets\n"
     ]
    },
    {
     "name": "stdout",
     "output_type": "stream",
     "text": [
      "200/257 [======================>.......] - ETA: 14s - loss: 0.1044 - cosine_similarity: 0.8953INFO:tensorflow:Assets written to: /home/anshul/Downloads/Lab3a/WR-Dataset/checkpoint/omega/assets\n",
      "210/257 [=======================>......] - ETA: 11s - loss: 0.1045 - cosine_similarity: 0.8953INFO:tensorflow:Assets written to: /home/anshul/Downloads/Lab3a/WR-Dataset/checkpoint/omega/assets\n",
      "220/257 [========================>.....] - ETA: 9s - loss: 0.1046 - cosine_similarity: 0.8954 INFO:tensorflow:Assets written to: /home/anshul/Downloads/Lab3a/WR-Dataset/checkpoint/omega/assets\n",
      "230/257 [=========================>....] - ETA: 6s - loss: 0.1046 - cosine_similarity: 0.8954INFO:tensorflow:Assets written to: /home/anshul/Downloads/Lab3a/WR-Dataset/checkpoint/omega/assets\n",
      "240/257 [===========================>..] - ETA: 4s - loss: 0.1046 - cosine_similarity: 0.8955INFO:tensorflow:Assets written to: /home/anshul/Downloads/Lab3a/WR-Dataset/checkpoint/omega/assets\n",
      "250/257 [============================>.] - ETA: 1s - loss: 0.1046 - cosine_similarity: 0.8955INFO:tensorflow:Assets written to: /home/anshul/Downloads/Lab3a/WR-Dataset/checkpoint/omega/assets\n",
      "257/257 [==============================] - 67s 260ms/step - loss: 0.1046 - cosine_similarity: 0.8956 - val_loss: 0.0968 - val_cosine_similarity: 0.9037\n",
      "Epoch 19/30\n",
      "  3/257 [..............................] - ETA: 9s - loss: 0.1067 - cosine_similarity: 0.8921INFO:tensorflow:Assets written to: /home/anshul/Downloads/Lab3a/WR-Dataset/checkpoint/omega/assets\n",
      " 13/257 [>.............................] - ETA: 51s - loss: 0.1025 - cosine_similarity: 0.8969 INFO:tensorflow:Assets written to: /home/anshul/Downloads/Lab3a/WR-Dataset/checkpoint/omega/assets\n",
      " 23/257 [=>............................] - ETA: 52s - loss: 0.0999 - cosine_similarity: 0.8998INFO:tensorflow:Assets written to: /home/anshul/Downloads/Lab3a/WR-Dataset/checkpoint/omega/assets\n",
      " 33/257 [==>...........................] - ETA: 51s - loss: 0.0987 - cosine_similarity: 0.9012INFO:tensorflow:Assets written to: /home/anshul/Downloads/Lab3a/WR-Dataset/checkpoint/omega/assets\n",
      " 43/257 [====>.........................] - ETA: 50s - loss: 0.0974 - cosine_similarity: 0.9020INFO:tensorflow:Assets written to: /home/anshul/Downloads/Lab3a/WR-Dataset/checkpoint/omega/assets\n",
      " 53/257 [=====>........................] - ETA: 50s - loss: 0.0966 - cosine_similarity: 0.9028INFO:tensorflow:Assets written to: /home/anshul/Downloads/Lab3a/WR-Dataset/checkpoint/omega/assets\n",
      " 63/257 [======>.......................] - ETA: 48s - loss: 0.0960 - cosine_similarity: 0.9036INFO:tensorflow:Assets written to: /home/anshul/Downloads/Lab3a/WR-Dataset/checkpoint/omega/assets\n",
      " 73/257 [=======>......................] - ETA: 45s - loss: 0.0956 - cosine_similarity: 0.9041INFO:tensorflow:Assets written to: /home/anshul/Downloads/Lab3a/WR-Dataset/checkpoint/omega/assets\n",
      " 83/257 [========>.....................] - ETA: 42s - loss: 0.0954 - cosine_similarity: 0.9045INFO:tensorflow:Assets written to: /home/anshul/Downloads/Lab3a/WR-Dataset/checkpoint/omega/assets\n",
      " 93/257 [=========>....................] - ETA: 40s - loss: 0.0952 - cosine_similarity: 0.9046INFO:tensorflow:Assets written to: /home/anshul/Downloads/Lab3a/WR-Dataset/checkpoint/omega/assets\n",
      "103/257 [===========>..................] - ETA: 38s - loss: 0.0950 - cosine_similarity: 0.9048INFO:tensorflow:Assets written to: /home/anshul/Downloads/Lab3a/WR-Dataset/checkpoint/omega/assets\n",
      "113/257 [============>.................] - ETA: 35s - loss: 0.0949 - cosine_similarity: 0.9049INFO:tensorflow:Assets written to: /home/anshul/Downloads/Lab3a/WR-Dataset/checkpoint/omega/assets\n",
      "123/257 [=============>................] - ETA: 33s - loss: 0.0947 - cosine_similarity: 0.9050INFO:tensorflow:Assets written to: /home/anshul/Downloads/Lab3a/WR-Dataset/checkpoint/omega/assets\n",
      "133/257 [==============>...............] - ETA: 31s - loss: 0.0945 - cosine_similarity: 0.9051INFO:tensorflow:Assets written to: /home/anshul/Downloads/Lab3a/WR-Dataset/checkpoint/omega/assets\n",
      "143/257 [===============>..............] - ETA: 28s - loss: 0.0943 - cosine_similarity: 0.9053INFO:tensorflow:Assets written to: /home/anshul/Downloads/Lab3a/WR-Dataset/checkpoint/omega/assets\n",
      "153/257 [================>.............] - ETA: 25s - loss: 0.0942 - cosine_similarity: 0.9054INFO:tensorflow:Assets written to: /home/anshul/Downloads/Lab3a/WR-Dataset/checkpoint/omega/assets\n",
      "163/257 [==================>...........] - ETA: 23s - loss: 0.0940 - cosine_similarity: 0.9055INFO:tensorflow:Assets written to: /home/anshul/Downloads/Lab3a/WR-Dataset/checkpoint/omega/assets\n",
      "173/257 [===================>..........] - ETA: 20s - loss: 0.0939 - cosine_similarity: 0.9056INFO:tensorflow:Assets written to: /home/anshul/Downloads/Lab3a/WR-Dataset/checkpoint/omega/assets\n",
      "183/257 [====================>.........] - ETA: 18s - loss: 0.0938 - cosine_similarity: 0.9057INFO:tensorflow:Assets written to: /home/anshul/Downloads/Lab3a/WR-Dataset/checkpoint/omega/assets\n",
      "193/257 [=====================>........] - ETA: 16s - loss: 0.0937 - cosine_similarity: 0.9058INFO:tensorflow:Assets written to: /home/anshul/Downloads/Lab3a/WR-Dataset/checkpoint/omega/assets\n",
      "203/257 [======================>.......] - ETA: 13s - loss: 0.0937 - cosine_similarity: 0.9059INFO:tensorflow:Assets written to: /home/anshul/Downloads/Lab3a/WR-Dataset/checkpoint/omega/assets\n",
      "213/257 [=======================>......] - ETA: 11s - loss: 0.0936 - cosine_similarity: 0.9060INFO:tensorflow:Assets written to: /home/anshul/Downloads/Lab3a/WR-Dataset/checkpoint/omega/assets\n",
      "223/257 [=========================>....] - ETA: 8s - loss: 0.0935 - cosine_similarity: 0.9061INFO:tensorflow:Assets written to: /home/anshul/Downloads/Lab3a/WR-Dataset/checkpoint/omega/assets\n",
      "233/257 [==========================>...] - ETA: 6s - loss: 0.0934 - cosine_similarity: 0.9062INFO:tensorflow:Assets written to: /home/anshul/Downloads/Lab3a/WR-Dataset/checkpoint/omega/assets\n",
      "243/257 [===========================>..] - ETA: 3s - loss: 0.0932 - cosine_similarity: 0.9063INFO:tensorflow:Assets written to: /home/anshul/Downloads/Lab3a/WR-Dataset/checkpoint/omega/assets\n",
      "253/257 [============================>.] - ETA: 1s - loss: 0.0932 - cosine_similarity: 0.9064INFO:tensorflow:Assets written to: /home/anshul/Downloads/Lab3a/WR-Dataset/checkpoint/omega/assets\n",
      "257/257 [==============================] - 66s 260ms/step - loss: 0.0931 - cosine_similarity: 0.9064 - val_loss: 0.0938 - val_cosine_similarity: 0.9057\n",
      "Epoch 20/30\n",
      "  7/257 [..............................] - ETA: 9s - loss: 0.0766 - cosine_similarity: 0.9155INFO:tensorflow:Assets written to: /home/anshul/Downloads/Lab3a/WR-Dataset/checkpoint/omega/assets\n",
      " 16/257 [>.............................] - ETA: 42s - loss: 0.0821 - cosine_similarity: 0.9114INFO:tensorflow:Assets written to: /home/anshul/Downloads/Lab3a/WR-Dataset/checkpoint/omega/assets\n",
      " 26/257 [==>...........................] - ETA: 46s - loss: 0.0839 - cosine_similarity: 0.9107INFO:tensorflow:Assets written to: /home/anshul/Downloads/Lab3a/WR-Dataset/checkpoint/omega/assets\n",
      " 36/257 [===>..........................] - ETA: 47s - loss: 0.0844 - cosine_similarity: 0.9107INFO:tensorflow:Assets written to: /home/anshul/Downloads/Lab3a/WR-Dataset/checkpoint/omega/assets\n",
      " 46/257 [====>.........................] - ETA: 46s - loss: 0.0850 - cosine_similarity: 0.9111INFO:tensorflow:Assets written to: /home/anshul/Downloads/Lab3a/WR-Dataset/checkpoint/omega/assets\n",
      " 56/257 [=====>........................] - ETA: 46s - loss: 0.0850 - cosine_similarity: 0.9116INFO:tensorflow:Assets written to: /home/anshul/Downloads/Lab3a/WR-Dataset/checkpoint/omega/assets\n",
      " 66/257 [======>.......................] - ETA: 44s - loss: 0.0848 - cosine_similarity: 0.9122INFO:tensorflow:Assets written to: /home/anshul/Downloads/Lab3a/WR-Dataset/checkpoint/omega/assets\n",
      " 76/257 [=======>......................] - ETA: 42s - loss: 0.0849 - cosine_similarity: 0.9127INFO:tensorflow:Assets written to: /home/anshul/Downloads/Lab3a/WR-Dataset/checkpoint/omega/assets\n",
      " 86/257 [=========>....................] - ETA: 40s - loss: 0.0852 - cosine_similarity: 0.9132INFO:tensorflow:Assets written to: /home/anshul/Downloads/Lab3a/WR-Dataset/checkpoint/omega/assets\n"
     ]
    },
    {
     "name": "stdout",
     "output_type": "stream",
     "text": [
      " 96/257 [==========>...................] - ETA: 39s - loss: 0.0856 - cosine_similarity: 0.9135INFO:tensorflow:Assets written to: /home/anshul/Downloads/Lab3a/WR-Dataset/checkpoint/omega/assets\n",
      "106/257 [===========>..................] - ETA: 36s - loss: 0.0859 - cosine_similarity: 0.9138INFO:tensorflow:Assets written to: /home/anshul/Downloads/Lab3a/WR-Dataset/checkpoint/omega/assets\n",
      "116/257 [============>.................] - ETA: 34s - loss: 0.0861 - cosine_similarity: 0.9140INFO:tensorflow:Assets written to: /home/anshul/Downloads/Lab3a/WR-Dataset/checkpoint/omega/assets\n",
      "126/257 [=============>................] - ETA: 32s - loss: 0.0862 - cosine_similarity: 0.9142INFO:tensorflow:Assets written to: /home/anshul/Downloads/Lab3a/WR-Dataset/checkpoint/omega/assets\n",
      "136/257 [==============>...............] - ETA: 30s - loss: 0.0864 - cosine_similarity: 0.9143INFO:tensorflow:Assets written to: /home/anshul/Downloads/Lab3a/WR-Dataset/checkpoint/omega/assets\n",
      "146/257 [================>.............] - ETA: 27s - loss: 0.0864 - cosine_similarity: 0.9144INFO:tensorflow:Assets written to: /home/anshul/Downloads/Lab3a/WR-Dataset/checkpoint/omega/assets\n",
      "156/257 [=================>............] - ETA: 25s - loss: 0.0864 - cosine_similarity: 0.9145INFO:tensorflow:Assets written to: /home/anshul/Downloads/Lab3a/WR-Dataset/checkpoint/omega/assets\n",
      "166/257 [==================>...........] - ETA: 22s - loss: 0.0865 - cosine_similarity: 0.9145INFO:tensorflow:Assets written to: /home/anshul/Downloads/Lab3a/WR-Dataset/checkpoint/omega/assets\n",
      "176/257 [===================>..........] - ETA: 20s - loss: 0.0865 - cosine_similarity: 0.9146INFO:tensorflow:Assets written to: /home/anshul/Downloads/Lab3a/WR-Dataset/checkpoint/omega/assets\n",
      "186/257 [====================>.........] - ETA: 17s - loss: 0.0866 - cosine_similarity: 0.9146INFO:tensorflow:Assets written to: /home/anshul/Downloads/Lab3a/WR-Dataset/checkpoint/omega/assets\n",
      "196/257 [=====================>........] - ETA: 15s - loss: 0.0866 - cosine_similarity: 0.9147INFO:tensorflow:Assets written to: /home/anshul/Downloads/Lab3a/WR-Dataset/checkpoint/omega/assets\n",
      "206/257 [=======================>......] - ETA: 12s - loss: 0.0867 - cosine_similarity: 0.9147INFO:tensorflow:Assets written to: /home/anshul/Downloads/Lab3a/WR-Dataset/checkpoint/omega/assets\n",
      "216/257 [========================>.....] - ETA: 10s - loss: 0.0867 - cosine_similarity: 0.9148INFO:tensorflow:Assets written to: /home/anshul/Downloads/Lab3a/WR-Dataset/checkpoint/omega/assets\n",
      "226/257 [=========================>....] - ETA: 7s - loss: 0.0867 - cosine_similarity: 0.9148INFO:tensorflow:Assets written to: /home/anshul/Downloads/Lab3a/WR-Dataset/checkpoint/omega/assets\n",
      "236/257 [==========================>...] - ETA: 5s - loss: 0.0867 - cosine_similarity: 0.9149INFO:tensorflow:Assets written to: /home/anshul/Downloads/Lab3a/WR-Dataset/checkpoint/omega/assets\n",
      "246/257 [===========================>..] - ETA: 2s - loss: 0.0867 - cosine_similarity: 0.9149INFO:tensorflow:Assets written to: /home/anshul/Downloads/Lab3a/WR-Dataset/checkpoint/omega/assets\n",
      "256/257 [============================>.] - ETA: 0s - loss: 0.0867 - cosine_similarity: 0.9149INFO:tensorflow:Assets written to: /home/anshul/Downloads/Lab3a/WR-Dataset/checkpoint/omega/assets\n",
      "257/257 [==============================] - 66s 259ms/step - loss: 0.0867 - cosine_similarity: 0.9150 - val_loss: 0.0876 - val_cosine_similarity: 0.9187\n",
      "Epoch 21/30\n",
      "  9/257 [>.............................] - ETA: 9s - loss: 0.0763 - cosine_similarity: 0.9270INFO:tensorflow:Assets written to: /home/anshul/Downloads/Lab3a/WR-Dataset/checkpoint/omega/assets\n",
      " 19/257 [=>............................] - ETA: 43s - loss: 0.0776 - cosine_similarity: 0.9266INFO:tensorflow:Assets written to: /home/anshul/Downloads/Lab3a/WR-Dataset/checkpoint/omega/assets\n",
      " 29/257 [==>...........................] - ETA: 46s - loss: 0.0777 - cosine_similarity: 0.9265INFO:tensorflow:Assets written to: /home/anshul/Downloads/Lab3a/WR-Dataset/checkpoint/omega/assets\n",
      " 39/257 [===>..........................] - ETA: 46s - loss: 0.0773 - cosine_similarity: 0.9263INFO:tensorflow:Assets written to: /home/anshul/Downloads/Lab3a/WR-Dataset/checkpoint/omega/assets\n",
      " 49/257 [====>.........................] - ETA: 45s - loss: 0.0769 - cosine_similarity: 0.9264INFO:tensorflow:Assets written to: /home/anshul/Downloads/Lab3a/WR-Dataset/checkpoint/omega/assets\n",
      " 59/257 [=====>........................] - ETA: 45s - loss: 0.0768 - cosine_similarity: 0.9262INFO:tensorflow:Assets written to: /home/anshul/Downloads/Lab3a/WR-Dataset/checkpoint/omega/assets\n",
      " 69/257 [=======>......................] - ETA: 43s - loss: 0.0768 - cosine_similarity: 0.9260INFO:tensorflow:Assets written to: /home/anshul/Downloads/Lab3a/WR-Dataset/checkpoint/omega/assets\n",
      " 79/257 [========>.....................] - ETA: 41s - loss: 0.0770 - cosine_similarity: 0.9259INFO:tensorflow:Assets written to: /home/anshul/Downloads/Lab3a/WR-Dataset/checkpoint/omega/assets\n",
      " 89/257 [=========>....................] - ETA: 39s - loss: 0.0776 - cosine_similarity: 0.9256INFO:tensorflow:Assets written to: /home/anshul/Downloads/Lab3a/WR-Dataset/checkpoint/omega/assets\n",
      " 99/257 [==========>...................] - ETA: 37s - loss: 0.0784 - cosine_similarity: 0.9253INFO:tensorflow:Assets written to: /home/anshul/Downloads/Lab3a/WR-Dataset/checkpoint/omega/assets\n",
      "109/257 [===========>..................] - ETA: 35s - loss: 0.0791 - cosine_similarity: 0.9250INFO:tensorflow:Assets written to: /home/anshul/Downloads/Lab3a/WR-Dataset/checkpoint/omega/assets\n",
      "119/257 [============>.................] - ETA: 33s - loss: 0.0797 - cosine_similarity: 0.9247INFO:tensorflow:Assets written to: /home/anshul/Downloads/Lab3a/WR-Dataset/checkpoint/omega/assets\n",
      "129/257 [==============>...............] - ETA: 30s - loss: 0.0803 - cosine_similarity: 0.9244INFO:tensorflow:Assets written to: /home/anshul/Downloads/Lab3a/WR-Dataset/checkpoint/omega/assets\n",
      "139/257 [===============>..............] - ETA: 28s - loss: 0.0808 - cosine_similarity: 0.9242INFO:tensorflow:Assets written to: /home/anshul/Downloads/Lab3a/WR-Dataset/checkpoint/omega/assets\n",
      "149/257 [================>.............] - ETA: 26s - loss: 0.0812 - cosine_similarity: 0.9240INFO:tensorflow:Assets written to: /home/anshul/Downloads/Lab3a/WR-Dataset/checkpoint/omega/assets\n",
      "159/257 [=================>............] - ETA: 24s - loss: 0.0815 - cosine_similarity: 0.9238INFO:tensorflow:Assets written to: /home/anshul/Downloads/Lab3a/WR-Dataset/checkpoint/omega/assets\n",
      "169/257 [==================>...........] - ETA: 21s - loss: 0.0818 - cosine_similarity: 0.9236INFO:tensorflow:Assets written to: /home/anshul/Downloads/Lab3a/WR-Dataset/checkpoint/omega/assets\n",
      "179/257 [===================>..........] - ETA: 19s - loss: 0.0820 - cosine_similarity: 0.9234INFO:tensorflow:Assets written to: /home/anshul/Downloads/Lab3a/WR-Dataset/checkpoint/omega/assets\n",
      "189/257 [=====================>........] - ETA: 16s - loss: 0.0822 - cosine_similarity: 0.9233INFO:tensorflow:Assets written to: /home/anshul/Downloads/Lab3a/WR-Dataset/checkpoint/omega/assets\n",
      "199/257 [======================>.......] - ETA: 14s - loss: 0.0823 - cosine_similarity: 0.9231INFO:tensorflow:Assets written to: /home/anshul/Downloads/Lab3a/WR-Dataset/checkpoint/omega/assets\n",
      "209/257 [=======================>......] - ETA: 11s - loss: 0.0824 - cosine_similarity: 0.9230INFO:tensorflow:Assets written to: /home/anshul/Downloads/Lab3a/WR-Dataset/checkpoint/omega/assets\n",
      "219/257 [========================>.....] - ETA: 9s - loss: 0.0824 - cosine_similarity: 0.9229INFO:tensorflow:Assets written to: /home/anshul/Downloads/Lab3a/WR-Dataset/checkpoint/omega/assets\n",
      "229/257 [=========================>....] - ETA: 6s - loss: 0.0825 - cosine_similarity: 0.9229INFO:tensorflow:Assets written to: /home/anshul/Downloads/Lab3a/WR-Dataset/checkpoint/omega/assets\n",
      "239/257 [==========================>...] - ETA: 4s - loss: 0.0825 - cosine_similarity: 0.9228INFO:tensorflow:Assets written to: /home/anshul/Downloads/Lab3a/WR-Dataset/checkpoint/omega/assets\n",
      "249/257 [============================>.] - ETA: 1s - loss: 0.0826 - cosine_similarity: 0.9227INFO:tensorflow:Assets written to: /home/anshul/Downloads/Lab3a/WR-Dataset/checkpoint/omega/assets\n"
     ]
    },
    {
     "name": "stdout",
     "output_type": "stream",
     "text": [
      "257/257 [==============================] - 64s 249ms/step - loss: 0.0826 - cosine_similarity: 0.9227 - val_loss: 0.0734 - val_cosine_similarity: 0.9290\n",
      "Epoch 22/30\n",
      "  3/257 [..............................] - ETA: 9s - loss: 0.0654 - cosine_similarity: 0.9310INFO:tensorflow:Assets written to: /home/anshul/Downloads/Lab3a/WR-Dataset/checkpoint/omega/assets\n",
      " 12/257 [>.............................] - ETA: 53s - loss: 0.0688 - cosine_similarity: 0.9309 INFO:tensorflow:Assets written to: /home/anshul/Downloads/Lab3a/WR-Dataset/checkpoint/omega/assets\n",
      " 22/257 [=>............................] - ETA: 59s - loss: 0.0720 - cosine_similarity: 0.9310 INFO:tensorflow:Assets written to: /home/anshul/Downloads/Lab3a/WR-Dataset/checkpoint/omega/assets\n",
      " 32/257 [==>...........................] - ETA: 55s - loss: 0.0721 - cosine_similarity: 0.9313INFO:tensorflow:Assets written to: /home/anshul/Downloads/Lab3a/WR-Dataset/checkpoint/omega/assets\n",
      " 42/257 [===>..........................] - ETA: 52s - loss: 0.0725 - cosine_similarity: 0.9313INFO:tensorflow:Assets written to: /home/anshul/Downloads/Lab3a/WR-Dataset/checkpoint/omega/assets\n",
      " 52/257 [=====>........................] - ETA: 49s - loss: 0.0726 - cosine_similarity: 0.9313INFO:tensorflow:Assets written to: /home/anshul/Downloads/Lab3a/WR-Dataset/checkpoint/omega/assets\n",
      " 62/257 [======>.......................] - ETA: 48s - loss: 0.0728 - cosine_similarity: 0.9311INFO:tensorflow:Assets written to: /home/anshul/Downloads/Lab3a/WR-Dataset/checkpoint/omega/assets\n",
      " 72/257 [=======>......................] - ETA: 45s - loss: 0.0729 - cosine_similarity: 0.9310INFO:tensorflow:Assets written to: /home/anshul/Downloads/Lab3a/WR-Dataset/checkpoint/omega/assets\n",
      " 82/257 [========>.....................] - ETA: 43s - loss: 0.0730 - cosine_similarity: 0.9309INFO:tensorflow:Assets written to: /home/anshul/Downloads/Lab3a/WR-Dataset/checkpoint/omega/assets\n",
      " 92/257 [=========>....................] - ETA: 40s - loss: 0.0730 - cosine_similarity: 0.9309INFO:tensorflow:Assets written to: /home/anshul/Downloads/Lab3a/WR-Dataset/checkpoint/omega/assets\n",
      "102/257 [==========>...................] - ETA: 38s - loss: 0.0729 - cosine_similarity: 0.9309INFO:tensorflow:Assets written to: /home/anshul/Downloads/Lab3a/WR-Dataset/checkpoint/omega/assets\n",
      "112/257 [============>.................] - ETA: 36s - loss: 0.0728 - cosine_similarity: 0.9309INFO:tensorflow:Assets written to: /home/anshul/Downloads/Lab3a/WR-Dataset/checkpoint/omega/assets\n",
      "122/257 [=============>................] - ETA: 33s - loss: 0.0727 - cosine_similarity: 0.9309INFO:tensorflow:Assets written to: /home/anshul/Downloads/Lab3a/WR-Dataset/checkpoint/omega/assets\n",
      "132/257 [==============>...............] - ETA: 31s - loss: 0.0727 - cosine_similarity: 0.9310INFO:tensorflow:Assets written to: /home/anshul/Downloads/Lab3a/WR-Dataset/checkpoint/omega/assets\n",
      "142/257 [===============>..............] - ETA: 28s - loss: 0.0727 - cosine_similarity: 0.9309INFO:tensorflow:Assets written to: /home/anshul/Downloads/Lab3a/WR-Dataset/checkpoint/omega/assets\n",
      "152/257 [================>.............] - ETA: 26s - loss: 0.0727 - cosine_similarity: 0.9309INFO:tensorflow:Assets written to: /home/anshul/Downloads/Lab3a/WR-Dataset/checkpoint/omega/assets\n",
      "162/257 [=================>............] - ETA: 23s - loss: 0.0727 - cosine_similarity: 0.9309INFO:tensorflow:Assets written to: /home/anshul/Downloads/Lab3a/WR-Dataset/checkpoint/omega/assets\n",
      "172/257 [===================>..........] - ETA: 21s - loss: 0.0726 - cosine_similarity: 0.9309INFO:tensorflow:Assets written to: /home/anshul/Downloads/Lab3a/WR-Dataset/checkpoint/omega/assets\n",
      "182/257 [====================>.........] - ETA: 18s - loss: 0.0726 - cosine_similarity: 0.9309INFO:tensorflow:Assets written to: /home/anshul/Downloads/Lab3a/WR-Dataset/checkpoint/omega/assets\n",
      "192/257 [=====================>........] - ETA: 16s - loss: 0.0726 - cosine_similarity: 0.9310INFO:tensorflow:Assets written to: /home/anshul/Downloads/Lab3a/WR-Dataset/checkpoint/omega/assets\n",
      "202/257 [======================>.......] - ETA: 13s - loss: 0.0725 - cosine_similarity: 0.9310INFO:tensorflow:Assets written to: /home/anshul/Downloads/Lab3a/WR-Dataset/checkpoint/omega/assets\n",
      "212/257 [=======================>......] - ETA: 11s - loss: 0.0725 - cosine_similarity: 0.9310INFO:tensorflow:Assets written to: /home/anshul/Downloads/Lab3a/WR-Dataset/checkpoint/omega/assets\n",
      "222/257 [========================>.....] - ETA: 8s - loss: 0.0725 - cosine_similarity: 0.9310INFO:tensorflow:Assets written to: /home/anshul/Downloads/Lab3a/WR-Dataset/checkpoint/omega/assets\n",
      "232/257 [==========================>...] - ETA: 6s - loss: 0.0725 - cosine_similarity: 0.9309INFO:tensorflow:Assets written to: /home/anshul/Downloads/Lab3a/WR-Dataset/checkpoint/omega/assets\n",
      "242/257 [===========================>..] - ETA: 3s - loss: 0.0724 - cosine_similarity: 0.9309INFO:tensorflow:Assets written to: /home/anshul/Downloads/Lab3a/WR-Dataset/checkpoint/omega/assets\n",
      "252/257 [============================>.] - ETA: 1s - loss: 0.0724 - cosine_similarity: 0.9309INFO:tensorflow:Assets written to: /home/anshul/Downloads/Lab3a/WR-Dataset/checkpoint/omega/assets\n",
      "257/257 [==============================] - 65s 256ms/step - loss: 0.0724 - cosine_similarity: 0.9309 - val_loss: 0.1091 - val_cosine_similarity: 0.9258\n",
      "Epoch 23/30\n",
      "  5/257 [..............................] - ETA: 9s - loss: 0.0793 - cosine_similarity: 0.9248INFO:tensorflow:Assets written to: /home/anshul/Downloads/Lab3a/WR-Dataset/checkpoint/omega/assets\n",
      " 15/257 [>.............................] - ETA: 44s - loss: 0.0794 - cosine_similarity: 0.9243INFO:tensorflow:Assets written to: /home/anshul/Downloads/Lab3a/WR-Dataset/checkpoint/omega/assets\n",
      " 25/257 [=>............................] - ETA: 52s - loss: 0.0778 - cosine_similarity: 0.9266INFO:tensorflow:Assets written to: /home/anshul/Downloads/Lab3a/WR-Dataset/checkpoint/omega/assets\n",
      " 35/257 [===>..........................] - ETA: 51s - loss: 0.0769 - cosine_similarity: 0.9276INFO:tensorflow:Assets written to: /home/anshul/Downloads/Lab3a/WR-Dataset/checkpoint/omega/assets\n",
      " 45/257 [====>.........................] - ETA: 49s - loss: 0.0762 - cosine_similarity: 0.9283INFO:tensorflow:Assets written to: /home/anshul/Downloads/Lab3a/WR-Dataset/checkpoint/omega/assets\n",
      " 55/257 [=====>........................] - ETA: 46s - loss: 0.0754 - cosine_similarity: 0.9291INFO:tensorflow:Assets written to: /home/anshul/Downloads/Lab3a/WR-Dataset/checkpoint/omega/assets\n",
      " 65/257 [======>.......................] - ETA: 46s - loss: 0.0749 - cosine_similarity: 0.9298INFO:tensorflow:Assets written to: /home/anshul/Downloads/Lab3a/WR-Dataset/checkpoint/omega/assets\n",
      " 75/257 [=======>......................] - ETA: 43s - loss: 0.0746 - cosine_similarity: 0.9303INFO:tensorflow:Assets written to: /home/anshul/Downloads/Lab3a/WR-Dataset/checkpoint/omega/assets\n",
      " 85/257 [========>.....................] - ETA: 41s - loss: 0.0742 - cosine_similarity: 0.9308INFO:tensorflow:Assets written to: /home/anshul/Downloads/Lab3a/WR-Dataset/checkpoint/omega/assets\n",
      " 95/257 [==========>...................] - ETA: 38s - loss: 0.0739 - cosine_similarity: 0.9311INFO:tensorflow:Assets written to: /home/anshul/Downloads/Lab3a/WR-Dataset/checkpoint/omega/assets\n",
      "105/257 [===========>..................] - ETA: 37s - loss: 0.0736 - cosine_similarity: 0.9314INFO:tensorflow:Assets written to: /home/anshul/Downloads/Lab3a/WR-Dataset/checkpoint/omega/assets\n",
      "115/257 [============>.................] - ETA: 34s - loss: 0.0734 - cosine_similarity: 0.9316INFO:tensorflow:Assets written to: /home/anshul/Downloads/Lab3a/WR-Dataset/checkpoint/omega/assets\n",
      "125/257 [=============>................] - ETA: 32s - loss: 0.0731 - cosine_similarity: 0.9318INFO:tensorflow:Assets written to: /home/anshul/Downloads/Lab3a/WR-Dataset/checkpoint/omega/assets\n",
      "135/257 [==============>...............] - ETA: 29s - loss: 0.0729 - cosine_similarity: 0.9320INFO:tensorflow:Assets written to: /home/anshul/Downloads/Lab3a/WR-Dataset/checkpoint/omega/assets\n",
      "145/257 [===============>..............] - ETA: 27s - loss: 0.0727 - cosine_similarity: 0.9322INFO:tensorflow:Assets written to: /home/anshul/Downloads/Lab3a/WR-Dataset/checkpoint/omega/assets\n"
     ]
    },
    {
     "name": "stdout",
     "output_type": "stream",
     "text": [
      "155/257 [=================>............] - ETA: 25s - loss: 0.0725 - cosine_similarity: 0.9324INFO:tensorflow:Assets written to: /home/anshul/Downloads/Lab3a/WR-Dataset/checkpoint/omega/assets\n",
      "165/257 [==================>...........] - ETA: 22s - loss: 0.0723 - cosine_similarity: 0.9326INFO:tensorflow:Assets written to: /home/anshul/Downloads/Lab3a/WR-Dataset/checkpoint/omega/assets\n",
      "175/257 [===================>..........] - ETA: 20s - loss: 0.0722 - cosine_similarity: 0.9327INFO:tensorflow:Assets written to: /home/anshul/Downloads/Lab3a/WR-Dataset/checkpoint/omega/assets\n",
      "185/257 [====================>.........] - ETA: 17s - loss: 0.0720 - cosine_similarity: 0.9328INFO:tensorflow:Assets written to: /home/anshul/Downloads/Lab3a/WR-Dataset/checkpoint/omega/assets\n",
      "195/257 [=====================>........] - ETA: 15s - loss: 0.0718 - cosine_similarity: 0.9329INFO:tensorflow:Assets written to: /home/anshul/Downloads/Lab3a/WR-Dataset/checkpoint/omega/assets\n",
      "205/257 [======================>.......] - ETA: 12s - loss: 0.0716 - cosine_similarity: 0.9330INFO:tensorflow:Assets written to: /home/anshul/Downloads/Lab3a/WR-Dataset/checkpoint/omega/assets\n",
      "215/257 [========================>.....] - ETA: 10s - loss: 0.0714 - cosine_similarity: 0.9332INFO:tensorflow:Assets written to: /home/anshul/Downloads/Lab3a/WR-Dataset/checkpoint/omega/assets\n",
      "225/257 [=========================>....] - ETA: 7s - loss: 0.0713 - cosine_similarity: 0.9333INFO:tensorflow:Assets written to: /home/anshul/Downloads/Lab3a/WR-Dataset/checkpoint/omega/assets\n",
      "235/257 [==========================>...] - ETA: 5s - loss: 0.0711 - cosine_similarity: 0.9334INFO:tensorflow:Assets written to: /home/anshul/Downloads/Lab3a/WR-Dataset/checkpoint/omega/assets\n",
      "245/257 [===========================>..] - ETA: 2s - loss: 0.0710 - cosine_similarity: 0.9335INFO:tensorflow:Assets written to: /home/anshul/Downloads/Lab3a/WR-Dataset/checkpoint/omega/assets\n",
      "255/257 [============================>.] - ETA: 0s - loss: 0.0708 - cosine_similarity: 0.9335INFO:tensorflow:Assets written to: /home/anshul/Downloads/Lab3a/WR-Dataset/checkpoint/omega/assets\n",
      "257/257 [==============================] - 65s 255ms/step - loss: 0.0708 - cosine_similarity: 0.9336 - val_loss: 0.0721 - val_cosine_similarity: 0.9406\n",
      "Epoch 24/30\n",
      "  9/257 [>.............................] - ETA: 9s - loss: 0.0647 - cosine_similarity: 0.9361INFO:tensorflow:Assets written to: /home/anshul/Downloads/Lab3a/WR-Dataset/checkpoint/omega/assets\n",
      " 18/257 [=>............................] - ETA: 38s - loss: 0.0629 - cosine_similarity: 0.9391INFO:tensorflow:Assets written to: /home/anshul/Downloads/Lab3a/WR-Dataset/checkpoint/omega/assets\n",
      " 28/257 [==>...........................] - ETA: 47s - loss: 0.0623 - cosine_similarity: 0.9400INFO:tensorflow:Assets written to: /home/anshul/Downloads/Lab3a/WR-Dataset/checkpoint/omega/assets\n",
      " 38/257 [===>..........................] - ETA: 48s - loss: 0.0623 - cosine_similarity: 0.9403INFO:tensorflow:Assets written to: /home/anshul/Downloads/Lab3a/WR-Dataset/checkpoint/omega/assets\n",
      " 48/257 [====>.........................] - ETA: 46s - loss: 0.0623 - cosine_similarity: 0.9405INFO:tensorflow:Assets written to: /home/anshul/Downloads/Lab3a/WR-Dataset/checkpoint/omega/assets\n",
      " 58/257 [=====>........................] - ETA: 44s - loss: 0.0624 - cosine_similarity: 0.9407INFO:tensorflow:Assets written to: /home/anshul/Downloads/Lab3a/WR-Dataset/checkpoint/omega/assets\n",
      " 68/257 [======>.......................] - ETA: 44s - loss: 0.0625 - cosine_similarity: 0.9409INFO:tensorflow:Assets written to: /home/anshul/Downloads/Lab3a/WR-Dataset/checkpoint/omega/assets\n",
      " 78/257 [========>.....................] - ETA: 42s - loss: 0.0624 - cosine_similarity: 0.9410INFO:tensorflow:Assets written to: /home/anshul/Downloads/Lab3a/WR-Dataset/checkpoint/omega/assets\n",
      " 88/257 [=========>....................] - ETA: 39s - loss: 0.0623 - cosine_similarity: 0.9412INFO:tensorflow:Assets written to: /home/anshul/Downloads/Lab3a/WR-Dataset/checkpoint/omega/assets\n",
      " 98/257 [==========>...................] - ETA: 37s - loss: 0.0621 - cosine_similarity: 0.9414INFO:tensorflow:Assets written to: /home/anshul/Downloads/Lab3a/WR-Dataset/checkpoint/omega/assets\n",
      "108/257 [===========>..................] - ETA: 35s - loss: 0.0620 - cosine_similarity: 0.9415INFO:tensorflow:Assets written to: /home/anshul/Downloads/Lab3a/WR-Dataset/checkpoint/omega/assets\n",
      "118/257 [============>.................] - ETA: 33s - loss: 0.0620 - cosine_similarity: 0.9416INFO:tensorflow:Assets written to: /home/anshul/Downloads/Lab3a/WR-Dataset/checkpoint/omega/assets\n",
      "128/257 [=============>................] - ETA: 31s - loss: 0.0619 - cosine_similarity: 0.9416INFO:tensorflow:Assets written to: /home/anshul/Downloads/Lab3a/WR-Dataset/checkpoint/omega/assets\n",
      "138/257 [===============>..............] - ETA: 28s - loss: 0.0618 - cosine_similarity: 0.9417INFO:tensorflow:Assets written to: /home/anshul/Downloads/Lab3a/WR-Dataset/checkpoint/omega/assets\n",
      "148/257 [================>.............] - ETA: 26s - loss: 0.0617 - cosine_similarity: 0.9417INFO:tensorflow:Assets written to: /home/anshul/Downloads/Lab3a/WR-Dataset/checkpoint/omega/assets\n",
      "158/257 [=================>............] - ETA: 24s - loss: 0.0616 - cosine_similarity: 0.9417INFO:tensorflow:Assets written to: /home/anshul/Downloads/Lab3a/WR-Dataset/checkpoint/omega/assets\n",
      "168/257 [==================>...........] - ETA: 21s - loss: 0.0616 - cosine_similarity: 0.9417INFO:tensorflow:Assets written to: /home/anshul/Downloads/Lab3a/WR-Dataset/checkpoint/omega/assets\n",
      "178/257 [===================>..........] - ETA: 19s - loss: 0.0615 - cosine_similarity: 0.9418INFO:tensorflow:Assets written to: /home/anshul/Downloads/Lab3a/WR-Dataset/checkpoint/omega/assets\n",
      "188/257 [====================>.........] - ETA: 16s - loss: 0.0615 - cosine_similarity: 0.9418INFO:tensorflow:Assets written to: /home/anshul/Downloads/Lab3a/WR-Dataset/checkpoint/omega/assets\n",
      "198/257 [======================>.......] - ETA: 14s - loss: 0.0614 - cosine_similarity: 0.9418INFO:tensorflow:Assets written to: /home/anshul/Downloads/Lab3a/WR-Dataset/checkpoint/omega/assets\n",
      "208/257 [=======================>......] - ETA: 12s - loss: 0.0614 - cosine_similarity: 0.9418INFO:tensorflow:Assets written to: /home/anshul/Downloads/Lab3a/WR-Dataset/checkpoint/omega/assets\n",
      "218/257 [========================>.....] - ETA: 9s - loss: 0.0614 - cosine_similarity: 0.9418 INFO:tensorflow:Assets written to: /home/anshul/Downloads/Lab3a/WR-Dataset/checkpoint/omega/assets\n",
      "228/257 [=========================>....] - ETA: 7s - loss: 0.0613 - cosine_similarity: 0.9419INFO:tensorflow:Assets written to: /home/anshul/Downloads/Lab3a/WR-Dataset/checkpoint/omega/assets\n",
      "238/257 [==========================>...] - ETA: 4s - loss: 0.0613 - cosine_similarity: 0.9419INFO:tensorflow:Assets written to: /home/anshul/Downloads/Lab3a/WR-Dataset/checkpoint/omega/assets\n",
      "248/257 [===========================>..] - ETA: 2s - loss: 0.0613 - cosine_similarity: 0.9419INFO:tensorflow:Assets written to: /home/anshul/Downloads/Lab3a/WR-Dataset/checkpoint/omega/assets\n",
      "257/257 [==============================] - 64s 248ms/step - loss: 0.0614 - cosine_similarity: 0.9419 - val_loss: 0.0601 - val_cosine_similarity: 0.9441\n",
      "Epoch 25/30\n",
      "  1/257 [..............................] - ETA: 9s - loss: 0.0549 - cosine_similarity: 0.9442INFO:tensorflow:Assets written to: /home/anshul/Downloads/Lab3a/WR-Dataset/checkpoint/omega/assets\n",
      " 11/257 [>.............................] - ETA: 1:00 - loss: 0.0582 - cosine_similarity: 0.9433INFO:tensorflow:Assets written to: /home/anshul/Downloads/Lab3a/WR-Dataset/checkpoint/omega/assets\n",
      " 21/257 [=>............................] - ETA: 56s - loss: 0.0588 - cosine_similarity: 0.9436 INFO:tensorflow:Assets written to: /home/anshul/Downloads/Lab3a/WR-Dataset/checkpoint/omega/assets\n",
      " 31/257 [==>...........................] - ETA: 57s - loss: 0.0593 - cosine_similarity: 0.9431 INFO:tensorflow:Assets written to: /home/anshul/Downloads/Lab3a/WR-Dataset/checkpoint/omega/assets\n",
      " 41/257 [===>..........................] - ETA: 54s - loss: 0.0593 - cosine_similarity: 0.9433INFO:tensorflow:Assets written to: /home/anshul/Downloads/Lab3a/WR-Dataset/checkpoint/omega/assets\n"
     ]
    },
    {
     "name": "stdout",
     "output_type": "stream",
     "text": [
      " 51/257 [====>.........................] - ETA: 50s - loss: 0.0592 - cosine_similarity: 0.9435INFO:tensorflow:Assets written to: /home/anshul/Downloads/Lab3a/WR-Dataset/checkpoint/omega/assets\n",
      " 61/257 [======>.......................] - ETA: 48s - loss: 0.0590 - cosine_similarity: 0.9437INFO:tensorflow:Assets written to: /home/anshul/Downloads/Lab3a/WR-Dataset/checkpoint/omega/assets\n",
      " 71/257 [=======>......................] - ETA: 47s - loss: 0.0588 - cosine_similarity: 0.9438INFO:tensorflow:Assets written to: /home/anshul/Downloads/Lab3a/WR-Dataset/checkpoint/omega/assets\n",
      " 81/257 [========>.....................] - ETA: 44s - loss: 0.0586 - cosine_similarity: 0.9439INFO:tensorflow:Assets written to: /home/anshul/Downloads/Lab3a/WR-Dataset/checkpoint/omega/assets\n",
      " 91/257 [=========>....................] - ETA: 41s - loss: 0.0583 - cosine_similarity: 0.9440INFO:tensorflow:Assets written to: /home/anshul/Downloads/Lab3a/WR-Dataset/checkpoint/omega/assets\n",
      "101/257 [==========>...................] - ETA: 39s - loss: 0.0582 - cosine_similarity: 0.9441INFO:tensorflow:Assets written to: /home/anshul/Downloads/Lab3a/WR-Dataset/checkpoint/omega/assets\n",
      "111/257 [===========>..................] - ETA: 36s - loss: 0.0580 - cosine_similarity: 0.9442INFO:tensorflow:Assets written to: /home/anshul/Downloads/Lab3a/WR-Dataset/checkpoint/omega/assets\n",
      "121/257 [=============>................] - ETA: 34s - loss: 0.0579 - cosine_similarity: 0.9442INFO:tensorflow:Assets written to: /home/anshul/Downloads/Lab3a/WR-Dataset/checkpoint/omega/assets\n",
      "131/257 [==============>...............] - ETA: 32s - loss: 0.0578 - cosine_similarity: 0.9443INFO:tensorflow:Assets written to: /home/anshul/Downloads/Lab3a/WR-Dataset/checkpoint/omega/assets\n",
      "141/257 [===============>..............] - ETA: 29s - loss: 0.0577 - cosine_similarity: 0.9444INFO:tensorflow:Assets written to: /home/anshul/Downloads/Lab3a/WR-Dataset/checkpoint/omega/assets\n",
      "151/257 [================>.............] - ETA: 26s - loss: 0.0576 - cosine_similarity: 0.9444INFO:tensorflow:Assets written to: /home/anshul/Downloads/Lab3a/WR-Dataset/checkpoint/omega/assets\n",
      "161/257 [=================>............] - ETA: 24s - loss: 0.0576 - cosine_similarity: 0.9445INFO:tensorflow:Assets written to: /home/anshul/Downloads/Lab3a/WR-Dataset/checkpoint/omega/assets\n",
      "171/257 [==================>...........] - ETA: 21s - loss: 0.0575 - cosine_similarity: 0.9446INFO:tensorflow:Assets written to: /home/anshul/Downloads/Lab3a/WR-Dataset/checkpoint/omega/assets\n",
      "181/257 [====================>.........] - ETA: 19s - loss: 0.0575 - cosine_similarity: 0.9446INFO:tensorflow:Assets written to: /home/anshul/Downloads/Lab3a/WR-Dataset/checkpoint/omega/assets\n",
      "191/257 [=====================>........] - ETA: 16s - loss: 0.0575 - cosine_similarity: 0.9447INFO:tensorflow:Assets written to: /home/anshul/Downloads/Lab3a/WR-Dataset/checkpoint/omega/assets\n",
      "201/257 [======================>.......] - ETA: 14s - loss: 0.0575 - cosine_similarity: 0.9448INFO:tensorflow:Assets written to: /home/anshul/Downloads/Lab3a/WR-Dataset/checkpoint/omega/assets\n",
      "211/257 [=======================>......] - ETA: 11s - loss: 0.0575 - cosine_similarity: 0.9448INFO:tensorflow:Assets written to: /home/anshul/Downloads/Lab3a/WR-Dataset/checkpoint/omega/assets\n",
      "221/257 [========================>.....] - ETA: 9s - loss: 0.0576 - cosine_similarity: 0.9448INFO:tensorflow:Assets written to: /home/anshul/Downloads/Lab3a/WR-Dataset/checkpoint/omega/assets\n",
      "231/257 [=========================>....] - ETA: 6s - loss: 0.0576 - cosine_similarity: 0.9449INFO:tensorflow:Assets written to: /home/anshul/Downloads/Lab3a/WR-Dataset/checkpoint/omega/assets\n",
      "241/257 [===========================>..] - ETA: 4s - loss: 0.0577 - cosine_similarity: 0.9449INFO:tensorflow:Assets written to: /home/anshul/Downloads/Lab3a/WR-Dataset/checkpoint/omega/assets\n",
      "251/257 [============================>.] - ETA: 1s - loss: 0.0577 - cosine_similarity: 0.9450INFO:tensorflow:Assets written to: /home/anshul/Downloads/Lab3a/WR-Dataset/checkpoint/omega/assets\n",
      "257/257 [==============================] - 66s 258ms/step - loss: 0.0577 - cosine_similarity: 0.9450 - val_loss: 0.0547 - val_cosine_similarity: 0.9510\n",
      "Epoch 26/30\n",
      "  5/257 [..............................] - ETA: 9s - loss: 0.0558 - cosine_similarity: 0.9422INFO:tensorflow:Assets written to: /home/anshul/Downloads/Lab3a/WR-Dataset/checkpoint/omega/assets\n",
      " 14/257 [>.............................] - ETA: 45s - loss: 0.0532 - cosine_similarity: 0.9489INFO:tensorflow:Assets written to: /home/anshul/Downloads/Lab3a/WR-Dataset/checkpoint/omega/assets\n",
      " 24/257 [=>............................] - ETA: 48s - loss: 0.0522 - cosine_similarity: 0.9510INFO:tensorflow:Assets written to: /home/anshul/Downloads/Lab3a/WR-Dataset/checkpoint/omega/assets\n",
      " 34/257 [==>...........................] - ETA: 51s - loss: 0.0522 - cosine_similarity: 0.9514INFO:tensorflow:Assets written to: /home/anshul/Downloads/Lab3a/WR-Dataset/checkpoint/omega/assets\n",
      " 44/257 [====>.........................] - ETA: 49s - loss: 0.0526 - cosine_similarity: 0.9512INFO:tensorflow:Assets written to: /home/anshul/Downloads/Lab3a/WR-Dataset/checkpoint/omega/assets\n",
      " 54/257 [=====>........................] - ETA: 47s - loss: 0.0528 - cosine_similarity: 0.9509INFO:tensorflow:Assets written to: /home/anshul/Downloads/Lab3a/WR-Dataset/checkpoint/omega/assets\n",
      " 64/257 [======>.......................] - ETA: 45s - loss: 0.0531 - cosine_similarity: 0.9509INFO:tensorflow:Assets written to: /home/anshul/Downloads/Lab3a/WR-Dataset/checkpoint/omega/assets\n",
      " 74/257 [=======>......................] - ETA: 44s - loss: 0.0534 - cosine_similarity: 0.9509INFO:tensorflow:Assets written to: /home/anshul/Downloads/Lab3a/WR-Dataset/checkpoint/omega/assets\n",
      " 84/257 [========>.....................] - ETA: 41s - loss: 0.0537 - cosine_similarity: 0.9509INFO:tensorflow:Assets written to: /home/anshul/Downloads/Lab3a/WR-Dataset/checkpoint/omega/assets\n",
      " 94/257 [=========>....................] - ETA: 39s - loss: 0.0539 - cosine_similarity: 0.9508INFO:tensorflow:Assets written to: /home/anshul/Downloads/Lab3a/WR-Dataset/checkpoint/omega/assets\n",
      "104/257 [===========>..................] - ETA: 36s - loss: 0.0542 - cosine_similarity: 0.9507INFO:tensorflow:Assets written to: /home/anshul/Downloads/Lab3a/WR-Dataset/checkpoint/omega/assets\n",
      "114/257 [============>.................] - ETA: 34s - loss: 0.0544 - cosine_similarity: 0.9506INFO:tensorflow:Assets written to: /home/anshul/Downloads/Lab3a/WR-Dataset/checkpoint/omega/assets\n",
      "124/257 [=============>................] - ETA: 32s - loss: 0.0546 - cosine_similarity: 0.9506INFO:tensorflow:Assets written to: /home/anshul/Downloads/Lab3a/WR-Dataset/checkpoint/omega/assets\n",
      "134/257 [==============>...............] - ETA: 29s - loss: 0.0547 - cosine_similarity: 0.9505INFO:tensorflow:Assets written to: /home/anshul/Downloads/Lab3a/WR-Dataset/checkpoint/omega/assets\n",
      "144/257 [===============>..............] - ETA: 27s - loss: 0.0548 - cosine_similarity: 0.9505INFO:tensorflow:Assets written to: /home/anshul/Downloads/Lab3a/WR-Dataset/checkpoint/omega/assets\n",
      "154/257 [================>.............] - ETA: 24s - loss: 0.0548 - cosine_similarity: 0.9504INFO:tensorflow:Assets written to: /home/anshul/Downloads/Lab3a/WR-Dataset/checkpoint/omega/assets\n",
      "164/257 [==================>...........] - ETA: 22s - loss: 0.0549 - cosine_similarity: 0.9504INFO:tensorflow:Assets written to: /home/anshul/Downloads/Lab3a/WR-Dataset/checkpoint/omega/assets\n",
      "174/257 [===================>..........] - ETA: 20s - loss: 0.0550 - cosine_similarity: 0.9504INFO:tensorflow:Assets written to: /home/anshul/Downloads/Lab3a/WR-Dataset/checkpoint/omega/assets\n",
      "184/257 [====================>.........] - ETA: 17s - loss: 0.0550 - cosine_similarity: 0.9504INFO:tensorflow:Assets written to: /home/anshul/Downloads/Lab3a/WR-Dataset/checkpoint/omega/assets\n",
      "194/257 [=====================>........] - ETA: 15s - loss: 0.0550 - cosine_similarity: 0.9504INFO:tensorflow:Assets written to: /home/anshul/Downloads/Lab3a/WR-Dataset/checkpoint/omega/assets\n",
      "204/257 [======================>.......] - ETA: 13s - loss: 0.0550 - cosine_similarity: 0.9504INFO:tensorflow:Assets written to: /home/anshul/Downloads/Lab3a/WR-Dataset/checkpoint/omega/assets\n"
     ]
    },
    {
     "name": "stdout",
     "output_type": "stream",
     "text": [
      "214/257 [=======================>......] - ETA: 10s - loss: 0.0550 - cosine_similarity: 0.9504INFO:tensorflow:Assets written to: /home/anshul/Downloads/Lab3a/WR-Dataset/checkpoint/omega/assets\n",
      "224/257 [=========================>....] - ETA: 8s - loss: 0.0551 - cosine_similarity: 0.9504INFO:tensorflow:Assets written to: /home/anshul/Downloads/Lab3a/WR-Dataset/checkpoint/omega/assets\n",
      "234/257 [==========================>...] - ETA: 5s - loss: 0.0552 - cosine_similarity: 0.9504INFO:tensorflow:Assets written to: /home/anshul/Downloads/Lab3a/WR-Dataset/checkpoint/omega/assets\n",
      "244/257 [===========================>..] - ETA: 3s - loss: 0.0553 - cosine_similarity: 0.9503INFO:tensorflow:Assets written to: /home/anshul/Downloads/Lab3a/WR-Dataset/checkpoint/omega/assets\n",
      "254/257 [============================>.] - ETA: 0s - loss: 0.0553 - cosine_similarity: 0.9503INFO:tensorflow:Assets written to: /home/anshul/Downloads/Lab3a/WR-Dataset/checkpoint/omega/assets\n",
      "257/257 [==============================] - 65s 252ms/step - loss: 0.0554 - cosine_similarity: 0.9503 - val_loss: 0.0474 - val_cosine_similarity: 0.9542\n",
      "Epoch 27/30\n",
      "  7/257 [..............................] - ETA: 9s - loss: 0.0648 - cosine_similarity: 0.9428INFO:tensorflow:Assets written to: /home/anshul/Downloads/Lab3a/WR-Dataset/checkpoint/omega/assets\n",
      " 17/257 [>.............................] - ETA: 39s - loss: 0.0631 - cosine_similarity: 0.9452INFO:tensorflow:Assets written to: /home/anshul/Downloads/Lab3a/WR-Dataset/checkpoint/omega/assets\n",
      " 27/257 [==>...........................] - ETA: 43s - loss: 0.0635 - cosine_similarity: 0.9463INFO:tensorflow:Assets written to: /home/anshul/Downloads/Lab3a/WR-Dataset/checkpoint/omega/assets\n",
      " 37/257 [===>..........................] - ETA: 48s - loss: 0.0639 - cosine_similarity: 0.9466INFO:tensorflow:Assets written to: /home/anshul/Downloads/Lab3a/WR-Dataset/checkpoint/omega/assets\n",
      " 47/257 [====>.........................] - ETA: 46s - loss: 0.0640 - cosine_similarity: 0.9470INFO:tensorflow:Assets written to: /home/anshul/Downloads/Lab3a/WR-Dataset/checkpoint/omega/assets\n",
      " 57/257 [=====>........................] - ETA: 45s - loss: 0.0637 - cosine_similarity: 0.9473INFO:tensorflow:Assets written to: /home/anshul/Downloads/Lab3a/WR-Dataset/checkpoint/omega/assets\n",
      " 67/257 [======>.......................] - ETA: 43s - loss: 0.0635 - cosine_similarity: 0.9475INFO:tensorflow:Assets written to: /home/anshul/Downloads/Lab3a/WR-Dataset/checkpoint/omega/assets\n",
      " 77/257 [=======>......................] - ETA: 42s - loss: 0.0634 - cosine_similarity: 0.9476INFO:tensorflow:Assets written to: /home/anshul/Downloads/Lab3a/WR-Dataset/checkpoint/omega/assets\n",
      " 87/257 [=========>....................] - ETA: 40s - loss: 0.0638 - cosine_similarity: 0.9477INFO:tensorflow:Assets written to: /home/anshul/Downloads/Lab3a/WR-Dataset/checkpoint/omega/assets\n",
      " 97/257 [==========>...................] - ETA: 37s - loss: 0.0642 - cosine_similarity: 0.9477INFO:tensorflow:Assets written to: /home/anshul/Downloads/Lab3a/WR-Dataset/checkpoint/omega/assets\n",
      "107/257 [===========>..................] - ETA: 35s - loss: 0.0644 - cosine_similarity: 0.9477INFO:tensorflow:Assets written to: /home/anshul/Downloads/Lab3a/WR-Dataset/checkpoint/omega/assets\n",
      "117/257 [============>.................] - ETA: 33s - loss: 0.0646 - cosine_similarity: 0.9476INFO:tensorflow:Assets written to: /home/anshul/Downloads/Lab3a/WR-Dataset/checkpoint/omega/assets\n",
      "127/257 [=============>................] - ETA: 31s - loss: 0.0646 - cosine_similarity: 0.9477INFO:tensorflow:Assets written to: /home/anshul/Downloads/Lab3a/WR-Dataset/checkpoint/omega/assets\n",
      "137/257 [==============>...............] - ETA: 28s - loss: 0.0645 - cosine_similarity: 0.9477INFO:tensorflow:Assets written to: /home/anshul/Downloads/Lab3a/WR-Dataset/checkpoint/omega/assets\n",
      "147/257 [================>.............] - ETA: 26s - loss: 0.0645 - cosine_similarity: 0.9477INFO:tensorflow:Assets written to: /home/anshul/Downloads/Lab3a/WR-Dataset/checkpoint/omega/assets\n",
      "157/257 [=================>............] - ETA: 24s - loss: 0.0644 - cosine_similarity: 0.9478INFO:tensorflow:Assets written to: /home/anshul/Downloads/Lab3a/WR-Dataset/checkpoint/omega/assets\n",
      "167/257 [==================>...........] - ETA: 21s - loss: 0.0643 - cosine_similarity: 0.9478INFO:tensorflow:Assets written to: /home/anshul/Downloads/Lab3a/WR-Dataset/checkpoint/omega/assets\n",
      "177/257 [===================>..........] - ETA: 19s - loss: 0.0642 - cosine_similarity: 0.9479INFO:tensorflow:Assets written to: /home/anshul/Downloads/Lab3a/WR-Dataset/checkpoint/omega/assets\n",
      "187/257 [====================>.........] - ETA: 17s - loss: 0.0641 - cosine_similarity: 0.9479INFO:tensorflow:Assets written to: /home/anshul/Downloads/Lab3a/WR-Dataset/checkpoint/omega/assets\n",
      "197/257 [=====================>........] - ETA: 14s - loss: 0.0639 - cosine_similarity: 0.9480INFO:tensorflow:Assets written to: /home/anshul/Downloads/Lab3a/WR-Dataset/checkpoint/omega/assets\n",
      "207/257 [=======================>......] - ETA: 12s - loss: 0.0637 - cosine_similarity: 0.9481INFO:tensorflow:Assets written to: /home/anshul/Downloads/Lab3a/WR-Dataset/checkpoint/omega/assets\n",
      "217/257 [========================>.....] - ETA: 9s - loss: 0.0636 - cosine_similarity: 0.9481 INFO:tensorflow:Assets written to: /home/anshul/Downloads/Lab3a/WR-Dataset/checkpoint/omega/assets\n",
      "227/257 [=========================>....] - ETA: 7s - loss: 0.0634 - cosine_similarity: 0.9482INFO:tensorflow:Assets written to: /home/anshul/Downloads/Lab3a/WR-Dataset/checkpoint/omega/assets\n",
      "237/257 [==========================>...] - ETA: 4s - loss: 0.0632 - cosine_similarity: 0.9483INFO:tensorflow:Assets written to: /home/anshul/Downloads/Lab3a/WR-Dataset/checkpoint/omega/assets\n",
      "247/257 [===========================>..] - ETA: 2s - loss: 0.0630 - cosine_similarity: 0.9484INFO:tensorflow:Assets written to: /home/anshul/Downloads/Lab3a/WR-Dataset/checkpoint/omega/assets\n",
      "257/257 [==============================] - 63s 247ms/step - loss: 0.0628 - cosine_similarity: 0.9485 - val_loss: 0.0439 - val_cosine_similarity: 0.9578\n",
      "Epoch 28/30\n",
      "  1/257 [..............................] - ETA: 9s - loss: 0.0602 - cosine_similarity: 0.9631INFO:tensorflow:Assets written to: /home/anshul/Downloads/Lab3a/WR-Dataset/checkpoint/omega/assets\n",
      " 10/257 [>.............................] - ETA: 1:05 - loss: 0.0505 - cosine_similarity: 0.9606INFO:tensorflow:Assets written to: /home/anshul/Downloads/Lab3a/WR-Dataset/checkpoint/omega/assets\n",
      " 20/257 [=>............................] - ETA: 58s - loss: 0.0516 - cosine_similarity: 0.9600 INFO:tensorflow:Assets written to: /home/anshul/Downloads/Lab3a/WR-Dataset/checkpoint/omega/assets\n",
      " 30/257 [==>...........................] - ETA: 55s - loss: 0.0523 - cosine_similarity: 0.9593INFO:tensorflow:Assets written to: /home/anshul/Downloads/Lab3a/WR-Dataset/checkpoint/omega/assets\n",
      " 40/257 [===>..........................] - ETA: 55s - loss: 0.0525 - cosine_similarity: 0.9588INFO:tensorflow:Assets written to: /home/anshul/Downloads/Lab3a/WR-Dataset/checkpoint/omega/assets\n",
      " 50/257 [====>.........................] - ETA: 52s - loss: 0.0524 - cosine_similarity: 0.9583INFO:tensorflow:Assets written to: /home/anshul/Downloads/Lab3a/WR-Dataset/checkpoint/omega/assets\n",
      " 60/257 [======>.......................] - ETA: 49s - loss: 0.0520 - cosine_similarity: 0.9580INFO:tensorflow:Assets written to: /home/anshul/Downloads/Lab3a/WR-Dataset/checkpoint/omega/assets\n",
      " 70/257 [=======>......................] - ETA: 46s - loss: 0.0517 - cosine_similarity: 0.9576INFO:tensorflow:Assets written to: /home/anshul/Downloads/Lab3a/WR-Dataset/checkpoint/omega/assets\n",
      " 80/257 [========>.....................] - ETA: 45s - loss: 0.0514 - cosine_similarity: 0.9574INFO:tensorflow:Assets written to: /home/anshul/Downloads/Lab3a/WR-Dataset/checkpoint/omega/assets\n",
      " 90/257 [=========>....................] - ETA: 42s - loss: 0.0512 - cosine_similarity: 0.9573INFO:tensorflow:Assets written to: /home/anshul/Downloads/Lab3a/WR-Dataset/checkpoint/omega/assets\n",
      "100/257 [==========>...................] - ETA: 39s - loss: 0.0509 - cosine_similarity: 0.9572INFO:tensorflow:Assets written to: /home/anshul/Downloads/Lab3a/WR-Dataset/checkpoint/omega/assets\n"
     ]
    },
    {
     "name": "stdout",
     "output_type": "stream",
     "text": [
      "110/257 [===========>..................] - ETA: 36s - loss: 0.0507 - cosine_similarity: 0.9572INFO:tensorflow:Assets written to: /home/anshul/Downloads/Lab3a/WR-Dataset/checkpoint/omega/assets\n",
      "120/257 [=============>................] - ETA: 34s - loss: 0.0504 - cosine_similarity: 0.9573INFO:tensorflow:Assets written to: /home/anshul/Downloads/Lab3a/WR-Dataset/checkpoint/omega/assets\n",
      "130/257 [==============>...............] - ETA: 32s - loss: 0.0502 - cosine_similarity: 0.9573INFO:tensorflow:Assets written to: /home/anshul/Downloads/Lab3a/WR-Dataset/checkpoint/omega/assets\n",
      "140/257 [===============>..............] - ETA: 29s - loss: 0.0500 - cosine_similarity: 0.9573INFO:tensorflow:Assets written to: /home/anshul/Downloads/Lab3a/WR-Dataset/checkpoint/omega/assets\n",
      "150/257 [================>.............] - ETA: 26s - loss: 0.0499 - cosine_similarity: 0.9574INFO:tensorflow:Assets written to: /home/anshul/Downloads/Lab3a/WR-Dataset/checkpoint/omega/assets\n",
      "160/257 [=================>............] - ETA: 24s - loss: 0.0498 - cosine_similarity: 0.9574INFO:tensorflow:Assets written to: /home/anshul/Downloads/Lab3a/WR-Dataset/checkpoint/omega/assets\n",
      "170/257 [==================>...........] - ETA: 22s - loss: 0.0497 - cosine_similarity: 0.9574INFO:tensorflow:Assets written to: /home/anshul/Downloads/Lab3a/WR-Dataset/checkpoint/omega/assets\n",
      "180/257 [====================>.........] - ETA: 19s - loss: 0.0496 - cosine_similarity: 0.9574INFO:tensorflow:Assets written to: /home/anshul/Downloads/Lab3a/WR-Dataset/checkpoint/omega/assets\n",
      "190/257 [=====================>........] - ETA: 16s - loss: 0.0495 - cosine_similarity: 0.9574INFO:tensorflow:Assets written to: /home/anshul/Downloads/Lab3a/WR-Dataset/checkpoint/omega/assets\n",
      "200/257 [======================>.......] - ETA: 14s - loss: 0.0494 - cosine_similarity: 0.9574INFO:tensorflow:Assets written to: /home/anshul/Downloads/Lab3a/WR-Dataset/checkpoint/omega/assets\n",
      "210/257 [=======================>......] - ETA: 11s - loss: 0.0493 - cosine_similarity: 0.9575INFO:tensorflow:Assets written to: /home/anshul/Downloads/Lab3a/WR-Dataset/checkpoint/omega/assets\n",
      "220/257 [========================>.....] - ETA: 9s - loss: 0.0493 - cosine_similarity: 0.9575INFO:tensorflow:Assets written to: /home/anshul/Downloads/Lab3a/WR-Dataset/checkpoint/omega/assets\n",
      "230/257 [=========================>....] - ETA: 6s - loss: 0.0492 - cosine_similarity: 0.9575INFO:tensorflow:Assets written to: /home/anshul/Downloads/Lab3a/WR-Dataset/checkpoint/omega/assets\n",
      "240/257 [===========================>..] - ETA: 4s - loss: 0.0492 - cosine_similarity: 0.9575INFO:tensorflow:Assets written to: /home/anshul/Downloads/Lab3a/WR-Dataset/checkpoint/omega/assets\n",
      "250/257 [============================>.] - ETA: 1s - loss: 0.0491 - cosine_similarity: 0.9575INFO:tensorflow:Assets written to: /home/anshul/Downloads/Lab3a/WR-Dataset/checkpoint/omega/assets\n",
      "257/257 [==============================] - 66s 257ms/step - loss: 0.0491 - cosine_similarity: 0.9575 - val_loss: 0.0448 - val_cosine_similarity: 0.9603\n",
      "Epoch 29/30\n",
      "  3/257 [..............................] - ETA: 9s - loss: 0.0377 - cosine_similarity: 0.9565INFO:tensorflow:Assets written to: /home/anshul/Downloads/Lab3a/WR-Dataset/checkpoint/omega/assets\n",
      " 13/257 [>.............................] - ETA: 49s - loss: 0.0409 - cosine_similarity: 0.9596INFO:tensorflow:Assets written to: /home/anshul/Downloads/Lab3a/WR-Dataset/checkpoint/omega/assets\n",
      " 23/257 [=>............................] - ETA: 51s - loss: 0.0407 - cosine_similarity: 0.9610INFO:tensorflow:Assets written to: /home/anshul/Downloads/Lab3a/WR-Dataset/checkpoint/omega/assets\n",
      " 33/257 [==>...........................] - ETA: 50s - loss: 0.0406 - cosine_similarity: 0.9617INFO:tensorflow:Assets written to: /home/anshul/Downloads/Lab3a/WR-Dataset/checkpoint/omega/assets\n",
      " 43/257 [====>.........................] - ETA: 52s - loss: 0.0403 - cosine_similarity: 0.9619INFO:tensorflow:Assets written to: /home/anshul/Downloads/Lab3a/WR-Dataset/checkpoint/omega/assets\n",
      " 53/257 [=====>........................] - ETA: 49s - loss: 0.0401 - cosine_similarity: 0.9618INFO:tensorflow:Assets written to: /home/anshul/Downloads/Lab3a/WR-Dataset/checkpoint/omega/assets\n",
      " 63/257 [======>.......................] - ETA: 46s - loss: 0.0401 - cosine_similarity: 0.9617INFO:tensorflow:Assets written to: /home/anshul/Downloads/Lab3a/WR-Dataset/checkpoint/omega/assets\n",
      " 73/257 [=======>......................] - ETA: 44s - loss: 0.0401 - cosine_similarity: 0.9616INFO:tensorflow:Assets written to: /home/anshul/Downloads/Lab3a/WR-Dataset/checkpoint/omega/assets\n",
      " 83/257 [========>.....................] - ETA: 41s - loss: 0.0401 - cosine_similarity: 0.9616INFO:tensorflow:Assets written to: /home/anshul/Downloads/Lab3a/WR-Dataset/checkpoint/omega/assets\n",
      " 93/257 [=========>....................] - ETA: 40s - loss: 0.0400 - cosine_similarity: 0.9616INFO:tensorflow:Assets written to: /home/anshul/Downloads/Lab3a/WR-Dataset/checkpoint/omega/assets\n",
      "103/257 [===========>..................] - ETA: 37s - loss: 0.0401 - cosine_similarity: 0.9616INFO:tensorflow:Assets written to: /home/anshul/Downloads/Lab3a/WR-Dataset/checkpoint/omega/assets\n",
      "113/257 [============>.................] - ETA: 35s - loss: 0.0401 - cosine_similarity: 0.9616INFO:tensorflow:Assets written to: /home/anshul/Downloads/Lab3a/WR-Dataset/checkpoint/omega/assets\n",
      "123/257 [=============>................] - ETA: 32s - loss: 0.0401 - cosine_similarity: 0.9617INFO:tensorflow:Assets written to: /home/anshul/Downloads/Lab3a/WR-Dataset/checkpoint/omega/assets\n",
      "133/257 [==============>...............] - ETA: 30s - loss: 0.0401 - cosine_similarity: 0.9617INFO:tensorflow:Assets written to: /home/anshul/Downloads/Lab3a/WR-Dataset/checkpoint/omega/assets\n",
      "143/257 [===============>..............] - ETA: 28s - loss: 0.0402 - cosine_similarity: 0.9617INFO:tensorflow:Assets written to: /home/anshul/Downloads/Lab3a/WR-Dataset/checkpoint/omega/assets\n",
      "153/257 [================>.............] - ETA: 25s - loss: 0.0403 - cosine_similarity: 0.9617INFO:tensorflow:Assets written to: /home/anshul/Downloads/Lab3a/WR-Dataset/checkpoint/omega/assets\n",
      "163/257 [==================>...........] - ETA: 22s - loss: 0.0404 - cosine_similarity: 0.9617INFO:tensorflow:Assets written to: /home/anshul/Downloads/Lab3a/WR-Dataset/checkpoint/omega/assets\n",
      "173/257 [===================>..........] - ETA: 20s - loss: 0.0405 - cosine_similarity: 0.9617INFO:tensorflow:Assets written to: /home/anshul/Downloads/Lab3a/WR-Dataset/checkpoint/omega/assets\n",
      "183/257 [====================>.........] - ETA: 18s - loss: 0.0407 - cosine_similarity: 0.9617INFO:tensorflow:Assets written to: /home/anshul/Downloads/Lab3a/WR-Dataset/checkpoint/omega/assets\n",
      "193/257 [=====================>........] - ETA: 15s - loss: 0.0408 - cosine_similarity: 0.9617INFO:tensorflow:Assets written to: /home/anshul/Downloads/Lab3a/WR-Dataset/checkpoint/omega/assets\n",
      "203/257 [======================>.......] - ETA: 13s - loss: 0.0409 - cosine_similarity: 0.9617INFO:tensorflow:Assets written to: /home/anshul/Downloads/Lab3a/WR-Dataset/checkpoint/omega/assets\n",
      "213/257 [=======================>......] - ETA: 10s - loss: 0.0410 - cosine_similarity: 0.9617INFO:tensorflow:Assets written to: /home/anshul/Downloads/Lab3a/WR-Dataset/checkpoint/omega/assets\n",
      "223/257 [=========================>....] - ETA: 8s - loss: 0.0411 - cosine_similarity: 0.9617INFO:tensorflow:Assets written to: /home/anshul/Downloads/Lab3a/WR-Dataset/checkpoint/omega/assets\n",
      "233/257 [==========================>...] - ETA: 5s - loss: 0.0412 - cosine_similarity: 0.9617INFO:tensorflow:Assets written to: /home/anshul/Downloads/Lab3a/WR-Dataset/checkpoint/omega/assets\n",
      "243/257 [===========================>..] - ETA: 3s - loss: 0.0412 - cosine_similarity: 0.9617INFO:tensorflow:Assets written to: /home/anshul/Downloads/Lab3a/WR-Dataset/checkpoint/omega/assets\n",
      "253/257 [============================>.] - ETA: 0s - loss: 0.0413 - cosine_similarity: 0.9617INFO:tensorflow:Assets written to: /home/anshul/Downloads/Lab3a/WR-Dataset/checkpoint/omega/assets\n",
      "257/257 [==============================] - 65s 255ms/step - loss: 0.0414 - cosine_similarity: 0.9617 - val_loss: 0.0422 - val_cosine_similarity: 0.9651\n"
     ]
    },
    {
     "name": "stdout",
     "output_type": "stream",
     "text": [
      "Epoch 30/30\n",
      "  7/257 [..............................] - ETA: 9s - loss: 0.0369 - cosine_similarity: 0.9615INFO:tensorflow:Assets written to: /home/anshul/Downloads/Lab3a/WR-Dataset/checkpoint/omega/assets\n",
      " 16/257 [>.............................] - ETA: 42s - loss: 0.0401 - cosine_similarity: 0.9610INFO:tensorflow:Assets written to: /home/anshul/Downloads/Lab3a/WR-Dataset/checkpoint/omega/assets\n",
      " 26/257 [==>...........................] - ETA: 45s - loss: 0.0410 - cosine_similarity: 0.9615INFO:tensorflow:Assets written to: /home/anshul/Downloads/Lab3a/WR-Dataset/checkpoint/omega/assets\n",
      " 36/257 [===>..........................] - ETA: 45s - loss: 0.0415 - cosine_similarity: 0.9621INFO:tensorflow:Assets written to: /home/anshul/Downloads/Lab3a/WR-Dataset/checkpoint/omega/assets\n",
      " 46/257 [====>.........................] - ETA: 47s - loss: 0.0419 - cosine_similarity: 0.9624INFO:tensorflow:Assets written to: /home/anshul/Downloads/Lab3a/WR-Dataset/checkpoint/omega/assets\n",
      " 56/257 [=====>........................] - ETA: 45s - loss: 0.0420 - cosine_similarity: 0.9625INFO:tensorflow:Assets written to: /home/anshul/Downloads/Lab3a/WR-Dataset/checkpoint/omega/assets\n",
      " 66/257 [======>.......................] - ETA: 43s - loss: 0.0420 - cosine_similarity: 0.9626INFO:tensorflow:Assets written to: /home/anshul/Downloads/Lab3a/WR-Dataset/checkpoint/omega/assets\n",
      " 76/257 [=======>......................] - ETA: 41s - loss: 0.0419 - cosine_similarity: 0.9627INFO:tensorflow:Assets written to: /home/anshul/Downloads/Lab3a/WR-Dataset/checkpoint/omega/assets\n",
      " 86/257 [=========>....................] - ETA: 39s - loss: 0.0419 - cosine_similarity: 0.9627INFO:tensorflow:Assets written to: /home/anshul/Downloads/Lab3a/WR-Dataset/checkpoint/omega/assets\n",
      " 96/257 [==========>...................] - ETA: 38s - loss: 0.0420 - cosine_similarity: 0.9627INFO:tensorflow:Assets written to: /home/anshul/Downloads/Lab3a/WR-Dataset/checkpoint/omega/assets\n",
      "106/257 [===========>..................] - ETA: 35s - loss: 0.0421 - cosine_similarity: 0.9627INFO:tensorflow:Assets written to: /home/anshul/Downloads/Lab3a/WR-Dataset/checkpoint/omega/assets\n",
      "116/257 [============>.................] - ETA: 33s - loss: 0.0421 - cosine_similarity: 0.9628INFO:tensorflow:Assets written to: /home/anshul/Downloads/Lab3a/WR-Dataset/checkpoint/omega/assets\n",
      "126/257 [=============>................] - ETA: 31s - loss: 0.0421 - cosine_similarity: 0.9628INFO:tensorflow:Assets written to: /home/anshul/Downloads/Lab3a/WR-Dataset/checkpoint/omega/assets\n",
      "136/257 [==============>...............] - ETA: 29s - loss: 0.0421 - cosine_similarity: 0.9628INFO:tensorflow:Assets written to: /home/anshul/Downloads/Lab3a/WR-Dataset/checkpoint/omega/assets\n",
      "146/257 [================>.............] - ETA: 26s - loss: 0.0421 - cosine_similarity: 0.9629INFO:tensorflow:Assets written to: /home/anshul/Downloads/Lab3a/WR-Dataset/checkpoint/omega/assets\n",
      "156/257 [=================>............] - ETA: 24s - loss: 0.0421 - cosine_similarity: 0.9629INFO:tensorflow:Assets written to: /home/anshul/Downloads/Lab3a/WR-Dataset/checkpoint/omega/assets\n",
      "166/257 [==================>...........] - ETA: 22s - loss: 0.0420 - cosine_similarity: 0.9629INFO:tensorflow:Assets written to: /home/anshul/Downloads/Lab3a/WR-Dataset/checkpoint/omega/assets\n",
      "176/257 [===================>..........] - ETA: 19s - loss: 0.0420 - cosine_similarity: 0.9630INFO:tensorflow:Assets written to: /home/anshul/Downloads/Lab3a/WR-Dataset/checkpoint/omega/assets\n",
      "186/257 [====================>.........] - ETA: 17s - loss: 0.0419 - cosine_similarity: 0.9630INFO:tensorflow:Assets written to: /home/anshul/Downloads/Lab3a/WR-Dataset/checkpoint/omega/assets\n",
      "196/257 [=====================>........] - ETA: 14s - loss: 0.0419 - cosine_similarity: 0.9630INFO:tensorflow:Assets written to: /home/anshul/Downloads/Lab3a/WR-Dataset/checkpoint/omega/assets\n",
      "206/257 [=======================>......] - ETA: 12s - loss: 0.0419 - cosine_similarity: 0.9631INFO:tensorflow:Assets written to: /home/anshul/Downloads/Lab3a/WR-Dataset/checkpoint/omega/assets\n",
      "216/257 [========================>.....] - ETA: 10s - loss: 0.0419 - cosine_similarity: 0.9631INFO:tensorflow:Assets written to: /home/anshul/Downloads/Lab3a/WR-Dataset/checkpoint/omega/assets\n",
      "226/257 [=========================>....] - ETA: 7s - loss: 0.0419 - cosine_similarity: 0.9631INFO:tensorflow:Assets written to: /home/anshul/Downloads/Lab3a/WR-Dataset/checkpoint/omega/assets\n",
      "236/257 [==========================>...] - ETA: 5s - loss: 0.0419 - cosine_similarity: 0.9631INFO:tensorflow:Assets written to: /home/anshul/Downloads/Lab3a/WR-Dataset/checkpoint/omega/assets\n",
      "246/257 [===========================>..] - ETA: 2s - loss: 0.0419 - cosine_similarity: 0.9632INFO:tensorflow:Assets written to: /home/anshul/Downloads/Lab3a/WR-Dataset/checkpoint/omega/assets\n",
      "256/257 [============================>.] - ETA: 0s - loss: 0.0419 - cosine_similarity: 0.9632INFO:tensorflow:Assets written to: /home/anshul/Downloads/Lab3a/WR-Dataset/checkpoint/omega/assets\n",
      "257/257 [==============================] - 66s 259ms/step - loss: 0.0419 - cosine_similarity: 0.9632 - val_loss: 0.0394 - val_cosine_similarity: 0.9673\n"
     ]
    }
   ],
   "source": [
    "# Insert code to train with callbacks (2 points)\n",
    "h = omega_m.fit(x=x_train,y = y_train, \n",
    "                          validation_data=(x_val, y_val), epochs=NUM_EPOCHS, batch_size = BATCH_SIZE, callbacks=callback_list_o)\n",
    "\n"
   ]
  },
  {
   "cell_type": "code",
   "execution_count": 174,
   "metadata": {
    "id": "zZd5VXW77eFE"
   },
   "outputs": [],
   "source": [
    "# Insert your code here to obtain the lists: epochs, training similarity, validation similarity, training loss, validation loss from CSV log file (1 point)\n",
    "df=pd.read_csv(\"/home/anshul/Downloads/Lab3a/omega_log.csv\")\n",
    "training_acc=df['cosine_similarity'].values.tolist()\n",
    "validation_acc=df['val_cosine_similarity'].values.tolist()\n",
    "training_loss=df['loss'].values.tolist()\n",
    "validation_loss=df['val_loss'].values.tolist()\n",
    "epochs_list=df['epoch'].values.tolist()"
   ]
  },
  {
   "cell_type": "code",
   "execution_count": 175,
   "metadata": {
    "id": "z3x3KU7F3pJt"
   },
   "outputs": [
    {
     "data": {
      "text/plain": [
       "<matplotlib.legend.Legend at 0x7f20cb2a2370>"
      ]
     },
     "execution_count": 175,
     "metadata": {},
     "output_type": "execute_result"
    },
    {
     "data": {
      "image/png": "[encoded data removed]",
      "text/plain": [
       "<Figure size 432x288 with 1 Axes>"
      ]
     },
     "metadata": {
      "needs_background": "light"
     },
     "output_type": "display_data"
    }
   ],
   "source": [
    "# Insert your code here to plot Epochs Vs. training and validation accuracy (2 points)\n",
    "plt.plot(epochs_list, training_acc)\n",
    "plt.plot(epochs_list, validation_acc)\n",
    "plt.xlabel(\"number of epochs\")\n",
    "plt.ylabel(\"accuracy\")\n",
    "plt.legend([\"Train accuracy\", \"Validation accuracy\"])"
   ]
  },
  {
   "cell_type": "code",
   "execution_count": 176,
   "metadata": {
    "id": "oRec9guF3scT"
   },
   "outputs": [
    {
     "data": {
      "text/plain": [
       "<matplotlib.legend.Legend at 0x7f207460b310>"
      ]
     },
     "execution_count": 176,
     "metadata": {},
     "output_type": "execute_result"
    },
    {
     "data": {
      "image/png": "[encoded data removed]",
      "text/plain": [
       "<Figure size 432x288 with 1 Axes>"
      ]
     },
     "metadata": {
      "needs_background": "light"
     },
     "output_type": "display_data"
    }
   ],
   "source": [
    "# Insert your code here to plot Epochs Vs. training and validation loss (2 points)\n",
    "plt.plot(epochs_list, training_loss)\n",
    "plt.plot(epochs_list, validation_loss)\n",
    "plt.xlabel(\"number of epochs\")\n",
    "plt.ylabel(\"loss value\")\n",
    "plt.legend([\"Train loss\", \"Validation loss\"])"
   ]
  },
  {
   "cell_type": "markdown",
   "metadata": {
    "id": "_rZFZj5v12rZ"
   },
   "source": [
    "Now build and summarize the Alpha model as per the best learning rate value determined earlier. \n",
    "\n",
    "---\n",
    "\n",
    "**1 Point**\n",
    "\n",
    "---\n",
    "\n",
    "\n"
   ]
  },
  {
   "cell_type": "code",
   "execution_count": 177,
   "metadata": {
    "id": "LRGLpkTv12rZ"
   },
   "outputs": [],
   "source": [
    "# Insert code for building model using the best LR for Alpha model determined\n",
    "alpha_m = Alpha_model(best_Alpha_lr)\n"
   ]
  },
  {
   "cell_type": "markdown",
   "metadata": {
    "id": "HXfq49v_12rZ"
   },
   "source": [
    "Now instantiate the four callbacks for Alpha model.\n",
    "\n",
    "---\n",
    "\n",
    "**2 Points**\n",
    "\n",
    "---"
   ]
  },
  {
   "cell_type": "code",
   "execution_count": 178,
   "metadata": {
    "id": "yuZS0prm12rZ"
   },
   "outputs": [],
   "source": [
    "# EarlyStopping after validation loss has not improved for 5 epochs \n",
    "es_a = tf.keras.callbacks.EarlyStopping('val_loss', patience=5)\n",
    "\n",
    "# ReduceLROnPlateau reducing LR by half when validation loss has not improved for 3 epochs. \n",
    "rLRP_a = tf.keras.callbacks.ReduceLROnPlateau('val_loss', factor=0.5, patience=3)\n",
    "\n",
    "# CSVlogger for keeping logs in filename of your choice\n",
    "csvL_a = tf.keras.callbacks.CSVLogger('alpha_log.csv')\n",
    "\n",
    "# ModelCheckpoint that saves the best weights of model after every 10 epochs\n",
    "mc_a = tf.keras.callbacks.ModelCheckpoint('/home/anshul/Downloads/Lab3a/WR-Dataset/checkpoint/alpha', save_freq=10)\n",
    "\n",
    "# Make a list of all the callbacks\n",
    "callback_list_a = [es_a, rLRP_a, csvL_a, mc_a]"
   ]
  },
  {
   "cell_type": "markdown",
   "metadata": {
    "id": "rP8ee7y712ra"
   },
   "source": [
    "Now train the model with training data using these callbacks.\n",
    "\n",
    "---\n",
    "\n",
    "**7 Points**\n",
    "\n",
    "---"
   ]
  },
  {
   "cell_type": "code",
   "execution_count": 179,
   "metadata": {
    "id": "VvPjVumg12ra"
   },
   "outputs": [
    {
     "name": "stdout",
     "output_type": "stream",
     "text": [
      "Epoch 1/30\n",
      "  9/257 [>.............................] - ETA: 9s - loss: 0.5952 - cosine_similarity: 0.1953INFO:tensorflow:Assets written to: /home/anshul/Downloads/Lab3a/WR-Dataset/checkpoint/alpha/assets\n",
      " 19/257 [=>............................] - ETA: 34s - loss: 0.4878 - cosine_similarity: 0.1895INFO:tensorflow:Assets written to: /home/anshul/Downloads/Lab3a/WR-Dataset/checkpoint/alpha/assets\n",
      " 29/257 [==>...........................] - ETA: 41s - loss: 0.4291 - cosine_similarity: 0.1900INFO:tensorflow:Assets written to: /home/anshul/Downloads/Lab3a/WR-Dataset/checkpoint/alpha/assets\n",
      " 39/257 [===>..........................] - ETA: 43s - loss: 0.3918 - cosine_similarity: 0.1940INFO:tensorflow:Assets written to: /home/anshul/Downloads/Lab3a/WR-Dataset/checkpoint/alpha/assets\n",
      " 49/257 [====>.........................] - ETA: 46s - loss: 0.3658 - cosine_similarity: 0.1983INFO:tensorflow:Assets written to: /home/anshul/Downloads/Lab3a/WR-Dataset/checkpoint/alpha/assets\n",
      " 59/257 [=====>........................] - ETA: 44s - loss: 0.3463 - cosine_similarity: 0.2025INFO:tensorflow:Assets written to: /home/anshul/Downloads/Lab3a/WR-Dataset/checkpoint/alpha/assets\n",
      " 69/257 [=======>......................] - ETA: 42s - loss: 0.3310 - cosine_similarity: 0.2062INFO:tensorflow:Assets written to: /home/anshul/Downloads/Lab3a/WR-Dataset/checkpoint/alpha/assets\n",
      " 79/257 [========>.....................] - ETA: 41s - loss: 0.3186 - cosine_similarity: 0.2098INFO:tensorflow:Assets written to: /home/anshul/Downloads/Lab3a/WR-Dataset/checkpoint/alpha/assets\n",
      " 89/257 [=========>....................] - ETA: 39s - loss: 0.3083 - cosine_similarity: 0.2130INFO:tensorflow:Assets written to: /home/anshul/Downloads/Lab3a/WR-Dataset/checkpoint/alpha/assets\n",
      " 99/257 [==========>...................] - ETA: 37s - loss: 0.2996 - cosine_similarity: 0.2157INFO:tensorflow:Assets written to: /home/anshul/Downloads/Lab3a/WR-Dataset/checkpoint/alpha/assets\n",
      "109/257 [===========>..................] - ETA: 35s - loss: 0.2922 - cosine_similarity: 0.2183INFO:tensorflow:Assets written to: /home/anshul/Downloads/Lab3a/WR-Dataset/checkpoint/alpha/assets\n",
      "119/257 [============>.................] - ETA: 32s - loss: 0.2857 - cosine_similarity: 0.2208INFO:tensorflow:Assets written to: /home/anshul/Downloads/Lab3a/WR-Dataset/checkpoint/alpha/assets\n",
      "129/257 [==============>...............] - ETA: 30s - loss: 0.2800 - cosine_similarity: 0.2229INFO:tensorflow:Assets written to: /home/anshul/Downloads/Lab3a/WR-Dataset/checkpoint/alpha/assets\n",
      "139/257 [===============>..............] - ETA: 28s - loss: 0.2749 - cosine_similarity: 0.2248INFO:tensorflow:Assets written to: /home/anshul/Downloads/Lab3a/WR-Dataset/checkpoint/alpha/assets\n",
      "149/257 [================>.............] - ETA: 26s - loss: 0.2703 - cosine_similarity: 0.2265INFO:tensorflow:Assets written to: /home/anshul/Downloads/Lab3a/WR-Dataset/checkpoint/alpha/assets\n",
      "159/257 [=================>............] - ETA: 23s - loss: 0.2662 - cosine_similarity: 0.2280INFO:tensorflow:Assets written to: /home/anshul/Downloads/Lab3a/WR-Dataset/checkpoint/alpha/assets\n",
      "169/257 [==================>...........] - ETA: 21s - loss: 0.2624 - cosine_similarity: 0.2294INFO:tensorflow:Assets written to: /home/anshul/Downloads/Lab3a/WR-Dataset/checkpoint/alpha/assets\n",
      "179/257 [===================>..........] - ETA: 19s - loss: 0.2590 - cosine_similarity: 0.2306INFO:tensorflow:Assets written to: /home/anshul/Downloads/Lab3a/WR-Dataset/checkpoint/alpha/assets\n",
      "189/257 [=====================>........] - ETA: 16s - loss: 0.2558 - cosine_similarity: 0.2318INFO:tensorflow:Assets written to: /home/anshul/Downloads/Lab3a/WR-Dataset/checkpoint/alpha/assets\n",
      "199/257 [======================>.......] - ETA: 14s - loss: 0.2530 - cosine_similarity: 0.2330INFO:tensorflow:Assets written to: /home/anshul/Downloads/Lab3a/WR-Dataset/checkpoint/alpha/assets\n",
      "209/257 [=======================>......] - ETA: 11s - loss: 0.2503 - cosine_similarity: 0.2341INFO:tensorflow:Assets written to: /home/anshul/Downloads/Lab3a/WR-Dataset/checkpoint/alpha/assets\n",
      "219/257 [========================>.....] - ETA: 9s - loss: 0.2478 - cosine_similarity: 0.2351 INFO:tensorflow:Assets written to: /home/anshul/Downloads/Lab3a/WR-Dataset/checkpoint/alpha/assets\n",
      "229/257 [=========================>....] - ETA: 7s - loss: 0.2455 - cosine_similarity: 0.2361INFO:tensorflow:Assets written to: /home/anshul/Downloads/Lab3a/WR-Dataset/checkpoint/alpha/assets\n",
      "239/257 [==========================>...] - ETA: 4s - loss: 0.2434 - cosine_similarity: 0.2371INFO:tensorflow:Assets written to: /home/anshul/Downloads/Lab3a/WR-Dataset/checkpoint/alpha/assets\n",
      "249/257 [============================>.] - ETA: 2s - loss: 0.2414 - cosine_similarity: 0.2380INFO:tensorflow:Assets written to: /home/anshul/Downloads/Lab3a/WR-Dataset/checkpoint/alpha/assets\n",
      "257/257 [==============================] - 66s 254ms/step - loss: 0.2396 - cosine_similarity: 0.2389 - val_loss: 0.1594 - val_cosine_similarity: 0.2965\n",
      "Epoch 2/30\n",
      "  3/257 [..............................] - ETA: 9s - loss: 0.1843 - cosine_similarity: 0.3068INFO:tensorflow:Assets written to: /home/anshul/Downloads/Lab3a/WR-Dataset/checkpoint/alpha/assets\n",
      " 12/257 [>.............................] - ETA: 1:08 - loss: 0.1762 - cosine_similarity: 0.2888INFO:tensorflow:Assets written to: /home/anshul/Downloads/Lab3a/WR-Dataset/checkpoint/alpha/assets\n",
      " 22/257 [=>............................] - ETA: 1:02 - loss: 0.1742 - cosine_similarity: 0.2845INFO:tensorflow:Assets written to: /home/anshul/Downloads/Lab3a/WR-Dataset/checkpoint/alpha/assets\n",
      " 32/257 [==>...........................] - ETA: 58s - loss: 0.1729 - cosine_similarity: 0.2828 INFO:tensorflow:Assets written to: /home/anshul/Downloads/Lab3a/WR-Dataset/checkpoint/alpha/assets\n",
      " 42/257 [===>..........................] - ETA: 54s - loss: 0.1719 - cosine_similarity: 0.2829INFO:tensorflow:Assets written to: /home/anshul/Downloads/Lab3a/WR-Dataset/checkpoint/alpha/assets\n",
      " 52/257 [=====>........................] - ETA: 51s - loss: 0.1715 - cosine_similarity: 0.2840INFO:tensorflow:Assets written to: /home/anshul/Downloads/Lab3a/WR-Dataset/checkpoint/alpha/assets\n",
      " 62/257 [======>.......................] - ETA: 50s - loss: 0.1715 - cosine_similarity: 0.2849INFO:tensorflow:Assets written to: /home/anshul/Downloads/Lab3a/WR-Dataset/checkpoint/alpha/assets\n",
      " 72/257 [=======>......................] - ETA: 47s - loss: 0.1716 - cosine_similarity: 0.2856INFO:tensorflow:Assets written to: /home/anshul/Downloads/Lab3a/WR-Dataset/checkpoint/alpha/assets\n",
      " 82/257 [========>.....................] - ETA: 44s - loss: 0.1716 - cosine_similarity: 0.2861INFO:tensorflow:Assets written to: /home/anshul/Downloads/Lab3a/WR-Dataset/checkpoint/alpha/assets\n",
      " 92/257 [=========>....................] - ETA: 42s - loss: 0.1716 - cosine_similarity: 0.2864INFO:tensorflow:Assets written to: /home/anshul/Downloads/Lab3a/WR-Dataset/checkpoint/alpha/assets\n",
      "102/257 [==========>...................] - ETA: 40s - loss: 0.1716 - cosine_similarity: 0.2867INFO:tensorflow:Assets written to: /home/anshul/Downloads/Lab3a/WR-Dataset/checkpoint/alpha/assets\n",
      "112/257 [============>.................] - ETA: 37s - loss: 0.1716 - cosine_similarity: 0.2870INFO:tensorflow:Assets written to: /home/anshul/Downloads/Lab3a/WR-Dataset/checkpoint/alpha/assets\n",
      "122/257 [=============>................] - ETA: 34s - loss: 0.1716 - cosine_similarity: 0.2872INFO:tensorflow:Assets written to: /home/anshul/Downloads/Lab3a/WR-Dataset/checkpoint/alpha/assets\n",
      "132/257 [==============>...............] - ETA: 32s - loss: 0.1716 - cosine_similarity: 0.2874INFO:tensorflow:Assets written to: /home/anshul/Downloads/Lab3a/WR-Dataset/checkpoint/alpha/assets\n",
      "142/257 [===============>..............] - ETA: 29s - loss: 0.1716 - cosine_similarity: 0.2876INFO:tensorflow:Assets written to: /home/anshul/Downloads/Lab3a/WR-Dataset/checkpoint/alpha/assets\n",
      "152/257 [================>.............] - ETA: 27s - loss: 0.1717 - cosine_similarity: 0.2877INFO:tensorflow:Assets written to: /home/anshul/Downloads/Lab3a/WR-Dataset/checkpoint/alpha/assets\n",
      "162/257 [=================>............] - ETA: 24s - loss: 0.1717 - cosine_similarity: 0.2879INFO:tensorflow:Assets written to: /home/anshul/Downloads/Lab3a/WR-Dataset/checkpoint/alpha/assets\n"
     ]
    },
    {
     "name": "stdout",
     "output_type": "stream",
     "text": [
      "172/257 [===================>..........] - ETA: 21s - loss: 0.1717 - cosine_similarity: 0.2881INFO:tensorflow:Assets written to: /home/anshul/Downloads/Lab3a/WR-Dataset/checkpoint/alpha/assets\n",
      "182/257 [====================>.........] - ETA: 19s - loss: 0.1717 - cosine_similarity: 0.2882INFO:tensorflow:Assets written to: /home/anshul/Downloads/Lab3a/WR-Dataset/checkpoint/alpha/assets\n",
      "192/257 [=====================>........] - ETA: 16s - loss: 0.1717 - cosine_similarity: 0.2883INFO:tensorflow:Assets written to: /home/anshul/Downloads/Lab3a/WR-Dataset/checkpoint/alpha/assets\n",
      "202/257 [======================>.......] - ETA: 14s - loss: 0.1717 - cosine_similarity: 0.2884INFO:tensorflow:Assets written to: /home/anshul/Downloads/Lab3a/WR-Dataset/checkpoint/alpha/assets\n",
      "212/257 [=======================>......] - ETA: 11s - loss: 0.1717 - cosine_similarity: 0.2885INFO:tensorflow:Assets written to: /home/anshul/Downloads/Lab3a/WR-Dataset/checkpoint/alpha/assets\n",
      "222/257 [========================>.....] - ETA: 8s - loss: 0.1716 - cosine_similarity: 0.2886INFO:tensorflow:Assets written to: /home/anshul/Downloads/Lab3a/WR-Dataset/checkpoint/alpha/assets\n",
      "232/257 [==========================>...] - ETA: 6s - loss: 0.1716 - cosine_similarity: 0.2887INFO:tensorflow:Assets written to: /home/anshul/Downloads/Lab3a/WR-Dataset/checkpoint/alpha/assets\n",
      "242/257 [===========================>..] - ETA: 3s - loss: 0.1716 - cosine_similarity: 0.2888INFO:tensorflow:Assets written to: /home/anshul/Downloads/Lab3a/WR-Dataset/checkpoint/alpha/assets\n",
      "252/257 [============================>.] - ETA: 1s - loss: 0.1715 - cosine_similarity: 0.2889INFO:tensorflow:Assets written to: /home/anshul/Downloads/Lab3a/WR-Dataset/checkpoint/alpha/assets\n",
      "257/257 [==============================] - 67s 262ms/step - loss: 0.1715 - cosine_similarity: 0.2890 - val_loss: 0.1591 - val_cosine_similarity: 0.2958\n",
      "Epoch 3/30\n",
      "  5/257 [..............................] - ETA: 9s - loss: 0.1786 - cosine_similarity: 0.3159INFO:tensorflow:Assets written to: /home/anshul/Downloads/Lab3a/WR-Dataset/checkpoint/alpha/assets\n",
      " 15/257 [>.............................] - ETA: 42s - loss: 0.1753 - cosine_similarity: 0.3029INFO:tensorflow:Assets written to: /home/anshul/Downloads/Lab3a/WR-Dataset/checkpoint/alpha/assets\n",
      " 25/257 [=>............................] - ETA: 51s - loss: 0.1736 - cosine_similarity: 0.3001INFO:tensorflow:Assets written to: /home/anshul/Downloads/Lab3a/WR-Dataset/checkpoint/alpha/assets\n",
      " 35/257 [===>..........................] - ETA: 50s - loss: 0.1733 - cosine_similarity: 0.3002INFO:tensorflow:Assets written to: /home/anshul/Downloads/Lab3a/WR-Dataset/checkpoint/alpha/assets\n",
      " 45/257 [====>.........................] - ETA: 48s - loss: 0.1732 - cosine_similarity: 0.3005INFO:tensorflow:Assets written to: /home/anshul/Downloads/Lab3a/WR-Dataset/checkpoint/alpha/assets\n",
      " 55/257 [=====>........................] - ETA: 46s - loss: 0.1730 - cosine_similarity: 0.3005INFO:tensorflow:Assets written to: /home/anshul/Downloads/Lab3a/WR-Dataset/checkpoint/alpha/assets\n",
      " 65/257 [======>.......................] - ETA: 44s - loss: 0.1728 - cosine_similarity: 0.3004INFO:tensorflow:Assets written to: /home/anshul/Downloads/Lab3a/WR-Dataset/checkpoint/alpha/assets\n",
      " 75/257 [=======>......................] - ETA: 43s - loss: 0.1725 - cosine_similarity: 0.3003INFO:tensorflow:Assets written to: /home/anshul/Downloads/Lab3a/WR-Dataset/checkpoint/alpha/assets\n",
      " 85/257 [========>.....................] - ETA: 41s - loss: 0.1721 - cosine_similarity: 0.3002INFO:tensorflow:Assets written to: /home/anshul/Downloads/Lab3a/WR-Dataset/checkpoint/alpha/assets\n",
      " 95/257 [==========>...................] - ETA: 39s - loss: 0.1718 - cosine_similarity: 0.3000INFO:tensorflow:Assets written to: /home/anshul/Downloads/Lab3a/WR-Dataset/checkpoint/alpha/assets\n",
      "105/257 [===========>..................] - ETA: 36s - loss: 0.1716 - cosine_similarity: 0.2999INFO:tensorflow:Assets written to: /home/anshul/Downloads/Lab3a/WR-Dataset/checkpoint/alpha/assets\n",
      "115/257 [============>.................] - ETA: 35s - loss: 0.1714 - cosine_similarity: 0.2998INFO:tensorflow:Assets written to: /home/anshul/Downloads/Lab3a/WR-Dataset/checkpoint/alpha/assets\n",
      "125/257 [=============>................] - ETA: 32s - loss: 0.1712 - cosine_similarity: 0.2997INFO:tensorflow:Assets written to: /home/anshul/Downloads/Lab3a/WR-Dataset/checkpoint/alpha/assets\n",
      "135/257 [==============>...............] - ETA: 30s - loss: 0.1711 - cosine_similarity: 0.2996INFO:tensorflow:Assets written to: /home/anshul/Downloads/Lab3a/WR-Dataset/checkpoint/alpha/assets\n",
      "145/257 [===============>..............] - ETA: 27s - loss: 0.1710 - cosine_similarity: 0.2994INFO:tensorflow:Assets written to: /home/anshul/Downloads/Lab3a/WR-Dataset/checkpoint/alpha/assets\n",
      "155/257 [=================>............] - ETA: 25s - loss: 0.1709 - cosine_similarity: 0.2992INFO:tensorflow:Assets written to: /home/anshul/Downloads/Lab3a/WR-Dataset/checkpoint/alpha/assets\n",
      "165/257 [==================>...........] - ETA: 22s - loss: 0.1708 - cosine_similarity: 0.2991INFO:tensorflow:Assets written to: /home/anshul/Downloads/Lab3a/WR-Dataset/checkpoint/alpha/assets\n",
      "175/257 [===================>..........] - ETA: 20s - loss: 0.1707 - cosine_similarity: 0.2991INFO:tensorflow:Assets written to: /home/anshul/Downloads/Lab3a/WR-Dataset/checkpoint/alpha/assets\n",
      "185/257 [====================>.........] - ETA: 17s - loss: 0.1706 - cosine_similarity: 0.2991INFO:tensorflow:Assets written to: /home/anshul/Downloads/Lab3a/WR-Dataset/checkpoint/alpha/assets\n",
      "195/257 [=====================>........] - ETA: 15s - loss: 0.1705 - cosine_similarity: 0.2990INFO:tensorflow:Assets written to: /home/anshul/Downloads/Lab3a/WR-Dataset/checkpoint/alpha/assets\n",
      "205/257 [======================>.......] - ETA: 12s - loss: 0.1704 - cosine_similarity: 0.2990INFO:tensorflow:Assets written to: /home/anshul/Downloads/Lab3a/WR-Dataset/checkpoint/alpha/assets\n",
      "215/257 [========================>.....] - ETA: 10s - loss: 0.1703 - cosine_similarity: 0.2990INFO:tensorflow:Assets written to: /home/anshul/Downloads/Lab3a/WR-Dataset/checkpoint/alpha/assets\n",
      "225/257 [=========================>....] - ETA: 7s - loss: 0.1703 - cosine_similarity: 0.2989INFO:tensorflow:Assets written to: /home/anshul/Downloads/Lab3a/WR-Dataset/checkpoint/alpha/assets\n",
      "235/257 [==========================>...] - ETA: 5s - loss: 0.1703 - cosine_similarity: 0.2989INFO:tensorflow:Assets written to: /home/anshul/Downloads/Lab3a/WR-Dataset/checkpoint/alpha/assets\n",
      "245/257 [===========================>..] - ETA: 2s - loss: 0.1702 - cosine_similarity: 0.2989INFO:tensorflow:Assets written to: /home/anshul/Downloads/Lab3a/WR-Dataset/checkpoint/alpha/assets\n",
      "255/257 [============================>.] - ETA: 0s - loss: 0.1702 - cosine_similarity: 0.2989INFO:tensorflow:Assets written to: /home/anshul/Downloads/Lab3a/WR-Dataset/checkpoint/alpha/assets\n",
      "257/257 [==============================] - 65s 254ms/step - loss: 0.1702 - cosine_similarity: 0.2989 - val_loss: 0.1600 - val_cosine_similarity: 0.2915\n",
      "Epoch 4/30\n",
      "  9/257 [>.............................] - ETA: 9s - loss: 0.1613 - cosine_similarity: 0.3015INFO:tensorflow:Assets written to: /home/anshul/Downloads/Lab3a/WR-Dataset/checkpoint/alpha/assets\n",
      " 18/257 [=>............................] - ETA: 37s - loss: 0.1642 - cosine_similarity: 0.3006INFO:tensorflow:Assets written to: /home/anshul/Downloads/Lab3a/WR-Dataset/checkpoint/alpha/assets\n",
      " 28/257 [==>...........................] - ETA: 43s - loss: 0.1679 - cosine_similarity: 0.3032INFO:tensorflow:Assets written to: /home/anshul/Downloads/Lab3a/WR-Dataset/checkpoint/alpha/assets\n",
      " 38/257 [===>..........................] - ETA: 47s - loss: 0.1693 - cosine_similarity: 0.3047INFO:tensorflow:Assets written to: /home/anshul/Downloads/Lab3a/WR-Dataset/checkpoint/alpha/assets\n",
      " 48/257 [====>.........................] - ETA: 45s - loss: 0.1698 - cosine_similarity: 0.3053INFO:tensorflow:Assets written to: /home/anshul/Downloads/Lab3a/WR-Dataset/checkpoint/alpha/assets\n",
      " 58/257 [=====>........................] - ETA: 44s - loss: 0.1702 - cosine_similarity: 0.3052INFO:tensorflow:Assets written to: /home/anshul/Downloads/Lab3a/WR-Dataset/checkpoint/alpha/assets\n"
     ]
    },
    {
     "name": "stdout",
     "output_type": "stream",
     "text": [
      " 68/257 [======>.......................] - ETA: 42s - loss: 0.1704 - cosine_similarity: 0.3047INFO:tensorflow:Assets written to: /home/anshul/Downloads/Lab3a/WR-Dataset/checkpoint/alpha/assets\n",
      " 78/257 [========>.....................] - ETA: 40s - loss: 0.1704 - cosine_similarity: 0.3042INFO:tensorflow:Assets written to: /home/anshul/Downloads/Lab3a/WR-Dataset/checkpoint/alpha/assets\n",
      " 88/257 [=========>....................] - ETA: 39s - loss: 0.1704 - cosine_similarity: 0.3037INFO:tensorflow:Assets written to: /home/anshul/Downloads/Lab3a/WR-Dataset/checkpoint/alpha/assets\n",
      " 98/257 [==========>...................] - ETA: 36s - loss: 0.1704 - cosine_similarity: 0.3033INFO:tensorflow:Assets written to: /home/anshul/Downloads/Lab3a/WR-Dataset/checkpoint/alpha/assets\n",
      "108/257 [===========>..................] - ETA: 34s - loss: 0.1704 - cosine_similarity: 0.3029INFO:tensorflow:Assets written to: /home/anshul/Downloads/Lab3a/WR-Dataset/checkpoint/alpha/assets\n",
      "118/257 [============>.................] - ETA: 32s - loss: 0.1704 - cosine_similarity: 0.3026INFO:tensorflow:Assets written to: /home/anshul/Downloads/Lab3a/WR-Dataset/checkpoint/alpha/assets\n",
      "128/257 [=============>................] - ETA: 30s - loss: 0.1704 - cosine_similarity: 0.3025INFO:tensorflow:Assets written to: /home/anshul/Downloads/Lab3a/WR-Dataset/checkpoint/alpha/assets\n",
      "138/257 [===============>..............] - ETA: 28s - loss: 0.1703 - cosine_similarity: 0.3023INFO:tensorflow:Assets written to: /home/anshul/Downloads/Lab3a/WR-Dataset/checkpoint/alpha/assets\n",
      "148/257 [================>.............] - ETA: 25s - loss: 0.1703 - cosine_similarity: 0.3020INFO:tensorflow:Assets written to: /home/anshul/Downloads/Lab3a/WR-Dataset/checkpoint/alpha/assets\n",
      "158/257 [=================>............] - ETA: 23s - loss: 0.1702 - cosine_similarity: 0.3017INFO:tensorflow:Assets written to: /home/anshul/Downloads/Lab3a/WR-Dataset/checkpoint/alpha/assets\n",
      "168/257 [==================>...........] - ETA: 21s - loss: 0.1702 - cosine_similarity: 0.3016INFO:tensorflow:Assets written to: /home/anshul/Downloads/Lab3a/WR-Dataset/checkpoint/alpha/assets\n",
      "178/257 [===================>..........] - ETA: 18s - loss: 0.1702 - cosine_similarity: 0.3014INFO:tensorflow:Assets written to: /home/anshul/Downloads/Lab3a/WR-Dataset/checkpoint/alpha/assets\n",
      "188/257 [====================>.........] - ETA: 16s - loss: 0.1702 - cosine_similarity: 0.3013INFO:tensorflow:Assets written to: /home/anshul/Downloads/Lab3a/WR-Dataset/checkpoint/alpha/assets\n",
      "198/257 [======================>.......] - ETA: 14s - loss: 0.1701 - cosine_similarity: 0.3011INFO:tensorflow:Assets written to: /home/anshul/Downloads/Lab3a/WR-Dataset/checkpoint/alpha/assets\n",
      "208/257 [=======================>......] - ETA: 11s - loss: 0.1701 - cosine_similarity: 0.3011INFO:tensorflow:Assets written to: /home/anshul/Downloads/Lab3a/WR-Dataset/checkpoint/alpha/assets\n",
      "218/257 [========================>.....] - ETA: 9s - loss: 0.1700 - cosine_similarity: 0.3010INFO:tensorflow:Assets written to: /home/anshul/Downloads/Lab3a/WR-Dataset/checkpoint/alpha/assets\n",
      "228/257 [=========================>....] - ETA: 6s - loss: 0.1699 - cosine_similarity: 0.3010INFO:tensorflow:Assets written to: /home/anshul/Downloads/Lab3a/WR-Dataset/checkpoint/alpha/assets\n",
      "238/257 [==========================>...] - ETA: 4s - loss: 0.1699 - cosine_similarity: 0.3009INFO:tensorflow:Assets written to: /home/anshul/Downloads/Lab3a/WR-Dataset/checkpoint/alpha/assets\n",
      "248/257 [===========================>..] - ETA: 2s - loss: 0.1698 - cosine_similarity: 0.3009INFO:tensorflow:Assets written to: /home/anshul/Downloads/Lab3a/WR-Dataset/checkpoint/alpha/assets\n",
      "257/257 [==============================] - 62s 244ms/step - loss: 0.1698 - cosine_similarity: 0.3009 - val_loss: 0.1587 - val_cosine_similarity: 0.2933\n",
      "Epoch 5/30\n",
      "  1/257 [..............................] - ETA: 9s - loss: 0.1614 - cosine_similarity: 0.2577INFO:tensorflow:Assets written to: /home/anshul/Downloads/Lab3a/WR-Dataset/checkpoint/alpha/assets\n",
      " 11/257 [>.............................] - ETA: 56s - loss: 0.1620 - cosine_similarity: 0.2742 INFO:tensorflow:Assets written to: /home/anshul/Downloads/Lab3a/WR-Dataset/checkpoint/alpha/assets\n",
      " 21/257 [=>............................] - ETA: 55s - loss: 0.1647 - cosine_similarity: 0.2798 INFO:tensorflow:Assets written to: /home/anshul/Downloads/Lab3a/WR-Dataset/checkpoint/alpha/assets\n",
      " 31/257 [==>...........................] - ETA: 52s - loss: 0.1668 - cosine_similarity: 0.2851INFO:tensorflow:Assets written to: /home/anshul/Downloads/Lab3a/WR-Dataset/checkpoint/alpha/assets\n",
      " 41/257 [===>..........................] - ETA: 50s - loss: 0.1678 - cosine_similarity: 0.2889INFO:tensorflow:Assets written to: /home/anshul/Downloads/Lab3a/WR-Dataset/checkpoint/alpha/assets\n",
      " 51/257 [====>.........................] - ETA: 50s - loss: 0.1681 - cosine_similarity: 0.2917INFO:tensorflow:Assets written to: /home/anshul/Downloads/Lab3a/WR-Dataset/checkpoint/alpha/assets\n",
      " 61/257 [======>.......................] - ETA: 47s - loss: 0.1683 - cosine_similarity: 0.2939INFO:tensorflow:Assets written to: /home/anshul/Downloads/Lab3a/WR-Dataset/checkpoint/alpha/assets\n",
      " 71/257 [=======>......................] - ETA: 44s - loss: 0.1681 - cosine_similarity: 0.2950INFO:tensorflow:Assets written to: /home/anshul/Downloads/Lab3a/WR-Dataset/checkpoint/alpha/assets\n",
      " 81/257 [========>.....................] - ETA: 41s - loss: 0.1679 - cosine_similarity: 0.2960INFO:tensorflow:Assets written to: /home/anshul/Downloads/Lab3a/WR-Dataset/checkpoint/alpha/assets\n",
      " 91/257 [=========>....................] - ETA: 40s - loss: 0.1677 - cosine_similarity: 0.2965INFO:tensorflow:Assets written to: /home/anshul/Downloads/Lab3a/WR-Dataset/checkpoint/alpha/assets\n",
      "101/257 [==========>...................] - ETA: 37s - loss: 0.1676 - cosine_similarity: 0.2969INFO:tensorflow:Assets written to: /home/anshul/Downloads/Lab3a/WR-Dataset/checkpoint/alpha/assets\n",
      "111/257 [===========>..................] - ETA: 35s - loss: 0.1676 - cosine_similarity: 0.2973INFO:tensorflow:Assets written to: /home/anshul/Downloads/Lab3a/WR-Dataset/checkpoint/alpha/assets\n",
      "121/257 [=============>................] - ETA: 32s - loss: 0.1675 - cosine_similarity: 0.2977INFO:tensorflow:Assets written to: /home/anshul/Downloads/Lab3a/WR-Dataset/checkpoint/alpha/assets\n",
      "131/257 [==============>...............] - ETA: 30s - loss: 0.1674 - cosine_similarity: 0.2980INFO:tensorflow:Assets written to: /home/anshul/Downloads/Lab3a/WR-Dataset/checkpoint/alpha/assets\n",
      "141/257 [===============>..............] - ETA: 28s - loss: 0.1674 - cosine_similarity: 0.2982INFO:tensorflow:Assets written to: /home/anshul/Downloads/Lab3a/WR-Dataset/checkpoint/alpha/assets\n",
      "151/257 [================>.............] - ETA: 25s - loss: 0.1673 - cosine_similarity: 0.2984INFO:tensorflow:Assets written to: /home/anshul/Downloads/Lab3a/WR-Dataset/checkpoint/alpha/assets\n",
      "161/257 [=================>............] - ETA: 23s - loss: 0.1672 - cosine_similarity: 0.2985INFO:tensorflow:Assets written to: /home/anshul/Downloads/Lab3a/WR-Dataset/checkpoint/alpha/assets\n",
      "171/257 [==================>...........] - ETA: 20s - loss: 0.1671 - cosine_similarity: 0.2986INFO:tensorflow:Assets written to: /home/anshul/Downloads/Lab3a/WR-Dataset/checkpoint/alpha/assets\n",
      "181/257 [====================>.........] - ETA: 18s - loss: 0.1671 - cosine_similarity: 0.2987INFO:tensorflow:Assets written to: /home/anshul/Downloads/Lab3a/WR-Dataset/checkpoint/alpha/assets\n",
      "191/257 [=====================>........] - ETA: 16s - loss: 0.1670 - cosine_similarity: 0.2988INFO:tensorflow:Assets written to: /home/anshul/Downloads/Lab3a/WR-Dataset/checkpoint/alpha/assets\n",
      "201/257 [======================>.......] - ETA: 13s - loss: 0.1670 - cosine_similarity: 0.2989INFO:tensorflow:Assets written to: /home/anshul/Downloads/Lab3a/WR-Dataset/checkpoint/alpha/assets\n",
      "211/257 [=======================>......] - ETA: 11s - loss: 0.1669 - cosine_similarity: 0.2990INFO:tensorflow:Assets written to: /home/anshul/Downloads/Lab3a/WR-Dataset/checkpoint/alpha/assets\n",
      "221/257 [========================>.....] - ETA: 8s - loss: 0.1669 - cosine_similarity: 0.2991INFO:tensorflow:Assets written to: /home/anshul/Downloads/Lab3a/WR-Dataset/checkpoint/alpha/assets\n"
     ]
    },
    {
     "name": "stdout",
     "output_type": "stream",
     "text": [
      "231/257 [=========================>....] - ETA: 6s - loss: 0.1669 - cosine_similarity: 0.2992INFO:tensorflow:Assets written to: /home/anshul/Downloads/Lab3a/WR-Dataset/checkpoint/alpha/assets\n",
      "241/257 [===========================>..] - ETA: 3s - loss: 0.1669 - cosine_similarity: 0.2994INFO:tensorflow:Assets written to: /home/anshul/Downloads/Lab3a/WR-Dataset/checkpoint/alpha/assets\n",
      "251/257 [============================>.] - ETA: 1s - loss: 0.1669 - cosine_similarity: 0.2995INFO:tensorflow:Assets written to: /home/anshul/Downloads/Lab3a/WR-Dataset/checkpoint/alpha/assets\n",
      "257/257 [==============================] - 64s 250ms/step - loss: 0.1669 - cosine_similarity: 0.2996 - val_loss: 0.1594 - val_cosine_similarity: 0.2881\n",
      "Epoch 6/30\n",
      "  5/257 [..............................] - ETA: 9s - loss: 0.1449 - cosine_similarity: 0.2558INFO:tensorflow:Assets written to: /home/anshul/Downloads/Lab3a/WR-Dataset/checkpoint/alpha/assets\n",
      " 14/257 [>.............................] - ETA: 56s - loss: 0.1537 - cosine_similarity: 0.2759 INFO:tensorflow:Assets written to: /home/anshul/Downloads/Lab3a/WR-Dataset/checkpoint/alpha/assets\n",
      " 24/257 [=>............................] - ETA: 54s - loss: 0.1593 - cosine_similarity: 0.2873INFO:tensorflow:Assets written to: /home/anshul/Downloads/Lab3a/WR-Dataset/checkpoint/alpha/assets\n",
      " 34/257 [==>...........................] - ETA: 51s - loss: 0.1623 - cosine_similarity: 0.2922INFO:tensorflow:Assets written to: /home/anshul/Downloads/Lab3a/WR-Dataset/checkpoint/alpha/assets\n",
      " 44/257 [====>.........................] - ETA: 49s - loss: 0.1637 - cosine_similarity: 0.2953INFO:tensorflow:Assets written to: /home/anshul/Downloads/Lab3a/WR-Dataset/checkpoint/alpha/assets\n",
      " 54/257 [=====>........................] - ETA: 49s - loss: 0.1645 - cosine_similarity: 0.2972INFO:tensorflow:Assets written to: /home/anshul/Downloads/Lab3a/WR-Dataset/checkpoint/alpha/assets\n",
      " 64/257 [======>.......................] - ETA: 46s - loss: 0.1649 - cosine_similarity: 0.2987INFO:tensorflow:Assets written to: /home/anshul/Downloads/Lab3a/WR-Dataset/checkpoint/alpha/assets\n",
      " 74/257 [=======>......................] - ETA: 44s - loss: 0.1653 - cosine_similarity: 0.2997INFO:tensorflow:Assets written to: /home/anshul/Downloads/Lab3a/WR-Dataset/checkpoint/alpha/assets\n",
      " 84/257 [========>.....................] - ETA: 41s - loss: 0.1656 - cosine_similarity: 0.3006INFO:tensorflow:Assets written to: /home/anshul/Downloads/Lab3a/WR-Dataset/checkpoint/alpha/assets\n",
      " 94/257 [=========>....................] - ETA: 39s - loss: 0.1659 - cosine_similarity: 0.3014INFO:tensorflow:Assets written to: /home/anshul/Downloads/Lab3a/WR-Dataset/checkpoint/alpha/assets\n",
      "104/257 [===========>..................] - ETA: 37s - loss: 0.1661 - cosine_similarity: 0.3020INFO:tensorflow:Assets written to: /home/anshul/Downloads/Lab3a/WR-Dataset/checkpoint/alpha/assets\n",
      "114/257 [============>.................] - ETA: 35s - loss: 0.1662 - cosine_similarity: 0.3024INFO:tensorflow:Assets written to: /home/anshul/Downloads/Lab3a/WR-Dataset/checkpoint/alpha/assets\n",
      "124/257 [=============>................] - ETA: 32s - loss: 0.1662 - cosine_similarity: 0.3027INFO:tensorflow:Assets written to: /home/anshul/Downloads/Lab3a/WR-Dataset/checkpoint/alpha/assets\n",
      "134/257 [==============>...............] - ETA: 30s - loss: 0.1663 - cosine_similarity: 0.3031INFO:tensorflow:Assets written to: /home/anshul/Downloads/Lab3a/WR-Dataset/checkpoint/alpha/assets\n",
      "144/257 [===============>..............] - ETA: 28s - loss: 0.1663 - cosine_similarity: 0.3034INFO:tensorflow:Assets written to: /home/anshul/Downloads/Lab3a/WR-Dataset/checkpoint/alpha/assets\n",
      "154/257 [================>.............] - ETA: 25s - loss: 0.1664 - cosine_similarity: 0.3038INFO:tensorflow:Assets written to: /home/anshul/Downloads/Lab3a/WR-Dataset/checkpoint/alpha/assets\n",
      "164/257 [==================>...........] - ETA: 23s - loss: 0.1664 - cosine_similarity: 0.3040INFO:tensorflow:Assets written to: /home/anshul/Downloads/Lab3a/WR-Dataset/checkpoint/alpha/assets\n",
      "174/257 [===================>..........] - ETA: 20s - loss: 0.1665 - cosine_similarity: 0.3042INFO:tensorflow:Assets written to: /home/anshul/Downloads/Lab3a/WR-Dataset/checkpoint/alpha/assets\n",
      "184/257 [====================>.........] - ETA: 18s - loss: 0.1666 - cosine_similarity: 0.3043INFO:tensorflow:Assets written to: /home/anshul/Downloads/Lab3a/WR-Dataset/checkpoint/alpha/assets\n",
      "194/257 [=====================>........] - ETA: 15s - loss: 0.1666 - cosine_similarity: 0.3044INFO:tensorflow:Assets written to: /home/anshul/Downloads/Lab3a/WR-Dataset/checkpoint/alpha/assets\n",
      "204/257 [======================>.......] - ETA: 13s - loss: 0.1666 - cosine_similarity: 0.3045INFO:tensorflow:Assets written to: /home/anshul/Downloads/Lab3a/WR-Dataset/checkpoint/alpha/assets\n",
      "214/257 [=======================>......] - ETA: 10s - loss: 0.1666 - cosine_similarity: 0.3046INFO:tensorflow:Assets written to: /home/anshul/Downloads/Lab3a/WR-Dataset/checkpoint/alpha/assets\n",
      "224/257 [=========================>....] - ETA: 8s - loss: 0.1667 - cosine_similarity: 0.3047INFO:tensorflow:Assets written to: /home/anshul/Downloads/Lab3a/WR-Dataset/checkpoint/alpha/assets\n",
      "234/257 [==========================>...] - ETA: 5s - loss: 0.1667 - cosine_similarity: 0.3048INFO:tensorflow:Assets written to: /home/anshul/Downloads/Lab3a/WR-Dataset/checkpoint/alpha/assets\n",
      "244/257 [===========================>..] - ETA: 3s - loss: 0.1667 - cosine_similarity: 0.3048INFO:tensorflow:Assets written to: /home/anshul/Downloads/Lab3a/WR-Dataset/checkpoint/alpha/assets\n",
      "254/257 [============================>.] - ETA: 0s - loss: 0.1666 - cosine_similarity: 0.3048INFO:tensorflow:Assets written to: /home/anshul/Downloads/Lab3a/WR-Dataset/checkpoint/alpha/assets\n",
      "257/257 [==============================] - 66s 258ms/step - loss: 0.1666 - cosine_similarity: 0.3048 - val_loss: 0.1584 - val_cosine_similarity: 0.2986\n",
      "Epoch 7/30\n",
      "  7/257 [..............................] - ETA: 9s - loss: 0.1800 - cosine_similarity: 0.3145INFO:tensorflow:Assets written to: /home/anshul/Downloads/Lab3a/WR-Dataset/checkpoint/alpha/assets\n",
      " 17/257 [>.............................] - ETA: 41s - loss: 0.1733 - cosine_similarity: 0.3146INFO:tensorflow:Assets written to: /home/anshul/Downloads/Lab3a/WR-Dataset/checkpoint/alpha/assets\n",
      " 27/257 [==>...........................] - ETA: 51s - loss: 0.1708 - cosine_similarity: 0.3159INFO:tensorflow:Assets written to: /home/anshul/Downloads/Lab3a/WR-Dataset/checkpoint/alpha/assets\n",
      " 37/257 [===>..........................] - ETA: 50s - loss: 0.1696 - cosine_similarity: 0.3172INFO:tensorflow:Assets written to: /home/anshul/Downloads/Lab3a/WR-Dataset/checkpoint/alpha/assets\n",
      " 47/257 [====>.........................] - ETA: 48s - loss: 0.1691 - cosine_similarity: 0.3178INFO:tensorflow:Assets written to: /home/anshul/Downloads/Lab3a/WR-Dataset/checkpoint/alpha/assets\n",
      " 57/257 [=====>........................] - ETA: 45s - loss: 0.1689 - cosine_similarity: 0.3178INFO:tensorflow:Assets written to: /home/anshul/Downloads/Lab3a/WR-Dataset/checkpoint/alpha/assets\n",
      " 67/257 [======>.......................] - ETA: 43s - loss: 0.1687 - cosine_similarity: 0.3177INFO:tensorflow:Assets written to: /home/anshul/Downloads/Lab3a/WR-Dataset/checkpoint/alpha/assets\n",
      " 77/257 [=======>......................] - ETA: 42s - loss: 0.1687 - cosine_similarity: 0.3174INFO:tensorflow:Assets written to: /home/anshul/Downloads/Lab3a/WR-Dataset/checkpoint/alpha/assets\n",
      " 87/257 [=========>....................] - ETA: 40s - loss: 0.1687 - cosine_similarity: 0.3172INFO:tensorflow:Assets written to: /home/anshul/Downloads/Lab3a/WR-Dataset/checkpoint/alpha/assets\n",
      " 97/257 [==========>...................] - ETA: 38s - loss: 0.1686 - cosine_similarity: 0.3169INFO:tensorflow:Assets written to: /home/anshul/Downloads/Lab3a/WR-Dataset/checkpoint/alpha/assets\n",
      "107/257 [===========>..................] - ETA: 35s - loss: 0.1684 - cosine_similarity: 0.3164INFO:tensorflow:Assets written to: /home/anshul/Downloads/Lab3a/WR-Dataset/checkpoint/alpha/assets\n",
      "117/257 [============>.................] - ETA: 33s - loss: 0.1683 - cosine_similarity: 0.3158INFO:tensorflow:Assets written to: /home/anshul/Downloads/Lab3a/WR-Dataset/checkpoint/alpha/assets\n"
     ]
    },
    {
     "name": "stdout",
     "output_type": "stream",
     "text": [
      "127/257 [=============>................] - ETA: 31s - loss: 0.1682 - cosine_similarity: 0.3153INFO:tensorflow:Assets written to: /home/anshul/Downloads/Lab3a/WR-Dataset/checkpoint/alpha/assets\n",
      "137/257 [==============>...............] - ETA: 28s - loss: 0.1680 - cosine_similarity: 0.3149INFO:tensorflow:Assets written to: /home/anshul/Downloads/Lab3a/WR-Dataset/checkpoint/alpha/assets\n",
      "147/257 [================>.............] - ETA: 26s - loss: 0.1679 - cosine_similarity: 0.3145INFO:tensorflow:Assets written to: /home/anshul/Downloads/Lab3a/WR-Dataset/checkpoint/alpha/assets\n",
      "157/257 [=================>............] - ETA: 24s - loss: 0.1678 - cosine_similarity: 0.3140INFO:tensorflow:Assets written to: /home/anshul/Downloads/Lab3a/WR-Dataset/checkpoint/alpha/assets\n",
      "167/257 [==================>...........] - ETA: 21s - loss: 0.1677 - cosine_similarity: 0.3137INFO:tensorflow:Assets written to: /home/anshul/Downloads/Lab3a/WR-Dataset/checkpoint/alpha/assets\n",
      "177/257 [===================>..........] - ETA: 19s - loss: 0.1677 - cosine_similarity: 0.3133INFO:tensorflow:Assets written to: /home/anshul/Downloads/Lab3a/WR-Dataset/checkpoint/alpha/assets\n",
      "187/257 [====================>.........] - ETA: 16s - loss: 0.1676 - cosine_similarity: 0.3130INFO:tensorflow:Assets written to: /home/anshul/Downloads/Lab3a/WR-Dataset/checkpoint/alpha/assets\n",
      "197/257 [=====================>........] - ETA: 14s - loss: 0.1675 - cosine_similarity: 0.3127INFO:tensorflow:Assets written to: /home/anshul/Downloads/Lab3a/WR-Dataset/checkpoint/alpha/assets\n",
      "207/257 [=======================>......] - ETA: 12s - loss: 0.1675 - cosine_similarity: 0.3123INFO:tensorflow:Assets written to: /home/anshul/Downloads/Lab3a/WR-Dataset/checkpoint/alpha/assets\n",
      "217/257 [========================>.....] - ETA: 9s - loss: 0.1674 - cosine_similarity: 0.3121 INFO:tensorflow:Assets written to: /home/anshul/Downloads/Lab3a/WR-Dataset/checkpoint/alpha/assets\n",
      "227/257 [=========================>....] - ETA: 7s - loss: 0.1674 - cosine_similarity: 0.3118INFO:tensorflow:Assets written to: /home/anshul/Downloads/Lab3a/WR-Dataset/checkpoint/alpha/assets\n",
      "237/257 [==========================>...] - ETA: 4s - loss: 0.1673 - cosine_similarity: 0.3116INFO:tensorflow:Assets written to: /home/anshul/Downloads/Lab3a/WR-Dataset/checkpoint/alpha/assets\n",
      "247/257 [===========================>..] - ETA: 2s - loss: 0.1673 - cosine_similarity: 0.3114INFO:tensorflow:Assets written to: /home/anshul/Downloads/Lab3a/WR-Dataset/checkpoint/alpha/assets\n",
      "257/257 [==============================] - 63s 246ms/step - loss: 0.1673 - cosine_similarity: 0.3113 - val_loss: 0.1581 - val_cosine_similarity: 0.2972\n",
      "Epoch 8/30\n",
      "  1/257 [..............................] - ETA: 9s - loss: 0.1482 - cosine_similarity: 0.3329INFO:tensorflow:Assets written to: /home/anshul/Downloads/Lab3a/WR-Dataset/checkpoint/alpha/assets\n",
      " 10/257 [>.............................] - ETA: 1:03 - loss: 0.1562 - cosine_similarity: 0.3279INFO:tensorflow:Assets written to: /home/anshul/Downloads/Lab3a/WR-Dataset/checkpoint/alpha/assets\n",
      " 20/257 [=>............................] - ETA: 59s - loss: 0.1596 - cosine_similarity: 0.3220 INFO:tensorflow:Assets written to: /home/anshul/Downloads/Lab3a/WR-Dataset/checkpoint/alpha/assets\n",
      " 30/257 [==>...........................] - ETA: 55s - loss: 0.1621 - cosine_similarity: 0.3200 INFO:tensorflow:Assets written to: /home/anshul/Downloads/Lab3a/WR-Dataset/checkpoint/alpha/assets\n",
      " 40/257 [===>..........................] - ETA: 55s - loss: 0.1632 - cosine_similarity: 0.3190INFO:tensorflow:Assets written to: /home/anshul/Downloads/Lab3a/WR-Dataset/checkpoint/alpha/assets\n",
      " 50/257 [====>.........................] - ETA: 52s - loss: 0.1638 - cosine_similarity: 0.3184INFO:tensorflow:Assets written to: /home/anshul/Downloads/Lab3a/WR-Dataset/checkpoint/alpha/assets\n",
      " 60/257 [======>.......................] - ETA: 49s - loss: 0.1640 - cosine_similarity: 0.3174INFO:tensorflow:Assets written to: /home/anshul/Downloads/Lab3a/WR-Dataset/checkpoint/alpha/assets\n",
      " 70/257 [=======>......................] - ETA: 46s - loss: 0.1642 - cosine_similarity: 0.3166INFO:tensorflow:Assets written to: /home/anshul/Downloads/Lab3a/WR-Dataset/checkpoint/alpha/assets\n",
      " 80/257 [========>.....................] - ETA: 43s - loss: 0.1644 - cosine_similarity: 0.3157INFO:tensorflow:Assets written to: /home/anshul/Downloads/Lab3a/WR-Dataset/checkpoint/alpha/assets\n",
      " 90/257 [=========>....................] - ETA: 41s - loss: 0.1645 - cosine_similarity: 0.3148INFO:tensorflow:Assets written to: /home/anshul/Downloads/Lab3a/WR-Dataset/checkpoint/alpha/assets\n",
      "100/257 [==========>...................] - ETA: 39s - loss: 0.1646 - cosine_similarity: 0.3139INFO:tensorflow:Assets written to: /home/anshul/Downloads/Lab3a/WR-Dataset/checkpoint/alpha/assets\n",
      "110/257 [===========>..................] - ETA: 36s - loss: 0.1645 - cosine_similarity: 0.3129INFO:tensorflow:Assets written to: /home/anshul/Downloads/Lab3a/WR-Dataset/checkpoint/alpha/assets\n",
      "120/257 [=============>................] - ETA: 34s - loss: 0.1645 - cosine_similarity: 0.3120INFO:tensorflow:Assets written to: /home/anshul/Downloads/Lab3a/WR-Dataset/checkpoint/alpha/assets\n",
      "130/257 [==============>...............] - ETA: 32s - loss: 0.1644 - cosine_similarity: 0.3113INFO:tensorflow:Assets written to: /home/anshul/Downloads/Lab3a/WR-Dataset/checkpoint/alpha/assets\n",
      "140/257 [===============>..............] - ETA: 29s - loss: 0.1644 - cosine_similarity: 0.3107INFO:tensorflow:Assets written to: /home/anshul/Downloads/Lab3a/WR-Dataset/checkpoint/alpha/assets\n",
      "150/257 [================>.............] - ETA: 26s - loss: 0.1644 - cosine_similarity: 0.3103INFO:tensorflow:Assets written to: /home/anshul/Downloads/Lab3a/WR-Dataset/checkpoint/alpha/assets\n",
      "160/257 [=================>............] - ETA: 24s - loss: 0.1643 - cosine_similarity: 0.3099INFO:tensorflow:Assets written to: /home/anshul/Downloads/Lab3a/WR-Dataset/checkpoint/alpha/assets\n",
      "170/257 [==================>...........] - ETA: 21s - loss: 0.1642 - cosine_similarity: 0.3095INFO:tensorflow:Assets written to: /home/anshul/Downloads/Lab3a/WR-Dataset/checkpoint/alpha/assets\n",
      "180/257 [====================>.........] - ETA: 19s - loss: 0.1642 - cosine_similarity: 0.3092INFO:tensorflow:Assets written to: /home/anshul/Downloads/Lab3a/WR-Dataset/checkpoint/alpha/assets\n",
      "190/257 [=====================>........] - ETA: 16s - loss: 0.1642 - cosine_similarity: 0.3091INFO:tensorflow:Assets written to: /home/anshul/Downloads/Lab3a/WR-Dataset/checkpoint/alpha/assets\n",
      "200/257 [======================>.......] - ETA: 14s - loss: 0.1642 - cosine_similarity: 0.3090INFO:tensorflow:Assets written to: /home/anshul/Downloads/Lab3a/WR-Dataset/checkpoint/alpha/assets\n",
      "210/257 [=======================>......] - ETA: 11s - loss: 0.1643 - cosine_similarity: 0.3089INFO:tensorflow:Assets written to: /home/anshul/Downloads/Lab3a/WR-Dataset/checkpoint/alpha/assets\n",
      "220/257 [========================>.....] - ETA: 9s - loss: 0.1643 - cosine_similarity: 0.3088INFO:tensorflow:Assets written to: /home/anshul/Downloads/Lab3a/WR-Dataset/checkpoint/alpha/assets\n",
      "230/257 [=========================>....] - ETA: 6s - loss: 0.1644 - cosine_similarity: 0.3087INFO:tensorflow:Assets written to: /home/anshul/Downloads/Lab3a/WR-Dataset/checkpoint/alpha/assets\n",
      "240/257 [===========================>..] - ETA: 4s - loss: 0.1644 - cosine_similarity: 0.3087INFO:tensorflow:Assets written to: /home/anshul/Downloads/Lab3a/WR-Dataset/checkpoint/alpha/assets\n",
      "250/257 [============================>.] - ETA: 1s - loss: 0.1644 - cosine_similarity: 0.3087INFO:tensorflow:Assets written to: /home/anshul/Downloads/Lab3a/WR-Dataset/checkpoint/alpha/assets\n",
      "257/257 [==============================] - 65s 254ms/step - loss: 0.1644 - cosine_similarity: 0.3087 - val_loss: 0.1573 - val_cosine_similarity: 0.2960\n",
      "Epoch 9/30\n",
      "  3/257 [..............................] - ETA: 9s - loss: 0.1600 - cosine_similarity: 0.3233INFO:tensorflow:Assets written to: /home/anshul/Downloads/Lab3a/WR-Dataset/checkpoint/alpha/assets\n",
      " 13/257 [>.............................] - ETA: 48s - loss: 0.1655 - cosine_similarity: 0.3239INFO:tensorflow:Assets written to: /home/anshul/Downloads/Lab3a/WR-Dataset/checkpoint/alpha/assets\n"
     ]
    },
    {
     "name": "stdout",
     "output_type": "stream",
     "text": [
      " 24/257 [=>............................] - ETA: 48s - loss: 0.1652 - cosine_similarity: 0.3192INFO:tensorflow:Assets written to: /home/anshul/Downloads/Lab3a/WR-Dataset/checkpoint/alpha/assets\n",
      " 33/257 [==>...........................] - ETA: 51s - loss: 0.1645 - cosine_similarity: 0.3168INFO:tensorflow:Assets written to: /home/anshul/Downloads/Lab3a/WR-Dataset/checkpoint/alpha/assets\n",
      " 43/257 [====>.........................] - ETA: 48s - loss: 0.1640 - cosine_similarity: 0.3147INFO:tensorflow:Assets written to: /home/anshul/Downloads/Lab3a/WR-Dataset/checkpoint/alpha/assets\n",
      " 53/257 [=====>........................] - ETA: 49s - loss: 0.1637 - cosine_similarity: 0.3130INFO:tensorflow:Assets written to: /home/anshul/Downloads/Lab3a/WR-Dataset/checkpoint/alpha/assets\n",
      " 63/257 [======>.......................] - ETA: 46s - loss: 0.1635 - cosine_similarity: 0.3119INFO:tensorflow:Assets written to: /home/anshul/Downloads/Lab3a/WR-Dataset/checkpoint/alpha/assets\n",
      " 73/257 [=======>......................] - ETA: 44s - loss: 0.1634 - cosine_similarity: 0.3111INFO:tensorflow:Assets written to: /home/anshul/Downloads/Lab3a/WR-Dataset/checkpoint/alpha/assets\n",
      " 83/257 [========>.....................] - ETA: 41s - loss: 0.1633 - cosine_similarity: 0.3107INFO:tensorflow:Assets written to: /home/anshul/Downloads/Lab3a/WR-Dataset/checkpoint/alpha/assets\n",
      " 93/257 [=========>....................] - ETA: 40s - loss: 0.1632 - cosine_similarity: 0.3104INFO:tensorflow:Assets written to: /home/anshul/Downloads/Lab3a/WR-Dataset/checkpoint/alpha/assets\n",
      "103/257 [===========>..................] - ETA: 37s - loss: 0.1632 - cosine_similarity: 0.3103INFO:tensorflow:Assets written to: /home/anshul/Downloads/Lab3a/WR-Dataset/checkpoint/alpha/assets\n",
      "113/257 [============>.................] - ETA: 35s - loss: 0.1633 - cosine_similarity: 0.3102INFO:tensorflow:Assets written to: /home/anshul/Downloads/Lab3a/WR-Dataset/checkpoint/alpha/assets\n",
      "123/257 [=============>................] - ETA: 32s - loss: 0.1633 - cosine_similarity: 0.3102INFO:tensorflow:Assets written to: /home/anshul/Downloads/Lab3a/WR-Dataset/checkpoint/alpha/assets\n",
      "133/257 [==============>...............] - ETA: 30s - loss: 0.1633 - cosine_similarity: 0.3102INFO:tensorflow:Assets written to: /home/anshul/Downloads/Lab3a/WR-Dataset/checkpoint/alpha/assets\n",
      "143/257 [===============>..............] - ETA: 28s - loss: 0.1633 - cosine_similarity: 0.3103INFO:tensorflow:Assets written to: /home/anshul/Downloads/Lab3a/WR-Dataset/checkpoint/alpha/assets\n",
      "153/257 [================>.............] - ETA: 25s - loss: 0.1633 - cosine_similarity: 0.3104INFO:tensorflow:Assets written to: /home/anshul/Downloads/Lab3a/WR-Dataset/checkpoint/alpha/assets\n",
      "163/257 [==================>...........] - ETA: 23s - loss: 0.1634 - cosine_similarity: 0.3105INFO:tensorflow:Assets written to: /home/anshul/Downloads/Lab3a/WR-Dataset/checkpoint/alpha/assets\n",
      "173/257 [===================>..........] - ETA: 20s - loss: 0.1634 - cosine_similarity: 0.3106INFO:tensorflow:Assets written to: /home/anshul/Downloads/Lab3a/WR-Dataset/checkpoint/alpha/assets\n",
      "183/257 [====================>.........] - ETA: 18s - loss: 0.1634 - cosine_similarity: 0.3107INFO:tensorflow:Assets written to: /home/anshul/Downloads/Lab3a/WR-Dataset/checkpoint/alpha/assets\n",
      "193/257 [=====================>........] - ETA: 15s - loss: 0.1635 - cosine_similarity: 0.3108INFO:tensorflow:Assets written to: /home/anshul/Downloads/Lab3a/WR-Dataset/checkpoint/alpha/assets\n",
      "203/257 [======================>.......] - ETA: 13s - loss: 0.1635 - cosine_similarity: 0.3110INFO:tensorflow:Assets written to: /home/anshul/Downloads/Lab3a/WR-Dataset/checkpoint/alpha/assets\n",
      "213/257 [=======================>......] - ETA: 10s - loss: 0.1636 - cosine_similarity: 0.3110INFO:tensorflow:Assets written to: /home/anshul/Downloads/Lab3a/WR-Dataset/checkpoint/alpha/assets\n",
      "223/257 [=========================>....] - ETA: 8s - loss: 0.1636 - cosine_similarity: 0.3111INFO:tensorflow:Assets written to: /home/anshul/Downloads/Lab3a/WR-Dataset/checkpoint/alpha/assets\n",
      "233/257 [==========================>...] - ETA: 5s - loss: 0.1636 - cosine_similarity: 0.3112INFO:tensorflow:Assets written to: /home/anshul/Downloads/Lab3a/WR-Dataset/checkpoint/alpha/assets\n",
      "243/257 [===========================>..] - ETA: 3s - loss: 0.1636 - cosine_similarity: 0.3113INFO:tensorflow:Assets written to: /home/anshul/Downloads/Lab3a/WR-Dataset/checkpoint/alpha/assets\n",
      "253/257 [============================>.] - ETA: 0s - loss: 0.1636 - cosine_similarity: 0.3114INFO:tensorflow:Assets written to: /home/anshul/Downloads/Lab3a/WR-Dataset/checkpoint/alpha/assets\n",
      "257/257 [==============================] - 65s 252ms/step - loss: 0.1636 - cosine_similarity: 0.3115 - val_loss: 0.1559 - val_cosine_similarity: 0.3097\n",
      "Epoch 10/30\n",
      "  7/257 [..............................] - ETA: 9s - loss: 0.1662 - cosine_similarity: 0.3461INFO:tensorflow:Assets written to: /home/anshul/Downloads/Lab3a/WR-Dataset/checkpoint/alpha/assets\n",
      " 16/257 [>.............................] - ETA: 48s - loss: 0.1609 - cosine_similarity: 0.3399INFO:tensorflow:Assets written to: /home/anshul/Downloads/Lab3a/WR-Dataset/checkpoint/alpha/assets\n",
      " 26/257 [==>...........................] - ETA: 49s - loss: 0.1611 - cosine_similarity: 0.3343INFO:tensorflow:Assets written to: /home/anshul/Downloads/Lab3a/WR-Dataset/checkpoint/alpha/assets\n",
      " 36/257 [===>..........................] - ETA: 48s - loss: 0.1617 - cosine_similarity: 0.3303INFO:tensorflow:Assets written to: /home/anshul/Downloads/Lab3a/WR-Dataset/checkpoint/alpha/assets\n",
      " 46/257 [====>.........................] - ETA: 46s - loss: 0.1620 - cosine_similarity: 0.3271INFO:tensorflow:Assets written to: /home/anshul/Downloads/Lab3a/WR-Dataset/checkpoint/alpha/assets\n",
      " 56/257 [=====>........................] - ETA: 45s - loss: 0.1619 - cosine_similarity: 0.3252INFO:tensorflow:Assets written to: /home/anshul/Downloads/Lab3a/WR-Dataset/checkpoint/alpha/assets\n",
      " 66/257 [======>.......................] - ETA: 44s - loss: 0.1620 - cosine_similarity: 0.3238INFO:tensorflow:Assets written to: /home/anshul/Downloads/Lab3a/WR-Dataset/checkpoint/alpha/assets\n",
      " 76/257 [=======>......................] - ETA: 42s - loss: 0.1619 - cosine_similarity: 0.3225INFO:tensorflow:Assets written to: /home/anshul/Downloads/Lab3a/WR-Dataset/checkpoint/alpha/assets\n",
      " 86/257 [=========>....................] - ETA: 40s - loss: 0.1617 - cosine_similarity: 0.3213INFO:tensorflow:Assets written to: /home/anshul/Downloads/Lab3a/WR-Dataset/checkpoint/alpha/assets\n",
      " 96/257 [==========>...................] - ETA: 37s - loss: 0.1617 - cosine_similarity: 0.3205INFO:tensorflow:Assets written to: /home/anshul/Downloads/Lab3a/WR-Dataset/checkpoint/alpha/assets\n",
      "106/257 [===========>..................] - ETA: 36s - loss: 0.1616 - cosine_similarity: 0.3199INFO:tensorflow:Assets written to: /home/anshul/Downloads/Lab3a/WR-Dataset/checkpoint/alpha/assets\n",
      "116/257 [============>.................] - ETA: 33s - loss: 0.1616 - cosine_similarity: 0.3195INFO:tensorflow:Assets written to: /home/anshul/Downloads/Lab3a/WR-Dataset/checkpoint/alpha/assets\n",
      "126/257 [=============>................] - ETA: 31s - loss: 0.1616 - cosine_similarity: 0.3192INFO:tensorflow:Assets written to: /home/anshul/Downloads/Lab3a/WR-Dataset/checkpoint/alpha/assets\n",
      "136/257 [==============>...............] - ETA: 28s - loss: 0.1617 - cosine_similarity: 0.3191INFO:tensorflow:Assets written to: /home/anshul/Downloads/Lab3a/WR-Dataset/checkpoint/alpha/assets\n",
      "146/257 [================>.............] - ETA: 26s - loss: 0.1617 - cosine_similarity: 0.3192INFO:tensorflow:Assets written to: /home/anshul/Downloads/Lab3a/WR-Dataset/checkpoint/alpha/assets\n",
      "156/257 [=================>............] - ETA: 24s - loss: 0.1617 - cosine_similarity: 0.3192INFO:tensorflow:Assets written to: /home/anshul/Downloads/Lab3a/WR-Dataset/checkpoint/alpha/assets\n",
      "166/257 [==================>...........] - ETA: 21s - loss: 0.1617 - cosine_similarity: 0.3192INFO:tensorflow:Assets written to: /home/anshul/Downloads/Lab3a/WR-Dataset/checkpoint/alpha/assets\n",
      "176/257 [===================>..........] - ETA: 19s - loss: 0.1617 - cosine_similarity: 0.3191INFO:tensorflow:Assets written to: /home/anshul/Downloads/Lab3a/WR-Dataset/checkpoint/alpha/assets\n"
     ]
    },
    {
     "name": "stdout",
     "output_type": "stream",
     "text": [
      "186/257 [====================>.........] - ETA: 17s - loss: 0.1617 - cosine_similarity: 0.3190INFO:tensorflow:Assets written to: /home/anshul/Downloads/Lab3a/WR-Dataset/checkpoint/alpha/assets\n",
      "196/257 [=====================>........] - ETA: 14s - loss: 0.1618 - cosine_similarity: 0.3191INFO:tensorflow:Assets written to: /home/anshul/Downloads/Lab3a/WR-Dataset/checkpoint/alpha/assets\n",
      "206/257 [=======================>......] - ETA: 12s - loss: 0.1618 - cosine_similarity: 0.3191INFO:tensorflow:Assets written to: /home/anshul/Downloads/Lab3a/WR-Dataset/checkpoint/alpha/assets\n",
      "216/257 [========================>.....] - ETA: 9s - loss: 0.1618 - cosine_similarity: 0.3192 INFO:tensorflow:Assets written to: /home/anshul/Downloads/Lab3a/WR-Dataset/checkpoint/alpha/assets\n",
      "226/257 [=========================>....] - ETA: 7s - loss: 0.1618 - cosine_similarity: 0.3193INFO:tensorflow:Assets written to: /home/anshul/Downloads/Lab3a/WR-Dataset/checkpoint/alpha/assets\n",
      "236/257 [==========================>...] - ETA: 5s - loss: 0.1618 - cosine_similarity: 0.3194INFO:tensorflow:Assets written to: /home/anshul/Downloads/Lab3a/WR-Dataset/checkpoint/alpha/assets\n",
      "246/257 [===========================>..] - ETA: 2s - loss: 0.1618 - cosine_similarity: 0.3195INFO:tensorflow:Assets written to: /home/anshul/Downloads/Lab3a/WR-Dataset/checkpoint/alpha/assets\n",
      "256/257 [============================>.] - ETA: 0s - loss: 0.1618 - cosine_similarity: 0.3196INFO:tensorflow:Assets written to: /home/anshul/Downloads/Lab3a/WR-Dataset/checkpoint/alpha/assets\n",
      "257/257 [==============================] - 64s 251ms/step - loss: 0.1618 - cosine_similarity: 0.3196 - val_loss: 0.1543 - val_cosine_similarity: 0.3119\n",
      "Epoch 11/30\n",
      "  9/257 [>.............................] - ETA: 9s - loss: 0.1623 - cosine_similarity: 0.3347INFO:tensorflow:Assets written to: /home/anshul/Downloads/Lab3a/WR-Dataset/checkpoint/alpha/assets\n",
      " 19/257 [=>............................] - ETA: 34s - loss: 0.1628 - cosine_similarity: 0.3379INFO:tensorflow:Assets written to: /home/anshul/Downloads/Lab3a/WR-Dataset/checkpoint/alpha/assets\n",
      " 29/257 [==>...........................] - ETA: 45s - loss: 0.1626 - cosine_similarity: 0.3339INFO:tensorflow:Assets written to: /home/anshul/Downloads/Lab3a/WR-Dataset/checkpoint/alpha/assets\n",
      " 39/257 [===>..........................] - ETA: 45s - loss: 0.1628 - cosine_similarity: 0.3308INFO:tensorflow:Assets written to: /home/anshul/Downloads/Lab3a/WR-Dataset/checkpoint/alpha/assets\n",
      " 49/257 [====>.........................] - ETA: 44s - loss: 0.1627 - cosine_similarity: 0.3286INFO:tensorflow:Assets written to: /home/anshul/Downloads/Lab3a/WR-Dataset/checkpoint/alpha/assets\n",
      " 59/257 [=====>........................] - ETA: 42s - loss: 0.1626 - cosine_similarity: 0.3274INFO:tensorflow:Assets written to: /home/anshul/Downloads/Lab3a/WR-Dataset/checkpoint/alpha/assets\n",
      " 69/257 [=======>......................] - ETA: 41s - loss: 0.1626 - cosine_similarity: 0.3266INFO:tensorflow:Assets written to: /home/anshul/Downloads/Lab3a/WR-Dataset/checkpoint/alpha/assets\n",
      " 79/257 [========>.....................] - ETA: 40s - loss: 0.1625 - cosine_similarity: 0.3256INFO:tensorflow:Assets written to: /home/anshul/Downloads/Lab3a/WR-Dataset/checkpoint/alpha/assets\n",
      " 89/257 [=========>....................] - ETA: 38s - loss: 0.1623 - cosine_similarity: 0.3249INFO:tensorflow:Assets written to: /home/anshul/Downloads/Lab3a/WR-Dataset/checkpoint/alpha/assets\n",
      " 99/257 [==========>...................] - ETA: 36s - loss: 0.1621 - cosine_similarity: 0.3246INFO:tensorflow:Assets written to: /home/anshul/Downloads/Lab3a/WR-Dataset/checkpoint/alpha/assets\n",
      "109/257 [===========>..................] - ETA: 34s - loss: 0.1619 - cosine_similarity: 0.3244INFO:tensorflow:Assets written to: /home/anshul/Downloads/Lab3a/WR-Dataset/checkpoint/alpha/assets\n",
      "119/257 [============>.................] - ETA: 32s - loss: 0.1617 - cosine_similarity: 0.3242INFO:tensorflow:Assets written to: /home/anshul/Downloads/Lab3a/WR-Dataset/checkpoint/alpha/assets\n",
      "129/257 [==============>...............] - ETA: 30s - loss: 0.1615 - cosine_similarity: 0.3241INFO:tensorflow:Assets written to: /home/anshul/Downloads/Lab3a/WR-Dataset/checkpoint/alpha/assets\n",
      "139/257 [===============>..............] - ETA: 28s - loss: 0.1614 - cosine_similarity: 0.3241INFO:tensorflow:Assets written to: /home/anshul/Downloads/Lab3a/WR-Dataset/checkpoint/alpha/assets\n",
      "149/257 [================>.............] - ETA: 25s - loss: 0.1614 - cosine_similarity: 0.3241INFO:tensorflow:Assets written to: /home/anshul/Downloads/Lab3a/WR-Dataset/checkpoint/alpha/assets\n",
      "159/257 [=================>............] - ETA: 23s - loss: 0.1613 - cosine_similarity: 0.3241INFO:tensorflow:Assets written to: /home/anshul/Downloads/Lab3a/WR-Dataset/checkpoint/alpha/assets\n",
      "169/257 [==================>...........] - ETA: 21s - loss: 0.1612 - cosine_similarity: 0.3241INFO:tensorflow:Assets written to: /home/anshul/Downloads/Lab3a/WR-Dataset/checkpoint/alpha/assets\n",
      "179/257 [===================>..........] - ETA: 18s - loss: 0.1611 - cosine_similarity: 0.3241INFO:tensorflow:Assets written to: /home/anshul/Downloads/Lab3a/WR-Dataset/checkpoint/alpha/assets\n",
      "189/257 [=====================>........] - ETA: 16s - loss: 0.1611 - cosine_similarity: 0.3242INFO:tensorflow:Assets written to: /home/anshul/Downloads/Lab3a/WR-Dataset/checkpoint/alpha/assets\n",
      "199/257 [======================>.......] - ETA: 13s - loss: 0.1610 - cosine_similarity: 0.3243INFO:tensorflow:Assets written to: /home/anshul/Downloads/Lab3a/WR-Dataset/checkpoint/alpha/assets\n",
      "209/257 [=======================>......] - ETA: 11s - loss: 0.1610 - cosine_similarity: 0.3244INFO:tensorflow:Assets written to: /home/anshul/Downloads/Lab3a/WR-Dataset/checkpoint/alpha/assets\n",
      "219/257 [========================>.....] - ETA: 9s - loss: 0.1609 - cosine_similarity: 0.3246INFO:tensorflow:Assets written to: /home/anshul/Downloads/Lab3a/WR-Dataset/checkpoint/alpha/assets\n",
      "229/257 [=========================>....] - ETA: 6s - loss: 0.1609 - cosine_similarity: 0.3247INFO:tensorflow:Assets written to: /home/anshul/Downloads/Lab3a/WR-Dataset/checkpoint/alpha/assets\n",
      "239/257 [==========================>...] - ETA: 4s - loss: 0.1608 - cosine_similarity: 0.3249INFO:tensorflow:Assets written to: /home/anshul/Downloads/Lab3a/WR-Dataset/checkpoint/alpha/assets\n",
      "249/257 [============================>.] - ETA: 1s - loss: 0.1608 - cosine_similarity: 0.3250INFO:tensorflow:Assets written to: /home/anshul/Downloads/Lab3a/WR-Dataset/checkpoint/alpha/assets\n",
      "257/257 [==============================] - 63s 247ms/step - loss: 0.1607 - cosine_similarity: 0.3251 - val_loss: 0.1538 - val_cosine_similarity: 0.3113\n",
      "Epoch 12/30\n",
      "  3/257 [..............................] - ETA: 9s - loss: 0.1527 - cosine_similarity: 0.3463INFO:tensorflow:Assets written to: /home/anshul/Downloads/Lab3a/WR-Dataset/checkpoint/alpha/assets\n",
      " 12/257 [>.............................] - ETA: 52s - loss: 0.1538 - cosine_similarity: 0.3427 INFO:tensorflow:Assets written to: /home/anshul/Downloads/Lab3a/WR-Dataset/checkpoint/alpha/assets\n",
      " 22/257 [=>............................] - ETA: 52s - loss: 0.1538 - cosine_similarity: 0.3418INFO:tensorflow:Assets written to: /home/anshul/Downloads/Lab3a/WR-Dataset/checkpoint/alpha/assets\n",
      " 32/257 [==>...........................] - ETA: 50s - loss: 0.1539 - cosine_similarity: 0.3416INFO:tensorflow:Assets written to: /home/anshul/Downloads/Lab3a/WR-Dataset/checkpoint/alpha/assets\n",
      " 42/257 [===>..........................] - ETA: 52s - loss: 0.1543 - cosine_similarity: 0.3423INFO:tensorflow:Assets written to: /home/anshul/Downloads/Lab3a/WR-Dataset/checkpoint/alpha/assets\n",
      " 52/257 [=====>........................] - ETA: 49s - loss: 0.1546 - cosine_similarity: 0.3426INFO:tensorflow:Assets written to: /home/anshul/Downloads/Lab3a/WR-Dataset/checkpoint/alpha/assets\n",
      " 62/257 [======>.......................] - ETA: 46s - loss: 0.1549 - cosine_similarity: 0.3427INFO:tensorflow:Assets written to: /home/anshul/Downloads/Lab3a/WR-Dataset/checkpoint/alpha/assets\n",
      " 72/257 [=======>......................] - ETA: 44s - loss: 0.1553 - cosine_similarity: 0.3424INFO:tensorflow:Assets written to: /home/anshul/Downloads/Lab3a/WR-Dataset/checkpoint/alpha/assets\n"
     ]
    },
    {
     "name": "stdout",
     "output_type": "stream",
     "text": [
      " 82/257 [========>.....................] - ETA: 42s - loss: 0.1558 - cosine_similarity: 0.3421INFO:tensorflow:Assets written to: /home/anshul/Downloads/Lab3a/WR-Dataset/checkpoint/alpha/assets\n",
      " 92/257 [=========>....................] - ETA: 40s - loss: 0.1560 - cosine_similarity: 0.3417INFO:tensorflow:Assets written to: /home/anshul/Downloads/Lab3a/WR-Dataset/checkpoint/alpha/assets\n",
      "102/257 [==========>...................] - ETA: 37s - loss: 0.1562 - cosine_similarity: 0.3413INFO:tensorflow:Assets written to: /home/anshul/Downloads/Lab3a/WR-Dataset/checkpoint/alpha/assets\n",
      "112/257 [============>.................] - ETA: 35s - loss: 0.1563 - cosine_similarity: 0.3410INFO:tensorflow:Assets written to: /home/anshul/Downloads/Lab3a/WR-Dataset/checkpoint/alpha/assets\n",
      "122/257 [=============>................] - ETA: 32s - loss: 0.1563 - cosine_similarity: 0.3409INFO:tensorflow:Assets written to: /home/anshul/Downloads/Lab3a/WR-Dataset/checkpoint/alpha/assets\n",
      "132/257 [==============>...............] - ETA: 30s - loss: 0.1563 - cosine_similarity: 0.3408INFO:tensorflow:Assets written to: /home/anshul/Downloads/Lab3a/WR-Dataset/checkpoint/alpha/assets\n",
      "142/257 [===============>..............] - ETA: 28s - loss: 0.1563 - cosine_similarity: 0.3409INFO:tensorflow:Assets written to: /home/anshul/Downloads/Lab3a/WR-Dataset/checkpoint/alpha/assets\n",
      "152/257 [================>.............] - ETA: 25s - loss: 0.1563 - cosine_similarity: 0.3411INFO:tensorflow:Assets written to: /home/anshul/Downloads/Lab3a/WR-Dataset/checkpoint/alpha/assets\n",
      "162/257 [=================>............] - ETA: 23s - loss: 0.1563 - cosine_similarity: 0.3414INFO:tensorflow:Assets written to: /home/anshul/Downloads/Lab3a/WR-Dataset/checkpoint/alpha/assets\n",
      "172/257 [===================>..........] - ETA: 20s - loss: 0.1563 - cosine_similarity: 0.3417INFO:tensorflow:Assets written to: /home/anshul/Downloads/Lab3a/WR-Dataset/checkpoint/alpha/assets\n",
      "182/257 [====================>.........] - ETA: 18s - loss: 0.1563 - cosine_similarity: 0.3419INFO:tensorflow:Assets written to: /home/anshul/Downloads/Lab3a/WR-Dataset/checkpoint/alpha/assets\n",
      "192/257 [=====================>........] - ETA: 15s - loss: 0.1564 - cosine_similarity: 0.3421INFO:tensorflow:Assets written to: /home/anshul/Downloads/Lab3a/WR-Dataset/checkpoint/alpha/assets\n",
      "202/257 [======================>.......] - ETA: 13s - loss: 0.1564 - cosine_similarity: 0.3424INFO:tensorflow:Assets written to: /home/anshul/Downloads/Lab3a/WR-Dataset/checkpoint/alpha/assets\n",
      "212/257 [=======================>......] - ETA: 10s - loss: 0.1564 - cosine_similarity: 0.3427INFO:tensorflow:Assets written to: /home/anshul/Downloads/Lab3a/WR-Dataset/checkpoint/alpha/assets\n",
      "222/257 [========================>.....] - ETA: 8s - loss: 0.1564 - cosine_similarity: 0.3430INFO:tensorflow:Assets written to: /home/anshul/Downloads/Lab3a/WR-Dataset/checkpoint/alpha/assets\n",
      "232/257 [==========================>...] - ETA: 6s - loss: 0.1564 - cosine_similarity: 0.3433INFO:tensorflow:Assets written to: /home/anshul/Downloads/Lab3a/WR-Dataset/checkpoint/alpha/assets\n",
      "242/257 [===========================>..] - ETA: 3s - loss: 0.1564 - cosine_similarity: 0.3437INFO:tensorflow:Assets written to: /home/anshul/Downloads/Lab3a/WR-Dataset/checkpoint/alpha/assets\n",
      "252/257 [============================>.] - ETA: 1s - loss: 0.1563 - cosine_similarity: 0.3440INFO:tensorflow:Assets written to: /home/anshul/Downloads/Lab3a/WR-Dataset/checkpoint/alpha/assets\n",
      "257/257 [==============================] - 64s 249ms/step - loss: 0.1563 - cosine_similarity: 0.3442 - val_loss: 0.1499 - val_cosine_similarity: 0.3552\n",
      "Epoch 13/30\n",
      "  5/257 [..............................] - ETA: 9s - loss: 0.1569 - cosine_similarity: 0.3808INFO:tensorflow:Assets written to: /home/anshul/Downloads/Lab3a/WR-Dataset/checkpoint/alpha/assets\n",
      " 15/257 [>.............................] - ETA: 51s - loss: 0.1490 - cosine_similarity: 0.3705INFO:tensorflow:Assets written to: /home/anshul/Downloads/Lab3a/WR-Dataset/checkpoint/alpha/assets\n",
      " 25/257 [=>............................] - ETA: 51s - loss: 0.1479 - cosine_similarity: 0.3733INFO:tensorflow:Assets written to: /home/anshul/Downloads/Lab3a/WR-Dataset/checkpoint/alpha/assets\n",
      " 35/257 [===>..........................] - ETA: 49s - loss: 0.1480 - cosine_similarity: 0.3754INFO:tensorflow:Assets written to: /home/anshul/Downloads/Lab3a/WR-Dataset/checkpoint/alpha/assets\n",
      " 45/257 [====>.........................] - ETA: 47s - loss: 0.1486 - cosine_similarity: 0.3771INFO:tensorflow:Assets written to: /home/anshul/Downloads/Lab3a/WR-Dataset/checkpoint/alpha/assets\n",
      " 55/257 [=====>........................] - ETA: 48s - loss: 0.1490 - cosine_similarity: 0.3782INFO:tensorflow:Assets written to: /home/anshul/Downloads/Lab3a/WR-Dataset/checkpoint/alpha/assets\n",
      " 65/257 [======>.......................] - ETA: 45s - loss: 0.1493 - cosine_similarity: 0.3784INFO:tensorflow:Assets written to: /home/anshul/Downloads/Lab3a/WR-Dataset/checkpoint/alpha/assets\n",
      " 75/257 [=======>......................] - ETA: 43s - loss: 0.1494 - cosine_similarity: 0.3783INFO:tensorflow:Assets written to: /home/anshul/Downloads/Lab3a/WR-Dataset/checkpoint/alpha/assets\n",
      " 85/257 [========>.....................] - ETA: 40s - loss: 0.1496 - cosine_similarity: 0.3781INFO:tensorflow:Assets written to: /home/anshul/Downloads/Lab3a/WR-Dataset/checkpoint/alpha/assets\n",
      " 95/257 [==========>...................] - ETA: 39s - loss: 0.1498 - cosine_similarity: 0.3783INFO:tensorflow:Assets written to: /home/anshul/Downloads/Lab3a/WR-Dataset/checkpoint/alpha/assets\n",
      "105/257 [===========>..................] - ETA: 36s - loss: 0.1500 - cosine_similarity: 0.3784INFO:tensorflow:Assets written to: /home/anshul/Downloads/Lab3a/WR-Dataset/checkpoint/alpha/assets\n",
      "115/257 [============>.................] - ETA: 34s - loss: 0.1500 - cosine_similarity: 0.3785INFO:tensorflow:Assets written to: /home/anshul/Downloads/Lab3a/WR-Dataset/checkpoint/alpha/assets\n",
      "125/257 [=============>................] - ETA: 31s - loss: 0.1500 - cosine_similarity: 0.3787INFO:tensorflow:Assets written to: /home/anshul/Downloads/Lab3a/WR-Dataset/checkpoint/alpha/assets\n",
      "135/257 [==============>...............] - ETA: 29s - loss: 0.1500 - cosine_similarity: 0.3788INFO:tensorflow:Assets written to: /home/anshul/Downloads/Lab3a/WR-Dataset/checkpoint/alpha/assets\n",
      "145/257 [===============>..............] - ETA: 27s - loss: 0.1501 - cosine_similarity: 0.3789INFO:tensorflow:Assets written to: /home/anshul/Downloads/Lab3a/WR-Dataset/checkpoint/alpha/assets\n",
      "155/257 [=================>............] - ETA: 24s - loss: 0.1500 - cosine_similarity: 0.3788INFO:tensorflow:Assets written to: /home/anshul/Downloads/Lab3a/WR-Dataset/checkpoint/alpha/assets\n",
      "166/257 [==================>...........] - ETA: 21s - loss: 0.1500 - cosine_similarity: 0.3788INFO:tensorflow:Assets written to: /home/anshul/Downloads/Lab3a/WR-Dataset/checkpoint/alpha/assets\n",
      "175/257 [===================>..........] - ETA: 19s - loss: 0.1500 - cosine_similarity: 0.3788INFO:tensorflow:Assets written to: /home/anshul/Downloads/Lab3a/WR-Dataset/checkpoint/alpha/assets\n",
      "185/257 [====================>.........] - ETA: 17s - loss: 0.1500 - cosine_similarity: 0.3788INFO:tensorflow:Assets written to: /home/anshul/Downloads/Lab3a/WR-Dataset/checkpoint/alpha/assets\n",
      "195/257 [=====================>........] - ETA: 15s - loss: 0.1499 - cosine_similarity: 0.3790INFO:tensorflow:Assets written to: /home/anshul/Downloads/Lab3a/WR-Dataset/checkpoint/alpha/assets\n",
      "205/257 [======================>.......] - ETA: 12s - loss: 0.1499 - cosine_similarity: 0.3791INFO:tensorflow:Assets written to: /home/anshul/Downloads/Lab3a/WR-Dataset/checkpoint/alpha/assets\n",
      "215/257 [========================>.....] - ETA: 10s - loss: 0.1499 - cosine_similarity: 0.3793INFO:tensorflow:Assets written to: /home/anshul/Downloads/Lab3a/WR-Dataset/checkpoint/alpha/assets\n",
      "225/257 [=========================>....] - ETA: 7s - loss: 0.1499 - cosine_similarity: 0.3794INFO:tensorflow:Assets written to: /home/anshul/Downloads/Lab3a/WR-Dataset/checkpoint/alpha/assets\n",
      "235/257 [==========================>...] - ETA: 5s - loss: 0.1498 - cosine_similarity: 0.3796INFO:tensorflow:Assets written to: /home/anshul/Downloads/Lab3a/WR-Dataset/checkpoint/alpha/assets\n"
     ]
    },
    {
     "name": "stdout",
     "output_type": "stream",
     "text": [
      "245/257 [===========================>..] - ETA: 2s - loss: 0.1498 - cosine_similarity: 0.3798INFO:tensorflow:Assets written to: /home/anshul/Downloads/Lab3a/WR-Dataset/checkpoint/alpha/assets\n",
      "255/257 [============================>.] - ETA: 0s - loss: 0.1497 - cosine_similarity: 0.3801INFO:tensorflow:Assets written to: /home/anshul/Downloads/Lab3a/WR-Dataset/checkpoint/alpha/assets\n",
      "257/257 [==============================] - 65s 254ms/step - loss: 0.1497 - cosine_similarity: 0.3802 - val_loss: 0.1438 - val_cosine_similarity: 0.3622\n",
      "Epoch 14/30\n",
      "  9/257 [>.............................] - ETA: 9s - loss: 0.1535 - cosine_similarity: 0.4149INFO:tensorflow:Assets written to: /home/anshul/Downloads/Lab3a/WR-Dataset/checkpoint/alpha/assets\n",
      " 18/257 [=>............................] - ETA: 36s - loss: 0.1492 - cosine_similarity: 0.4057INFO:tensorflow:Assets written to: /home/anshul/Downloads/Lab3a/WR-Dataset/checkpoint/alpha/assets\n",
      " 28/257 [==>...........................] - ETA: 46s - loss: 0.1480 - cosine_similarity: 0.3980INFO:tensorflow:Assets written to: /home/anshul/Downloads/Lab3a/WR-Dataset/checkpoint/alpha/assets\n",
      " 38/257 [===>..........................] - ETA: 46s - loss: 0.1479 - cosine_similarity: 0.3961INFO:tensorflow:Assets written to: /home/anshul/Downloads/Lab3a/WR-Dataset/checkpoint/alpha/assets\n",
      " 48/257 [====>.........................] - ETA: 45s - loss: 0.1481 - cosine_similarity: 0.3964INFO:tensorflow:Assets written to: /home/anshul/Downloads/Lab3a/WR-Dataset/checkpoint/alpha/assets\n",
      " 58/257 [=====>........................] - ETA: 43s - loss: 0.1482 - cosine_similarity: 0.3974INFO:tensorflow:Assets written to: /home/anshul/Downloads/Lab3a/WR-Dataset/checkpoint/alpha/assets\n",
      " 68/257 [======>.......................] - ETA: 43s - loss: 0.1481 - cosine_similarity: 0.3985INFO:tensorflow:Assets written to: /home/anshul/Downloads/Lab3a/WR-Dataset/checkpoint/alpha/assets\n",
      " 78/257 [========>.....................] - ETA: 41s - loss: 0.1481 - cosine_similarity: 0.3995INFO:tensorflow:Assets written to: /home/anshul/Downloads/Lab3a/WR-Dataset/checkpoint/alpha/assets\n",
      " 88/257 [=========>....................] - ETA: 39s - loss: 0.1478 - cosine_similarity: 0.4000INFO:tensorflow:Assets written to: /home/anshul/Downloads/Lab3a/WR-Dataset/checkpoint/alpha/assets\n",
      " 98/257 [==========>...................] - ETA: 37s - loss: 0.1477 - cosine_similarity: 0.4005INFO:tensorflow:Assets written to: /home/anshul/Downloads/Lab3a/WR-Dataset/checkpoint/alpha/assets\n",
      "108/257 [===========>..................] - ETA: 34s - loss: 0.1476 - cosine_similarity: 0.4008INFO:tensorflow:Assets written to: /home/anshul/Downloads/Lab3a/WR-Dataset/checkpoint/alpha/assets\n",
      "118/257 [============>.................] - ETA: 33s - loss: 0.1475 - cosine_similarity: 0.4011INFO:tensorflow:Assets written to: /home/anshul/Downloads/Lab3a/WR-Dataset/checkpoint/alpha/assets\n",
      "128/257 [=============>................] - ETA: 30s - loss: 0.1473 - cosine_similarity: 0.4013INFO:tensorflow:Assets written to: /home/anshul/Downloads/Lab3a/WR-Dataset/checkpoint/alpha/assets\n",
      "138/257 [===============>..............] - ETA: 28s - loss: 0.1472 - cosine_similarity: 0.4015INFO:tensorflow:Assets written to: /home/anshul/Downloads/Lab3a/WR-Dataset/checkpoint/alpha/assets\n",
      "148/257 [================>.............] - ETA: 26s - loss: 0.1471 - cosine_similarity: 0.4017INFO:tensorflow:Assets written to: /home/anshul/Downloads/Lab3a/WR-Dataset/checkpoint/alpha/assets\n",
      "158/257 [=================>............] - ETA: 24s - loss: 0.1470 - cosine_similarity: 0.4019INFO:tensorflow:Assets written to: /home/anshul/Downloads/Lab3a/WR-Dataset/checkpoint/alpha/assets\n",
      "168/257 [==================>...........] - ETA: 21s - loss: 0.1469 - cosine_similarity: 0.4020INFO:tensorflow:Assets written to: /home/anshul/Downloads/Lab3a/WR-Dataset/checkpoint/alpha/assets\n",
      "178/257 [===================>..........] - ETA: 19s - loss: 0.1467 - cosine_similarity: 0.4021INFO:tensorflow:Assets written to: /home/anshul/Downloads/Lab3a/WR-Dataset/checkpoint/alpha/assets\n",
      "188/257 [====================>.........] - ETA: 16s - loss: 0.1466 - cosine_similarity: 0.4023INFO:tensorflow:Assets written to: /home/anshul/Downloads/Lab3a/WR-Dataset/checkpoint/alpha/assets\n",
      "198/257 [======================>.......] - ETA: 14s - loss: 0.1466 - cosine_similarity: 0.4025INFO:tensorflow:Assets written to: /home/anshul/Downloads/Lab3a/WR-Dataset/checkpoint/alpha/assets\n",
      "208/257 [=======================>......] - ETA: 12s - loss: 0.1465 - cosine_similarity: 0.4026INFO:tensorflow:Assets written to: /home/anshul/Downloads/Lab3a/WR-Dataset/checkpoint/alpha/assets\n",
      "218/257 [========================>.....] - ETA: 9s - loss: 0.1464 - cosine_similarity: 0.4028 INFO:tensorflow:Assets written to: /home/anshul/Downloads/Lab3a/WR-Dataset/checkpoint/alpha/assets\n",
      "228/257 [=========================>....] - ETA: 7s - loss: 0.1463 - cosine_similarity: 0.4030INFO:tensorflow:Assets written to: /home/anshul/Downloads/Lab3a/WR-Dataset/checkpoint/alpha/assets\n",
      "238/257 [==========================>...] - ETA: 4s - loss: 0.1462 - cosine_similarity: 0.4032INFO:tensorflow:Assets written to: /home/anshul/Downloads/Lab3a/WR-Dataset/checkpoint/alpha/assets\n",
      "248/257 [===========================>..] - ETA: 2s - loss: 0.1461 - cosine_similarity: 0.4034INFO:tensorflow:Assets written to: /home/anshul/Downloads/Lab3a/WR-Dataset/checkpoint/alpha/assets\n",
      "257/257 [==============================] - 63s 247ms/step - loss: 0.1460 - cosine_similarity: 0.4035 - val_loss: 0.1413 - val_cosine_similarity: 0.3856\n",
      "Epoch 15/30\n",
      "  1/257 [..............................] - ETA: 9s - loss: 0.1754 - cosine_similarity: 0.4294INFO:tensorflow:Assets written to: /home/anshul/Downloads/Lab3a/WR-Dataset/checkpoint/alpha/assets\n",
      " 11/257 [>.............................] - ETA: 57s - loss: 0.1467 - cosine_similarity: 0.4261 INFO:tensorflow:Assets written to: /home/anshul/Downloads/Lab3a/WR-Dataset/checkpoint/alpha/assets\n",
      " 21/257 [=>............................] - ETA: 55s - loss: 0.1445 - cosine_similarity: 0.4259 INFO:tensorflow:Assets written to: /home/anshul/Downloads/Lab3a/WR-Dataset/checkpoint/alpha/assets\n",
      " 31/257 [==>...........................] - ETA: 57s - loss: 0.1442 - cosine_similarity: 0.4253 INFO:tensorflow:Assets written to: /home/anshul/Downloads/Lab3a/WR-Dataset/checkpoint/alpha/assets\n",
      " 41/257 [===>..........................] - ETA: 53s - loss: 0.1436 - cosine_similarity: 0.4251INFO:tensorflow:Assets written to: /home/anshul/Downloads/Lab3a/WR-Dataset/checkpoint/alpha/assets\n",
      " 51/257 [====>.........................] - ETA: 50s - loss: 0.1430 - cosine_similarity: 0.4256INFO:tensorflow:Assets written to: /home/anshul/Downloads/Lab3a/WR-Dataset/checkpoint/alpha/assets\n",
      " 61/257 [======>.......................] - ETA: 47s - loss: 0.1424 - cosine_similarity: 0.4261INFO:tensorflow:Assets written to: /home/anshul/Downloads/Lab3a/WR-Dataset/checkpoint/alpha/assets\n",
      " 71/257 [=======>......................] - ETA: 46s - loss: 0.1418 - cosine_similarity: 0.4268INFO:tensorflow:Assets written to: /home/anshul/Downloads/Lab3a/WR-Dataset/checkpoint/alpha/assets\n",
      " 81/257 [========>.....................] - ETA: 43s - loss: 0.1415 - cosine_similarity: 0.4269INFO:tensorflow:Assets written to: /home/anshul/Downloads/Lab3a/WR-Dataset/checkpoint/alpha/assets\n",
      " 91/257 [=========>....................] - ETA: 41s - loss: 0.1413 - cosine_similarity: 0.4267INFO:tensorflow:Assets written to: /home/anshul/Downloads/Lab3a/WR-Dataset/checkpoint/alpha/assets\n",
      "101/257 [==========>...................] - ETA: 38s - loss: 0.1411 - cosine_similarity: 0.4265INFO:tensorflow:Assets written to: /home/anshul/Downloads/Lab3a/WR-Dataset/checkpoint/alpha/assets\n",
      "111/257 [===========>..................] - ETA: 35s - loss: 0.1409 - cosine_similarity: 0.4262INFO:tensorflow:Assets written to: /home/anshul/Downloads/Lab3a/WR-Dataset/checkpoint/alpha/assets\n",
      "121/257 [=============>................] - ETA: 33s - loss: 0.1408 - cosine_similarity: 0.4260INFO:tensorflow:Assets written to: /home/anshul/Downloads/Lab3a/WR-Dataset/checkpoint/alpha/assets\n",
      "131/257 [==============>...............] - ETA: 31s - loss: 0.1408 - cosine_similarity: 0.4259INFO:tensorflow:Assets written to: /home/anshul/Downloads/Lab3a/WR-Dataset/checkpoint/alpha/assets\n"
     ]
    },
    {
     "name": "stdout",
     "output_type": "stream",
     "text": [
      "141/257 [===============>..............] - ETA: 28s - loss: 0.1407 - cosine_similarity: 0.4258INFO:tensorflow:Assets written to: /home/anshul/Downloads/Lab3a/WR-Dataset/checkpoint/alpha/assets\n",
      "151/257 [================>.............] - ETA: 26s - loss: 0.1406 - cosine_similarity: 0.4257INFO:tensorflow:Assets written to: /home/anshul/Downloads/Lab3a/WR-Dataset/checkpoint/alpha/assets\n",
      "161/257 [=================>............] - ETA: 23s - loss: 0.1406 - cosine_similarity: 0.4256INFO:tensorflow:Assets written to: /home/anshul/Downloads/Lab3a/WR-Dataset/checkpoint/alpha/assets\n",
      "171/257 [==================>...........] - ETA: 21s - loss: 0.1405 - cosine_similarity: 0.4256INFO:tensorflow:Assets written to: /home/anshul/Downloads/Lab3a/WR-Dataset/checkpoint/alpha/assets\n",
      "181/257 [====================>.........] - ETA: 18s - loss: 0.1404 - cosine_similarity: 0.4256INFO:tensorflow:Assets written to: /home/anshul/Downloads/Lab3a/WR-Dataset/checkpoint/alpha/assets\n",
      "191/257 [=====================>........] - ETA: 16s - loss: 0.1404 - cosine_similarity: 0.4256INFO:tensorflow:Assets written to: /home/anshul/Downloads/Lab3a/WR-Dataset/checkpoint/alpha/assets\n",
      "201/257 [======================>.......] - ETA: 13s - loss: 0.1403 - cosine_similarity: 0.4256INFO:tensorflow:Assets written to: /home/anshul/Downloads/Lab3a/WR-Dataset/checkpoint/alpha/assets\n",
      "211/257 [=======================>......] - ETA: 11s - loss: 0.1402 - cosine_similarity: 0.4256INFO:tensorflow:Assets written to: /home/anshul/Downloads/Lab3a/WR-Dataset/checkpoint/alpha/assets\n",
      "221/257 [========================>.....] - ETA: 8s - loss: 0.1402 - cosine_similarity: 0.4256INFO:tensorflow:Assets written to: /home/anshul/Downloads/Lab3a/WR-Dataset/checkpoint/alpha/assets\n",
      "231/257 [=========================>....] - ETA: 6s - loss: 0.1402 - cosine_similarity: 0.4257INFO:tensorflow:Assets written to: /home/anshul/Downloads/Lab3a/WR-Dataset/checkpoint/alpha/assets\n",
      "241/257 [===========================>..] - ETA: 3s - loss: 0.1401 - cosine_similarity: 0.4257INFO:tensorflow:Assets written to: /home/anshul/Downloads/Lab3a/WR-Dataset/checkpoint/alpha/assets\n",
      "251/257 [============================>.] - ETA: 1s - loss: 0.1401 - cosine_similarity: 0.4258INFO:tensorflow:Assets written to: /home/anshul/Downloads/Lab3a/WR-Dataset/checkpoint/alpha/assets\n",
      "257/257 [==============================] - 64s 251ms/step - loss: 0.1401 - cosine_similarity: 0.4258 - val_loss: 0.1387 - val_cosine_similarity: 0.4054\n",
      "Epoch 16/30\n",
      "  5/257 [..............................] - ETA: 9s - loss: 0.1338 - cosine_similarity: 0.4737INFO:tensorflow:Assets written to: /home/anshul/Downloads/Lab3a/WR-Dataset/checkpoint/alpha/assets\n",
      " 14/257 [>.............................] - ETA: 45s - loss: 0.1362 - cosine_similarity: 0.4693INFO:tensorflow:Assets written to: /home/anshul/Downloads/Lab3a/WR-Dataset/checkpoint/alpha/assets\n",
      " 24/257 [=>............................] - ETA: 48s - loss: 0.1378 - cosine_similarity: 0.4632INFO:tensorflow:Assets written to: /home/anshul/Downloads/Lab3a/WR-Dataset/checkpoint/alpha/assets\n",
      " 34/257 [==>...........................] - ETA: 48s - loss: 0.1380 - cosine_similarity: 0.4586INFO:tensorflow:Assets written to: /home/anshul/Downloads/Lab3a/WR-Dataset/checkpoint/alpha/assets\n",
      " 44/257 [====>.........................] - ETA: 49s - loss: 0.1382 - cosine_similarity: 0.4569INFO:tensorflow:Assets written to: /home/anshul/Downloads/Lab3a/WR-Dataset/checkpoint/alpha/assets\n",
      " 54/257 [=====>........................] - ETA: 48s - loss: 0.1378 - cosine_similarity: 0.4559INFO:tensorflow:Assets written to: /home/anshul/Downloads/Lab3a/WR-Dataset/checkpoint/alpha/assets\n",
      " 64/257 [======>.......................] - ETA: 45s - loss: 0.1374 - cosine_similarity: 0.4551INFO:tensorflow:Assets written to: /home/anshul/Downloads/Lab3a/WR-Dataset/checkpoint/alpha/assets\n",
      " 74/257 [=======>......................] - ETA: 43s - loss: 0.1371 - cosine_similarity: 0.4542INFO:tensorflow:Assets written to: /home/anshul/Downloads/Lab3a/WR-Dataset/checkpoint/alpha/assets\n",
      " 84/257 [========>.....................] - ETA: 41s - loss: 0.1368 - cosine_similarity: 0.4535INFO:tensorflow:Assets written to: /home/anshul/Downloads/Lab3a/WR-Dataset/checkpoint/alpha/assets\n",
      " 94/257 [=========>....................] - ETA: 39s - loss: 0.1367 - cosine_similarity: 0.4532INFO:tensorflow:Assets written to: /home/anshul/Downloads/Lab3a/WR-Dataset/checkpoint/alpha/assets\n",
      "104/257 [===========>..................] - ETA: 37s - loss: 0.1365 - cosine_similarity: 0.4531INFO:tensorflow:Assets written to: /home/anshul/Downloads/Lab3a/WR-Dataset/checkpoint/alpha/assets\n",
      "114/257 [============>.................] - ETA: 34s - loss: 0.1364 - cosine_similarity: 0.4531INFO:tensorflow:Assets written to: /home/anshul/Downloads/Lab3a/WR-Dataset/checkpoint/alpha/assets\n",
      "124/257 [=============>................] - ETA: 32s - loss: 0.1362 - cosine_similarity: 0.4531INFO:tensorflow:Assets written to: /home/anshul/Downloads/Lab3a/WR-Dataset/checkpoint/alpha/assets\n",
      "134/257 [==============>...............] - ETA: 30s - loss: 0.1360 - cosine_similarity: 0.4531INFO:tensorflow:Assets written to: /home/anshul/Downloads/Lab3a/WR-Dataset/checkpoint/alpha/assets\n",
      "144/257 [===============>..............] - ETA: 27s - loss: 0.1359 - cosine_similarity: 0.4531INFO:tensorflow:Assets written to: /home/anshul/Downloads/Lab3a/WR-Dataset/checkpoint/alpha/assets\n",
      "154/257 [================>.............] - ETA: 25s - loss: 0.1357 - cosine_similarity: 0.4530INFO:tensorflow:Assets written to: /home/anshul/Downloads/Lab3a/WR-Dataset/checkpoint/alpha/assets\n",
      "164/257 [==================>...........] - ETA: 22s - loss: 0.1356 - cosine_similarity: 0.4530INFO:tensorflow:Assets written to: /home/anshul/Downloads/Lab3a/WR-Dataset/checkpoint/alpha/assets\n",
      "174/257 [===================>..........] - ETA: 20s - loss: 0.1355 - cosine_similarity: 0.4530INFO:tensorflow:Assets written to: /home/anshul/Downloads/Lab3a/WR-Dataset/checkpoint/alpha/assets\n",
      "184/257 [====================>.........] - ETA: 18s - loss: 0.1354 - cosine_similarity: 0.4530INFO:tensorflow:Assets written to: /home/anshul/Downloads/Lab3a/WR-Dataset/checkpoint/alpha/assets\n",
      "194/257 [=====================>........] - ETA: 15s - loss: 0.1354 - cosine_similarity: 0.4529INFO:tensorflow:Assets written to: /home/anshul/Downloads/Lab3a/WR-Dataset/checkpoint/alpha/assets\n",
      "204/257 [======================>.......] - ETA: 13s - loss: 0.1353 - cosine_similarity: 0.4529INFO:tensorflow:Assets written to: /home/anshul/Downloads/Lab3a/WR-Dataset/checkpoint/alpha/assets\n",
      "214/257 [=======================>......] - ETA: 10s - loss: 0.1352 - cosine_similarity: 0.4529INFO:tensorflow:Assets written to: /home/anshul/Downloads/Lab3a/WR-Dataset/checkpoint/alpha/assets\n",
      "224/257 [=========================>....] - ETA: 8s - loss: 0.1351 - cosine_similarity: 0.4529INFO:tensorflow:Assets written to: /home/anshul/Downloads/Lab3a/WR-Dataset/checkpoint/alpha/assets\n",
      "234/257 [==========================>...] - ETA: 5s - loss: 0.1350 - cosine_similarity: 0.4528INFO:tensorflow:Assets written to: /home/anshul/Downloads/Lab3a/WR-Dataset/checkpoint/alpha/assets\n",
      "244/257 [===========================>..] - ETA: 3s - loss: 0.1350 - cosine_similarity: 0.4528INFO:tensorflow:Assets written to: /home/anshul/Downloads/Lab3a/WR-Dataset/checkpoint/alpha/assets\n",
      "254/257 [============================>.] - ETA: 0s - loss: 0.1349 - cosine_similarity: 0.4528INFO:tensorflow:Assets written to: /home/anshul/Downloads/Lab3a/WR-Dataset/checkpoint/alpha/assets\n",
      "257/257 [==============================] - 66s 257ms/step - loss: 0.1349 - cosine_similarity: 0.4528 - val_loss: 0.1300 - val_cosine_similarity: 0.4433\n",
      "Epoch 17/30\n",
      "  7/257 [..............................] - ETA: 9s - loss: 0.1351 - cosine_similarity: 0.4748INFO:tensorflow:Assets written to: /home/anshul/Downloads/Lab3a/WR-Dataset/checkpoint/alpha/assets\n",
      " 17/257 [>.............................] - ETA: 39s - loss: 0.1333 - cosine_similarity: 0.4845INFO:tensorflow:Assets written to: /home/anshul/Downloads/Lab3a/WR-Dataset/checkpoint/alpha/assets\n",
      " 27/257 [==>...........................] - ETA: 44s - loss: 0.1320 - cosine_similarity: 0.4824INFO:tensorflow:Assets written to: /home/anshul/Downloads/Lab3a/WR-Dataset/checkpoint/alpha/assets\n"
     ]
    },
    {
     "name": "stdout",
     "output_type": "stream",
     "text": [
      " 37/257 [===>..........................] - ETA: 45s - loss: 0.1304 - cosine_similarity: 0.4805INFO:tensorflow:Assets written to: /home/anshul/Downloads/Lab3a/WR-Dataset/checkpoint/alpha/assets\n",
      " 47/257 [====>.........................] - ETA: 44s - loss: 0.1295 - cosine_similarity: 0.4792INFO:tensorflow:Assets written to: /home/anshul/Downloads/Lab3a/WR-Dataset/checkpoint/alpha/assets\n",
      " 57/257 [=====>........................] - ETA: 45s - loss: 0.1288 - cosine_similarity: 0.4783INFO:tensorflow:Assets written to: /home/anshul/Downloads/Lab3a/WR-Dataset/checkpoint/alpha/assets\n",
      " 67/257 [======>.......................] - ETA: 43s - loss: 0.1286 - cosine_similarity: 0.4777INFO:tensorflow:Assets written to: /home/anshul/Downloads/Lab3a/WR-Dataset/checkpoint/alpha/assets\n",
      " 77/257 [=======>......................] - ETA: 41s - loss: 0.1285 - cosine_similarity: 0.4773INFO:tensorflow:Assets written to: /home/anshul/Downloads/Lab3a/WR-Dataset/checkpoint/alpha/assets\n",
      " 87/257 [=========>....................] - ETA: 39s - loss: 0.1284 - cosine_similarity: 0.4776INFO:tensorflow:Assets written to: /home/anshul/Downloads/Lab3a/WR-Dataset/checkpoint/alpha/assets\n",
      " 97/257 [==========>...................] - ETA: 38s - loss: 0.1284 - cosine_similarity: 0.4779INFO:tensorflow:Assets written to: /home/anshul/Downloads/Lab3a/WR-Dataset/checkpoint/alpha/assets\n",
      "107/257 [===========>..................] - ETA: 35s - loss: 0.1285 - cosine_similarity: 0.4780INFO:tensorflow:Assets written to: /home/anshul/Downloads/Lab3a/WR-Dataset/checkpoint/alpha/assets\n",
      "117/257 [============>.................] - ETA: 33s - loss: 0.1285 - cosine_similarity: 0.4781INFO:tensorflow:Assets written to: /home/anshul/Downloads/Lab3a/WR-Dataset/checkpoint/alpha/assets\n",
      "127/257 [=============>................] - ETA: 31s - loss: 0.1285 - cosine_similarity: 0.4783INFO:tensorflow:Assets written to: /home/anshul/Downloads/Lab3a/WR-Dataset/checkpoint/alpha/assets\n",
      "137/257 [==============>...............] - ETA: 29s - loss: 0.1285 - cosine_similarity: 0.4783INFO:tensorflow:Assets written to: /home/anshul/Downloads/Lab3a/WR-Dataset/checkpoint/alpha/assets\n",
      "147/257 [================>.............] - ETA: 26s - loss: 0.1285 - cosine_similarity: 0.4783INFO:tensorflow:Assets written to: /home/anshul/Downloads/Lab3a/WR-Dataset/checkpoint/alpha/assets\n",
      "157/257 [=================>............] - ETA: 24s - loss: 0.1285 - cosine_similarity: 0.4783INFO:tensorflow:Assets written to: /home/anshul/Downloads/Lab3a/WR-Dataset/checkpoint/alpha/assets\n",
      "167/257 [==================>...........] - ETA: 22s - loss: 0.1284 - cosine_similarity: 0.4784INFO:tensorflow:Assets written to: /home/anshul/Downloads/Lab3a/WR-Dataset/checkpoint/alpha/assets\n",
      "177/257 [===================>..........] - ETA: 19s - loss: 0.1284 - cosine_similarity: 0.4784INFO:tensorflow:Assets written to: /home/anshul/Downloads/Lab3a/WR-Dataset/checkpoint/alpha/assets\n",
      "187/257 [====================>.........] - ETA: 17s - loss: 0.1283 - cosine_similarity: 0.4784INFO:tensorflow:Assets written to: /home/anshul/Downloads/Lab3a/WR-Dataset/checkpoint/alpha/assets\n",
      "197/257 [=====================>........] - ETA: 14s - loss: 0.1283 - cosine_similarity: 0.4784INFO:tensorflow:Assets written to: /home/anshul/Downloads/Lab3a/WR-Dataset/checkpoint/alpha/assets\n",
      "207/257 [=======================>......] - ETA: 12s - loss: 0.1283 - cosine_similarity: 0.4784INFO:tensorflow:Assets written to: /home/anshul/Downloads/Lab3a/WR-Dataset/checkpoint/alpha/assets\n",
      "217/257 [========================>.....] - ETA: 9s - loss: 0.1282 - cosine_similarity: 0.4784 INFO:tensorflow:Assets written to: /home/anshul/Downloads/Lab3a/WR-Dataset/checkpoint/alpha/assets\n",
      "227/257 [=========================>....] - ETA: 7s - loss: 0.1282 - cosine_similarity: 0.4784INFO:tensorflow:Assets written to: /home/anshul/Downloads/Lab3a/WR-Dataset/checkpoint/alpha/assets\n",
      "237/257 [==========================>...] - ETA: 5s - loss: 0.1282 - cosine_similarity: 0.4785INFO:tensorflow:Assets written to: /home/anshul/Downloads/Lab3a/WR-Dataset/checkpoint/alpha/assets\n",
      "247/257 [===========================>..] - ETA: 2s - loss: 0.1281 - cosine_similarity: 0.4785INFO:tensorflow:Assets written to: /home/anshul/Downloads/Lab3a/WR-Dataset/checkpoint/alpha/assets\n",
      "257/257 [==============================] - 65s 253ms/step - loss: 0.1281 - cosine_similarity: 0.4785 - val_loss: 0.1219 - val_cosine_similarity: 0.4732\n",
      "Epoch 18/30\n",
      "  1/257 [..............................] - ETA: 9s - loss: 0.1298 - cosine_similarity: 0.5201INFO:tensorflow:Assets written to: /home/anshul/Downloads/Lab3a/WR-Dataset/checkpoint/alpha/assets\n",
      " 10/257 [>.............................] - ETA: 1:07 - loss: 0.1217 - cosine_similarity: 0.4908INFO:tensorflow:Assets written to: /home/anshul/Downloads/Lab3a/WR-Dataset/checkpoint/alpha/assets\n",
      " 20/257 [=>............................] - ETA: 1:07 - loss: 0.1185 - cosine_similarity: 0.4915INFO:tensorflow:Assets written to: /home/anshul/Downloads/Lab3a/WR-Dataset/checkpoint/alpha/assets\n",
      " 30/257 [==>...........................] - ETA: 1:01 - loss: 0.1187 - cosine_similarity: 0.4937INFO:tensorflow:Assets written to: /home/anshul/Downloads/Lab3a/WR-Dataset/checkpoint/alpha/assets\n",
      " 40/257 [===>..........................] - ETA: 57s - loss: 0.1189 - cosine_similarity: 0.4942 INFO:tensorflow:Assets written to: /home/anshul/Downloads/Lab3a/WR-Dataset/checkpoint/alpha/assets\n",
      " 50/257 [====>.........................] - ETA: 53s - loss: 0.1189 - cosine_similarity: 0.4946INFO:tensorflow:Assets written to: /home/anshul/Downloads/Lab3a/WR-Dataset/checkpoint/alpha/assets\n",
      " 60/257 [======>.......................] - ETA: 52s - loss: 0.1190 - cosine_similarity: 0.4954INFO:tensorflow:Assets written to: /home/anshul/Downloads/Lab3a/WR-Dataset/checkpoint/alpha/assets\n",
      " 70/257 [=======>......................] - ETA: 48s - loss: 0.1193 - cosine_similarity: 0.4961INFO:tensorflow:Assets written to: /home/anshul/Downloads/Lab3a/WR-Dataset/checkpoint/alpha/assets\n",
      " 80/257 [========>.....................] - ETA: 45s - loss: 0.1198 - cosine_similarity: 0.4966INFO:tensorflow:Assets written to: /home/anshul/Downloads/Lab3a/WR-Dataset/checkpoint/alpha/assets\n",
      " 90/257 [=========>....................] - ETA: 42s - loss: 0.1201 - cosine_similarity: 0.4971INFO:tensorflow:Assets written to: /home/anshul/Downloads/Lab3a/WR-Dataset/checkpoint/alpha/assets\n",
      "100/257 [==========>...................] - ETA: 40s - loss: 0.1202 - cosine_similarity: 0.4978INFO:tensorflow:Assets written to: /home/anshul/Downloads/Lab3a/WR-Dataset/checkpoint/alpha/assets\n",
      "110/257 [===========>..................] - ETA: 38s - loss: 0.1204 - cosine_similarity: 0.4986INFO:tensorflow:Assets written to: /home/anshul/Downloads/Lab3a/WR-Dataset/checkpoint/alpha/assets\n",
      "120/257 [=============>................] - ETA: 35s - loss: 0.1206 - cosine_similarity: 0.4996INFO:tensorflow:Assets written to: /home/anshul/Downloads/Lab3a/WR-Dataset/checkpoint/alpha/assets\n",
      "130/257 [==============>...............] - ETA: 32s - loss: 0.1206 - cosine_similarity: 0.5005INFO:tensorflow:Assets written to: /home/anshul/Downloads/Lab3a/WR-Dataset/checkpoint/alpha/assets\n",
      "140/257 [===============>..............] - ETA: 30s - loss: 0.1207 - cosine_similarity: 0.5014INFO:tensorflow:Assets written to: /home/anshul/Downloads/Lab3a/WR-Dataset/checkpoint/alpha/assets\n",
      "150/257 [================>.............] - ETA: 27s - loss: 0.1207 - cosine_similarity: 0.5020INFO:tensorflow:Assets written to: /home/anshul/Downloads/Lab3a/WR-Dataset/checkpoint/alpha/assets\n",
      "160/257 [=================>............] - ETA: 25s - loss: 0.1207 - cosine_similarity: 0.5026INFO:tensorflow:Assets written to: /home/anshul/Downloads/Lab3a/WR-Dataset/checkpoint/alpha/assets\n",
      "170/257 [==================>...........] - ETA: 22s - loss: 0.1207 - cosine_similarity: 0.5032INFO:tensorflow:Assets written to: /home/anshul/Downloads/Lab3a/WR-Dataset/checkpoint/alpha/assets\n",
      "180/257 [====================>.........] - ETA: 19s - loss: 0.1207 - cosine_similarity: 0.5037INFO:tensorflow:Assets written to: /home/anshul/Downloads/Lab3a/WR-Dataset/checkpoint/alpha/assets\n",
      "190/257 [=====================>........] - ETA: 17s - loss: 0.1207 - cosine_similarity: 0.5041INFO:tensorflow:Assets written to: /home/anshul/Downloads/Lab3a/WR-Dataset/checkpoint/alpha/assets\n"
     ]
    },
    {
     "name": "stdout",
     "output_type": "stream",
     "text": [
      "200/257 [======================>.......] - ETA: 14s - loss: 0.1207 - cosine_similarity: 0.5045INFO:tensorflow:Assets written to: /home/anshul/Downloads/Lab3a/WR-Dataset/checkpoint/alpha/assets\n",
      "210/257 [=======================>......] - ETA: 12s - loss: 0.1207 - cosine_similarity: 0.5048INFO:tensorflow:Assets written to: /home/anshul/Downloads/Lab3a/WR-Dataset/checkpoint/alpha/assets\n",
      "220/257 [========================>.....] - ETA: 9s - loss: 0.1206 - cosine_similarity: 0.5052 INFO:tensorflow:Assets written to: /home/anshul/Downloads/Lab3a/WR-Dataset/checkpoint/alpha/assets\n",
      "230/257 [=========================>....] - ETA: 6s - loss: 0.1206 - cosine_similarity: 0.5055INFO:tensorflow:Assets written to: /home/anshul/Downloads/Lab3a/WR-Dataset/checkpoint/alpha/assets\n",
      "240/257 [===========================>..] - ETA: 4s - loss: 0.1206 - cosine_similarity: 0.5058INFO:tensorflow:Assets written to: /home/anshul/Downloads/Lab3a/WR-Dataset/checkpoint/alpha/assets\n",
      "250/257 [============================>.] - ETA: 1s - loss: 0.1205 - cosine_similarity: 0.5062INFO:tensorflow:Assets written to: /home/anshul/Downloads/Lab3a/WR-Dataset/checkpoint/alpha/assets\n",
      "257/257 [==============================] - 68s 264ms/step - loss: 0.1205 - cosine_similarity: 0.5065 - val_loss: 0.1121 - val_cosine_similarity: 0.5200\n",
      "Epoch 19/30\n",
      "  3/257 [..............................] - ETA: 9s - loss: 0.1074 - cosine_similarity: 0.5795INFO:tensorflow:Assets written to: /home/anshul/Downloads/Lab3a/WR-Dataset/checkpoint/alpha/assets\n",
      " 13/257 [>.............................] - ETA: 52s - loss: 0.1081 - cosine_similarity: 0.5511 INFO:tensorflow:Assets written to: /home/anshul/Downloads/Lab3a/WR-Dataset/checkpoint/alpha/assets\n",
      " 23/257 [=>............................] - ETA: 54s - loss: 0.1081 - cosine_similarity: 0.5464INFO:tensorflow:Assets written to: /home/anshul/Downloads/Lab3a/WR-Dataset/checkpoint/alpha/assets\n",
      " 33/257 [==>...........................] - ETA: 57s - loss: 0.1080 - cosine_similarity: 0.5441 INFO:tensorflow:Assets written to: /home/anshul/Downloads/Lab3a/WR-Dataset/checkpoint/alpha/assets\n",
      " 43/257 [====>.........................] - ETA: 54s - loss: 0.1081 - cosine_similarity: 0.5436INFO:tensorflow:Assets written to: /home/anshul/Downloads/Lab3a/WR-Dataset/checkpoint/alpha/assets\n",
      " 53/257 [=====>........................] - ETA: 51s - loss: 0.1082 - cosine_similarity: 0.5441INFO:tensorflow:Assets written to: /home/anshul/Downloads/Lab3a/WR-Dataset/checkpoint/alpha/assets\n",
      " 63/257 [======>.......................] - ETA: 48s - loss: 0.1084 - cosine_similarity: 0.5450INFO:tensorflow:Assets written to: /home/anshul/Downloads/Lab3a/WR-Dataset/checkpoint/alpha/assets\n",
      " 73/257 [=======>......................] - ETA: 47s - loss: 0.1085 - cosine_similarity: 0.5457INFO:tensorflow:Assets written to: /home/anshul/Downloads/Lab3a/WR-Dataset/checkpoint/alpha/assets\n",
      " 83/257 [========>.....................] - ETA: 44s - loss: 0.1087 - cosine_similarity: 0.5465INFO:tensorflow:Assets written to: /home/anshul/Downloads/Lab3a/WR-Dataset/checkpoint/alpha/assets\n",
      " 93/257 [=========>....................] - ETA: 41s - loss: 0.1088 - cosine_similarity: 0.5474INFO:tensorflow:Assets written to: /home/anshul/Downloads/Lab3a/WR-Dataset/checkpoint/alpha/assets\n",
      "103/257 [===========>..................] - ETA: 38s - loss: 0.1089 - cosine_similarity: 0.5481INFO:tensorflow:Assets written to: /home/anshul/Downloads/Lab3a/WR-Dataset/checkpoint/alpha/assets\n",
      "113/257 [============>.................] - ETA: 36s - loss: 0.1090 - cosine_similarity: 0.5487INFO:tensorflow:Assets written to: /home/anshul/Downloads/Lab3a/WR-Dataset/checkpoint/alpha/assets\n",
      "123/257 [=============>................] - ETA: 34s - loss: 0.1091 - cosine_similarity: 0.5492INFO:tensorflow:Assets written to: /home/anshul/Downloads/Lab3a/WR-Dataset/checkpoint/alpha/assets\n",
      "133/257 [==============>...............] - ETA: 31s - loss: 0.1092 - cosine_similarity: 0.5495INFO:tensorflow:Assets written to: /home/anshul/Downloads/Lab3a/WR-Dataset/checkpoint/alpha/assets\n",
      "143/257 [===============>..............] - ETA: 29s - loss: 0.1093 - cosine_similarity: 0.5497INFO:tensorflow:Assets written to: /home/anshul/Downloads/Lab3a/WR-Dataset/checkpoint/alpha/assets\n",
      "153/257 [================>.............] - ETA: 26s - loss: 0.1094 - cosine_similarity: 0.5499INFO:tensorflow:Assets written to: /home/anshul/Downloads/Lab3a/WR-Dataset/checkpoint/alpha/assets\n",
      "163/257 [==================>...........] - ETA: 24s - loss: 0.1094 - cosine_similarity: 0.5501INFO:tensorflow:Assets written to: /home/anshul/Downloads/Lab3a/WR-Dataset/checkpoint/alpha/assets\n",
      "173/257 [===================>..........] - ETA: 21s - loss: 0.1094 - cosine_similarity: 0.5503INFO:tensorflow:Assets written to: /home/anshul/Downloads/Lab3a/WR-Dataset/checkpoint/alpha/assets\n",
      "183/257 [====================>.........] - ETA: 19s - loss: 0.1095 - cosine_similarity: 0.5505INFO:tensorflow:Assets written to: /home/anshul/Downloads/Lab3a/WR-Dataset/checkpoint/alpha/assets\n",
      "193/257 [=====================>........] - ETA: 16s - loss: 0.1095 - cosine_similarity: 0.5507INFO:tensorflow:Assets written to: /home/anshul/Downloads/Lab3a/WR-Dataset/checkpoint/alpha/assets\n",
      "203/257 [======================>.......] - ETA: 13s - loss: 0.1095 - cosine_similarity: 0.5510INFO:tensorflow:Assets written to: /home/anshul/Downloads/Lab3a/WR-Dataset/checkpoint/alpha/assets\n",
      "213/257 [=======================>......] - ETA: 11s - loss: 0.1095 - cosine_similarity: 0.5512INFO:tensorflow:Assets written to: /home/anshul/Downloads/Lab3a/WR-Dataset/checkpoint/alpha/assets\n",
      "223/257 [=========================>....] - ETA: 8s - loss: 0.1095 - cosine_similarity: 0.5515INFO:tensorflow:Assets written to: /home/anshul/Downloads/Lab3a/WR-Dataset/checkpoint/alpha/assets\n",
      "233/257 [==========================>...] - ETA: 6s - loss: 0.1095 - cosine_similarity: 0.5517INFO:tensorflow:Assets written to: /home/anshul/Downloads/Lab3a/WR-Dataset/checkpoint/alpha/assets\n",
      "243/257 [===========================>..] - ETA: 3s - loss: 0.1095 - cosine_similarity: 0.5519INFO:tensorflow:Assets written to: /home/anshul/Downloads/Lab3a/WR-Dataset/checkpoint/alpha/assets\n",
      "253/257 [============================>.] - ETA: 1s - loss: 0.1096 - cosine_similarity: 0.5522INFO:tensorflow:Assets written to: /home/anshul/Downloads/Lab3a/WR-Dataset/checkpoint/alpha/assets\n",
      "257/257 [==============================] - 68s 266ms/step - loss: 0.1096 - cosine_similarity: 0.5523 - val_loss: 0.1014 - val_cosine_similarity: 0.5791\n",
      "Epoch 20/30\n",
      "  7/257 [..............................] - ETA: 9s - loss: 0.0863 - cosine_similarity: 0.6414INFO:tensorflow:Assets written to: /home/anshul/Downloads/Lab3a/WR-Dataset/checkpoint/alpha/assets\n",
      " 16/257 [>.............................] - ETA: 45s - loss: 0.0901 - cosine_similarity: 0.6248INFO:tensorflow:Assets written to: /home/anshul/Downloads/Lab3a/WR-Dataset/checkpoint/alpha/assets\n",
      " 26/257 [==>...........................] - ETA: 49s - loss: 0.0924 - cosine_similarity: 0.6142INFO:tensorflow:Assets written to: /home/anshul/Downloads/Lab3a/WR-Dataset/checkpoint/alpha/assets\n",
      " 36/257 [===>..........................] - ETA: 53s - loss: 0.0936 - cosine_similarity: 0.6091INFO:tensorflow:Assets written to: /home/anshul/Downloads/Lab3a/WR-Dataset/checkpoint/alpha/assets\n",
      " 46/257 [====>.........................] - ETA: 51s - loss: 0.0944 - cosine_similarity: 0.6068INFO:tensorflow:Assets written to: /home/anshul/Downloads/Lab3a/WR-Dataset/checkpoint/alpha/assets\n",
      " 56/257 [=====>........................] - ETA: 49s - loss: 0.0953 - cosine_similarity: 0.6053INFO:tensorflow:Assets written to: /home/anshul/Downloads/Lab3a/WR-Dataset/checkpoint/alpha/assets\n",
      " 66/257 [======>.......................] - ETA: 47s - loss: 0.0958 - cosine_similarity: 0.6046INFO:tensorflow:Assets written to: /home/anshul/Downloads/Lab3a/WR-Dataset/checkpoint/alpha/assets\n",
      " 76/257 [=======>......................] - ETA: 44s - loss: 0.0963 - cosine_similarity: 0.6041INFO:tensorflow:Assets written to: /home/anshul/Downloads/Lab3a/WR-Dataset/checkpoint/alpha/assets\n",
      " 86/257 [=========>....................] - ETA: 43s - loss: 0.0967 - cosine_similarity: 0.6036INFO:tensorflow:Assets written to: /home/anshul/Downloads/Lab3a/WR-Dataset/checkpoint/alpha/assets\n"
     ]
    },
    {
     "name": "stdout",
     "output_type": "stream",
     "text": [
      " 96/257 [==========>...................] - ETA: 41s - loss: 0.0970 - cosine_similarity: 0.6034INFO:tensorflow:Assets written to: /home/anshul/Downloads/Lab3a/WR-Dataset/checkpoint/alpha/assets\n",
      "106/257 [===========>..................] - ETA: 38s - loss: 0.0973 - cosine_similarity: 0.6032INFO:tensorflow:Assets written to: /home/anshul/Downloads/Lab3a/WR-Dataset/checkpoint/alpha/assets\n",
      "116/257 [============>.................] - ETA: 35s - loss: 0.0974 - cosine_similarity: 0.6031INFO:tensorflow:Assets written to: /home/anshul/Downloads/Lab3a/WR-Dataset/checkpoint/alpha/assets\n",
      "126/257 [=============>................] - ETA: 33s - loss: 0.0976 - cosine_similarity: 0.6030INFO:tensorflow:Assets written to: /home/anshul/Downloads/Lab3a/WR-Dataset/checkpoint/alpha/assets\n",
      "136/257 [==============>...............] - ETA: 31s - loss: 0.0976 - cosine_similarity: 0.6031INFO:tensorflow:Assets written to: /home/anshul/Downloads/Lab3a/WR-Dataset/checkpoint/alpha/assets\n",
      "146/257 [================>.............] - ETA: 28s - loss: 0.0977 - cosine_similarity: 0.6032INFO:tensorflow:Assets written to: /home/anshul/Downloads/Lab3a/WR-Dataset/checkpoint/alpha/assets\n",
      "156/257 [=================>............] - ETA: 25s - loss: 0.0978 - cosine_similarity: 0.6032INFO:tensorflow:Assets written to: /home/anshul/Downloads/Lab3a/WR-Dataset/checkpoint/alpha/assets\n",
      "166/257 [==================>...........] - ETA: 23s - loss: 0.0978 - cosine_similarity: 0.6032INFO:tensorflow:Assets written to: /home/anshul/Downloads/Lab3a/WR-Dataset/checkpoint/alpha/assets\n",
      "176/257 [===================>..........] - ETA: 20s - loss: 0.0979 - cosine_similarity: 0.6032INFO:tensorflow:Assets written to: /home/anshul/Downloads/Lab3a/WR-Dataset/checkpoint/alpha/assets\n",
      "186/257 [====================>.........] - ETA: 18s - loss: 0.0979 - cosine_similarity: 0.6032INFO:tensorflow:Assets written to: /home/anshul/Downloads/Lab3a/WR-Dataset/checkpoint/alpha/assets\n",
      "196/257 [=====================>........] - ETA: 15s - loss: 0.0980 - cosine_similarity: 0.6033INFO:tensorflow:Assets written to: /home/anshul/Downloads/Lab3a/WR-Dataset/checkpoint/alpha/assets\n",
      "206/257 [=======================>......] - ETA: 12s - loss: 0.0980 - cosine_similarity: 0.6033INFO:tensorflow:Assets written to: /home/anshul/Downloads/Lab3a/WR-Dataset/checkpoint/alpha/assets\n",
      "216/257 [========================>.....] - ETA: 10s - loss: 0.0981 - cosine_similarity: 0.6033INFO:tensorflow:Assets written to: /home/anshul/Downloads/Lab3a/WR-Dataset/checkpoint/alpha/assets\n",
      "226/257 [=========================>....] - ETA: 7s - loss: 0.0981 - cosine_similarity: 0.6033INFO:tensorflow:Assets written to: /home/anshul/Downloads/Lab3a/WR-Dataset/checkpoint/alpha/assets\n",
      "236/257 [==========================>...] - ETA: 5s - loss: 0.0982 - cosine_similarity: 0.6033INFO:tensorflow:Assets written to: /home/anshul/Downloads/Lab3a/WR-Dataset/checkpoint/alpha/assets\n",
      "246/257 [===========================>..] - ETA: 2s - loss: 0.0982 - cosine_similarity: 0.6034INFO:tensorflow:Assets written to: /home/anshul/Downloads/Lab3a/WR-Dataset/checkpoint/alpha/assets\n",
      "256/257 [============================>.] - ETA: 0s - loss: 0.0982 - cosine_similarity: 0.6035INFO:tensorflow:Assets written to: /home/anshul/Downloads/Lab3a/WR-Dataset/checkpoint/alpha/assets\n",
      "257/257 [==============================] - 68s 264ms/step - loss: 0.0982 - cosine_similarity: 0.6035 - val_loss: 0.0880 - val_cosine_similarity: 0.6296\n",
      "Epoch 21/30\n",
      "  9/257 [>.............................] - ETA: 9s - loss: 0.0930 - cosine_similarity: 0.6198INFO:tensorflow:Assets written to: /home/anshul/Downloads/Lab3a/WR-Dataset/checkpoint/alpha/assets\n",
      " 19/257 [=>............................] - ETA: 35s - loss: 0.0921 - cosine_similarity: 0.6288INFO:tensorflow:Assets written to: /home/anshul/Downloads/Lab3a/WR-Dataset/checkpoint/alpha/assets\n",
      " 29/257 [==>...........................] - ETA: 41s - loss: 0.0934 - cosine_similarity: 0.6241INFO:tensorflow:Assets written to: /home/anshul/Downloads/Lab3a/WR-Dataset/checkpoint/alpha/assets\n",
      " 39/257 [===>..........................] - ETA: 42s - loss: 0.0934 - cosine_similarity: 0.6223INFO:tensorflow:Assets written to: /home/anshul/Downloads/Lab3a/WR-Dataset/checkpoint/alpha/assets\n",
      " 49/257 [====>.........................] - ETA: 46s - loss: 0.0932 - cosine_similarity: 0.6235INFO:tensorflow:Assets written to: /home/anshul/Downloads/Lab3a/WR-Dataset/checkpoint/alpha/assets\n",
      " 59/257 [=====>........................] - ETA: 45s - loss: 0.0929 - cosine_similarity: 0.6255INFO:tensorflow:Assets written to: /home/anshul/Downloads/Lab3a/WR-Dataset/checkpoint/alpha/assets\n",
      " 69/257 [=======>......................] - ETA: 43s - loss: 0.0927 - cosine_similarity: 0.6277INFO:tensorflow:Assets written to: /home/anshul/Downloads/Lab3a/WR-Dataset/checkpoint/alpha/assets\n",
      " 79/257 [========>.....................] - ETA: 41s - loss: 0.0925 - cosine_similarity: 0.6295INFO:tensorflow:Assets written to: /home/anshul/Downloads/Lab3a/WR-Dataset/checkpoint/alpha/assets\n",
      " 89/257 [=========>....................] - ETA: 39s - loss: 0.0923 - cosine_similarity: 0.6310INFO:tensorflow:Assets written to: /home/anshul/Downloads/Lab3a/WR-Dataset/checkpoint/alpha/assets\n",
      " 99/257 [==========>...................] - ETA: 38s - loss: 0.0922 - cosine_similarity: 0.6322INFO:tensorflow:Assets written to: /home/anshul/Downloads/Lab3a/WR-Dataset/checkpoint/alpha/assets\n",
      "109/257 [===========>..................] - ETA: 35s - loss: 0.0920 - cosine_similarity: 0.6332INFO:tensorflow:Assets written to: /home/anshul/Downloads/Lab3a/WR-Dataset/checkpoint/alpha/assets\n",
      "119/257 [============>.................] - ETA: 33s - loss: 0.0918 - cosine_similarity: 0.6341INFO:tensorflow:Assets written to: /home/anshul/Downloads/Lab3a/WR-Dataset/checkpoint/alpha/assets\n",
      "129/257 [==============>...............] - ETA: 31s - loss: 0.0916 - cosine_similarity: 0.6350INFO:tensorflow:Assets written to: /home/anshul/Downloads/Lab3a/WR-Dataset/checkpoint/alpha/assets\n",
      "139/257 [===============>..............] - ETA: 29s - loss: 0.0915 - cosine_similarity: 0.6356INFO:tensorflow:Assets written to: /home/anshul/Downloads/Lab3a/WR-Dataset/checkpoint/alpha/assets\n",
      "149/257 [================>.............] - ETA: 26s - loss: 0.0913 - cosine_similarity: 0.6362INFO:tensorflow:Assets written to: /home/anshul/Downloads/Lab3a/WR-Dataset/checkpoint/alpha/assets\n",
      "159/257 [=================>............] - ETA: 24s - loss: 0.0912 - cosine_similarity: 0.6368INFO:tensorflow:Assets written to: /home/anshul/Downloads/Lab3a/WR-Dataset/checkpoint/alpha/assets\n",
      "169/257 [==================>...........] - ETA: 21s - loss: 0.0911 - cosine_similarity: 0.6373INFO:tensorflow:Assets written to: /home/anshul/Downloads/Lab3a/WR-Dataset/checkpoint/alpha/assets\n",
      "179/257 [===================>..........] - ETA: 19s - loss: 0.0910 - cosine_similarity: 0.6379INFO:tensorflow:Assets written to: /home/anshul/Downloads/Lab3a/WR-Dataset/checkpoint/alpha/assets\n",
      "189/257 [=====================>........] - ETA: 17s - loss: 0.0909 - cosine_similarity: 0.6386INFO:tensorflow:Assets written to: /home/anshul/Downloads/Lab3a/WR-Dataset/checkpoint/alpha/assets\n",
      "199/257 [======================>.......] - ETA: 14s - loss: 0.0908 - cosine_similarity: 0.6391INFO:tensorflow:Assets written to: /home/anshul/Downloads/Lab3a/WR-Dataset/checkpoint/alpha/assets\n",
      "209/257 [=======================>......] - ETA: 12s - loss: 0.0907 - cosine_similarity: 0.6396INFO:tensorflow:Assets written to: /home/anshul/Downloads/Lab3a/WR-Dataset/checkpoint/alpha/assets\n",
      "219/257 [========================>.....] - ETA: 9s - loss: 0.0906 - cosine_similarity: 0.6401 INFO:tensorflow:Assets written to: /home/anshul/Downloads/Lab3a/WR-Dataset/checkpoint/alpha/assets\n",
      "229/257 [=========================>....] - ETA: 7s - loss: 0.0906 - cosine_similarity: 0.6406INFO:tensorflow:Assets written to: /home/anshul/Downloads/Lab3a/WR-Dataset/checkpoint/alpha/assets\n",
      "239/257 [==========================>...] - ETA: 4s - loss: 0.0905 - cosine_similarity: 0.6411INFO:tensorflow:Assets written to: /home/anshul/Downloads/Lab3a/WR-Dataset/checkpoint/alpha/assets\n",
      "249/257 [============================>.] - ETA: 2s - loss: 0.0904 - cosine_similarity: 0.6416INFO:tensorflow:Assets written to: /home/anshul/Downloads/Lab3a/WR-Dataset/checkpoint/alpha/assets\n"
     ]
    },
    {
     "name": "stdout",
     "output_type": "stream",
     "text": [
      "257/257 [==============================] - 66s 258ms/step - loss: 0.0903 - cosine_similarity: 0.6421 - val_loss: 0.0751 - val_cosine_similarity: 0.6910\n",
      "Epoch 22/30\n",
      "  3/257 [..............................] - ETA: 9s - loss: 0.0695 - cosine_similarity: 0.7167INFO:tensorflow:Assets written to: /home/anshul/Downloads/Lab3a/WR-Dataset/checkpoint/alpha/assets\n",
      " 12/257 [>.............................] - ETA: 58s - loss: 0.0773 - cosine_similarity: 0.6974 INFO:tensorflow:Assets written to: /home/anshul/Downloads/Lab3a/WR-Dataset/checkpoint/alpha/assets\n",
      " 22/257 [=>............................] - ETA: 1:04 - loss: 0.0783 - cosine_similarity: 0.6975INFO:tensorflow:Assets written to: /home/anshul/Downloads/Lab3a/WR-Dataset/checkpoint/alpha/assets\n",
      " 32/257 [==>...........................] - ETA: 1:00 - loss: 0.0782 - cosine_similarity: 0.6968INFO:tensorflow:Assets written to: /home/anshul/Downloads/Lab3a/WR-Dataset/checkpoint/alpha/assets\n",
      " 42/257 [===>..........................] - ETA: 56s - loss: 0.0780 - cosine_similarity: 0.6964INFO:tensorflow:Assets written to: /home/anshul/Downloads/Lab3a/WR-Dataset/checkpoint/alpha/assets\n",
      " 52/257 [=====>........................] - ETA: 53s - loss: 0.0778 - cosine_similarity: 0.6959INFO:tensorflow:Assets written to: /home/anshul/Downloads/Lab3a/WR-Dataset/checkpoint/alpha/assets\n",
      " 62/257 [======>.......................] - ETA: 53s - loss: 0.0776 - cosine_similarity: 0.6961INFO:tensorflow:Assets written to: /home/anshul/Downloads/Lab3a/WR-Dataset/checkpoint/alpha/assets\n",
      " 72/257 [=======>......................] - ETA: 50s - loss: 0.0773 - cosine_similarity: 0.6963INFO:tensorflow:Assets written to: /home/anshul/Downloads/Lab3a/WR-Dataset/checkpoint/alpha/assets\n",
      " 82/257 [========>.....................] - ETA: 48s - loss: 0.0771 - cosine_similarity: 0.6966INFO:tensorflow:Assets written to: /home/anshul/Downloads/Lab3a/WR-Dataset/checkpoint/alpha/assets\n",
      " 92/257 [=========>....................] - ETA: 45s - loss: 0.0770 - cosine_similarity: 0.6970INFO:tensorflow:Assets written to: /home/anshul/Downloads/Lab3a/WR-Dataset/checkpoint/alpha/assets\n",
      "102/257 [==========>...................] - ETA: 43s - loss: 0.0768 - cosine_similarity: 0.6975INFO:tensorflow:Assets written to: /home/anshul/Downloads/Lab3a/WR-Dataset/checkpoint/alpha/assets\n",
      "112/257 [============>.................] - ETA: 39s - loss: 0.0766 - cosine_similarity: 0.6978INFO:tensorflow:Assets written to: /home/anshul/Downloads/Lab3a/WR-Dataset/checkpoint/alpha/assets\n",
      "122/257 [=============>................] - ETA: 36s - loss: 0.0765 - cosine_similarity: 0.6980INFO:tensorflow:Assets written to: /home/anshul/Downloads/Lab3a/WR-Dataset/checkpoint/alpha/assets\n",
      "132/257 [==============>...............] - ETA: 33s - loss: 0.0764 - cosine_similarity: 0.6985INFO:tensorflow:Assets written to: /home/anshul/Downloads/Lab3a/WR-Dataset/checkpoint/alpha/assets\n",
      "142/257 [===============>..............] - ETA: 31s - loss: 0.0763 - cosine_similarity: 0.6989INFO:tensorflow:Assets written to: /home/anshul/Downloads/Lab3a/WR-Dataset/checkpoint/alpha/assets\n",
      "152/257 [================>.............] - ETA: 28s - loss: 0.0762 - cosine_similarity: 0.6994INFO:tensorflow:Assets written to: /home/anshul/Downloads/Lab3a/WR-Dataset/checkpoint/alpha/assets\n",
      "162/257 [=================>............] - ETA: 26s - loss: 0.0761 - cosine_similarity: 0.6998INFO:tensorflow:Assets written to: /home/anshul/Downloads/Lab3a/WR-Dataset/checkpoint/alpha/assets\n",
      "172/257 [===================>..........] - ETA: 23s - loss: 0.0760 - cosine_similarity: 0.7001INFO:tensorflow:Assets written to: /home/anshul/Downloads/Lab3a/WR-Dataset/checkpoint/alpha/assets\n",
      "182/257 [====================>.........] - ETA: 20s - loss: 0.0759 - cosine_similarity: 0.7005INFO:tensorflow:Assets written to: /home/anshul/Downloads/Lab3a/WR-Dataset/checkpoint/alpha/assets\n",
      "192/257 [=====================>........] - ETA: 17s - loss: 0.0758 - cosine_similarity: 0.7010INFO:tensorflow:Assets written to: /home/anshul/Downloads/Lab3a/WR-Dataset/checkpoint/alpha/assets\n",
      "202/257 [======================>.......] - ETA: 14s - loss: 0.0757 - cosine_similarity: 0.7015INFO:tensorflow:Assets written to: /home/anshul/Downloads/Lab3a/WR-Dataset/checkpoint/alpha/assets\n",
      "212/257 [=======================>......] - ETA: 12s - loss: 0.0756 - cosine_similarity: 0.7019INFO:tensorflow:Assets written to: /home/anshul/Downloads/Lab3a/WR-Dataset/checkpoint/alpha/assets\n",
      "222/257 [========================>.....] - ETA: 9s - loss: 0.0756 - cosine_similarity: 0.7022 INFO:tensorflow:Assets written to: /home/anshul/Downloads/Lab3a/WR-Dataset/checkpoint/alpha/assets\n",
      "232/257 [==========================>...] - ETA: 6s - loss: 0.0755 - cosine_similarity: 0.7025INFO:tensorflow:Assets written to: /home/anshul/Downloads/Lab3a/WR-Dataset/checkpoint/alpha/assets\n",
      "242/257 [===========================>..] - ETA: 4s - loss: 0.0755 - cosine_similarity: 0.7028INFO:tensorflow:Assets written to: /home/anshul/Downloads/Lab3a/WR-Dataset/checkpoint/alpha/assets\n",
      "252/257 [============================>.] - ETA: 1s - loss: 0.0754 - cosine_similarity: 0.7031INFO:tensorflow:Assets written to: /home/anshul/Downloads/Lab3a/WR-Dataset/checkpoint/alpha/assets\n",
      "257/257 [==============================] - 70s 272ms/step - loss: 0.0754 - cosine_similarity: 0.7032 - val_loss: 0.0629 - val_cosine_similarity: 0.7408\n",
      "Epoch 23/30\n",
      "  5/257 [..............................] - ETA: 9s - loss: 0.0734 - cosine_similarity: 0.7301INFO:tensorflow:Assets written to: /home/anshul/Downloads/Lab3a/WR-Dataset/checkpoint/alpha/assets\n",
      " 15/257 [>.............................] - ETA: 44s - loss: 0.0729 - cosine_similarity: 0.7298INFO:tensorflow:Assets written to: /home/anshul/Downloads/Lab3a/WR-Dataset/checkpoint/alpha/assets\n",
      " 25/257 [=>............................] - ETA: 48s - loss: 0.0705 - cosine_similarity: 0.7335INFO:tensorflow:Assets written to: /home/anshul/Downloads/Lab3a/WR-Dataset/checkpoint/alpha/assets\n",
      " 35/257 [===>..........................] - ETA: 52s - loss: 0.0693 - cosine_similarity: 0.7337INFO:tensorflow:Assets written to: /home/anshul/Downloads/Lab3a/WR-Dataset/checkpoint/alpha/assets\n",
      " 45/257 [====>.........................] - ETA: 50s - loss: 0.0690 - cosine_similarity: 0.7331INFO:tensorflow:Assets written to: /home/anshul/Downloads/Lab3a/WR-Dataset/checkpoint/alpha/assets\n",
      " 55/257 [=====>........................] - ETA: 48s - loss: 0.0686 - cosine_similarity: 0.7340INFO:tensorflow:Assets written to: /home/anshul/Downloads/Lab3a/WR-Dataset/checkpoint/alpha/assets\n",
      " 65/257 [======>.......................] - ETA: 45s - loss: 0.0682 - cosine_similarity: 0.7356INFO:tensorflow:Assets written to: /home/anshul/Downloads/Lab3a/WR-Dataset/checkpoint/alpha/assets\n",
      " 75/257 [=======>......................] - ETA: 44s - loss: 0.0679 - cosine_similarity: 0.7367INFO:tensorflow:Assets written to: /home/anshul/Downloads/Lab3a/WR-Dataset/checkpoint/alpha/assets\n",
      " 85/257 [========>.....................] - ETA: 42s - loss: 0.0676 - cosine_similarity: 0.7377INFO:tensorflow:Assets written to: /home/anshul/Downloads/Lab3a/WR-Dataset/checkpoint/alpha/assets\n",
      " 95/257 [==========>...................] - ETA: 39s - loss: 0.0673 - cosine_similarity: 0.7387INFO:tensorflow:Assets written to: /home/anshul/Downloads/Lab3a/WR-Dataset/checkpoint/alpha/assets\n",
      "105/257 [===========>..................] - ETA: 36s - loss: 0.0670 - cosine_similarity: 0.7396INFO:tensorflow:Assets written to: /home/anshul/Downloads/Lab3a/WR-Dataset/checkpoint/alpha/assets\n",
      "115/257 [============>.................] - ETA: 35s - loss: 0.0668 - cosine_similarity: 0.7403INFO:tensorflow:Assets written to: /home/anshul/Downloads/Lab3a/WR-Dataset/checkpoint/alpha/assets\n",
      "125/257 [=============>................] - ETA: 32s - loss: 0.0666 - cosine_similarity: 0.7409INFO:tensorflow:Assets written to: /home/anshul/Downloads/Lab3a/WR-Dataset/checkpoint/alpha/assets\n",
      "135/257 [==============>...............] - ETA: 30s - loss: 0.0664 - cosine_similarity: 0.7415INFO:tensorflow:Assets written to: /home/anshul/Downloads/Lab3a/WR-Dataset/checkpoint/alpha/assets\n",
      "145/257 [===============>..............] - ETA: 27s - loss: 0.0662 - cosine_similarity: 0.7420INFO:tensorflow:Assets written to: /home/anshul/Downloads/Lab3a/WR-Dataset/checkpoint/alpha/assets\n"
     ]
    },
    {
     "name": "stdout",
     "output_type": "stream",
     "text": [
      "155/257 [=================>............] - ETA: 24s - loss: 0.0660 - cosine_similarity: 0.7425INFO:tensorflow:Assets written to: /home/anshul/Downloads/Lab3a/WR-Dataset/checkpoint/alpha/assets\n",
      "165/257 [==================>...........] - ETA: 22s - loss: 0.0659 - cosine_similarity: 0.7430INFO:tensorflow:Assets written to: /home/anshul/Downloads/Lab3a/WR-Dataset/checkpoint/alpha/assets\n",
      "175/257 [===================>..........] - ETA: 20s - loss: 0.0657 - cosine_similarity: 0.7435INFO:tensorflow:Assets written to: /home/anshul/Downloads/Lab3a/WR-Dataset/checkpoint/alpha/assets\n",
      "185/257 [====================>.........] - ETA: 17s - loss: 0.0656 - cosine_similarity: 0.7440INFO:tensorflow:Assets written to: /home/anshul/Downloads/Lab3a/WR-Dataset/checkpoint/alpha/assets\n",
      "195/257 [=====================>........] - ETA: 15s - loss: 0.0655 - cosine_similarity: 0.7444INFO:tensorflow:Assets written to: /home/anshul/Downloads/Lab3a/WR-Dataset/checkpoint/alpha/assets\n",
      "205/257 [======================>.......] - ETA: 12s - loss: 0.0653 - cosine_similarity: 0.7448INFO:tensorflow:Assets written to: /home/anshul/Downloads/Lab3a/WR-Dataset/checkpoint/alpha/assets\n",
      "215/257 [========================>.....] - ETA: 10s - loss: 0.0652 - cosine_similarity: 0.7453INFO:tensorflow:Assets written to: /home/anshul/Downloads/Lab3a/WR-Dataset/checkpoint/alpha/assets\n",
      "225/257 [=========================>....] - ETA: 7s - loss: 0.0651 - cosine_similarity: 0.7457INFO:tensorflow:Assets written to: /home/anshul/Downloads/Lab3a/WR-Dataset/checkpoint/alpha/assets\n",
      "235/257 [==========================>...] - ETA: 5s - loss: 0.0650 - cosine_similarity: 0.7462INFO:tensorflow:Assets written to: /home/anshul/Downloads/Lab3a/WR-Dataset/checkpoint/alpha/assets\n",
      "245/257 [===========================>..] - ETA: 2s - loss: 0.0649 - cosine_similarity: 0.7466INFO:tensorflow:Assets written to: /home/anshul/Downloads/Lab3a/WR-Dataset/checkpoint/alpha/assets\n",
      "255/257 [============================>.] - ETA: 0s - loss: 0.0648 - cosine_similarity: 0.7470INFO:tensorflow:Assets written to: /home/anshul/Downloads/Lab3a/WR-Dataset/checkpoint/alpha/assets\n",
      "257/257 [==============================] - 65s 256ms/step - loss: 0.0648 - cosine_similarity: 0.7472 - val_loss: 0.0514 - val_cosine_similarity: 0.7908\n",
      "Epoch 24/30\n",
      "  9/257 [>.............................] - ETA: 9s - loss: 0.0633 - cosine_similarity: 0.7589INFO:tensorflow:Assets written to: /home/anshul/Downloads/Lab3a/WR-Dataset/checkpoint/alpha/assets\n",
      " 18/257 [=>............................] - ETA: 37s - loss: 0.0596 - cosine_similarity: 0.7719INFO:tensorflow:Assets written to: /home/anshul/Downloads/Lab3a/WR-Dataset/checkpoint/alpha/assets\n",
      " 28/257 [==>...........................] - ETA: 43s - loss: 0.0574 - cosine_similarity: 0.7794INFO:tensorflow:Assets written to: /home/anshul/Downloads/Lab3a/WR-Dataset/checkpoint/alpha/assets\n",
      " 38/257 [===>..........................] - ETA: 46s - loss: 0.0563 - cosine_similarity: 0.7829INFO:tensorflow:Assets written to: /home/anshul/Downloads/Lab3a/WR-Dataset/checkpoint/alpha/assets\n",
      " 48/257 [====>.........................] - ETA: 45s - loss: 0.0556 - cosine_similarity: 0.7853INFO:tensorflow:Assets written to: /home/anshul/Downloads/Lab3a/WR-Dataset/checkpoint/alpha/assets\n",
      " 58/257 [=====>........................] - ETA: 44s - loss: 0.0551 - cosine_similarity: 0.7869INFO:tensorflow:Assets written to: /home/anshul/Downloads/Lab3a/WR-Dataset/checkpoint/alpha/assets\n",
      " 68/257 [======>.......................] - ETA: 42s - loss: 0.0547 - cosine_similarity: 0.7882INFO:tensorflow:Assets written to: /home/anshul/Downloads/Lab3a/WR-Dataset/checkpoint/alpha/assets\n",
      " 78/257 [========>.....................] - ETA: 40s - loss: 0.0545 - cosine_similarity: 0.7888INFO:tensorflow:Assets written to: /home/anshul/Downloads/Lab3a/WR-Dataset/checkpoint/alpha/assets\n",
      " 88/257 [=========>....................] - ETA: 39s - loss: 0.0543 - cosine_similarity: 0.7892INFO:tensorflow:Assets written to: /home/anshul/Downloads/Lab3a/WR-Dataset/checkpoint/alpha/assets\n",
      " 98/257 [==========>...................] - ETA: 37s - loss: 0.0542 - cosine_similarity: 0.7895INFO:tensorflow:Assets written to: /home/anshul/Downloads/Lab3a/WR-Dataset/checkpoint/alpha/assets\n",
      "108/257 [===========>..................] - ETA: 34s - loss: 0.0540 - cosine_similarity: 0.7899INFO:tensorflow:Assets written to: /home/anshul/Downloads/Lab3a/WR-Dataset/checkpoint/alpha/assets\n",
      "118/257 [============>.................] - ETA: 32s - loss: 0.0539 - cosine_similarity: 0.7903INFO:tensorflow:Assets written to: /home/anshul/Downloads/Lab3a/WR-Dataset/checkpoint/alpha/assets\n",
      "128/257 [=============>................] - ETA: 30s - loss: 0.0538 - cosine_similarity: 0.7906INFO:tensorflow:Assets written to: /home/anshul/Downloads/Lab3a/WR-Dataset/checkpoint/alpha/assets\n",
      "138/257 [===============>..............] - ETA: 28s - loss: 0.0537 - cosine_similarity: 0.7906INFO:tensorflow:Assets written to: /home/anshul/Downloads/Lab3a/WR-Dataset/checkpoint/alpha/assets\n",
      "148/257 [================>.............] - ETA: 25s - loss: 0.0536 - cosine_similarity: 0.7907INFO:tensorflow:Assets written to: /home/anshul/Downloads/Lab3a/WR-Dataset/checkpoint/alpha/assets\n",
      "158/257 [=================>............] - ETA: 23s - loss: 0.0536 - cosine_similarity: 0.7908INFO:tensorflow:Assets written to: /home/anshul/Downloads/Lab3a/WR-Dataset/checkpoint/alpha/assets\n",
      "168/257 [==================>...........] - ETA: 20s - loss: 0.0535 - cosine_similarity: 0.7909INFO:tensorflow:Assets written to: /home/anshul/Downloads/Lab3a/WR-Dataset/checkpoint/alpha/assets\n",
      "178/257 [===================>..........] - ETA: 18s - loss: 0.0535 - cosine_similarity: 0.7910INFO:tensorflow:Assets written to: /home/anshul/Downloads/Lab3a/WR-Dataset/checkpoint/alpha/assets\n",
      "188/257 [====================>.........] - ETA: 16s - loss: 0.0534 - cosine_similarity: 0.7911INFO:tensorflow:Assets written to: /home/anshul/Downloads/Lab3a/WR-Dataset/checkpoint/alpha/assets\n",
      "198/257 [======================>.......] - ETA: 14s - loss: 0.0534 - cosine_similarity: 0.7912INFO:tensorflow:Assets written to: /home/anshul/Downloads/Lab3a/WR-Dataset/checkpoint/alpha/assets\n",
      "208/257 [=======================>......] - ETA: 11s - loss: 0.0533 - cosine_similarity: 0.7914INFO:tensorflow:Assets written to: /home/anshul/Downloads/Lab3a/WR-Dataset/checkpoint/alpha/assets\n",
      "218/257 [========================>.....] - ETA: 9s - loss: 0.0533 - cosine_similarity: 0.7915INFO:tensorflow:Assets written to: /home/anshul/Downloads/Lab3a/WR-Dataset/checkpoint/alpha/assets\n",
      "228/257 [=========================>....] - ETA: 7s - loss: 0.0532 - cosine_similarity: 0.7918INFO:tensorflow:Assets written to: /home/anshul/Downloads/Lab3a/WR-Dataset/checkpoint/alpha/assets\n",
      "238/257 [==========================>...] - ETA: 4s - loss: 0.0532 - cosine_similarity: 0.7919INFO:tensorflow:Assets written to: /home/anshul/Downloads/Lab3a/WR-Dataset/checkpoint/alpha/assets\n",
      "248/257 [===========================>..] - ETA: 2s - loss: 0.0531 - cosine_similarity: 0.7922INFO:tensorflow:Assets written to: /home/anshul/Downloads/Lab3a/WR-Dataset/checkpoint/alpha/assets\n",
      "257/257 [==============================] - 63s 245ms/step - loss: 0.0531 - cosine_similarity: 0.7924 - val_loss: 0.0414 - val_cosine_similarity: 0.8284\n",
      "Epoch 25/30\n",
      "  1/257 [..............................] - ETA: 9s - loss: 0.0340 - cosine_similarity: 0.9017INFO:tensorflow:Assets written to: /home/anshul/Downloads/Lab3a/WR-Dataset/checkpoint/alpha/assets\n",
      " 11/257 [>.............................] - ETA: 1:12 - loss: 0.0413 - cosine_similarity: 0.8586INFO:tensorflow:Assets written to: /home/anshul/Downloads/Lab3a/WR-Dataset/checkpoint/alpha/assets\n",
      " 21/257 [=>............................] - ETA: 1:02 - loss: 0.0431 - cosine_similarity: 0.8438INFO:tensorflow:Assets written to: /home/anshul/Downloads/Lab3a/WR-Dataset/checkpoint/alpha/assets\n",
      " 31/257 [==>...........................] - ETA: 58s - loss: 0.0434 - cosine_similarity: 0.8397 INFO:tensorflow:Assets written to: /home/anshul/Downloads/Lab3a/WR-Dataset/checkpoint/alpha/assets\n",
      " 41/257 [===>..........................] - ETA: 54s - loss: 0.0436 - cosine_similarity: 0.8381INFO:tensorflow:Assets written to: /home/anshul/Downloads/Lab3a/WR-Dataset/checkpoint/alpha/assets\n"
     ]
    },
    {
     "name": "stdout",
     "output_type": "stream",
     "text": [
      " 51/257 [====>.........................] - ETA: 54s - loss: 0.0437 - cosine_similarity: 0.8367INFO:tensorflow:Assets written to: /home/anshul/Downloads/Lab3a/WR-Dataset/checkpoint/alpha/assets\n",
      " 61/257 [======>.......................] - ETA: 51s - loss: 0.0437 - cosine_similarity: 0.8353INFO:tensorflow:Assets written to: /home/anshul/Downloads/Lab3a/WR-Dataset/checkpoint/alpha/assets\n",
      " 71/257 [=======>......................] - ETA: 47s - loss: 0.0438 - cosine_similarity: 0.8344INFO:tensorflow:Assets written to: /home/anshul/Downloads/Lab3a/WR-Dataset/checkpoint/alpha/assets\n",
      " 81/257 [========>.....................] - ETA: 45s - loss: 0.0437 - cosine_similarity: 0.8338INFO:tensorflow:Assets written to: /home/anshul/Downloads/Lab3a/WR-Dataset/checkpoint/alpha/assets\n",
      " 91/257 [=========>....................] - ETA: 42s - loss: 0.0437 - cosine_similarity: 0.8334INFO:tensorflow:Assets written to: /home/anshul/Downloads/Lab3a/WR-Dataset/checkpoint/alpha/assets\n",
      "101/257 [==========>...................] - ETA: 40s - loss: 0.0436 - cosine_similarity: 0.8333INFO:tensorflow:Assets written to: /home/anshul/Downloads/Lab3a/WR-Dataset/checkpoint/alpha/assets\n",
      "111/257 [===========>..................] - ETA: 38s - loss: 0.0436 - cosine_similarity: 0.8330INFO:tensorflow:Assets written to: /home/anshul/Downloads/Lab3a/WR-Dataset/checkpoint/alpha/assets\n",
      "121/257 [=============>................] - ETA: 35s - loss: 0.0436 - cosine_similarity: 0.8327INFO:tensorflow:Assets written to: /home/anshul/Downloads/Lab3a/WR-Dataset/checkpoint/alpha/assets\n",
      "131/257 [==============>...............] - ETA: 32s - loss: 0.0436 - cosine_similarity: 0.8326INFO:tensorflow:Assets written to: /home/anshul/Downloads/Lab3a/WR-Dataset/checkpoint/alpha/assets\n",
      "141/257 [===============>..............] - ETA: 30s - loss: 0.0435 - cosine_similarity: 0.8326INFO:tensorflow:Assets written to: /home/anshul/Downloads/Lab3a/WR-Dataset/checkpoint/alpha/assets\n",
      "151/257 [================>.............] - ETA: 27s - loss: 0.0435 - cosine_similarity: 0.8325INFO:tensorflow:Assets written to: /home/anshul/Downloads/Lab3a/WR-Dataset/checkpoint/alpha/assets\n",
      "161/257 [=================>............] - ETA: 25s - loss: 0.0435 - cosine_similarity: 0.8325INFO:tensorflow:Assets written to: /home/anshul/Downloads/Lab3a/WR-Dataset/checkpoint/alpha/assets\n",
      "171/257 [==================>...........] - ETA: 22s - loss: 0.0434 - cosine_similarity: 0.8325INFO:tensorflow:Assets written to: /home/anshul/Downloads/Lab3a/WR-Dataset/checkpoint/alpha/assets\n",
      "181/257 [====================>.........] - ETA: 19s - loss: 0.0434 - cosine_similarity: 0.8325INFO:tensorflow:Assets written to: /home/anshul/Downloads/Lab3a/WR-Dataset/checkpoint/alpha/assets\n",
      "192/257 [=====================>........] - ETA: 17s - loss: 0.0434 - cosine_similarity: 0.8325INFO:tensorflow:Assets written to: /home/anshul/Downloads/Lab3a/WR-Dataset/checkpoint/alpha/assets\n",
      "202/257 [======================>.......] - ETA: 14s - loss: 0.0434 - cosine_similarity: 0.8326INFO:tensorflow:Assets written to: /home/anshul/Downloads/Lab3a/WR-Dataset/checkpoint/alpha/assets\n",
      "212/257 [=======================>......] - ETA: 12s - loss: 0.0433 - cosine_similarity: 0.8326INFO:tensorflow:Assets written to: /home/anshul/Downloads/Lab3a/WR-Dataset/checkpoint/alpha/assets\n",
      "221/257 [========================>.....] - ETA: 9s - loss: 0.0433 - cosine_similarity: 0.8326 INFO:tensorflow:Assets written to: /home/anshul/Downloads/Lab3a/WR-Dataset/checkpoint/alpha/assets\n",
      "231/257 [=========================>....] - ETA: 7s - loss: 0.0433 - cosine_similarity: 0.8327INFO:tensorflow:Assets written to: /home/anshul/Downloads/Lab3a/WR-Dataset/checkpoint/alpha/assets\n",
      "241/257 [===========================>..] - ETA: 4s - loss: 0.0433 - cosine_similarity: 0.8327INFO:tensorflow:Assets written to: /home/anshul/Downloads/Lab3a/WR-Dataset/checkpoint/alpha/assets\n",
      "251/257 [============================>.] - ETA: 1s - loss: 0.0433 - cosine_similarity: 0.8328INFO:tensorflow:Assets written to: /home/anshul/Downloads/Lab3a/WR-Dataset/checkpoint/alpha/assets\n",
      "257/257 [==============================] - 71s 277ms/step - loss: 0.0432 - cosine_similarity: 0.8329 - val_loss: 0.0443 - val_cosine_similarity: 0.8226\n",
      "Epoch 26/30\n",
      "  5/257 [..............................] - ETA: 9s - loss: 0.0332 - cosine_similarity: 0.8734INFO:tensorflow:Assets written to: /home/anshul/Downloads/Lab3a/WR-Dataset/checkpoint/alpha/assets\n",
      " 14/257 [>.............................] - ETA: 1:00 - loss: 0.0346 - cosine_similarity: 0.8705INFO:tensorflow:Assets written to: /home/anshul/Downloads/Lab3a/WR-Dataset/checkpoint/alpha/assets\n",
      " 24/257 [=>............................] - ETA: 57s - loss: 0.0356 - cosine_similarity: 0.8633 INFO:tensorflow:Assets written to: /home/anshul/Downloads/Lab3a/WR-Dataset/checkpoint/alpha/assets\n",
      " 34/257 [==>...........................] - ETA: 54s - loss: 0.0361 - cosine_similarity: 0.8603INFO:tensorflow:Assets written to: /home/anshul/Downloads/Lab3a/WR-Dataset/checkpoint/alpha/assets\n",
      " 44/257 [====>.........................] - ETA: 52s - loss: 0.0365 - cosine_similarity: 0.8589INFO:tensorflow:Assets written to: /home/anshul/Downloads/Lab3a/WR-Dataset/checkpoint/alpha/assets\n",
      " 54/257 [=====>........................] - ETA: 49s - loss: 0.0368 - cosine_similarity: 0.8577INFO:tensorflow:Assets written to: /home/anshul/Downloads/Lab3a/WR-Dataset/checkpoint/alpha/assets\n",
      " 64/257 [======>.......................] - ETA: 49s - loss: 0.0370 - cosine_similarity: 0.8573INFO:tensorflow:Assets written to: /home/anshul/Downloads/Lab3a/WR-Dataset/checkpoint/alpha/assets\n",
      " 74/257 [=======>......................] - ETA: 46s - loss: 0.0370 - cosine_similarity: 0.8574INFO:tensorflow:Assets written to: /home/anshul/Downloads/Lab3a/WR-Dataset/checkpoint/alpha/assets\n",
      " 84/257 [========>.....................] - ETA: 43s - loss: 0.0370 - cosine_similarity: 0.8575INFO:tensorflow:Assets written to: /home/anshul/Downloads/Lab3a/WR-Dataset/checkpoint/alpha/assets\n",
      " 94/257 [=========>....................] - ETA: 41s - loss: 0.0370 - cosine_similarity: 0.8576INFO:tensorflow:Assets written to: /home/anshul/Downloads/Lab3a/WR-Dataset/checkpoint/alpha/assets\n",
      "104/257 [===========>..................] - ETA: 38s - loss: 0.0369 - cosine_similarity: 0.8578INFO:tensorflow:Assets written to: /home/anshul/Downloads/Lab3a/WR-Dataset/checkpoint/alpha/assets\n",
      "114/257 [============>.................] - ETA: 36s - loss: 0.0369 - cosine_similarity: 0.8580INFO:tensorflow:Assets written to: /home/anshul/Downloads/Lab3a/WR-Dataset/checkpoint/alpha/assets\n",
      "124/257 [=============>................] - ETA: 34s - loss: 0.0368 - cosine_similarity: 0.8583INFO:tensorflow:Assets written to: /home/anshul/Downloads/Lab3a/WR-Dataset/checkpoint/alpha/assets\n",
      "134/257 [==============>...............] - ETA: 31s - loss: 0.0367 - cosine_similarity: 0.8586INFO:tensorflow:Assets written to: /home/anshul/Downloads/Lab3a/WR-Dataset/checkpoint/alpha/assets\n",
      "144/257 [===============>..............] - ETA: 29s - loss: 0.0367 - cosine_similarity: 0.8589INFO:tensorflow:Assets written to: /home/anshul/Downloads/Lab3a/WR-Dataset/checkpoint/alpha/assets\n",
      "154/257 [================>.............] - ETA: 27s - loss: 0.0366 - cosine_similarity: 0.8591INFO:tensorflow:Assets written to: /home/anshul/Downloads/Lab3a/WR-Dataset/checkpoint/alpha/assets\n",
      "164/257 [==================>...........] - ETA: 24s - loss: 0.0365 - cosine_similarity: 0.8593INFO:tensorflow:Assets written to: /home/anshul/Downloads/Lab3a/WR-Dataset/checkpoint/alpha/assets\n",
      "174/257 [===================>..........] - ETA: 22s - loss: 0.0364 - cosine_similarity: 0.8594INFO:tensorflow:Assets written to: /home/anshul/Downloads/Lab3a/WR-Dataset/checkpoint/alpha/assets\n",
      "184/257 [====================>.........] - ETA: 19s - loss: 0.0364 - cosine_similarity: 0.8595INFO:tensorflow:Assets written to: /home/anshul/Downloads/Lab3a/WR-Dataset/checkpoint/alpha/assets\n",
      "194/257 [=====================>........] - ETA: 16s - loss: 0.0363 - cosine_similarity: 0.8595INFO:tensorflow:Assets written to: /home/anshul/Downloads/Lab3a/WR-Dataset/checkpoint/alpha/assets\n",
      "204/257 [======================>.......] - ETA: 14s - loss: 0.0363 - cosine_similarity: 0.8595INFO:tensorflow:Assets written to: /home/anshul/Downloads/Lab3a/WR-Dataset/checkpoint/alpha/assets\n"
     ]
    },
    {
     "name": "stdout",
     "output_type": "stream",
     "text": [
      "214/257 [=======================>......] - ETA: 11s - loss: 0.0363 - cosine_similarity: 0.8595INFO:tensorflow:Assets written to: /home/anshul/Downloads/Lab3a/WR-Dataset/checkpoint/alpha/assets\n",
      "224/257 [=========================>....] - ETA: 8s - loss: 0.0363 - cosine_similarity: 0.8595INFO:tensorflow:Assets written to: /home/anshul/Downloads/Lab3a/WR-Dataset/checkpoint/alpha/assets\n",
      "234/257 [==========================>...] - ETA: 6s - loss: 0.0362 - cosine_similarity: 0.8596INFO:tensorflow:Assets written to: /home/anshul/Downloads/Lab3a/WR-Dataset/checkpoint/alpha/assets\n",
      "244/257 [===========================>..] - ETA: 3s - loss: 0.0362 - cosine_similarity: 0.8597INFO:tensorflow:Assets written to: /home/anshul/Downloads/Lab3a/WR-Dataset/checkpoint/alpha/assets\n",
      "254/257 [============================>.] - ETA: 0s - loss: 0.0362 - cosine_similarity: 0.8598INFO:tensorflow:Assets written to: /home/anshul/Downloads/Lab3a/WR-Dataset/checkpoint/alpha/assets\n",
      "257/257 [==============================] - 68s 267ms/step - loss: 0.0362 - cosine_similarity: 0.8598 - val_loss: 0.0328 - val_cosine_similarity: 0.8589\n",
      "Epoch 27/30\n",
      "  7/257 [..............................] - ETA: 9s - loss: 0.0374 - cosine_similarity: 0.8700INFO:tensorflow:Assets written to: /home/anshul/Downloads/Lab3a/WR-Dataset/checkpoint/alpha/assets\n",
      " 17/257 [>.............................] - ETA: 37s - loss: 0.0361 - cosine_similarity: 0.8674INFO:tensorflow:Assets written to: /home/anshul/Downloads/Lab3a/WR-Dataset/checkpoint/alpha/assets\n",
      " 27/257 [==>...........................] - ETA: 47s - loss: 0.0355 - cosine_similarity: 0.8692INFO:tensorflow:Assets written to: /home/anshul/Downloads/Lab3a/WR-Dataset/checkpoint/alpha/assets\n",
      " 37/257 [===>..........................] - ETA: 46s - loss: 0.0350 - cosine_similarity: 0.8711INFO:tensorflow:Assets written to: /home/anshul/Downloads/Lab3a/WR-Dataset/checkpoint/alpha/assets\n",
      " 47/257 [====>.........................] - ETA: 45s - loss: 0.0343 - cosine_similarity: 0.8732INFO:tensorflow:Assets written to: /home/anshul/Downloads/Lab3a/WR-Dataset/checkpoint/alpha/assets\n",
      " 57/257 [=====>........................] - ETA: 44s - loss: 0.0338 - cosine_similarity: 0.8748INFO:tensorflow:Assets written to: /home/anshul/Downloads/Lab3a/WR-Dataset/checkpoint/alpha/assets\n",
      " 67/257 [======>.......................] - ETA: 42s - loss: 0.0335 - cosine_similarity: 0.8753INFO:tensorflow:Assets written to: /home/anshul/Downloads/Lab3a/WR-Dataset/checkpoint/alpha/assets\n",
      " 77/257 [=======>......................] - ETA: 42s - loss: 0.0333 - cosine_similarity: 0.8752INFO:tensorflow:Assets written to: /home/anshul/Downloads/Lab3a/WR-Dataset/checkpoint/alpha/assets\n",
      " 87/257 [=========>....................] - ETA: 40s - loss: 0.0331 - cosine_similarity: 0.8754INFO:tensorflow:Assets written to: /home/anshul/Downloads/Lab3a/WR-Dataset/checkpoint/alpha/assets\n",
      " 97/257 [==========>...................] - ETA: 37s - loss: 0.0330 - cosine_similarity: 0.8757INFO:tensorflow:Assets written to: /home/anshul/Downloads/Lab3a/WR-Dataset/checkpoint/alpha/assets\n",
      "107/257 [===========>..................] - ETA: 35s - loss: 0.0328 - cosine_similarity: 0.8760INFO:tensorflow:Assets written to: /home/anshul/Downloads/Lab3a/WR-Dataset/checkpoint/alpha/assets\n",
      "117/257 [============>.................] - ETA: 33s - loss: 0.0327 - cosine_similarity: 0.8762INFO:tensorflow:Assets written to: /home/anshul/Downloads/Lab3a/WR-Dataset/checkpoint/alpha/assets\n",
      "127/257 [=============>................] - ETA: 31s - loss: 0.0325 - cosine_similarity: 0.8766INFO:tensorflow:Assets written to: /home/anshul/Downloads/Lab3a/WR-Dataset/checkpoint/alpha/assets\n",
      "137/257 [==============>...............] - ETA: 28s - loss: 0.0324 - cosine_similarity: 0.8769INFO:tensorflow:Assets written to: /home/anshul/Downloads/Lab3a/WR-Dataset/checkpoint/alpha/assets\n",
      "147/257 [================>.............] - ETA: 26s - loss: 0.0323 - cosine_similarity: 0.8771INFO:tensorflow:Assets written to: /home/anshul/Downloads/Lab3a/WR-Dataset/checkpoint/alpha/assets\n",
      "157/257 [=================>............] - ETA: 24s - loss: 0.0322 - cosine_similarity: 0.8774INFO:tensorflow:Assets written to: /home/anshul/Downloads/Lab3a/WR-Dataset/checkpoint/alpha/assets\n",
      "167/257 [==================>...........] - ETA: 22s - loss: 0.0321 - cosine_similarity: 0.8776INFO:tensorflow:Assets written to: /home/anshul/Downloads/Lab3a/WR-Dataset/checkpoint/alpha/assets\n",
      "177/257 [===================>..........] - ETA: 19s - loss: 0.0320 - cosine_similarity: 0.8778INFO:tensorflow:Assets written to: /home/anshul/Downloads/Lab3a/WR-Dataset/checkpoint/alpha/assets\n",
      "187/257 [====================>.........] - ETA: 17s - loss: 0.0319 - cosine_similarity: 0.8780INFO:tensorflow:Assets written to: /home/anshul/Downloads/Lab3a/WR-Dataset/checkpoint/alpha/assets\n",
      "197/257 [=====================>........] - ETA: 14s - loss: 0.0318 - cosine_similarity: 0.8782INFO:tensorflow:Assets written to: /home/anshul/Downloads/Lab3a/WR-Dataset/checkpoint/alpha/assets\n",
      "207/257 [=======================>......] - ETA: 12s - loss: 0.0317 - cosine_similarity: 0.8784INFO:tensorflow:Assets written to: /home/anshul/Downloads/Lab3a/WR-Dataset/checkpoint/alpha/assets\n",
      "217/257 [========================>.....] - ETA: 9s - loss: 0.0316 - cosine_similarity: 0.8787 INFO:tensorflow:Assets written to: /home/anshul/Downloads/Lab3a/WR-Dataset/checkpoint/alpha/assets\n",
      "227/257 [=========================>....] - ETA: 7s - loss: 0.0315 - cosine_similarity: 0.8791INFO:tensorflow:Assets written to: /home/anshul/Downloads/Lab3a/WR-Dataset/checkpoint/alpha/assets\n",
      "237/257 [==========================>...] - ETA: 4s - loss: 0.0314 - cosine_similarity: 0.8795INFO:tensorflow:Assets written to: /home/anshul/Downloads/Lab3a/WR-Dataset/checkpoint/alpha/assets\n",
      "248/257 [===========================>..] - ETA: 2s - loss: 0.0313 - cosine_similarity: 0.8798INFO:tensorflow:Assets written to: /home/anshul/Downloads/Lab3a/WR-Dataset/checkpoint/alpha/assets\n",
      "257/257 [==============================] - 64s 249ms/step - loss: 0.0312 - cosine_similarity: 0.8801 - val_loss: 0.0243 - val_cosine_similarity: 0.8945\n",
      "Epoch 28/30\n",
      "  1/257 [..............................] - ETA: 9s - loss: 0.0171 - cosine_similarity: 0.9350INFO:tensorflow:Assets written to: /home/anshul/Downloads/Lab3a/WR-Dataset/checkpoint/alpha/assets\n",
      " 10/257 [>.............................] - ETA: 1:06 - loss: 0.0204 - cosine_similarity: 0.9209INFO:tensorflow:Assets written to: /home/anshul/Downloads/Lab3a/WR-Dataset/checkpoint/alpha/assets\n",
      " 20/257 [=>............................] - ETA: 58s - loss: 0.0223 - cosine_similarity: 0.9095 INFO:tensorflow:Assets written to: /home/anshul/Downloads/Lab3a/WR-Dataset/checkpoint/alpha/assets\n",
      " 30/257 [==>...........................] - ETA: 55s - loss: 0.0231 - cosine_similarity: 0.9044INFO:tensorflow:Assets written to: /home/anshul/Downloads/Lab3a/WR-Dataset/checkpoint/alpha/assets\n",
      " 40/257 [===>..........................] - ETA: 55s - loss: 0.0234 - cosine_similarity: 0.9037INFO:tensorflow:Assets written to: /home/anshul/Downloads/Lab3a/WR-Dataset/checkpoint/alpha/assets\n",
      " 50/257 [====>.........................] - ETA: 52s - loss: 0.0236 - cosine_similarity: 0.9041INFO:tensorflow:Assets written to: /home/anshul/Downloads/Lab3a/WR-Dataset/checkpoint/alpha/assets\n",
      " 60/257 [======>.......................] - ETA: 48s - loss: 0.0237 - cosine_similarity: 0.9048INFO:tensorflow:Assets written to: /home/anshul/Downloads/Lab3a/WR-Dataset/checkpoint/alpha/assets\n",
      " 70/257 [=======>......................] - ETA: 46s - loss: 0.0238 - cosine_similarity: 0.9049INFO:tensorflow:Assets written to: /home/anshul/Downloads/Lab3a/WR-Dataset/checkpoint/alpha/assets\n",
      " 80/257 [========>.....................] - ETA: 43s - loss: 0.0238 - cosine_similarity: 0.9053INFO:tensorflow:Assets written to: /home/anshul/Downloads/Lab3a/WR-Dataset/checkpoint/alpha/assets\n",
      " 90/257 [=========>....................] - ETA: 41s - loss: 0.0238 - cosine_similarity: 0.9057INFO:tensorflow:Assets written to: /home/anshul/Downloads/Lab3a/WR-Dataset/checkpoint/alpha/assets\n",
      "100/257 [==========>...................] - ETA: 38s - loss: 0.0238 - cosine_similarity: 0.9059INFO:tensorflow:Assets written to: /home/anshul/Downloads/Lab3a/WR-Dataset/checkpoint/alpha/assets\n"
     ]
    },
    {
     "name": "stdout",
     "output_type": "stream",
     "text": [
      "110/257 [===========>..................] - ETA: 36s - loss: 0.0239 - cosine_similarity: 0.9061INFO:tensorflow:Assets written to: /home/anshul/Downloads/Lab3a/WR-Dataset/checkpoint/alpha/assets\n",
      "120/257 [=============>................] - ETA: 33s - loss: 0.0239 - cosine_similarity: 0.9061INFO:tensorflow:Assets written to: /home/anshul/Downloads/Lab3a/WR-Dataset/checkpoint/alpha/assets\n",
      "130/257 [==============>...............] - ETA: 31s - loss: 0.0239 - cosine_similarity: 0.9061INFO:tensorflow:Assets written to: /home/anshul/Downloads/Lab3a/WR-Dataset/checkpoint/alpha/assets\n",
      "140/257 [===============>..............] - ETA: 29s - loss: 0.0239 - cosine_similarity: 0.9061INFO:tensorflow:Assets written to: /home/anshul/Downloads/Lab3a/WR-Dataset/checkpoint/alpha/assets\n",
      "150/257 [================>.............] - ETA: 26s - loss: 0.0239 - cosine_similarity: 0.9061INFO:tensorflow:Assets written to: /home/anshul/Downloads/Lab3a/WR-Dataset/checkpoint/alpha/assets\n",
      "160/257 [=================>............] - ETA: 24s - loss: 0.0240 - cosine_similarity: 0.9062INFO:tensorflow:Assets written to: /home/anshul/Downloads/Lab3a/WR-Dataset/checkpoint/alpha/assets\n",
      "170/257 [==================>...........] - ETA: 21s - loss: 0.0240 - cosine_similarity: 0.9062INFO:tensorflow:Assets written to: /home/anshul/Downloads/Lab3a/WR-Dataset/checkpoint/alpha/assets\n",
      "180/257 [====================>.........] - ETA: 19s - loss: 0.0240 - cosine_similarity: 0.9062INFO:tensorflow:Assets written to: /home/anshul/Downloads/Lab3a/WR-Dataset/checkpoint/alpha/assets\n",
      "190/257 [=====================>........] - ETA: 16s - loss: 0.0240 - cosine_similarity: 0.9063INFO:tensorflow:Assets written to: /home/anshul/Downloads/Lab3a/WR-Dataset/checkpoint/alpha/assets\n",
      "200/257 [======================>.......] - ETA: 14s - loss: 0.0240 - cosine_similarity: 0.9064INFO:tensorflow:Assets written to: /home/anshul/Downloads/Lab3a/WR-Dataset/checkpoint/alpha/assets\n",
      "210/257 [=======================>......] - ETA: 11s - loss: 0.0240 - cosine_similarity: 0.9064INFO:tensorflow:Assets written to: /home/anshul/Downloads/Lab3a/WR-Dataset/checkpoint/alpha/assets\n",
      "220/257 [========================>.....] - ETA: 9s - loss: 0.0240 - cosine_similarity: 0.9064INFO:tensorflow:Assets written to: /home/anshul/Downloads/Lab3a/WR-Dataset/checkpoint/alpha/assets\n",
      "230/257 [=========================>....] - ETA: 6s - loss: 0.0240 - cosine_similarity: 0.9063INFO:tensorflow:Assets written to: /home/anshul/Downloads/Lab3a/WR-Dataset/checkpoint/alpha/assets\n",
      "240/257 [===========================>..] - ETA: 4s - loss: 0.0241 - cosine_similarity: 0.9063INFO:tensorflow:Assets written to: /home/anshul/Downloads/Lab3a/WR-Dataset/checkpoint/alpha/assets\n",
      "250/257 [============================>.] - ETA: 1s - loss: 0.0241 - cosine_similarity: 0.9063INFO:tensorflow:Assets written to: /home/anshul/Downloads/Lab3a/WR-Dataset/checkpoint/alpha/assets\n",
      "257/257 [==============================] - 65s 254ms/step - loss: 0.0241 - cosine_similarity: 0.9063 - val_loss: 0.0200 - val_cosine_similarity: 0.9111\n",
      "Epoch 29/30\n",
      "  3/257 [..............................] - ETA: 9s - loss: 0.0185 - cosine_similarity: 0.9260INFO:tensorflow:Assets written to: /home/anshul/Downloads/Lab3a/WR-Dataset/checkpoint/alpha/assets\n",
      " 13/257 [>.............................] - ETA: 1:02 - loss: 0.0205 - cosine_similarity: 0.9249INFO:tensorflow:Assets written to: /home/anshul/Downloads/Lab3a/WR-Dataset/checkpoint/alpha/assets\n",
      " 23/257 [=>............................] - ETA: 57s - loss: 0.0214 - cosine_similarity: 0.9215 INFO:tensorflow:Assets written to: /home/anshul/Downloads/Lab3a/WR-Dataset/checkpoint/alpha/assets\n",
      " 33/257 [==>...........................] - ETA: 55s - loss: 0.0214 - cosine_similarity: 0.9212INFO:tensorflow:Assets written to: /home/anshul/Downloads/Lab3a/WR-Dataset/checkpoint/alpha/assets\n",
      " 43/257 [====>.........................] - ETA: 52s - loss: 0.0213 - cosine_similarity: 0.9212INFO:tensorflow:Assets written to: /home/anshul/Downloads/Lab3a/WR-Dataset/checkpoint/alpha/assets\n",
      " 53/257 [=====>........................] - ETA: 52s - loss: 0.0211 - cosine_similarity: 0.9211INFO:tensorflow:Assets written to: /home/anshul/Downloads/Lab3a/WR-Dataset/checkpoint/alpha/assets\n",
      " 63/257 [======>.......................] - ETA: 49s - loss: 0.0209 - cosine_similarity: 0.9208INFO:tensorflow:Assets written to: /home/anshul/Downloads/Lab3a/WR-Dataset/checkpoint/alpha/assets\n",
      " 73/257 [=======>......................] - ETA: 46s - loss: 0.0208 - cosine_similarity: 0.9206INFO:tensorflow:Assets written to: /home/anshul/Downloads/Lab3a/WR-Dataset/checkpoint/alpha/assets\n",
      " 83/257 [========>.....................] - ETA: 44s - loss: 0.0208 - cosine_similarity: 0.9203INFO:tensorflow:Assets written to: /home/anshul/Downloads/Lab3a/WR-Dataset/checkpoint/alpha/assets\n",
      " 93/257 [=========>....................] - ETA: 41s - loss: 0.0207 - cosine_similarity: 0.9201INFO:tensorflow:Assets written to: /home/anshul/Downloads/Lab3a/WR-Dataset/checkpoint/alpha/assets\n",
      "103/257 [===========>..................] - ETA: 39s - loss: 0.0207 - cosine_similarity: 0.9201INFO:tensorflow:Assets written to: /home/anshul/Downloads/Lab3a/WR-Dataset/checkpoint/alpha/assets\n",
      "113/257 [============>.................] - ETA: 36s - loss: 0.0206 - cosine_similarity: 0.9202INFO:tensorflow:Assets written to: /home/anshul/Downloads/Lab3a/WR-Dataset/checkpoint/alpha/assets\n",
      "123/257 [=============>................] - ETA: 34s - loss: 0.0205 - cosine_similarity: 0.9203INFO:tensorflow:Assets written to: /home/anshul/Downloads/Lab3a/WR-Dataset/checkpoint/alpha/assets\n",
      "133/257 [==============>...............] - ETA: 31s - loss: 0.0205 - cosine_similarity: 0.9203INFO:tensorflow:Assets written to: /home/anshul/Downloads/Lab3a/WR-Dataset/checkpoint/alpha/assets\n",
      "143/257 [===============>..............] - ETA: 29s - loss: 0.0205 - cosine_similarity: 0.9203INFO:tensorflow:Assets written to: /home/anshul/Downloads/Lab3a/WR-Dataset/checkpoint/alpha/assets\n",
      "153/257 [================>.............] - ETA: 26s - loss: 0.0205 - cosine_similarity: 0.9203INFO:tensorflow:Assets written to: /home/anshul/Downloads/Lab3a/WR-Dataset/checkpoint/alpha/assets\n",
      "163/257 [==================>...........] - ETA: 24s - loss: 0.0205 - cosine_similarity: 0.9203INFO:tensorflow:Assets written to: /home/anshul/Downloads/Lab3a/WR-Dataset/checkpoint/alpha/assets\n",
      "173/257 [===================>..........] - ETA: 21s - loss: 0.0205 - cosine_similarity: 0.9203INFO:tensorflow:Assets written to: /home/anshul/Downloads/Lab3a/WR-Dataset/checkpoint/alpha/assets\n",
      "183/257 [====================>.........] - ETA: 19s - loss: 0.0205 - cosine_similarity: 0.9204INFO:tensorflow:Assets written to: /home/anshul/Downloads/Lab3a/WR-Dataset/checkpoint/alpha/assets\n",
      "193/257 [=====================>........] - ETA: 16s - loss: 0.0205 - cosine_similarity: 0.9205INFO:tensorflow:Assets written to: /home/anshul/Downloads/Lab3a/WR-Dataset/checkpoint/alpha/assets\n",
      "203/257 [======================>.......] - ETA: 13s - loss: 0.0204 - cosine_similarity: 0.9206INFO:tensorflow:Assets written to: /home/anshul/Downloads/Lab3a/WR-Dataset/checkpoint/alpha/assets\n",
      "213/257 [=======================>......] - ETA: 11s - loss: 0.0204 - cosine_similarity: 0.9207INFO:tensorflow:Assets written to: /home/anshul/Downloads/Lab3a/WR-Dataset/checkpoint/alpha/assets\n",
      "223/257 [=========================>....] - ETA: 8s - loss: 0.0204 - cosine_similarity: 0.9207INFO:tensorflow:Assets written to: /home/anshul/Downloads/Lab3a/WR-Dataset/checkpoint/alpha/assets\n",
      "233/257 [==========================>...] - ETA: 6s - loss: 0.0204 - cosine_similarity: 0.9207INFO:tensorflow:Assets written to: /home/anshul/Downloads/Lab3a/WR-Dataset/checkpoint/alpha/assets\n",
      "243/257 [===========================>..] - ETA: 3s - loss: 0.0204 - cosine_similarity: 0.9207INFO:tensorflow:Assets written to: /home/anshul/Downloads/Lab3a/WR-Dataset/checkpoint/alpha/assets\n",
      "253/257 [============================>.] - ETA: 1s - loss: 0.0204 - cosine_similarity: 0.9208INFO:tensorflow:Assets written to: /home/anshul/Downloads/Lab3a/WR-Dataset/checkpoint/alpha/assets\n",
      "257/257 [==============================] - 67s 261ms/step - loss: 0.0204 - cosine_similarity: 0.9208 - val_loss: 0.0181 - val_cosine_similarity: 0.9260\n"
     ]
    },
    {
     "name": "stdout",
     "output_type": "stream",
     "text": [
      "Epoch 30/30\n",
      "  7/257 [..............................] - ETA: 9s - loss: 0.0163 - cosine_similarity: 0.9393INFO:tensorflow:Assets written to: /home/anshul/Downloads/Lab3a/WR-Dataset/checkpoint/alpha/assets\n",
      " 16/257 [>.............................] - ETA: 41s - loss: 0.0157 - cosine_similarity: 0.9433INFO:tensorflow:Assets written to: /home/anshul/Downloads/Lab3a/WR-Dataset/checkpoint/alpha/assets\n",
      " 26/257 [==>...........................] - ETA: 51s - loss: 0.0158 - cosine_similarity: 0.9412INFO:tensorflow:Assets written to: /home/anshul/Downloads/Lab3a/WR-Dataset/checkpoint/alpha/assets\n",
      " 36/257 [===>..........................] - ETA: 50s - loss: 0.0160 - cosine_similarity: 0.9396INFO:tensorflow:Assets written to: /home/anshul/Downloads/Lab3a/WR-Dataset/checkpoint/alpha/assets\n",
      " 46/257 [====>.........................] - ETA: 49s - loss: 0.0160 - cosine_similarity: 0.9396INFO:tensorflow:Assets written to: /home/anshul/Downloads/Lab3a/WR-Dataset/checkpoint/alpha/assets\n",
      " 56/257 [=====>........................] - ETA: 47s - loss: 0.0160 - cosine_similarity: 0.9393INFO:tensorflow:Assets written to: /home/anshul/Downloads/Lab3a/WR-Dataset/checkpoint/alpha/assets\n",
      " 66/257 [======>.......................] - ETA: 46s - loss: 0.0161 - cosine_similarity: 0.9389INFO:tensorflow:Assets written to: /home/anshul/Downloads/Lab3a/WR-Dataset/checkpoint/alpha/assets\n",
      " 76/257 [=======>......................] - ETA: 44s - loss: 0.0161 - cosine_similarity: 0.9384INFO:tensorflow:Assets written to: /home/anshul/Downloads/Lab3a/WR-Dataset/checkpoint/alpha/assets\n",
      " 86/257 [=========>....................] - ETA: 41s - loss: 0.0161 - cosine_similarity: 0.9381INFO:tensorflow:Assets written to: /home/anshul/Downloads/Lab3a/WR-Dataset/checkpoint/alpha/assets\n",
      " 96/257 [==========>...................] - ETA: 39s - loss: 0.0161 - cosine_similarity: 0.9378INFO:tensorflow:Assets written to: /home/anshul/Downloads/Lab3a/WR-Dataset/checkpoint/alpha/assets\n",
      "106/257 [===========>..................] - ETA: 36s - loss: 0.0161 - cosine_similarity: 0.9377INFO:tensorflow:Assets written to: /home/anshul/Downloads/Lab3a/WR-Dataset/checkpoint/alpha/assets\n",
      "116/257 [============>.................] - ETA: 35s - loss: 0.0161 - cosine_similarity: 0.9376INFO:tensorflow:Assets written to: /home/anshul/Downloads/Lab3a/WR-Dataset/checkpoint/alpha/assets\n",
      "126/257 [=============>................] - ETA: 32s - loss: 0.0160 - cosine_similarity: 0.9375INFO:tensorflow:Assets written to: /home/anshul/Downloads/Lab3a/WR-Dataset/checkpoint/alpha/assets\n",
      "136/257 [==============>...............] - ETA: 30s - loss: 0.0160 - cosine_similarity: 0.9374INFO:tensorflow:Assets written to: /home/anshul/Downloads/Lab3a/WR-Dataset/checkpoint/alpha/assets\n",
      "146/257 [================>.............] - ETA: 27s - loss: 0.0160 - cosine_similarity: 0.9374INFO:tensorflow:Assets written to: /home/anshul/Downloads/Lab3a/WR-Dataset/checkpoint/alpha/assets\n",
      "156/257 [=================>............] - ETA: 25s - loss: 0.0160 - cosine_similarity: 0.9374INFO:tensorflow:Assets written to: /home/anshul/Downloads/Lab3a/WR-Dataset/checkpoint/alpha/assets\n",
      "166/257 [==================>...........] - ETA: 22s - loss: 0.0160 - cosine_similarity: 0.9373INFO:tensorflow:Assets written to: /home/anshul/Downloads/Lab3a/WR-Dataset/checkpoint/alpha/assets\n",
      "176/257 [===================>..........] - ETA: 20s - loss: 0.0161 - cosine_similarity: 0.9371INFO:tensorflow:Assets written to: /home/anshul/Downloads/Lab3a/WR-Dataset/checkpoint/alpha/assets\n",
      "186/257 [====================>.........] - ETA: 17s - loss: 0.0161 - cosine_similarity: 0.9369INFO:tensorflow:Assets written to: /home/anshul/Downloads/Lab3a/WR-Dataset/checkpoint/alpha/assets\n",
      "196/257 [=====================>........] - ETA: 15s - loss: 0.0162 - cosine_similarity: 0.9368INFO:tensorflow:Assets written to: /home/anshul/Downloads/Lab3a/WR-Dataset/checkpoint/alpha/assets\n",
      "206/257 [=======================>......] - ETA: 12s - loss: 0.0162 - cosine_similarity: 0.9366INFO:tensorflow:Assets written to: /home/anshul/Downloads/Lab3a/WR-Dataset/checkpoint/alpha/assets\n",
      "216/257 [========================>.....] - ETA: 10s - loss: 0.0162 - cosine_similarity: 0.9365INFO:tensorflow:Assets written to: /home/anshul/Downloads/Lab3a/WR-Dataset/checkpoint/alpha/assets\n",
      "226/257 [=========================>....] - ETA: 7s - loss: 0.0162 - cosine_similarity: 0.9364INFO:tensorflow:Assets written to: /home/anshul/Downloads/Lab3a/WR-Dataset/checkpoint/alpha/assets\n",
      "236/257 [==========================>...] - ETA: 5s - loss: 0.0163 - cosine_similarity: 0.9363INFO:tensorflow:Assets written to: /home/anshul/Downloads/Lab3a/WR-Dataset/checkpoint/alpha/assets\n",
      "246/257 [===========================>..] - ETA: 2s - loss: 0.0163 - cosine_similarity: 0.9363INFO:tensorflow:Assets written to: /home/anshul/Downloads/Lab3a/WR-Dataset/checkpoint/alpha/assets\n",
      "256/257 [============================>.] - ETA: 0s - loss: 0.0163 - cosine_similarity: 0.9362INFO:tensorflow:Assets written to: /home/anshul/Downloads/Lab3a/WR-Dataset/checkpoint/alpha/assets\n",
      "257/257 [==============================] - 66s 259ms/step - loss: 0.0163 - cosine_similarity: 0.9362 - val_loss: 0.0217 - val_cosine_similarity: 0.9077\n"
     ]
    }
   ],
   "source": [
    "# Insert code to train with callbacks (2 points)\n",
    "h = alpha_m.fit(x=x_train_a,y = y_train_a, \n",
    "                          validation_data=(x_val_a, y_val_a), epochs=NUM_EPOCHS, batch_size = BATCH_SIZE, callbacks=callback_list_a)\n"
   ]
  },
  {
   "cell_type": "code",
   "execution_count": 180,
   "metadata": {
    "id": "zAEHf93A_IND"
   },
   "outputs": [],
   "source": [
    "# Insert your code here to obtain the lists: epochs, training similarity, validation similarity, training loss, validation loss from CSV log file (1 point)\n",
    "df=pd.read_csv(\"/home/anshul/Downloads/Lab3a/alpha_log.csv\")\n",
    "training_acc=df['cosine_similarity'].values.tolist()\n",
    "validation_acc=df['val_cosine_similarity'].values.tolist()\n",
    "training_loss=df['loss'].values.tolist()\n",
    "validation_loss=df['val_loss'].values.tolist()\n",
    "epochs_list=df['epoch'].values.tolist()\n"
   ]
  },
  {
   "cell_type": "code",
   "execution_count": 181,
   "metadata": {
    "id": "M4VciN7j_K5s"
   },
   "outputs": [
    {
     "data": {
      "text/plain": [
       "<matplotlib.legend.Legend at 0x7f2098085e20>"
      ]
     },
     "execution_count": 181,
     "metadata": {},
     "output_type": "execute_result"
    },
    {
     "data": {
      "image/png": "[encoded data removed]",
      "text/plain": [
       "<Figure size 432x288 with 1 Axes>"
      ]
     },
     "metadata": {
      "needs_background": "light"
     },
     "output_type": "display_data"
    }
   ],
   "source": [
    "# Insert your code here to plot Epochs Vs. training and validation accuracy (2 points)\n",
    "plt.plot(epochs_list, training_acc)\n",
    "plt.plot(epochs_list, validation_acc)\n",
    "plt.xlabel(\"number of epochs\")\n",
    "plt.ylabel(\"accuracy\")\n",
    "plt.legend([\"Train accuracy\", \"Validation accuracy\"])\n"
   ]
  },
  {
   "cell_type": "code",
   "execution_count": 182,
   "metadata": {
    "id": "CoeUkyo1_MIK"
   },
   "outputs": [
    {
     "data": {
      "text/plain": [
       "<matplotlib.legend.Legend at 0x7f20cb190a30>"
      ]
     },
     "execution_count": 182,
     "metadata": {},
     "output_type": "execute_result"
    },
    {
     "data": {
      "image/png": "[encoded data removed]",
      "text/plain": [
       "<Figure size 432x288 with 1 Axes>"
      ]
     },
     "metadata": {
      "needs_background": "light"
     },
     "output_type": "display_data"
    }
   ],
   "source": [
    "# Insert your code here to plot Epochs Vs. training and validation loss (2 points)\n",
    "plt.plot(epochs_list, training_loss)\n",
    "plt.plot(epochs_list, validation_loss)\n",
    "plt.xlabel(\"number of epochs\")\n",
    "plt.ylabel(\"loss value\")\n",
    "plt.legend([\"Train loss\", \"Validation loss\"])"
   ]
  },
  {
   "cell_type": "markdown",
   "metadata": {
    "id": "YjpdZjNI12ra"
   },
   "source": [
    "## Steps for Word recognition:\n",
    "\n",
    "First, prepare a list having all the words from test set mapped to their corresponding vectors (lexicon for both Omega and Alpha representations).\n",
    "\n",
    "---\n",
    "\n",
    "**1 point**\n",
    "\n",
    "---\n"
   ]
  },
  {
   "cell_type": "code",
   "execution_count": 183,
   "metadata": {
    "id": "IyuMP2N57jji"
   },
   "outputs": [],
   "source": [
    "alpha_label_vector=[]\n",
    "omega_label_vector=[]\n",
    "alpha_true_label=[]\n",
    "omega_true_label=[]\n",
    "for words in test_df['Label']:\n",
    "    alpha_true_label.append(words)\n",
    "    omega_true_label.append(words)\n",
    "    alpha_label_vector.append(get_Alpha_vector(words))\n",
    "    omega_label_vector.append(get_Omega_vector(words))"
   ]
  },
  {
   "cell_type": "markdown",
   "metadata": {
    "id": "in_oGlD07kMf"
   },
   "source": [
    "\n",
    "For every image in the test set:\n",
    "1. Predict the output vector representation from the trained model(s) when the image is given as input.\n",
    "2. Find the word class(from lexicon) for which the similarity of its vector representation will be highest with the output vector.\n",
    "3. If predicted word = true word, then it is a correct prediction, otherwise incorrect prediction.\n",
    "\n",
    "---\n",
    "\n",
    "Let us now perform recognition using trained Alph amodel on the test set. \n",
    "\n",
    "First, load the test images and their vector representations.\n",
    "\n",
    "---\n",
    "\n",
    "**1 point**\n",
    "\n",
    "---"
   ]
  },
  {
   "cell_type": "code",
   "execution_count": 184,
   "metadata": {
    "id": "YOpVVEoW12ra"
   },
   "outputs": [],
   "source": [
    "# Insert code to load test images and its vector labels (1 points)\n",
    "# print(test_df)\n",
    "test_image_alpha=make_x_a(test_df, test_dir_path)\n",
    "test_label_alpha=make_y_a(test_df)"
   ]
  },
  {
   "cell_type": "markdown",
   "metadata": {
    "id": "P3sNu5PT12rb"
   },
   "source": [
    "Now load the saved trained Alpha model from the file and predict the labels\n",
    "\n",
    "---\n",
    "\n",
    "**1+3 points**\n",
    "\n",
    "---"
   ]
  },
  {
   "cell_type": "code",
   "execution_count": 185,
   "metadata": {
    "id": "CsUXyr8312rb"
   },
   "outputs": [],
   "source": [
    "# Insert code for loading the saved model from file \n",
    "alpha_model=tf.keras.models.load_model('/home/anshul/Downloads/Lab3a/WR-Dataset/checkpoint/alpha')"
   ]
  },
  {
   "cell_type": "code",
   "execution_count": 186,
   "metadata": {
    "id": "TztdcgE912rc"
   },
   "outputs": [],
   "source": [
    "# Insert code for predicting word labels of the test set images \n",
    "def cosine_sim(a, b):\n",
    "    a=np.array(a)\n",
    "    b=np.array(b)\n",
    "    sim = np.dot(a, b)/(np.linalg.norm(a)*np.linalg.norm(b))\n",
    "    return sim\n",
    "#print(cosine_sim([1, 2, 3], [1, 2, 3]))\n",
    "alpha_predicted_label=[]\n",
    "alpha_predicted_vector=alpha_model.predict(x=test_image_alpha)\n",
    "for vector in alpha_predicted_vector:\n",
    "    alpha_sim=[]\n",
    "    for a in alpha_label_vector:\n",
    "        alpha_sim.append(cosine_sim(vector, a))\n",
    "    #alpha_predicted_label.append(alpha_sim[alpha_sim.index(max(alpha_sim))])\n",
    "    alpha_predicted_label.append(alpha_true_label[alpha_sim.index(max(alpha_sim))])\n"
   ]
  },
  {
   "cell_type": "code",
   "execution_count": 187,
   "metadata": {},
   "outputs": [
    {
     "name": "stdout",
     "output_type": "stream",
     "text": [
      "['help', 'as', 'message', 'section', 'address', 'd', 'section', 'south', 'like', 'real', 'at', 'what', 'more', 'terms', 'page', 'file', 'sign', 'over', 'show', 'page', 'while', 'sign', 'day', 'order', 'rights', 'more', 'terms', 'product', 'internet', 'these', 'send', 'own', 'send', 'days', 'internet', 'these', 'special', 'next', 'part', 'south', 's', 'management', 'total', 'many', 'b', 'than', 'version', 'total', 'that', 'management', 'did', 'price', 'made', 'good', 'price', 'results', 'forum', 'comments', 'd', 'terms', 'good', 'high', 'data', 'price', 'will', 'f', 'county', 'full', 'school', 'line', 'january', 'these', 'because', 'reviews', 'o', 'under', 'news', 'here', 'development', 'report', 'security', 'for', 'here', 'because', 'both', 'open', 'd', 'phone', 'b', 'sign', 'link', 'details', 'o', 'file', 'details', 'sign', 'b', 'many', 'total', 'management', 'been', 'business', 'member', 'comments', 'games', 'total', 'go', 'using', 'need', 'after', 'internet', 'these', 'are', 'and', 'internet', 'these', 't', 'their', 'and', 'be', 'send', 'page', 'will', 'show', 'day', 'sign', 'many', 'over', 'about', 'what', 'more', 'years', 'more', 'terms', 'page', 'while', 'design', 'many', 'order', 'rights', 'section', 'd', 'address', 'prices', 'who', 'state', 'section', 'no', 'd', 'who', 'free', 'link', 'because', 'details', 'into', 'b', 'o', 'women', 'email', 'same', 'b', 'c', 'who', 'buy', 'for', 'them', 'people', 'also', 'news', 'the', 'because', 'development', 'can', 'school', 'w', 'county', 'these', 'internet', 'january', 'these', 'more', 'price', 'good', 'high', 'you', 'price', 'now', 'today', 'find', 'into', 'b', 'sign', 'buy', 'sign', 'r', 'hotels', 'b', 'same', 'because', 'people', 'because', 'over', 'two', 'county', 'section', 'internet', 'see', 'need', 'we', 'education', 'january', 'internet', 'buy', 'price', 'day', 'price', 'only', 'with', 'did', 'she', 'high', 'use', 'between', 'states', 'house', 'comments', 'real', 'version', 'car', 'store', 'total', 'our', 'before', 'want', 'total', 'many', 'house', 'x', 'comments', 'real', 'want', 'these', 'internet', 'their', 'part', 'policy', 'need', 'using', 'need', 'most', 'he', 'these', 'internet', 'systems', 'product', 'more', 'about', 'make', 'online', 'page', 'using', 'rights', 'while', 'top', 'rights', 'open', 'page', 'design', 'while', 'rights', 'all', 'over', 'first', 'terms', 'message', 'design', 'research', 'section', 'those', 'd', 'address', 'work', 'us', 'section', 'south', 'had', 'office', 'phone', 'take', 'forum', 'on', 'available', 'data', 'today', 'price', 'use', 'they', 'price', 'well', 'house', 'now', 'book', 'national', 'number', 'today', 'family', 'we', 'page', 'january', 'technology', 'county', 'its', 'w', 'development', 'list', 'services', 'local', 'because', 'am', 'the', 'because', 'or', 'no', 'were', 'sign', 'b', 'years', 'b', 'phone', 'no', 'united', 'section', 'management', 'd', 're', 'from', 'black', 'section', 'index', 'd', 'work', 'no', 'page', 'sign', 'file', 'rights', 'over', 'terms', 'more', 'copyright', 'such', 'online', 'at', 'terms', 'product', 'more', 'order', 'page', 'sign', 'while', 'rights', 'top', 'open', 'send', 'days', 'research', 'these', 'internet', 'south', 'are', 'view', 'these', 'center', 'internet', 'year', 'send', 'university', 'know', 'january', 'version', 'total', 'review', 'than', 'that', 'comments', 'want', 'on', 'music', 'show', 'very', 'states', 'when', 'house', 'management', 'business', 'version', 'just', 'want', 'total', 'i']\n"
     ]
    }
   ],
   "source": [
    "print((alpha_predicted_label))"
   ]
  },
  {
   "cell_type": "markdown",
   "metadata": {
    "id": "1LFSaOer12rc"
   },
   "source": [
    "Let us evaluate the performance of the model. The effective accuracy of model is defined as harmonic mean(HM) of accuracy with seen class images and accuracy with unseen class images.\n",
    "\n",
    "---\n",
    "\n",
    "**2 Points**\n",
    "\n",
    "---"
   ]
  },
  {
   "cell_type": "code",
   "execution_count": 188,
   "metadata": {
    "id": "jomhaHnF12rc"
   },
   "outputs": [
    {
     "name": "stdout",
     "output_type": "stream",
     "text": [
      "Accuracy of seen classes : 95.0%\n",
      "Accuracy of unseen classes : 11.25%\n",
      "Effective accuracy of alpha model : 20.11764705882353%\n"
     ]
    }
   ],
   "source": [
    "# Insert code to compute accuracy of images that belong to seen classes \n",
    "def accuracy(a, b):\n",
    "    return sum(1 for x,y in zip(a,b) if x == y) / float(len(a))\n",
    "    \n",
    "seen_predicted=[]\n",
    "seen_true=[]\n",
    "for i in test_df.index:\n",
    "    w=test_df['Label'][i]\n",
    "    if w in seen_words:\n",
    "        seen_predicted.append(alpha_predicted_label[i])\n",
    "        seen_true.append(alpha_true_label[i])\n",
    "\n",
    "seen_accuracy=accuracy(seen_predicted, seen_true)\n",
    "print(\"Accuracy of seen classes : \"+str(100*seen_accuracy)+\"%\")\n",
    "\n",
    "# Insert code to compute accuracy of images that belong to unseen classes\n",
    "unseen_predicted=[]\n",
    "unseen_true=[]\n",
    "for i in test_df.index:\n",
    "    w=test_df['Label'][i]\n",
    "    if w in unseen_words:\n",
    "        unseen_predicted.append(alpha_predicted_label[i])\n",
    "        unseen_true.append(alpha_true_label[i])\n",
    "\n",
    "unseen_accuracy=accuracy(unseen_predicted, unseen_true)\n",
    "print(\"Accuracy of unseen classes : \"+str(100*unseen_accuracy)+\"%\")\n",
    "\n",
    "\n",
    "# Insert code to compute effective accuracy\n",
    "e_acc=2*seen_accuracy*unseen_accuracy\n",
    "e_acc/=(seen_accuracy+unseen_accuracy)\n",
    "print(\"Effective accuracy of alpha model : \"+str(100*e_acc)+\"%\")\n"
   ]
  },
  {
   "cell_type": "markdown",
   "metadata": {
    "id": "AUYgDjy112rc"
   },
   "source": [
    "Let us now perform recognition using trained Alpha model on the test set.\n",
    " \n",
    "First, load the test images and their Omega vector representations.\n",
    "\n",
    "---\n",
    "\n",
    "**1 Points**\n",
    "\n",
    "---"
   ]
  },
  {
   "cell_type": "code",
   "execution_count": 189,
   "metadata": {
    "id": "7ae5UTy212rc"
   },
   "outputs": [],
   "source": [
    "# Insert code to load test images and its vector labels\n",
    "test_image_omega=make_x(test_df, test_dir_path)\n",
    "test_label_omega=make_y(test_df)\n"
   ]
  },
  {
   "cell_type": "markdown",
   "metadata": {
    "id": "ruv2dv_S12rd"
   },
   "source": [
    "Now load the saved trained Omega model from the file and predict the labels\n",
    "\n",
    "---\n",
    "\n",
    "**1+3 Points**\n",
    "\n",
    "---"
   ]
  },
  {
   "cell_type": "code",
   "execution_count": 190,
   "metadata": {
    "id": "djnZuxae12rd"
   },
   "outputs": [],
   "source": [
    "# Insert code for loading the saved model from file\n",
    "omega_model=tf.keras.models.load_model('/home/anshul/Downloads/Lab3a/WR-Dataset/checkpoint/omega')\n"
   ]
  },
  {
   "cell_type": "code",
   "execution_count": 191,
   "metadata": {
    "id": "zeqr8m6k12rd"
   },
   "outputs": [],
   "source": [
    "# Insert code for predicting word labels of the test set images\n",
    "omega_predicted_label=[]\n",
    "omega_predicted_vector=omega_model.predict(x=test_image_omega)\n",
    "for vector in omega_predicted_vector:\n",
    "    omega_sim=[]\n",
    "    for a in omega_label_vector:\n",
    "        omega_sim.append(cosine_sim(vector, a))\n",
    "        #print(len(vector), \" \", len(a))\n",
    "    #alpha_predicted_label.append(alpha_sim[alpha_sim.index(max(alpha_sim))])\n",
    "    omega_predicted_label.append(omega_true_label[omega_sim.index(max(omega_sim))])\n",
    "\n"
   ]
  },
  {
   "cell_type": "code",
   "execution_count": 192,
   "metadata": {},
   "outputs": [
    {
     "name": "stdout",
     "output_type": "stream",
     "text": [
      "['help', 'as', 'message', 'management', 'address', 'available', 'education', 'available', 'like', 'send', 'at', 'what', 'care', 'states', 'game', 'while', 'find', 'between', 'product', 'game', 'while', 'using', 'day', 'between', 'photo', 'care', 'computer', 'product', 'university', 'three', 'and', 'own', 'and', 'days', 'network', 'these', 'special', 'internet', 'part', 'south', 's', 'computer', 'real', 'any', 'b', 'than', 'version', 'real', 'that', 'computer', 'did', 'place', 'made', 'own', 'place', 'results', 'forum', 'comments', 'own', 'terms', 'good', 'find', 'data', 'price', 'will', 'f', 'january', 'full', 'school', 'line', 'january', 'these', 'member', 'reviews', 'o', 'under', 'news', 'here', 'development', 'report', 'security', 'for', 'here', 'members', 'both', 'open', 'd', 'product', 'h', 'him', 'link', 'details', 'him', 'file', 'details', 'sign', 'h', 'any', 'real', 'computer', 'been', 'business', 'number', 'comments', 'games', 'real', 'go', 'using', 'send', 'after', 'university', 'three', 'are', 'and', 'university', 'these', 't', 'their', 'and', 'be', 'and', 'game', 'while', 'how', 'day', 'using', 'many', 'part', 'product', 'what', 'care', 'computer', 'state', 'states', 'game', 'while', 'national', 'many', 'power', 'photo', 'education', 'available', 'address', 'prices', 'who', 'state', 'education', 'no', 'available', 'him', 'free', 'link', 'because', 'details', 'into', 'h', 'c', 'women', 'email', 'same', 'h', 's', 'him', 'by', 'for', 'them', 'people', 'address', 'member', 'file', 'member', 'development', 'can', 'school', 'w', 'county', 'these', 'internet', 'security', 'these', 'more', 'place', 'own', 'find', 'you', 'place', 'now', 'following', 'find', 'into', 'h', 'him', 'by', 'him', 'r', 'hotels', 'h', 'same', 'members', 'people', 'member', 'over', 'two', 'county', 'section', 'internet', 'see', 'need', 'we', 'education', 'january', 'internet', 'buy', 'place', 'own', 'place', 'only', 'will', 'own', 'she', 'find', 'use', 'between', 'states', 'house', 'comments', 'real', 'version', 'car', 'store', 'real', 'our', 'before', 'want', 'real', 'any', 'house', 'w', 'comments', 'real', 'not', 'three', 'network', 'their', 'part', 'policy', 'send', 'using', 'and', 'most', 'he', 'these', 'management', 'states', 'product', 'care', 'about', 'make', 'online', 'game', 'design', 'rights', 'while', 'top', 'product', 'part', 'game', 'technology', 'while', 'photo', 'all', 'between', 'list', 'states', 'care', 'design', 'research', 'education', 'those', 'available', 'address', 'work', 'us', 'education', 'available', 'had', 'office', 'place', 'take', 'forum', 'own', 'available', 'data', 'today', 'price', 'use', 'they', 'place', 'well', 'home', 'now', 'book', 'national', 'number', 'own', 'family', 'we', 'page', 'county', 'technology', 'county', 'its', 'w', 'development', 'list', 'services', 'local', 'member', 'am', 're', 'members', 'or', 'him', 'were', 'sign', 'h', 'years', 'h', 'product', 'him', 'united', 'management', 'management', 'available', 're', 'from', 'black', 'education', 'index', 'available', 'work', 'no', 'game', 'using', 'while', 'product', 'between', 'states', 'state', 'copyright', 'such', 'online', 'at', 'states', 'product', 'care', 'order', 'game', 'using', 'while', 'photo', 'top', 'page', 'and', 'days', 'subject', 'three', 'network', 'south', 'are', 'view', 'these', 'center', 'network', 'year', 'and', 'university', 'know', 'january', 'version', 'local', 'review', 'than', 'that', 'computer', 'not', 'on', 'music', 'show', 'very', 'states', 'when', 'house', 'computer', 'business', 'version', 'just', 'want', 'real', 'r']\n"
     ]
    }
   ],
   "source": [
    "print(omega_predicted_label)"
   ]
  },
  {
   "cell_type": "markdown",
   "metadata": {
    "id": "doJIMpaN12rd"
   },
   "source": [
    "Evaluate the performance of the Omega model\n",
    "\n",
    "---\n",
    "\n",
    "**2 Points**\n",
    "\n",
    "---"
   ]
  },
  {
   "cell_type": "code",
   "execution_count": 193,
   "metadata": {
    "id": "FINRK0Ao12rf"
   },
   "outputs": [
    {
     "name": "stdout",
     "output_type": "stream",
     "text": [
      "Accuracy of seen classes : 93.75%\n",
      "Accuracy of unseen classes : 44.375%\n",
      "Effective accuracy of alpha model : 60.23755656108597%\n"
     ]
    }
   ],
   "source": [
    "seen_predicted=[]\n",
    "seen_true=[]\n",
    "for i in test_df.index:\n",
    "    w=test_df['Label'][i]\n",
    "    if w in seen_words:\n",
    "        seen_predicted.append(omega_predicted_label[i])\n",
    "        seen_true.append(omega_true_label[i])\n",
    "\n",
    "seen_accuracy=accuracy(seen_predicted, seen_true)\n",
    "print(\"Accuracy of seen classes : \"+str(100*seen_accuracy)+\"%\")\n",
    "\n",
    "# Insert code to compute accuracy of images that belong to unseen classes\n",
    "unseen_predicted=[]\n",
    "unseen_true=[]\n",
    "for i in test_df.index:\n",
    "    w=test_df['Label'][i]\n",
    "    if w in unseen_words:\n",
    "        unseen_predicted.append(omega_predicted_label[i])\n",
    "        unseen_true.append(omega_true_label[i])\n",
    "\n",
    "unseen_accuracy=accuracy(unseen_predicted, unseen_true)\n",
    "print(\"Accuracy of unseen classes : \"+str(100*unseen_accuracy)+\"%\")\n",
    "\n",
    "\n",
    "# Insert code to compute effective accuracy\n",
    "e_acc=2*seen_accuracy*unseen_accuracy\n",
    "e_acc/=(seen_accuracy+unseen_accuracy)\n",
    "print(\"Effective accuracy of alpha model : \"+str(100*e_acc)+\"%\")\n",
    "\n",
    "\n"
   ]
  },
  {
   "cell_type": "markdown",
   "metadata": {
    "id": "0qp0DY9012rf"
   },
   "source": [
    "# Results\n",
    "Based on your experimental outcome and your observations, which representation is better, according to you? \n",
    "\n",
    "---\n",
    "\n",
    "**2 Points**\n",
    "\n",
    "---"
   ]
  },
  {
   "cell_type": "markdown",
   "metadata": {
    "id": "rSTZkcR1Q2wz"
   },
   "source": [
    "The Omega model is much better as the accuracy on the unseen classes is very high as compared to the Alpha model on the unseen classes. This means that the Omega model will perform better in real life situations where our model will have to predict on data which it might not have seen till now. Also the effective accuracy of the Omega model is almost double that of the Alpha model."
   ]
  },
  {
   "cell_type": "markdown",
   "metadata": {
    "id": "dajtTMG2Pxcn"
   },
   "source": [
    "We have used only words from the test set to find the matching word. How could results be affected if the lexicon had both: train and test words?\n",
    "\n",
    "---\n",
    "\n",
    "**2 Points**\n",
    "\n",
    "---"
   ]
  },
  {
   "cell_type": "markdown",
   "metadata": {
    "id": "z8fwkcHvQ4Nf"
   },
   "source": [
    "In that case the testing accuracy might have decreased because the model could have predicted the output label from one of the train labels. This would further decrease the unseen classes accuracy. This happens because now our model may be predicting the output label not in the unseen classes. Although the seen classes accuracy might increase a little bit because of this, but as that accuracy is already around 100% therefore in the effective accuracy it wouldn't cause a significant change. So the overall effective accuracy would decrease if we include the train words also in the lexicon."
   ]
  }
 ],
 "metadata": {
  "accelerator": "GPU",
  "colab": {
   "collapsed_sections": [],
   "name": "BHOOPEN___Lab_3(b).ipynb",
   "provenance": []
  },
  "kernelspec": {
   "display_name": "Python 3",
   "language": "python",
   "name": "python3"
  },
  "language_info": {
   "codemirror_mode": {
    "name": "ipython",
    "version": 3
   },
   "file_extension": ".py",
   "mimetype": "text/x-python",
   "name": "python",
   "nbconvert_exporter": "python",
   "pygments_lexer": "ipython3",
   "version": "3.8.5"
  }
 },
 "nbformat": 4,
 "nbformat_minor": 1
}