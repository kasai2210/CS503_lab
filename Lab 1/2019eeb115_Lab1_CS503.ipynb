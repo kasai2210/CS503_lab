{
  "nbformat": 4,
  "nbformat_minor": 0,
  "metadata": {
    "colab": {
      "name": "2019eeb115_Lab1_CS503.ipynb",
      "provenance": [],
      "collapsed_sections": []
    },
    "kernelspec": {
      "name": "python3",
      "display_name": "Python 3"
    }
  },
  "cells": [
    {
      "cell_type": "markdown",
      "metadata": {
        "id": "uNtUymhkYyeq"
      },
      "source": [
        "# Lab 1 : Data Processing Using Python\n",
        "\n",
        "---\n",
        "\n",
        "\n",
        "Total Points: **50**\n",
        "\n",
        "Tentative Weightage : **5%**\n",
        "\n",
        "Submission Deadline :  ** 12th Febuary 2021, 23:59 hours**\n",
        "\n",
        "---\n",
        "\n",
        "\n",
        "\n",
        "General Instructions:\n",
        "\n",
        "---\n",
        "\n",
        "\n",
        "\n",
        "1. You have to do this lab individually\n",
        "2. You may use **sklearn, seaborn, matplotlib, pandas, Tensorflow 2.x or PyTorch**\n",
        "4. All the code should be submitted in the form of a single Jupyter notebook itself.\n",
        "5. Points for each sub-section are mentioned in the appropriate question.\n",
        "6. You can use Google colab to run a jupyter notebook (https://colab.research.google.com/) How to load data in Google Colab ?(https://towardsdatascience.com/3-ways-to-load-csv-files-into-colab-7c14fcbdcb92) (https://www.marktechpost.com/2019/06/07/how-to-connect-google-colab-with-google-drive/)\n",
        "7. The lab must be submitted on Google classroom. The code as well as the accompanying observations should be made part of the python notebook.\n",
        "8. **Code Readability** is very important. Modularize your code by making use of classes, functions that can be flexibly reused wherever necessary. Also use self explanatory variable names and add comments to describe your approach wherever necessary. You may add additional code or text blocks as necessary.\n",
        "9. You are expected to submit your **inferences** (preferably in a text block) and not just an error free code.\n",
        "10. Students are expected to follow the **honor code** of the class."
      ]
    },
    {
      "cell_type": "markdown",
      "metadata": {
        "id": "kXOVUWTRZHjV"
      },
      "source": [
        "# Dataset\n",
        "\n",
        "Iris plants dataset is a benchmark dataset for testing supervised machine learning problems. It comprises of four attributes (sepal length, sepal width, petal length, petal width) and 50 samples from each of the three different species (classes) of the iris flower. \n",
        "\n",
        "\n",
        "\n",
        "\n",
        "\n",
        "\n"
      ]
    },
    {
      "cell_type": "code",
      "metadata": {
        "id": "_EXI7GwT8VP2"
      },
      "source": [
        "#Import libraries\n",
        "\n",
        "from sklearn.datasets import load_iris\n",
        "import statistics\n",
        "import pandas as pd\n",
        "import seaborn as sns\n",
        "import matplotlib.pyplot as plt\n",
        "import numpy as np\n"
      ],
      "execution_count": 1,
      "outputs": []
    },
    {
      "cell_type": "markdown",
      "metadata": {
        "id": "xt05Yyas4R29"
      },
      "source": [
        "1. Load the dataset from the sklearn library. **(1 point)**\n",
        "2. Explore the dataset by printing attribute names, attribute values, and label names and values. **(4 points)** {1*4=4}"
      ]
    },
    {
      "cell_type": "code",
      "metadata": {
        "id": "WSaMc0chy0sy",
        "colab": {
          "base_uri": "https://localhost:8080/"
        },
        "outputId": "0be28843-63fc-4d3f-8169-966ef9d27ec8"
      },
      "source": [
        "# Load the iris dataset together with the target labels\n",
        "data = load_iris()\n",
        "\n",
        "# printing the attribute names and values\n",
        "print(data.feature_names)\n",
        "print(data.data)\n",
        "\n",
        "# printing the labels names and values\n",
        "print(data.target_names)\n",
        "print(data.target)"
      ],
      "execution_count": 2,
      "outputs": [
        {
          "output_type": "stream",
          "text": [
            "['sepal length (cm)', 'sepal width (cm)', 'petal length (cm)', 'petal width (cm)']\n",
            "[[5.1 3.5 1.4 0.2]\n",
            " [4.9 3.  1.4 0.2]\n",
            " [4.7 3.2 1.3 0.2]\n",
            " [4.6 3.1 1.5 0.2]\n",
            " [5.  3.6 1.4 0.2]\n",
            " [5.4 3.9 1.7 0.4]\n",
            " [4.6 3.4 1.4 0.3]\n",
            " [5.  3.4 1.5 0.2]\n",
            " [4.4 2.9 1.4 0.2]\n",
            " [4.9 3.1 1.5 0.1]\n",
            " [5.4 3.7 1.5 0.2]\n",
            " [4.8 3.4 1.6 0.2]\n",
            " [4.8 3.  1.4 0.1]\n",
            " [4.3 3.  1.1 0.1]\n",
            " [5.8 4.  1.2 0.2]\n",
            " [5.7 4.4 1.5 0.4]\n",
            " [5.4 3.9 1.3 0.4]\n",
            " [5.1 3.5 1.4 0.3]\n",
            " [5.7 3.8 1.7 0.3]\n",
            " [5.1 3.8 1.5 0.3]\n",
            " [5.4 3.4 1.7 0.2]\n",
            " [5.1 3.7 1.5 0.4]\n",
            " [4.6 3.6 1.  0.2]\n",
            " [5.1 3.3 1.7 0.5]\n",
            " [4.8 3.4 1.9 0.2]\n",
            " [5.  3.  1.6 0.2]\n",
            " [5.  3.4 1.6 0.4]\n",
            " [5.2 3.5 1.5 0.2]\n",
            " [5.2 3.4 1.4 0.2]\n",
            " [4.7 3.2 1.6 0.2]\n",
            " [4.8 3.1 1.6 0.2]\n",
            " [5.4 3.4 1.5 0.4]\n",
            " [5.2 4.1 1.5 0.1]\n",
            " [5.5 4.2 1.4 0.2]\n",
            " [4.9 3.1 1.5 0.2]\n",
            " [5.  3.2 1.2 0.2]\n",
            " [5.5 3.5 1.3 0.2]\n",
            " [4.9 3.6 1.4 0.1]\n",
            " [4.4 3.  1.3 0.2]\n",
            " [5.1 3.4 1.5 0.2]\n",
            " [5.  3.5 1.3 0.3]\n",
            " [4.5 2.3 1.3 0.3]\n",
            " [4.4 3.2 1.3 0.2]\n",
            " [5.  3.5 1.6 0.6]\n",
            " [5.1 3.8 1.9 0.4]\n",
            " [4.8 3.  1.4 0.3]\n",
            " [5.1 3.8 1.6 0.2]\n",
            " [4.6 3.2 1.4 0.2]\n",
            " [5.3 3.7 1.5 0.2]\n",
            " [5.  3.3 1.4 0.2]\n",
            " [7.  3.2 4.7 1.4]\n",
            " [6.4 3.2 4.5 1.5]\n",
            " [6.9 3.1 4.9 1.5]\n",
            " [5.5 2.3 4.  1.3]\n",
            " [6.5 2.8 4.6 1.5]\n",
            " [5.7 2.8 4.5 1.3]\n",
            " [6.3 3.3 4.7 1.6]\n",
            " [4.9 2.4 3.3 1. ]\n",
            " [6.6 2.9 4.6 1.3]\n",
            " [5.2 2.7 3.9 1.4]\n",
            " [5.  2.  3.5 1. ]\n",
            " [5.9 3.  4.2 1.5]\n",
            " [6.  2.2 4.  1. ]\n",
            " [6.1 2.9 4.7 1.4]\n",
            " [5.6 2.9 3.6 1.3]\n",
            " [6.7 3.1 4.4 1.4]\n",
            " [5.6 3.  4.5 1.5]\n",
            " [5.8 2.7 4.1 1. ]\n",
            " [6.2 2.2 4.5 1.5]\n",
            " [5.6 2.5 3.9 1.1]\n",
            " [5.9 3.2 4.8 1.8]\n",
            " [6.1 2.8 4.  1.3]\n",
            " [6.3 2.5 4.9 1.5]\n",
            " [6.1 2.8 4.7 1.2]\n",
            " [6.4 2.9 4.3 1.3]\n",
            " [6.6 3.  4.4 1.4]\n",
            " [6.8 2.8 4.8 1.4]\n",
            " [6.7 3.  5.  1.7]\n",
            " [6.  2.9 4.5 1.5]\n",
            " [5.7 2.6 3.5 1. ]\n",
            " [5.5 2.4 3.8 1.1]\n",
            " [5.5 2.4 3.7 1. ]\n",
            " [5.8 2.7 3.9 1.2]\n",
            " [6.  2.7 5.1 1.6]\n",
            " [5.4 3.  4.5 1.5]\n",
            " [6.  3.4 4.5 1.6]\n",
            " [6.7 3.1 4.7 1.5]\n",
            " [6.3 2.3 4.4 1.3]\n",
            " [5.6 3.  4.1 1.3]\n",
            " [5.5 2.5 4.  1.3]\n",
            " [5.5 2.6 4.4 1.2]\n",
            " [6.1 3.  4.6 1.4]\n",
            " [5.8 2.6 4.  1.2]\n",
            " [5.  2.3 3.3 1. ]\n",
            " [5.6 2.7 4.2 1.3]\n",
            " [5.7 3.  4.2 1.2]\n",
            " [5.7 2.9 4.2 1.3]\n",
            " [6.2 2.9 4.3 1.3]\n",
            " [5.1 2.5 3.  1.1]\n",
            " [5.7 2.8 4.1 1.3]\n",
            " [6.3 3.3 6.  2.5]\n",
            " [5.8 2.7 5.1 1.9]\n",
            " [7.1 3.  5.9 2.1]\n",
            " [6.3 2.9 5.6 1.8]\n",
            " [6.5 3.  5.8 2.2]\n",
            " [7.6 3.  6.6 2.1]\n",
            " [4.9 2.5 4.5 1.7]\n",
            " [7.3 2.9 6.3 1.8]\n",
            " [6.7 2.5 5.8 1.8]\n",
            " [7.2 3.6 6.1 2.5]\n",
            " [6.5 3.2 5.1 2. ]\n",
            " [6.4 2.7 5.3 1.9]\n",
            " [6.8 3.  5.5 2.1]\n",
            " [5.7 2.5 5.  2. ]\n",
            " [5.8 2.8 5.1 2.4]\n",
            " [6.4 3.2 5.3 2.3]\n",
            " [6.5 3.  5.5 1.8]\n",
            " [7.7 3.8 6.7 2.2]\n",
            " [7.7 2.6 6.9 2.3]\n",
            " [6.  2.2 5.  1.5]\n",
            " [6.9 3.2 5.7 2.3]\n",
            " [5.6 2.8 4.9 2. ]\n",
            " [7.7 2.8 6.7 2. ]\n",
            " [6.3 2.7 4.9 1.8]\n",
            " [6.7 3.3 5.7 2.1]\n",
            " [7.2 3.2 6.  1.8]\n",
            " [6.2 2.8 4.8 1.8]\n",
            " [6.1 3.  4.9 1.8]\n",
            " [6.4 2.8 5.6 2.1]\n",
            " [7.2 3.  5.8 1.6]\n",
            " [7.4 2.8 6.1 1.9]\n",
            " [7.9 3.8 6.4 2. ]\n",
            " [6.4 2.8 5.6 2.2]\n",
            " [6.3 2.8 5.1 1.5]\n",
            " [6.1 2.6 5.6 1.4]\n",
            " [7.7 3.  6.1 2.3]\n",
            " [6.3 3.4 5.6 2.4]\n",
            " [6.4 3.1 5.5 1.8]\n",
            " [6.  3.  4.8 1.8]\n",
            " [6.9 3.1 5.4 2.1]\n",
            " [6.7 3.1 5.6 2.4]\n",
            " [6.9 3.1 5.1 2.3]\n",
            " [5.8 2.7 5.1 1.9]\n",
            " [6.8 3.2 5.9 2.3]\n",
            " [6.7 3.3 5.7 2.5]\n",
            " [6.7 3.  5.2 2.3]\n",
            " [6.3 2.5 5.  1.9]\n",
            " [6.5 3.  5.2 2. ]\n",
            " [6.2 3.4 5.4 2.3]\n",
            " [5.9 3.  5.1 1.8]]\n",
            "['setosa' 'versicolor' 'virginica']\n",
            "[0 0 0 0 0 0 0 0 0 0 0 0 0 0 0 0 0 0 0 0 0 0 0 0 0 0 0 0 0 0 0 0 0 0 0 0 0\n",
            " 0 0 0 0 0 0 0 0 0 0 0 0 0 1 1 1 1 1 1 1 1 1 1 1 1 1 1 1 1 1 1 1 1 1 1 1 1\n",
            " 1 1 1 1 1 1 1 1 1 1 1 1 1 1 1 1 1 1 1 1 1 1 1 1 1 1 2 2 2 2 2 2 2 2 2 2 2\n",
            " 2 2 2 2 2 2 2 2 2 2 2 2 2 2 2 2 2 2 2 2 2 2 2 2 2 2 2 2 2 2 2 2 2 2 2 2 2\n",
            " 2 2]\n"
          ],
          "name": "stdout"
        }
      ]
    },
    {
      "cell_type": "markdown",
      "metadata": {
        "id": "56ZpuQf65uiL"
      },
      "source": [
        "\n",
        "Further explore the dataset by finding the minimum, maximum, mean and standard deviation for each attribute.  **(4 points)** {1*4=4}"
      ]
    },
    {
      "cell_type": "code",
      "metadata": {
        "id": "V2o1Uytd5qdI",
        "colab": {
          "base_uri": "https://localhost:8080/"
        },
        "outputId": "3e888234-c8e6-4992-91ac-392ad5938454"
      },
      "source": [
        "#Look at first 10 elements of the data\n",
        "print(\"list of first 10 elements with their attributes\")\n",
        "print(data.data[0:10, :])\n",
        "ds = data.data\n",
        "\n",
        "# Computing and printing min, max, mean and std for each attribute {for all 150 samples}\n",
        "print(\"min sepal length \"+str(min(ds[:, 0]))+\", max sepal length \"+str(max(ds[:, 0]))+\", mean sepal length \"+str(statistics.mean(ds[:, 0]))+\", std dev of sepal length \"+str(statistics.stdev(ds[:, 0])))\n",
        "print(\"min sepal width \"+str(min(ds[:, 1]))+\", max sepal width \"+str(max(ds[:, 1]))+\", mean sepal width \"+str(statistics.mean(ds[:, 1]))+\", std dev of sepal width \"+str(statistics.stdev(ds[:, 1])))\n",
        "print(\"min petal length \"+str(min(ds[:, 2]))+\", max petal length \"+str(max(ds[:, 2]))+\", mean petal length \"+str(statistics.mean(ds[:, 2]))+\", std dev of petal length \"+str(statistics.stdev(ds[:, 2])))\n",
        "print(\"min sepal width \"+str(min(ds[:, 3]))+\", max sepal width \"+str(max(ds[:, 3]))+\", mean sepal width \"+str(statistics.mean(ds[:, 3]))+\", std dev of sepal width \"+str(statistics.stdev(ds[:, 3])))"
      ],
      "execution_count": null,
      "outputs": [
        {
          "output_type": "stream",
          "text": [
            "list of first 10 elements with their attributes\n",
            "[[5.1 3.5 1.4 0.2]\n",
            " [4.9 3.  1.4 0.2]\n",
            " [4.7 3.2 1.3 0.2]\n",
            " [4.6 3.1 1.5 0.2]\n",
            " [5.  3.6 1.4 0.2]\n",
            " [5.4 3.9 1.7 0.4]\n",
            " [4.6 3.4 1.4 0.3]\n",
            " [5.  3.4 1.5 0.2]\n",
            " [4.4 2.9 1.4 0.2]\n",
            " [4.9 3.1 1.5 0.1]]\n",
            "min sepal length 4.3, max sepal length 7.9, mean sepal length 5.843333333333334, std dev of sepal length 0.8280661279778629\n",
            "min sepal width 2.0, max sepal width 4.4, mean sepal width 3.0573333333333332, std dev of sepal width 0.4358662849366982\n",
            "min petal length 1.0, max petal length 6.9, mean petal length 3.758, std dev of petal length 1.7652982332594664\n",
            "min sepal width 0.1, max sepal width 2.5, mean sepal width 1.1993333333333334, std dev of sepal width 0.7622376689603465\n"
          ],
          "name": "stdout"
        }
      ]
    },
    {
      "cell_type": "markdown",
      "metadata": {
        "id": "Ze06ySoJ4rN1"
      },
      "source": [
        "Plot a histogram indicating the distribution of different attributes in the dataset. {Expected output is four histograms, each corresponding to a different attribute. The X-axis is the domain of the attribute, and Y-axis is the frequency of the attribute corresponding to a domain}        **(4 points)** {1*4=4}"
      ]
    },
    {
      "cell_type": "code",
      "metadata": {
        "id": "CuC82UrH4r_p",
        "colab": {
          "base_uri": "https://localhost:8080/",
          "height": 351
        },
        "outputId": "0b07955d-908f-4386-83b0-6986e458a5ff"
      },
      "source": [
        "# For entire dataset, plot 4 histograms for sepal length (cm), sepal width (cm), petal length (cm) and petal width (cm)\n",
        "#Sepal length plot\n",
        "plt.figure(figsize=(24,5))\n",
        "plt.subplot(1, 4, 1)\n",
        "plt.hist(ds[:, 0])\n",
        "plt.xlabel(\"Sepal length\")\n",
        "plt.ylabel(\"Frequency\")\n",
        "#Sepal width plot\n",
        "plt.subplot(1, 4, 2)\n",
        "plt.hist(ds[:, 1], color=\"red\")\n",
        "plt.xlabel(\"Sepal width\")\n",
        "plt.ylabel(\"Frequency\")\n",
        "#Petal length plot\n",
        "plt.subplot(1, 4, 3)\n",
        "plt.hist(ds[:, 2], color=\"yellow\")\n",
        "plt.xlabel(\"Petal length\")\n",
        "plt.ylabel(\"Frequency\")\n",
        "#Petal width plot\n",
        "plt.subplot(1, 4, 4)\n",
        "plt.hist(ds[:, 3], color=\"cyan\")\n",
        "plt.xlabel(\"Petal width\")\n",
        "plt.ylabel(\"Frequency\")"
      ],
      "execution_count": null,
      "outputs": [
        {
          "output_type": "execute_result",
          "data": {
            "text/plain": [
              "Text(0, 0.5, 'Frequency')"
            ]
          },
          "metadata": {
            "tags": []
          },
          "execution_count": 16
        },
        {
          "output_type": "display_data",
          "data": {
            "image/png": "[encoded data removed]",
            "text/plain": [
              "<Figure size 1728x360 with 4 Axes>"
            ]
          },
          "metadata": {
            "tags": [],
            "needs_background": "light"
          }
        }
      ]
    },
    {
      "cell_type": "markdown",
      "metadata": {
        "id": "M0FnEpbj5htI"
      },
      "source": [
        "\n",
        "“Data Standardization” means that the range of values is “standardized to measure how many standard deviations the value is from its mean”. \n",
        "1. Standardize the data and print the standardized data in a tabular form. **(1 point)** \n",
        "2. Plot the histogram corresponding to each attribute as done above. **(4 points)** {1*4=4}\n",
        "3. Note the change in the printed data and histogram due to standardization. **(1 point)** "
      ]
    },
    {
      "cell_type": "code",
      "metadata": {
        "id": "LcpEWiWc5iTo",
        "colab": {
          "base_uri": "https://localhost:8080/",
          "height": 1000
        },
        "outputId": "095ad3df-6d9f-424f-f613-97329a75009a"
      },
      "source": [
        "# Standardize the dataset \n",
        "# Print dataset before standardization        \n",
        "# Print dataset after standardization  \n",
        "# For entire standardized dataset, plot 4 histograms for sepal length (cm), sepal width (cm), petal length (cm) and petal width (cm)\n",
        "from sklearn import preprocessing\n",
        "ds_standardized = preprocessing.scale(ds)\n",
        "print(\"Before standardization\")\n",
        "print(ds)\n",
        "print(\"After standardization\")\n",
        "print(ds_standardized)\n",
        "\n",
        "#Standardized Sepal length plot\n",
        "plt.figure(figsize=(24,5))\n",
        "plt.subplot(1, 4, 1)\n",
        "plt.hist(ds_standardized[:, 0])\n",
        "plt.xlabel(\"Sepal length\")\n",
        "plt.ylabel(\"Frequency\")\n",
        "#Standardized Sepal width plot\n",
        "plt.subplot(1, 4, 2)\n",
        "plt.hist(ds_standardized[:, 1], color=\"red\")\n",
        "plt.xlabel(\"Sepal width\")\n",
        "plt.ylabel(\"Frequency\")\n",
        "#Standardized Petal length plot\n",
        "plt.subplot(1, 4, 3)\n",
        "plt.hist(ds_standardized[:, 2], color=\"yellow\")\n",
        "plt.xlabel(\"Petal length\")\n",
        "plt.ylabel(\"Frequency\")\n",
        "#Standardized Petal width plot\n",
        "plt.subplot(1, 4, 4)\n",
        "plt.hist(ds_standardized[:, 3], color=\"cyan\")\n",
        "plt.xlabel(\"Petal width\")\n",
        "plt.ylabel(\"Frequency\")"
      ],
      "execution_count": null,
      "outputs": [
        {
          "output_type": "stream",
          "text": [
            "Before standardization\n",
            "[[5.1 3.5 1.4 0.2]\n",
            " [4.9 3.  1.4 0.2]\n",
            " [4.7 3.2 1.3 0.2]\n",
            " [4.6 3.1 1.5 0.2]\n",
            " [5.  3.6 1.4 0.2]\n",
            " [5.4 3.9 1.7 0.4]\n",
            " [4.6 3.4 1.4 0.3]\n",
            " [5.  3.4 1.5 0.2]\n",
            " [4.4 2.9 1.4 0.2]\n",
            " [4.9 3.1 1.5 0.1]\n",
            " [5.4 3.7 1.5 0.2]\n",
            " [4.8 3.4 1.6 0.2]\n",
            " [4.8 3.  1.4 0.1]\n",
            " [4.3 3.  1.1 0.1]\n",
            " [5.8 4.  1.2 0.2]\n",
            " [5.7 4.4 1.5 0.4]\n",
            " [5.4 3.9 1.3 0.4]\n",
            " [5.1 3.5 1.4 0.3]\n",
            " [5.7 3.8 1.7 0.3]\n",
            " [5.1 3.8 1.5 0.3]\n",
            " [5.4 3.4 1.7 0.2]\n",
            " [5.1 3.7 1.5 0.4]\n",
            " [4.6 3.6 1.  0.2]\n",
            " [5.1 3.3 1.7 0.5]\n",
            " [4.8 3.4 1.9 0.2]\n",
            " [5.  3.  1.6 0.2]\n",
            " [5.  3.4 1.6 0.4]\n",
            " [5.2 3.5 1.5 0.2]\n",
            " [5.2 3.4 1.4 0.2]\n",
            " [4.7 3.2 1.6 0.2]\n",
            " [4.8 3.1 1.6 0.2]\n",
            " [5.4 3.4 1.5 0.4]\n",
            " [5.2 4.1 1.5 0.1]\n",
            " [5.5 4.2 1.4 0.2]\n",
            " [4.9 3.1 1.5 0.2]\n",
            " [5.  3.2 1.2 0.2]\n",
            " [5.5 3.5 1.3 0.2]\n",
            " [4.9 3.6 1.4 0.1]\n",
            " [4.4 3.  1.3 0.2]\n",
            " [5.1 3.4 1.5 0.2]\n",
            " [5.  3.5 1.3 0.3]\n",
            " [4.5 2.3 1.3 0.3]\n",
            " [4.4 3.2 1.3 0.2]\n",
            " [5.  3.5 1.6 0.6]\n",
            " [5.1 3.8 1.9 0.4]\n",
            " [4.8 3.  1.4 0.3]\n",
            " [5.1 3.8 1.6 0.2]\n",
            " [4.6 3.2 1.4 0.2]\n",
            " [5.3 3.7 1.5 0.2]\n",
            " [5.  3.3 1.4 0.2]\n",
            " [7.  3.2 4.7 1.4]\n",
            " [6.4 3.2 4.5 1.5]\n",
            " [6.9 3.1 4.9 1.5]\n",
            " [5.5 2.3 4.  1.3]\n",
            " [6.5 2.8 4.6 1.5]\n",
            " [5.7 2.8 4.5 1.3]\n",
            " [6.3 3.3 4.7 1.6]\n",
            " [4.9 2.4 3.3 1. ]\n",
            " [6.6 2.9 4.6 1.3]\n",
            " [5.2 2.7 3.9 1.4]\n",
            " [5.  2.  3.5 1. ]\n",
            " [5.9 3.  4.2 1.5]\n",
            " [6.  2.2 4.  1. ]\n",
            " [6.1 2.9 4.7 1.4]\n",
            " [5.6 2.9 3.6 1.3]\n",
            " [6.7 3.1 4.4 1.4]\n",
            " [5.6 3.  4.5 1.5]\n",
            " [5.8 2.7 4.1 1. ]\n",
            " [6.2 2.2 4.5 1.5]\n",
            " [5.6 2.5 3.9 1.1]\n",
            " [5.9 3.2 4.8 1.8]\n",
            " [6.1 2.8 4.  1.3]\n",
            " [6.3 2.5 4.9 1.5]\n",
            " [6.1 2.8 4.7 1.2]\n",
            " [6.4 2.9 4.3 1.3]\n",
            " [6.6 3.  4.4 1.4]\n",
            " [6.8 2.8 4.8 1.4]\n",
            " [6.7 3.  5.  1.7]\n",
            " [6.  2.9 4.5 1.5]\n",
            " [5.7 2.6 3.5 1. ]\n",
            " [5.5 2.4 3.8 1.1]\n",
            " [5.5 2.4 3.7 1. ]\n",
            " [5.8 2.7 3.9 1.2]\n",
            " [6.  2.7 5.1 1.6]\n",
            " [5.4 3.  4.5 1.5]\n",
            " [6.  3.4 4.5 1.6]\n",
            " [6.7 3.1 4.7 1.5]\n",
            " [6.3 2.3 4.4 1.3]\n",
            " [5.6 3.  4.1 1.3]\n",
            " [5.5 2.5 4.  1.3]\n",
            " [5.5 2.6 4.4 1.2]\n",
            " [6.1 3.  4.6 1.4]\n",
            " [5.8 2.6 4.  1.2]\n",
            " [5.  2.3 3.3 1. ]\n",
            " [5.6 2.7 4.2 1.3]\n",
            " [5.7 3.  4.2 1.2]\n",
            " [5.7 2.9 4.2 1.3]\n",
            " [6.2 2.9 4.3 1.3]\n",
            " [5.1 2.5 3.  1.1]\n",
            " [5.7 2.8 4.1 1.3]\n",
            " [6.3 3.3 6.  2.5]\n",
            " [5.8 2.7 5.1 1.9]\n",
            " [7.1 3.  5.9 2.1]\n",
            " [6.3 2.9 5.6 1.8]\n",
            " [6.5 3.  5.8 2.2]\n",
            " [7.6 3.  6.6 2.1]\n",
            " [4.9 2.5 4.5 1.7]\n",
            " [7.3 2.9 6.3 1.8]\n",
            " [6.7 2.5 5.8 1.8]\n",
            " [7.2 3.6 6.1 2.5]\n",
            " [6.5 3.2 5.1 2. ]\n",
            " [6.4 2.7 5.3 1.9]\n",
            " [6.8 3.  5.5 2.1]\n",
            " [5.7 2.5 5.  2. ]\n",
            " [5.8 2.8 5.1 2.4]\n",
            " [6.4 3.2 5.3 2.3]\n",
            " [6.5 3.  5.5 1.8]\n",
            " [7.7 3.8 6.7 2.2]\n",
            " [7.7 2.6 6.9 2.3]\n",
            " [6.  2.2 5.  1.5]\n",
            " [6.9 3.2 5.7 2.3]\n",
            " [5.6 2.8 4.9 2. ]\n",
            " [7.7 2.8 6.7 2. ]\n",
            " [6.3 2.7 4.9 1.8]\n",
            " [6.7 3.3 5.7 2.1]\n",
            " [7.2 3.2 6.  1.8]\n",
            " [6.2 2.8 4.8 1.8]\n",
            " [6.1 3.  4.9 1.8]\n",
            " [6.4 2.8 5.6 2.1]\n",
            " [7.2 3.  5.8 1.6]\n",
            " [7.4 2.8 6.1 1.9]\n",
            " [7.9 3.8 6.4 2. ]\n",
            " [6.4 2.8 5.6 2.2]\n",
            " [6.3 2.8 5.1 1.5]\n",
            " [6.1 2.6 5.6 1.4]\n",
            " [7.7 3.  6.1 2.3]\n",
            " [6.3 3.4 5.6 2.4]\n",
            " [6.4 3.1 5.5 1.8]\n",
            " [6.  3.  4.8 1.8]\n",
            " [6.9 3.1 5.4 2.1]\n",
            " [6.7 3.1 5.6 2.4]\n",
            " [6.9 3.1 5.1 2.3]\n",
            " [5.8 2.7 5.1 1.9]\n",
            " [6.8 3.2 5.9 2.3]\n",
            " [6.7 3.3 5.7 2.5]\n",
            " [6.7 3.  5.2 2.3]\n",
            " [6.3 2.5 5.  1.9]\n",
            " [6.5 3.  5.2 2. ]\n",
            " [6.2 3.4 5.4 2.3]\n",
            " [5.9 3.  5.1 1.8]]\n",
            "After standardization\n",
            "[[-9.00681170e-01  1.01900435e+00 -1.34022653e+00 -1.31544430e+00]\n",
            " [-1.14301691e+00 -1.31979479e-01 -1.34022653e+00 -1.31544430e+00]\n",
            " [-1.38535265e+00  3.28414053e-01 -1.39706395e+00 -1.31544430e+00]\n",
            " [-1.50652052e+00  9.82172869e-02 -1.28338910e+00 -1.31544430e+00]\n",
            " [-1.02184904e+00  1.24920112e+00 -1.34022653e+00 -1.31544430e+00]\n",
            " [-5.37177559e-01  1.93979142e+00 -1.16971425e+00 -1.05217993e+00]\n",
            " [-1.50652052e+00  7.88807586e-01 -1.34022653e+00 -1.18381211e+00]\n",
            " [-1.02184904e+00  7.88807586e-01 -1.28338910e+00 -1.31544430e+00]\n",
            " [-1.74885626e+00 -3.62176246e-01 -1.34022653e+00 -1.31544430e+00]\n",
            " [-1.14301691e+00  9.82172869e-02 -1.28338910e+00 -1.44707648e+00]\n",
            " [-5.37177559e-01  1.47939788e+00 -1.28338910e+00 -1.31544430e+00]\n",
            " [-1.26418478e+00  7.88807586e-01 -1.22655167e+00 -1.31544430e+00]\n",
            " [-1.26418478e+00 -1.31979479e-01 -1.34022653e+00 -1.44707648e+00]\n",
            " [-1.87002413e+00 -1.31979479e-01 -1.51073881e+00 -1.44707648e+00]\n",
            " [-5.25060772e-02  2.16998818e+00 -1.45390138e+00 -1.31544430e+00]\n",
            " [-1.73673948e-01  3.09077525e+00 -1.28338910e+00 -1.05217993e+00]\n",
            " [-5.37177559e-01  1.93979142e+00 -1.39706395e+00 -1.05217993e+00]\n",
            " [-9.00681170e-01  1.01900435e+00 -1.34022653e+00 -1.18381211e+00]\n",
            " [-1.73673948e-01  1.70959465e+00 -1.16971425e+00 -1.18381211e+00]\n",
            " [-9.00681170e-01  1.70959465e+00 -1.28338910e+00 -1.18381211e+00]\n",
            " [-5.37177559e-01  7.88807586e-01 -1.16971425e+00 -1.31544430e+00]\n",
            " [-9.00681170e-01  1.47939788e+00 -1.28338910e+00 -1.05217993e+00]\n",
            " [-1.50652052e+00  1.24920112e+00 -1.56757623e+00 -1.31544430e+00]\n",
            " [-9.00681170e-01  5.58610819e-01 -1.16971425e+00 -9.20547742e-01]\n",
            " [-1.26418478e+00  7.88807586e-01 -1.05603939e+00 -1.31544430e+00]\n",
            " [-1.02184904e+00 -1.31979479e-01 -1.22655167e+00 -1.31544430e+00]\n",
            " [-1.02184904e+00  7.88807586e-01 -1.22655167e+00 -1.05217993e+00]\n",
            " [-7.79513300e-01  1.01900435e+00 -1.28338910e+00 -1.31544430e+00]\n",
            " [-7.79513300e-01  7.88807586e-01 -1.34022653e+00 -1.31544430e+00]\n",
            " [-1.38535265e+00  3.28414053e-01 -1.22655167e+00 -1.31544430e+00]\n",
            " [-1.26418478e+00  9.82172869e-02 -1.22655167e+00 -1.31544430e+00]\n",
            " [-5.37177559e-01  7.88807586e-01 -1.28338910e+00 -1.05217993e+00]\n",
            " [-7.79513300e-01  2.40018495e+00 -1.28338910e+00 -1.44707648e+00]\n",
            " [-4.16009689e-01  2.63038172e+00 -1.34022653e+00 -1.31544430e+00]\n",
            " [-1.14301691e+00  9.82172869e-02 -1.28338910e+00 -1.31544430e+00]\n",
            " [-1.02184904e+00  3.28414053e-01 -1.45390138e+00 -1.31544430e+00]\n",
            " [-4.16009689e-01  1.01900435e+00 -1.39706395e+00 -1.31544430e+00]\n",
            " [-1.14301691e+00  1.24920112e+00 -1.34022653e+00 -1.44707648e+00]\n",
            " [-1.74885626e+00 -1.31979479e-01 -1.39706395e+00 -1.31544430e+00]\n",
            " [-9.00681170e-01  7.88807586e-01 -1.28338910e+00 -1.31544430e+00]\n",
            " [-1.02184904e+00  1.01900435e+00 -1.39706395e+00 -1.18381211e+00]\n",
            " [-1.62768839e+00 -1.74335684e+00 -1.39706395e+00 -1.18381211e+00]\n",
            " [-1.74885626e+00  3.28414053e-01 -1.39706395e+00 -1.31544430e+00]\n",
            " [-1.02184904e+00  1.01900435e+00 -1.22655167e+00 -7.88915558e-01]\n",
            " [-9.00681170e-01  1.70959465e+00 -1.05603939e+00 -1.05217993e+00]\n",
            " [-1.26418478e+00 -1.31979479e-01 -1.34022653e+00 -1.18381211e+00]\n",
            " [-9.00681170e-01  1.70959465e+00 -1.22655167e+00 -1.31544430e+00]\n",
            " [-1.50652052e+00  3.28414053e-01 -1.34022653e+00 -1.31544430e+00]\n",
            " [-6.58345429e-01  1.47939788e+00 -1.28338910e+00 -1.31544430e+00]\n",
            " [-1.02184904e+00  5.58610819e-01 -1.34022653e+00 -1.31544430e+00]\n",
            " [ 1.40150837e+00  3.28414053e-01  5.35408562e-01  2.64141916e-01]\n",
            " [ 6.74501145e-01  3.28414053e-01  4.21733708e-01  3.95774101e-01]\n",
            " [ 1.28034050e+00  9.82172869e-02  6.49083415e-01  3.95774101e-01]\n",
            " [-4.16009689e-01 -1.74335684e+00  1.37546573e-01  1.32509732e-01]\n",
            " [ 7.95669016e-01 -5.92373012e-01  4.78571135e-01  3.95774101e-01]\n",
            " [-1.73673948e-01 -5.92373012e-01  4.21733708e-01  1.32509732e-01]\n",
            " [ 5.53333275e-01  5.58610819e-01  5.35408562e-01  5.27406285e-01]\n",
            " [-1.14301691e+00 -1.51316008e+00 -2.60315415e-01 -2.62386821e-01]\n",
            " [ 9.16836886e-01 -3.62176246e-01  4.78571135e-01  1.32509732e-01]\n",
            " [-7.79513300e-01 -8.22569778e-01  8.07091462e-02  2.64141916e-01]\n",
            " [-1.02184904e+00 -2.43394714e+00 -1.46640561e-01 -2.62386821e-01]\n",
            " [ 6.86617933e-02 -1.31979479e-01  2.51221427e-01  3.95774101e-01]\n",
            " [ 1.89829664e-01 -1.97355361e+00  1.37546573e-01 -2.62386821e-01]\n",
            " [ 3.10997534e-01 -3.62176246e-01  5.35408562e-01  2.64141916e-01]\n",
            " [-2.94841818e-01 -3.62176246e-01 -8.98031345e-02  1.32509732e-01]\n",
            " [ 1.03800476e+00  9.82172869e-02  3.64896281e-01  2.64141916e-01]\n",
            " [-2.94841818e-01 -1.31979479e-01  4.21733708e-01  3.95774101e-01]\n",
            " [-5.25060772e-02 -8.22569778e-01  1.94384000e-01 -2.62386821e-01]\n",
            " [ 4.32165405e-01 -1.97355361e+00  4.21733708e-01  3.95774101e-01]\n",
            " [-2.94841818e-01 -1.28296331e+00  8.07091462e-02 -1.30754636e-01]\n",
            " [ 6.86617933e-02  3.28414053e-01  5.92245988e-01  7.90670654e-01]\n",
            " [ 3.10997534e-01 -5.92373012e-01  1.37546573e-01  1.32509732e-01]\n",
            " [ 5.53333275e-01 -1.28296331e+00  6.49083415e-01  3.95774101e-01]\n",
            " [ 3.10997534e-01 -5.92373012e-01  5.35408562e-01  8.77547895e-04]\n",
            " [ 6.74501145e-01 -3.62176246e-01  3.08058854e-01  1.32509732e-01]\n",
            " [ 9.16836886e-01 -1.31979479e-01  3.64896281e-01  2.64141916e-01]\n",
            " [ 1.15917263e+00 -5.92373012e-01  5.92245988e-01  2.64141916e-01]\n",
            " [ 1.03800476e+00 -1.31979479e-01  7.05920842e-01  6.59038469e-01]\n",
            " [ 1.89829664e-01 -3.62176246e-01  4.21733708e-01  3.95774101e-01]\n",
            " [-1.73673948e-01 -1.05276654e+00 -1.46640561e-01 -2.62386821e-01]\n",
            " [-4.16009689e-01 -1.51316008e+00  2.38717193e-02 -1.30754636e-01]\n",
            " [-4.16009689e-01 -1.51316008e+00 -3.29657076e-02 -2.62386821e-01]\n",
            " [-5.25060772e-02 -8.22569778e-01  8.07091462e-02  8.77547895e-04]\n",
            " [ 1.89829664e-01 -8.22569778e-01  7.62758269e-01  5.27406285e-01]\n",
            " [-5.37177559e-01 -1.31979479e-01  4.21733708e-01  3.95774101e-01]\n",
            " [ 1.89829664e-01  7.88807586e-01  4.21733708e-01  5.27406285e-01]\n",
            " [ 1.03800476e+00  9.82172869e-02  5.35408562e-01  3.95774101e-01]\n",
            " [ 5.53333275e-01 -1.74335684e+00  3.64896281e-01  1.32509732e-01]\n",
            " [-2.94841818e-01 -1.31979479e-01  1.94384000e-01  1.32509732e-01]\n",
            " [-4.16009689e-01 -1.28296331e+00  1.37546573e-01  1.32509732e-01]\n",
            " [-4.16009689e-01 -1.05276654e+00  3.64896281e-01  8.77547895e-04]\n",
            " [ 3.10997534e-01 -1.31979479e-01  4.78571135e-01  2.64141916e-01]\n",
            " [-5.25060772e-02 -1.05276654e+00  1.37546573e-01  8.77547895e-04]\n",
            " [-1.02184904e+00 -1.74335684e+00 -2.60315415e-01 -2.62386821e-01]\n",
            " [-2.94841818e-01 -8.22569778e-01  2.51221427e-01  1.32509732e-01]\n",
            " [-1.73673948e-01 -1.31979479e-01  2.51221427e-01  8.77547895e-04]\n",
            " [-1.73673948e-01 -3.62176246e-01  2.51221427e-01  1.32509732e-01]\n",
            " [ 4.32165405e-01 -3.62176246e-01  3.08058854e-01  1.32509732e-01]\n",
            " [-9.00681170e-01 -1.28296331e+00 -4.30827696e-01 -1.30754636e-01]\n",
            " [-1.73673948e-01 -5.92373012e-01  1.94384000e-01  1.32509732e-01]\n",
            " [ 5.53333275e-01  5.58610819e-01  1.27429511e+00  1.71209594e+00]\n",
            " [-5.25060772e-02 -8.22569778e-01  7.62758269e-01  9.22302838e-01]\n",
            " [ 1.52267624e+00 -1.31979479e-01  1.21745768e+00  1.18556721e+00]\n",
            " [ 5.53333275e-01 -3.62176246e-01  1.04694540e+00  7.90670654e-01]\n",
            " [ 7.95669016e-01 -1.31979479e-01  1.16062026e+00  1.31719939e+00]\n",
            " [ 2.12851559e+00 -1.31979479e-01  1.61531967e+00  1.18556721e+00]\n",
            " [-1.14301691e+00 -1.28296331e+00  4.21733708e-01  6.59038469e-01]\n",
            " [ 1.76501198e+00 -3.62176246e-01  1.44480739e+00  7.90670654e-01]\n",
            " [ 1.03800476e+00 -1.28296331e+00  1.16062026e+00  7.90670654e-01]\n",
            " [ 1.64384411e+00  1.24920112e+00  1.33113254e+00  1.71209594e+00]\n",
            " [ 7.95669016e-01  3.28414053e-01  7.62758269e-01  1.05393502e+00]\n",
            " [ 6.74501145e-01 -8.22569778e-01  8.76433123e-01  9.22302838e-01]\n",
            " [ 1.15917263e+00 -1.31979479e-01  9.90107977e-01  1.18556721e+00]\n",
            " [-1.73673948e-01 -1.28296331e+00  7.05920842e-01  1.05393502e+00]\n",
            " [-5.25060772e-02 -5.92373012e-01  7.62758269e-01  1.58046376e+00]\n",
            " [ 6.74501145e-01  3.28414053e-01  8.76433123e-01  1.44883158e+00]\n",
            " [ 7.95669016e-01 -1.31979479e-01  9.90107977e-01  7.90670654e-01]\n",
            " [ 2.24968346e+00  1.70959465e+00  1.67215710e+00  1.31719939e+00]\n",
            " [ 2.24968346e+00 -1.05276654e+00  1.78583195e+00  1.44883158e+00]\n",
            " [ 1.89829664e-01 -1.97355361e+00  7.05920842e-01  3.95774101e-01]\n",
            " [ 1.28034050e+00  3.28414053e-01  1.10378283e+00  1.44883158e+00]\n",
            " [-2.94841818e-01 -5.92373012e-01  6.49083415e-01  1.05393502e+00]\n",
            " [ 2.24968346e+00 -5.92373012e-01  1.67215710e+00  1.05393502e+00]\n",
            " [ 5.53333275e-01 -8.22569778e-01  6.49083415e-01  7.90670654e-01]\n",
            " [ 1.03800476e+00  5.58610819e-01  1.10378283e+00  1.18556721e+00]\n",
            " [ 1.64384411e+00  3.28414053e-01  1.27429511e+00  7.90670654e-01]\n",
            " [ 4.32165405e-01 -5.92373012e-01  5.92245988e-01  7.90670654e-01]\n",
            " [ 3.10997534e-01 -1.31979479e-01  6.49083415e-01  7.90670654e-01]\n",
            " [ 6.74501145e-01 -5.92373012e-01  1.04694540e+00  1.18556721e+00]\n",
            " [ 1.64384411e+00 -1.31979479e-01  1.16062026e+00  5.27406285e-01]\n",
            " [ 1.88617985e+00 -5.92373012e-01  1.33113254e+00  9.22302838e-01]\n",
            " [ 2.49201920e+00  1.70959465e+00  1.50164482e+00  1.05393502e+00]\n",
            " [ 6.74501145e-01 -5.92373012e-01  1.04694540e+00  1.31719939e+00]\n",
            " [ 5.53333275e-01 -5.92373012e-01  7.62758269e-01  3.95774101e-01]\n",
            " [ 3.10997534e-01 -1.05276654e+00  1.04694540e+00  2.64141916e-01]\n",
            " [ 2.24968346e+00 -1.31979479e-01  1.33113254e+00  1.44883158e+00]\n",
            " [ 5.53333275e-01  7.88807586e-01  1.04694540e+00  1.58046376e+00]\n",
            " [ 6.74501145e-01  9.82172869e-02  9.90107977e-01  7.90670654e-01]\n",
            " [ 1.89829664e-01 -1.31979479e-01  5.92245988e-01  7.90670654e-01]\n",
            " [ 1.28034050e+00  9.82172869e-02  9.33270550e-01  1.18556721e+00]\n",
            " [ 1.03800476e+00  9.82172869e-02  1.04694540e+00  1.58046376e+00]\n",
            " [ 1.28034050e+00  9.82172869e-02  7.62758269e-01  1.44883158e+00]\n",
            " [-5.25060772e-02 -8.22569778e-01  7.62758269e-01  9.22302838e-01]\n",
            " [ 1.15917263e+00  3.28414053e-01  1.21745768e+00  1.44883158e+00]\n",
            " [ 1.03800476e+00  5.58610819e-01  1.10378283e+00  1.71209594e+00]\n",
            " [ 1.03800476e+00 -1.31979479e-01  8.19595696e-01  1.44883158e+00]\n",
            " [ 5.53333275e-01 -1.28296331e+00  7.05920842e-01  9.22302838e-01]\n",
            " [ 7.95669016e-01 -1.31979479e-01  8.19595696e-01  1.05393502e+00]\n",
            " [ 4.32165405e-01  7.88807586e-01  9.33270550e-01  1.44883158e+00]\n",
            " [ 6.86617933e-02 -1.31979479e-01  7.62758269e-01  7.90670654e-01]]\n"
          ],
          "name": "stdout"
        },
        {
          "output_type": "execute_result",
          "data": {
            "text/plain": [
              "Text(0, 0.5, 'Frequency')"
            ]
          },
          "metadata": {
            "tags": []
          },
          "execution_count": 17
        },
        {
          "output_type": "display_data",
          "data": {
            "image/png": "[encoded data removed]",
            "text/plain": [
              "<Figure size 1728x360 with 4 Axes>"
            ]
          },
          "metadata": {
            "tags": [],
            "needs_background": "light"
          }
        }
      ]
    },
    {
      "cell_type": "markdown",
      "metadata": {
        "id": "VzZ9biNx3Cbm"
      },
      "source": [
        "#Inference number 1\r\n",
        "\r\n",
        "---\r\n",
        "\r\n",
        "\r\n",
        "Standardization makes all the data reduce down to the range (-1, +1) and this makes all the computations easy and less expensive because the mean is reduced to zero and the standard deviation is 1."
      ]
    },
    {
      "cell_type": "markdown",
      "metadata": {
        "id": "etHUq9cj7W32"
      },
      "source": [
        "\n",
        "\n",
        "---\n",
        "\n",
        "\n",
        "Data Normalization rescales the attribute values to the range of [0,1]\n",
        "1. Normalize  (min-max normalization) the data and print the normalized data in a tabular form.  **(1 point)** \n",
        "2. Plot the histogram corresponding to each attribute as done above. **(4 points)** {1*4=4}\n",
        "3. Note the change in the printed data and histogram due to normalization. **(1 point)** "
      ]
    },
    {
      "cell_type": "code",
      "metadata": {
        "id": "oMx0H-9K7X3d",
        "colab": {
          "base_uri": "https://localhost:8080/",
          "height": 1000
        },
        "outputId": "ab7523bc-4841-4d80-e739-a6f30024c643"
      },
      "source": [
        "# Normalize the dataset \n",
        "# Print dataset before normalization          \n",
        "# Print dataset after normalization  \n",
        "# For entire normalized dataset, plot 4 histograms for sepal length (cm), sepal width (cm), petal length (cm) and petal width (cm)\n",
        "from sklearn import preprocessing\n",
        "ds_normalized = preprocessing.normalize(ds)\n",
        "print(\"Before normalization\")\n",
        "print(ds)\n",
        "print(\"After normalization\")\n",
        "print(ds_normalized)\n",
        "\n",
        "#Standardized Sepal length plot\n",
        "plt.figure(figsize=(24,5))\n",
        "plt.subplot(1, 4, 1)\n",
        "plt.hist(ds_normalized[:, 0])\n",
        "plt.xlabel(\"Sepal length\")\n",
        "plt.ylabel(\"Frequency\")\n",
        "#Standardized Sepal width plot\n",
        "plt.subplot(1, 4, 2)\n",
        "plt.hist(ds_normalized[:, 1], color=\"red\")\n",
        "plt.xlabel(\"Sepal width\")\n",
        "plt.ylabel(\"Frequency\")\n",
        "#Standardized Petal length plot\n",
        "plt.subplot(1, 4, 3)\n",
        "plt.hist(ds_normalized[:, 2], color=\"yellow\")\n",
        "plt.xlabel(\"Petal length\")\n",
        "plt.ylabel(\"Frequency\")\n",
        "#Standardized Petal width plot\n",
        "plt.subplot(1, 4, 4)\n",
        "plt.hist(ds_normalized[:, 3], color=\"cyan\")\n",
        "plt.xlabel(\"Petal width\")\n",
        "plt.ylabel(\"Frequency\")"
      ],
      "execution_count": null,
      "outputs": [
        {
          "output_type": "stream",
          "text": [
            "Before normalization\n",
            "[[5.1 3.5 1.4 0.2]\n",
            " [4.9 3.  1.4 0.2]\n",
            " [4.7 3.2 1.3 0.2]\n",
            " [4.6 3.1 1.5 0.2]\n",
            " [5.  3.6 1.4 0.2]\n",
            " [5.4 3.9 1.7 0.4]\n",
            " [4.6 3.4 1.4 0.3]\n",
            " [5.  3.4 1.5 0.2]\n",
            " [4.4 2.9 1.4 0.2]\n",
            " [4.9 3.1 1.5 0.1]\n",
            " [5.4 3.7 1.5 0.2]\n",
            " [4.8 3.4 1.6 0.2]\n",
            " [4.8 3.  1.4 0.1]\n",
            " [4.3 3.  1.1 0.1]\n",
            " [5.8 4.  1.2 0.2]\n",
            " [5.7 4.4 1.5 0.4]\n",
            " [5.4 3.9 1.3 0.4]\n",
            " [5.1 3.5 1.4 0.3]\n",
            " [5.7 3.8 1.7 0.3]\n",
            " [5.1 3.8 1.5 0.3]\n",
            " [5.4 3.4 1.7 0.2]\n",
            " [5.1 3.7 1.5 0.4]\n",
            " [4.6 3.6 1.  0.2]\n",
            " [5.1 3.3 1.7 0.5]\n",
            " [4.8 3.4 1.9 0.2]\n",
            " [5.  3.  1.6 0.2]\n",
            " [5.  3.4 1.6 0.4]\n",
            " [5.2 3.5 1.5 0.2]\n",
            " [5.2 3.4 1.4 0.2]\n",
            " [4.7 3.2 1.6 0.2]\n",
            " [4.8 3.1 1.6 0.2]\n",
            " [5.4 3.4 1.5 0.4]\n",
            " [5.2 4.1 1.5 0.1]\n",
            " [5.5 4.2 1.4 0.2]\n",
            " [4.9 3.1 1.5 0.2]\n",
            " [5.  3.2 1.2 0.2]\n",
            " [5.5 3.5 1.3 0.2]\n",
            " [4.9 3.6 1.4 0.1]\n",
            " [4.4 3.  1.3 0.2]\n",
            " [5.1 3.4 1.5 0.2]\n",
            " [5.  3.5 1.3 0.3]\n",
            " [4.5 2.3 1.3 0.3]\n",
            " [4.4 3.2 1.3 0.2]\n",
            " [5.  3.5 1.6 0.6]\n",
            " [5.1 3.8 1.9 0.4]\n",
            " [4.8 3.  1.4 0.3]\n",
            " [5.1 3.8 1.6 0.2]\n",
            " [4.6 3.2 1.4 0.2]\n",
            " [5.3 3.7 1.5 0.2]\n",
            " [5.  3.3 1.4 0.2]\n",
            " [7.  3.2 4.7 1.4]\n",
            " [6.4 3.2 4.5 1.5]\n",
            " [6.9 3.1 4.9 1.5]\n",
            " [5.5 2.3 4.  1.3]\n",
            " [6.5 2.8 4.6 1.5]\n",
            " [5.7 2.8 4.5 1.3]\n",
            " [6.3 3.3 4.7 1.6]\n",
            " [4.9 2.4 3.3 1. ]\n",
            " [6.6 2.9 4.6 1.3]\n",
            " [5.2 2.7 3.9 1.4]\n",
            " [5.  2.  3.5 1. ]\n",
            " [5.9 3.  4.2 1.5]\n",
            " [6.  2.2 4.  1. ]\n",
            " [6.1 2.9 4.7 1.4]\n",
            " [5.6 2.9 3.6 1.3]\n",
            " [6.7 3.1 4.4 1.4]\n",
            " [5.6 3.  4.5 1.5]\n",
            " [5.8 2.7 4.1 1. ]\n",
            " [6.2 2.2 4.5 1.5]\n",
            " [5.6 2.5 3.9 1.1]\n",
            " [5.9 3.2 4.8 1.8]\n",
            " [6.1 2.8 4.  1.3]\n",
            " [6.3 2.5 4.9 1.5]\n",
            " [6.1 2.8 4.7 1.2]\n",
            " [6.4 2.9 4.3 1.3]\n",
            " [6.6 3.  4.4 1.4]\n",
            " [6.8 2.8 4.8 1.4]\n",
            " [6.7 3.  5.  1.7]\n",
            " [6.  2.9 4.5 1.5]\n",
            " [5.7 2.6 3.5 1. ]\n",
            " [5.5 2.4 3.8 1.1]\n",
            " [5.5 2.4 3.7 1. ]\n",
            " [5.8 2.7 3.9 1.2]\n",
            " [6.  2.7 5.1 1.6]\n",
            " [5.4 3.  4.5 1.5]\n",
            " [6.  3.4 4.5 1.6]\n",
            " [6.7 3.1 4.7 1.5]\n",
            " [6.3 2.3 4.4 1.3]\n",
            " [5.6 3.  4.1 1.3]\n",
            " [5.5 2.5 4.  1.3]\n",
            " [5.5 2.6 4.4 1.2]\n",
            " [6.1 3.  4.6 1.4]\n",
            " [5.8 2.6 4.  1.2]\n",
            " [5.  2.3 3.3 1. ]\n",
            " [5.6 2.7 4.2 1.3]\n",
            " [5.7 3.  4.2 1.2]\n",
            " [5.7 2.9 4.2 1.3]\n",
            " [6.2 2.9 4.3 1.3]\n",
            " [5.1 2.5 3.  1.1]\n",
            " [5.7 2.8 4.1 1.3]\n",
            " [6.3 3.3 6.  2.5]\n",
            " [5.8 2.7 5.1 1.9]\n",
            " [7.1 3.  5.9 2.1]\n",
            " [6.3 2.9 5.6 1.8]\n",
            " [6.5 3.  5.8 2.2]\n",
            " [7.6 3.  6.6 2.1]\n",
            " [4.9 2.5 4.5 1.7]\n",
            " [7.3 2.9 6.3 1.8]\n",
            " [6.7 2.5 5.8 1.8]\n",
            " [7.2 3.6 6.1 2.5]\n",
            " [6.5 3.2 5.1 2. ]\n",
            " [6.4 2.7 5.3 1.9]\n",
            " [6.8 3.  5.5 2.1]\n",
            " [5.7 2.5 5.  2. ]\n",
            " [5.8 2.8 5.1 2.4]\n",
            " [6.4 3.2 5.3 2.3]\n",
            " [6.5 3.  5.5 1.8]\n",
            " [7.7 3.8 6.7 2.2]\n",
            " [7.7 2.6 6.9 2.3]\n",
            " [6.  2.2 5.  1.5]\n",
            " [6.9 3.2 5.7 2.3]\n",
            " [5.6 2.8 4.9 2. ]\n",
            " [7.7 2.8 6.7 2. ]\n",
            " [6.3 2.7 4.9 1.8]\n",
            " [6.7 3.3 5.7 2.1]\n",
            " [7.2 3.2 6.  1.8]\n",
            " [6.2 2.8 4.8 1.8]\n",
            " [6.1 3.  4.9 1.8]\n",
            " [6.4 2.8 5.6 2.1]\n",
            " [7.2 3.  5.8 1.6]\n",
            " [7.4 2.8 6.1 1.9]\n",
            " [7.9 3.8 6.4 2. ]\n",
            " [6.4 2.8 5.6 2.2]\n",
            " [6.3 2.8 5.1 1.5]\n",
            " [6.1 2.6 5.6 1.4]\n",
            " [7.7 3.  6.1 2.3]\n",
            " [6.3 3.4 5.6 2.4]\n",
            " [6.4 3.1 5.5 1.8]\n",
            " [6.  3.  4.8 1.8]\n",
            " [6.9 3.1 5.4 2.1]\n",
            " [6.7 3.1 5.6 2.4]\n",
            " [6.9 3.1 5.1 2.3]\n",
            " [5.8 2.7 5.1 1.9]\n",
            " [6.8 3.2 5.9 2.3]\n",
            " [6.7 3.3 5.7 2.5]\n",
            " [6.7 3.  5.2 2.3]\n",
            " [6.3 2.5 5.  1.9]\n",
            " [6.5 3.  5.2 2. ]\n",
            " [6.2 3.4 5.4 2.3]\n",
            " [5.9 3.  5.1 1.8]]\n",
            "After normalization\n",
            "[[0.80377277 0.55160877 0.22064351 0.0315205 ]\n",
            " [0.82813287 0.50702013 0.23660939 0.03380134]\n",
            " [0.80533308 0.54831188 0.2227517  0.03426949]\n",
            " [0.80003025 0.53915082 0.26087943 0.03478392]\n",
            " [0.790965   0.5694948  0.2214702  0.0316386 ]\n",
            " [0.78417499 0.5663486  0.2468699  0.05808704]\n",
            " [0.78010936 0.57660257 0.23742459 0.0508767 ]\n",
            " [0.80218492 0.54548574 0.24065548 0.0320874 ]\n",
            " [0.80642366 0.5315065  0.25658935 0.03665562]\n",
            " [0.81803119 0.51752994 0.25041771 0.01669451]\n",
            " [0.80373519 0.55070744 0.22325977 0.02976797]\n",
            " [0.786991   0.55745196 0.26233033 0.03279129]\n",
            " [0.82307218 0.51442011 0.24006272 0.01714734]\n",
            " [0.8025126  0.55989251 0.20529392 0.01866308]\n",
            " [0.81120865 0.55945424 0.16783627 0.02797271]\n",
            " [0.77381111 0.59732787 0.2036345  0.05430253]\n",
            " [0.79428944 0.57365349 0.19121783 0.05883625]\n",
            " [0.80327412 0.55126656 0.22050662 0.04725142]\n",
            " [0.8068282  0.53788547 0.24063297 0.04246464]\n",
            " [0.77964883 0.58091482 0.22930848 0.0458617 ]\n",
            " [0.8173379  0.51462016 0.25731008 0.03027177]\n",
            " [0.78591858 0.57017622 0.23115252 0.06164067]\n",
            " [0.77577075 0.60712493 0.16864581 0.03372916]\n",
            " [0.80597792 0.52151512 0.26865931 0.07901744]\n",
            " [0.776114   0.54974742 0.30721179 0.03233808]\n",
            " [0.82647451 0.4958847  0.26447184 0.03305898]\n",
            " [0.79778206 0.5424918  0.25529026 0.06382256]\n",
            " [0.80641965 0.54278246 0.23262105 0.03101614]\n",
            " [0.81609427 0.5336001  0.21971769 0.03138824]\n",
            " [0.79524064 0.54144043 0.27072022 0.03384003]\n",
            " [0.80846584 0.52213419 0.26948861 0.03368608]\n",
            " [0.82225028 0.51771314 0.22840286 0.06090743]\n",
            " [0.76578311 0.60379053 0.22089897 0.0147266 ]\n",
            " [0.77867447 0.59462414 0.19820805 0.02831544]\n",
            " [0.81768942 0.51731371 0.25031309 0.03337508]\n",
            " [0.82512295 0.52807869 0.19802951 0.03300492]\n",
            " [0.82699754 0.52627116 0.19547215 0.03007264]\n",
            " [0.78523221 0.5769053  0.22435206 0.01602515]\n",
            " [0.80212413 0.54690282 0.23699122 0.03646019]\n",
            " [0.80779568 0.53853046 0.23758697 0.03167826]\n",
            " [0.80033301 0.56023311 0.20808658 0.04801998]\n",
            " [0.86093857 0.44003527 0.24871559 0.0573959 ]\n",
            " [0.78609038 0.57170209 0.23225397 0.03573138]\n",
            " [0.78889479 0.55222635 0.25244633 0.09466737]\n",
            " [0.76693897 0.57144472 0.28572236 0.06015208]\n",
            " [0.82210585 0.51381615 0.23978087 0.05138162]\n",
            " [0.77729093 0.57915795 0.24385598 0.030482  ]\n",
            " [0.79594782 0.55370283 0.24224499 0.03460643]\n",
            " [0.79837025 0.55735281 0.22595384 0.03012718]\n",
            " [0.81228363 0.5361072  0.22743942 0.03249135]\n",
            " [0.76701103 0.35063361 0.51499312 0.15340221]\n",
            " [0.74549757 0.37274878 0.52417798 0.17472599]\n",
            " [0.75519285 0.33928954 0.53629637 0.16417236]\n",
            " [0.75384916 0.31524601 0.54825394 0.17818253]\n",
            " [0.7581754  0.32659863 0.5365549  0.17496355]\n",
            " [0.72232962 0.35482858 0.57026022 0.16474184]\n",
            " [0.72634846 0.38046824 0.54187901 0.18446945]\n",
            " [0.75916547 0.37183615 0.51127471 0.15493173]\n",
            " [0.76301853 0.33526572 0.53180079 0.15029153]\n",
            " [0.72460233 0.37623583 0.54345175 0.19508524]\n",
            " [0.76923077 0.30769231 0.53846154 0.15384615]\n",
            " [0.73923462 0.37588201 0.52623481 0.187941  ]\n",
            " [0.78892752 0.28927343 0.52595168 0.13148792]\n",
            " [0.73081412 0.34743622 0.56308629 0.16772783]\n",
            " [0.75911707 0.3931142  0.48800383 0.17622361]\n",
            " [0.76945444 0.35601624 0.50531337 0.16078153]\n",
            " [0.70631892 0.37838513 0.5675777  0.18919257]\n",
            " [0.75676497 0.35228714 0.53495455 0.13047672]\n",
            " [0.76444238 0.27125375 0.55483721 0.18494574]\n",
            " [0.76185188 0.34011245 0.53057542 0.14964948]\n",
            " [0.6985796  0.37889063 0.56833595 0.21312598]\n",
            " [0.77011854 0.35349703 0.50499576 0.16412362]\n",
            " [0.74143307 0.29421947 0.57667016 0.17653168]\n",
            " [0.73659895 0.33811099 0.56754345 0.14490471]\n",
            " [0.76741698 0.34773582 0.51560829 0.15588157]\n",
            " [0.76785726 0.34902603 0.51190484 0.16287881]\n",
            " [0.76467269 0.31486523 0.53976896 0.15743261]\n",
            " [0.74088576 0.33173989 0.55289982 0.18798594]\n",
            " [0.73350949 0.35452959 0.55013212 0.18337737]\n",
            " [0.78667474 0.35883409 0.48304589 0.13801311]\n",
            " [0.76521855 0.33391355 0.52869645 0.15304371]\n",
            " [0.77242925 0.33706004 0.51963422 0.14044168]\n",
            " [0.76434981 0.35581802 0.51395936 0.15814134]\n",
            " [0.70779525 0.31850786 0.60162596 0.1887454 ]\n",
            " [0.69333409 0.38518561 0.57777841 0.1925928 ]\n",
            " [0.71524936 0.40530797 0.53643702 0.19073316]\n",
            " [0.75457341 0.34913098 0.52932761 0.16893434]\n",
            " [0.77530021 0.28304611 0.54147951 0.15998258]\n",
            " [0.72992443 0.39103094 0.53440896 0.16944674]\n",
            " [0.74714194 0.33960997 0.54337595 0.17659719]\n",
            " [0.72337118 0.34195729 0.57869695 0.15782644]\n",
            " [0.73260391 0.36029701 0.55245541 0.1681386 ]\n",
            " [0.76262994 0.34186859 0.52595168 0.1577855 ]\n",
            " [0.76986879 0.35413965 0.5081134  0.15397376]\n",
            " [0.73544284 0.35458851 0.55158213 0.1707278 ]\n",
            " [0.73239618 0.38547167 0.53966034 0.15418867]\n",
            " [0.73446047 0.37367287 0.5411814  0.16750853]\n",
            " [0.75728103 0.3542121  0.52521104 0.15878473]\n",
            " [0.78258054 0.38361791 0.4603415  0.16879188]\n",
            " [0.7431482  0.36505526 0.5345452  0.16948994]\n",
            " [0.65387747 0.34250725 0.62274045 0.25947519]\n",
            " [0.69052512 0.32145135 0.60718588 0.22620651]\n",
            " [0.71491405 0.30207636 0.59408351 0.21145345]\n",
            " [0.69276796 0.31889319 0.61579374 0.1979337 ]\n",
            " [0.68619022 0.31670318 0.61229281 0.232249  ]\n",
            " [0.70953708 0.28008043 0.61617694 0.1960563 ]\n",
            " [0.67054118 0.34211284 0.61580312 0.23263673]\n",
            " [0.71366557 0.28351098 0.61590317 0.17597233]\n",
            " [0.71414125 0.26647062 0.61821183 0.19185884]\n",
            " [0.69198788 0.34599394 0.58626751 0.24027357]\n",
            " [0.71562645 0.3523084  0.56149152 0.22019275]\n",
            " [0.71576546 0.30196356 0.59274328 0.21249287]\n",
            " [0.71718148 0.31640359 0.58007326 0.22148252]\n",
            " [0.6925518  0.30375079 0.60750157 0.24300063]\n",
            " [0.67767924 0.32715549 0.59589036 0.28041899]\n",
            " [0.69589887 0.34794944 0.57629125 0.25008866]\n",
            " [0.70610474 0.3258945  0.59747324 0.1955367 ]\n",
            " [0.69299099 0.34199555 0.60299216 0.19799743]\n",
            " [0.70600618 0.2383917  0.63265489 0.21088496]\n",
            " [0.72712585 0.26661281 0.60593821 0.18178146]\n",
            " [0.70558934 0.32722984 0.58287815 0.23519645]\n",
            " [0.68307923 0.34153961 0.59769433 0.24395687]\n",
            " [0.71486543 0.25995106 0.62202576 0.18567933]\n",
            " [0.73122464 0.31338199 0.56873028 0.20892133]\n",
            " [0.69595601 0.3427843  0.59208198 0.21813547]\n",
            " [0.71529453 0.31790868 0.59607878 0.17882363]\n",
            " [0.72785195 0.32870733 0.56349829 0.21131186]\n",
            " [0.71171214 0.35002236 0.57170319 0.21001342]\n",
            " [0.69594002 0.30447376 0.60894751 0.22835532]\n",
            " [0.73089855 0.30454106 0.58877939 0.1624219 ]\n",
            " [0.72766159 0.27533141 0.59982915 0.18683203]\n",
            " [0.71578999 0.34430405 0.5798805  0.18121266]\n",
            " [0.69417747 0.30370264 0.60740528 0.2386235 ]\n",
            " [0.72366005 0.32162669 0.58582004 0.17230001]\n",
            " [0.69385414 0.29574111 0.63698085 0.15924521]\n",
            " [0.73154399 0.28501714 0.57953485 0.21851314]\n",
            " [0.67017484 0.36168166 0.59571097 0.2553047 ]\n",
            " [0.69804799 0.338117   0.59988499 0.196326  ]\n",
            " [0.71066905 0.35533453 0.56853524 0.21320072]\n",
            " [0.72415258 0.32534391 0.56672811 0.22039426]\n",
            " [0.69997037 0.32386689 0.58504986 0.25073566]\n",
            " [0.73337886 0.32948905 0.54206264 0.24445962]\n",
            " [0.69052512 0.32145135 0.60718588 0.22620651]\n",
            " [0.69193502 0.32561648 0.60035539 0.23403685]\n",
            " [0.68914871 0.33943145 0.58629069 0.25714504]\n",
            " [0.72155725 0.32308533 0.56001458 0.24769876]\n",
            " [0.72965359 0.28954508 0.57909015 0.22005426]\n",
            " [0.71653899 0.3307103  0.57323119 0.22047353]\n",
            " [0.67467072 0.36998072 0.58761643 0.25028107]\n",
            " [0.69025916 0.35097923 0.5966647  0.21058754]]\n"
          ],
          "name": "stdout"
        },
        {
          "output_type": "execute_result",
          "data": {
            "text/plain": [
              "Text(0, 0.5, 'Frequency')"
            ]
          },
          "metadata": {
            "tags": []
          },
          "execution_count": 18
        },
        {
          "output_type": "display_data",
          "data": {
            "image/png": "[encoded data removed]",
            "text/plain": [
              "<Figure size 1728x360 with 4 Axes>"
            ]
          },
          "metadata": {
            "tags": [],
            "needs_background": "light"
          }
        }
      ]
    },
    {
      "cell_type": "markdown",
      "metadata": {
        "id": "QPVVLMxZ4hff"
      },
      "source": [
        "#Inference number 2\r\n",
        "\r\n",
        "---\r\n",
        "\r\n",
        "\r\n",
        "Normalization makes all the data reduce down to the range (0, 1) and this ensures that all the attributes have the same range and we can compute and visualize data more easily as compared to the raw form."
      ]
    },
    {
      "cell_type": "markdown",
      "metadata": {
        "id": "sl23JMYN7-VX"
      },
      "source": [
        "\n",
        "\n",
        "---\n",
        "\n",
        "\n",
        "Plot a histogram indicating the distribution of different attributes (un-normalized and unstandardized) for different classes of the dataset. {Expected output is four graphs, each corresponding to four attributes. Each graph contains three histograms corresponding to each class.  The X-axis is the domain of the attribute, and Y-axis is the frequency of the attribute corresponding to a domain} **(8 points)** {2*4=8}\n",
        "\n"
      ]
    },
    {
      "cell_type": "code",
      "metadata": {
        "id": "5K7z_S8z7_DM",
        "colab": {
          "base_uri": "https://localhost:8080/",
          "height": 351
        },
        "outputId": "b3fdcf58-0ff9-4877-d627-672ff7993283"
      },
      "source": [
        "# Data set contains samples 0:50 of class 0, 50:100 of class 1, 100:150 of class 2\n",
        "# For entire dataset, plot 4 graphs for sepal length (cm), sepal width (cm), petal length (cm) and petal width (cm).\n",
        "# Each graph will have three differently colored (3 colors for 3 classes) histograms.\n",
        "\n",
        "#Sepal length plot\n",
        "plt.figure(figsize=(24, 5))\n",
        "plt.subplot(1, 4, 1)\n",
        "plt.hist(ds[0:50, 0], alpha=0.5, label='class 0')\n",
        "plt.hist(ds[50:100, 0], alpha=0.5, label='class 1')\n",
        "plt.hist(ds[100:150, 0], alpha=0.5, label='class 2')\n",
        "plt.xlabel(\"Sepal length\")\n",
        "plt.ylabel(\"Frequency\")\n",
        "#Sepal width plot\n",
        "plt.subplot(1, 4, 2)\n",
        "plt.hist(ds[0:50, 1], alpha=0.5, label='class 0')\n",
        "plt.hist(ds[50:100, 1], alpha=0.5, label='class 1')\n",
        "plt.hist(ds[100:150, 1], alpha=0.5, label='class 2')\n",
        "plt.xlabel(\"Sepal width\")\n",
        "plt.ylabel(\"Frequency\")\n",
        "#Petal length plot\n",
        "plt.subplot(1, 4, 3)\n",
        "plt.hist(ds[0:50, 2], alpha=0.5, label='class 0')\n",
        "plt.hist(ds[50:100, 2], alpha=0.5, label='class 1')\n",
        "plt.hist(ds[100:150, 2], alpha=0.5, label='class 2')\n",
        "plt.xlabel(\"Petal length\")\n",
        "plt.ylabel(\"Frequency\")\n",
        "#Petal width plot\n",
        "plt.subplot(1, 4, 4)\n",
        "plt.hist(ds[0:50, 3], alpha=0.5, label='class 0')\n",
        "plt.hist(ds[50:100, 3], alpha=0.5, label='class 1')\n",
        "plt.hist(ds[100:150, 3], alpha=0.5, label='class 2')\n",
        "plt.xlabel(\"Petal width\")\n",
        "plt.ylabel(\"Frequency\")"
      ],
      "execution_count": null,
      "outputs": [
        {
          "output_type": "execute_result",
          "data": {
            "text/plain": [
              "Text(0, 0.5, 'Frequency')"
            ]
          },
          "metadata": {
            "tags": []
          },
          "execution_count": 19
        },
        {
          "output_type": "display_data",
          "data": {
            "image/png": "[encoded data removed]",
            "text/plain": [
              "<Figure size 1728x360 with 4 Axes>"
            ]
          },
          "metadata": {
            "tags": [],
            "needs_background": "light"
          }
        }
      ]
    },
    {
      "cell_type": "markdown",
      "metadata": {
        "id": "0-hKro1z87UV"
      },
      "source": [
        "Let's study the relationship between attributes.\n",
        "1. Find Pearson correlation for each pair of attributes. {Expected output is a table (triangular matrix)} **(2 points)** \n",
        "2. Also, draw a heatmap representing this correlation. **(2 points)** "
      ]
    },
    {
      "cell_type": "code",
      "metadata": {
        "id": "MM_09UIo870W",
        "colab": {
          "base_uri": "https://localhost:8080/",
          "height": 398
        },
        "outputId": "7d27229f-cbce-4771-f428-d84f2881ea49"
      },
      "source": [
        "# Compute Pearson correlation between each pair of attributes\n",
        "# The table is going to be symmetric, so you can make a triangular matrix/table \n",
        "# Generate a heatmap according to the pearson coefficient values \n",
        "df = pd.DataFrame(ds, columns=['sepal length', 'sepal width', 'petal length', 'petal width']) #creating a dataframe to compute correlation values\n",
        "corr_df = df.corr(method='pearson', min_periods=1)\n",
        "print(\"Pearson correlation matrix\")\n",
        "print(corr_df)\n",
        "heat = sns.heatmap(corr_df, vmin=-1, vmax=1, annot=True)\n",
        "heat.set_title(\"Correlation Heatmap\")"
      ],
      "execution_count": null,
      "outputs": [
        {
          "output_type": "stream",
          "text": [
            "Pearson correlation matrix\n",
            "              sepal length  sepal width  petal length  petal width\n",
            "sepal length      1.000000    -0.117570      0.871754     0.817941\n",
            "sepal width      -0.117570     1.000000     -0.428440    -0.366126\n",
            "petal length      0.871754    -0.428440      1.000000     0.962865\n",
            "petal width       0.817941    -0.366126      0.962865     1.000000\n"
          ],
          "name": "stdout"
        },
        {
          "output_type": "execute_result",
          "data": {
            "text/plain": [
              "Text(0.5, 1.0, 'Correlation Heatmap')"
            ]
          },
          "metadata": {
            "tags": []
          },
          "execution_count": 20
        },
        {
          "output_type": "display_data",
          "data": {
            "image/png": "[encoded data removed]",
            "text/plain": [
              "<Figure size 432x288 with 2 Axes>"
            ]
          },
          "metadata": {
            "tags": [],
            "needs_background": "light"
          }
        }
      ]
    },
    {
      "cell_type": "markdown",
      "metadata": {
        "id": "LUmgapWn4-hP"
      },
      "source": [
        "#Inference number 3\r\n",
        "\r\n",
        "---\r\n",
        "The correlation heat map tells us the relation between 2 variables/attributes, a positive relation means that the variables are changing in the same direction, while a positive value means variables are changing in the opposite direction. This helps us the know how interrelated our data is and improve its performance.\r\n",
        "\r\n"
      ]
    },
    {
      "cell_type": "markdown",
      "metadata": {
        "id": "oHZ1Ts-v_j1i"
      },
      "source": [
        "\n",
        "\n",
        "---\n",
        "\n",
        "\n",
        "To get a visual insight into the correlation between attributes, \n",
        "\n",
        "1. Plot a scatter plot of each attribute with respect to other attributes for all classes. {Expected output -> A 4 * 4 grid (ignore the diagonals) corresponding to sepal length, sepal width, petal length, and petal width.} **(6 points)** "
      ]
    },
    {
      "cell_type": "code",
      "metadata": {
        "id": "X1_Wrl1w8cx1",
        "colab": {
          "base_uri": "https://localhost:8080/",
          "height": 1000
        },
        "outputId": "ace17820-7011-45ed-fc49-b74533731e15"
      },
      "source": [
        "# Generate a scatter pairplot\n",
        "sl = ds[:, 0]\n",
        "sw = ds[:, 1]\n",
        "pl = ds[:, 2]\n",
        "pw = ds[:, 3]\n",
        "plt.figure(figsize=(17, 17))\n",
        "plt.subplot(4, 4, 1)\n",
        "plt.scatter(sl, sl)\n",
        "plt.xlabel(\"sepal length\")\n",
        "plt.ylabel(\"sepal length\")\n",
        "plt.subplot(4, 4, 2)\n",
        "plt.scatter(sl, sw)\n",
        "plt.xlabel(\"sepal length\")\n",
        "plt.ylabel(\"sepal width\")\n",
        "plt.subplot(4, 4, 3)\n",
        "plt.scatter(sl, pl)\n",
        "plt.xlabel(\"sepal length\")\n",
        "plt.ylabel(\"petal length\")\n",
        "plt.subplot(4, 4, 4)\n",
        "plt.scatter(sl, pw)\n",
        "plt.xlabel(\"sepal length\")\n",
        "plt.ylabel(\"petal width\")\n",
        "plt.subplot(4, 4, 5)\n",
        "plt.scatter(sw, sl)\n",
        "plt.xlabel(\"sepal width\")\n",
        "plt.ylabel(\"sepal length\")\n",
        "plt.subplot(4, 4, 6)\n",
        "plt.scatter(sw, sw)\n",
        "plt.xlabel(\"sepal width\")\n",
        "plt.ylabel(\"sepal width\")\n",
        "plt.subplot(4, 4, 7)\n",
        "plt.scatter(sw, pl)\n",
        "plt.xlabel(\"sepal width\")\n",
        "plt.ylabel(\"petal length\")\n",
        "plt.subplot(4, 4, 8)\n",
        "plt.scatter(sw, pw)\n",
        "plt.xlabel(\"sepal width\")\n",
        "plt.ylabel(\"petal width\")\n",
        "plt.subplot(4, 4, 9)\n",
        "plt.scatter(pl, sl)\n",
        "plt.xlabel(\"petal length\")\n",
        "plt.ylabel(\"sepal length\")\n",
        "plt.subplot(4, 4, 10)\n",
        "plt.scatter(pl, sw)\n",
        "plt.xlabel(\"petal length\")\n",
        "plt.ylabel(\"sepal width\")\n",
        "plt.subplot(4, 4, 11)\n",
        "plt.scatter(pl, pl)\n",
        "plt.xlabel(\"petal length\")\n",
        "plt.ylabel(\"petal length\")\n",
        "plt.subplot(4, 4, 12)\n",
        "plt.scatter(pl, pw)\n",
        "plt.xlabel(\"petal length\")\n",
        "plt.ylabel(\"petal width\")\n",
        "plt.subplot(4, 4, 13)\n",
        "plt.scatter(pw, sl)\n",
        "plt.xlabel(\"petal width\")\n",
        "plt.ylabel(\"sepal length\")\n",
        "plt.subplot(4, 4, 14)\n",
        "plt.scatter(pw, sw)\n",
        "plt.xlabel(\"petal width\")\n",
        "plt.ylabel(\"sepal width\")\n",
        "plt.subplot(4, 4, 15)\n",
        "plt.scatter(pw, pl)\n",
        "plt.xlabel(\"petal width\")\n",
        "plt.ylabel(\"petal length\")\n",
        "plt.subplot(4, 4, 16)\n",
        "plt.scatter(pw, pw)\n",
        "plt.xlabel(\"petal width\")\n",
        "plt.ylabel(\"petal width\")"
      ],
      "execution_count": null,
      "outputs": [
        {
          "output_type": "execute_result",
          "data": {
            "text/plain": [
              "Text(0, 0.5, 'petal width')"
            ]
          },
          "metadata": {
            "tags": []
          },
          "execution_count": 21
        },
        {
          "output_type": "display_data",
          "data": {
            "image/png": "[encoded data removed]",
            "text/plain": [
              "<Figure size 1224x1224 with 16 Axes>"
            ]
          },
          "metadata": {
            "tags": [],
            "needs_background": "light"
          }
        }
      ]
    },
    {
      "cell_type": "markdown",
      "metadata": {
        "id": "5vYvLfNw0pj8"
      },
      "source": [
        "#Inference number 4\r\n",
        "\r\n",
        "---\r\n",
        "As seen in the plots that a positive slope means that the correlation coefficient is also positive and they change in the same direction and similiarly for the negative slope we can infer the correlation from the slop of the scatter plot. \r\n",
        "\r\n",
        "Another observation to make is that the slope of the scatter plots between 2 same attributes is perfectly 1, which means that a variable is perfectly correlated with itself. "
      ]
    },
    {
      "cell_type": "markdown",
      "metadata": {
        "id": "sEgAv--hy8YT"
      },
      "source": [
        "**Finally**, make boxplots for all four attributes (Sepal Width, Sepal Length, Petal Width and Petal Length) \n",
        "1. For the entire dataset **(1 points)** \n",
        "2. For each individual class **(3 points)** \n",
        "3. Write one line observation for each plot. **(3 points)** \n"
      ]
    },
    {
      "cell_type": "code",
      "metadata": {
        "id": "auS2GFBCZMil",
        "colab": {
          "base_uri": "https://localhost:8080/",
          "height": 336
        },
        "outputId": "51426a73-dc16-4866-c3bd-0a1b29423c9c"
      },
      "source": [
        "# Generate box plots corresponding to each attribute for each class\n",
        "# Generate box plot corresponding to each attribute for the entire dataset\n",
        "fig = plt.figure(figsize=(24, 5)) \n",
        "\n",
        "# box plots for entire dataset\n",
        "plt.subplot(1, 4, 1)\n",
        "plt.boxplot(ds, patch_artist=True)\n",
        "plt.title('Boxplots for entire dataset')\n",
        "plt.xticks([1, 2, 3, 4], ['sepal length', 'sepal width', 'petal length', 'petal width'])\n",
        "#box plot for the class 1\n",
        "plt.subplot(1, 4, 2)\n",
        "plt.boxplot(ds[0:50], patch_artist=True)\n",
        "plt.title('Boxplots for class 0')\n",
        "plt.xticks([1, 2, 3, 4], ['sepal length', 'sepal width', 'petal length', 'petal width'])\n",
        "#box plot for the class 2\n",
        "plt.subplot(1, 4, 3)\n",
        "plt.boxplot(ds[50:100], patch_artist=True)\n",
        "plt.title('Boxplots for class 1')\n",
        "plt.xticks([1, 2, 3, 4], ['sepal length', 'sepal width', 'petal length', 'petal width'])\n",
        "#box plot for the class 3\n",
        "plt.subplot(1, 4, 4)\n",
        "plt.boxplot(ds[100:150], patch_artist=True)\n",
        "plt.title('Boxplots for class 2')\n",
        "plt.xticks([1, 2, 3, 4], ['sepal length', 'sepal width', 'petal length', 'petal width'])\n",
        "plt.show()"
      ],
      "execution_count": null,
      "outputs": [
        {
          "output_type": "display_data",
          "data": {
            "image/png": "[encoded data removed]",
            "text/plain": [
              "<Figure size 1728x360 with 4 Axes>"
            ]
          },
          "metadata": {
            "tags": [],
            "needs_background": "light"
          }
        }
      ]
    },
    {
      "cell_type": "markdown",
      "metadata": {
        "id": "Qd9GMOsI0boF"
      },
      "source": [
        "#Inference number 5\r\n",
        "1.  **Inference for class 0** - The variance for petal length and width is very low and most of the values lie around the mean value.\r\n",
        "2.  **Inference for class 1** - Most of the sepal widths for class 1 seem to be less as compared to class 0 and petal lengths for class 1 are a lot more than their class 0 counterparts and these two variations seem to distinguish them as 2 different species. \r\n",
        "3.  **Inference for class 2** - All of the attributes of class 2 have greater mean values with almost same standard deviation and this means that class 2 is basically is a bigger version of class 1 kind of ivory plants, that's why it's alloted a different class/species.\r\n",
        "4.  **Inference for the entire dataset** - The petal lengths seem to have a lot of variations across different species, on the other hand sepal width seems to be fixed for all the classes.  \r\n",
        "\r\n",
        "\r\n",
        "\r\n",
        "\r\n"
      ]
    }
  ]
}